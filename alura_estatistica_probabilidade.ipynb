{
  "nbformat": 4,
  "nbformat_minor": 0,
  "metadata": {
    "colab": {
      "name": "alura_estatistica_probabilidade.ipynb",
      "provenance": [],
      "toc_visible": true,
      "authorship_tag": "ABX9TyNeGXwNI4QTEE5vbITseXHs"
    },
    "kernelspec": {
      "name": "python3",
      "display_name": "Python 3"
    },
    "language_info": {
      "name": "python"
    }
  },
  "cells": [
    {
      "cell_type": "code",
      "metadata": {
        "id": "PF219yewQCuv"
      },
      "source": [
        "import pandas as pd\n",
        "import numpy as np\n",
        "import seaborn as sns\n",
        "import scipy as sp"
      ],
      "execution_count": 1,
      "outputs": []
    },
    {
      "cell_type": "code",
      "metadata": {
        "id": "zSjmkZ8vQRIY"
      },
      "source": [
        "dados = pd.read_csv('dados.csv')"
      ],
      "execution_count": 44,
      "outputs": []
    },
    {
      "cell_type": "code",
      "metadata": {
        "colab": {
          "base_uri": "https://localhost:8080/",
          "height": 204
        },
        "id": "Fnl9CST_QasK",
        "outputId": "c3a406da-b48b-4595-ad94-a10b807f9577"
      },
      "source": [
        "dados.head()"
      ],
      "execution_count": 3,
      "outputs": [
        {
          "output_type": "execute_result",
          "data": {
            "text/html": [
              "<div>\n",
              "<style scoped>\n",
              "    .dataframe tbody tr th:only-of-type {\n",
              "        vertical-align: middle;\n",
              "    }\n",
              "\n",
              "    .dataframe tbody tr th {\n",
              "        vertical-align: top;\n",
              "    }\n",
              "\n",
              "    .dataframe thead th {\n",
              "        text-align: right;\n",
              "    }\n",
              "</style>\n",
              "<table border=\"1\" class=\"dataframe\">\n",
              "  <thead>\n",
              "    <tr style=\"text-align: right;\">\n",
              "      <th></th>\n",
              "      <th>UF</th>\n",
              "      <th>Sexo</th>\n",
              "      <th>Idade</th>\n",
              "      <th>Cor</th>\n",
              "      <th>Anos de Estudo</th>\n",
              "      <th>Renda</th>\n",
              "      <th>Altura</th>\n",
              "    </tr>\n",
              "  </thead>\n",
              "  <tbody>\n",
              "    <tr>\n",
              "      <th>0</th>\n",
              "      <td>11</td>\n",
              "      <td>0</td>\n",
              "      <td>23</td>\n",
              "      <td>8</td>\n",
              "      <td>12</td>\n",
              "      <td>800</td>\n",
              "      <td>1.603808</td>\n",
              "    </tr>\n",
              "    <tr>\n",
              "      <th>1</th>\n",
              "      <td>11</td>\n",
              "      <td>1</td>\n",
              "      <td>23</td>\n",
              "      <td>2</td>\n",
              "      <td>12</td>\n",
              "      <td>1150</td>\n",
              "      <td>1.739790</td>\n",
              "    </tr>\n",
              "    <tr>\n",
              "      <th>2</th>\n",
              "      <td>11</td>\n",
              "      <td>1</td>\n",
              "      <td>35</td>\n",
              "      <td>8</td>\n",
              "      <td>15</td>\n",
              "      <td>880</td>\n",
              "      <td>1.760444</td>\n",
              "    </tr>\n",
              "    <tr>\n",
              "      <th>3</th>\n",
              "      <td>11</td>\n",
              "      <td>0</td>\n",
              "      <td>46</td>\n",
              "      <td>2</td>\n",
              "      <td>6</td>\n",
              "      <td>3500</td>\n",
              "      <td>1.783158</td>\n",
              "    </tr>\n",
              "    <tr>\n",
              "      <th>4</th>\n",
              "      <td>11</td>\n",
              "      <td>1</td>\n",
              "      <td>47</td>\n",
              "      <td>8</td>\n",
              "      <td>9</td>\n",
              "      <td>150</td>\n",
              "      <td>1.690631</td>\n",
              "    </tr>\n",
              "  </tbody>\n",
              "</table>\n",
              "</div>"
            ],
            "text/plain": [
              "   UF  Sexo  Idade  Cor  Anos de Estudo  Renda    Altura\n",
              "0  11     0     23    8              12    800  1.603808\n",
              "1  11     1     23    2              12   1150  1.739790\n",
              "2  11     1     35    8              15    880  1.760444\n",
              "3  11     0     46    2               6   3500  1.783158\n",
              "4  11     1     47    8               9    150  1.690631"
            ]
          },
          "metadata": {
            "tags": []
          },
          "execution_count": 3
        }
      ]
    },
    {
      "cell_type": "code",
      "metadata": {
        "id": "ZUEPmANAQnyi"
      },
      "source": [
        "sexo = {0: 'Masculino',\n",
        "        1: 'Feminino'}\n",
        "\n",
        "cor = {0: 'Indígena',\n",
        "       2: 'Branca',\n",
        "       4: 'Preta',\n",
        "       6: 'Amarela',\n",
        "       8: 'Parda',\n",
        "       9: 'Sem declaração'}\n",
        "\n",
        "estudo = {\n",
        "    1: 'Sem instrução',\n",
        "    2: '1 ano',\n",
        "    3: '2 anos',\n",
        "    4: '3 anos',\n",
        "    5: '4 anos',\n",
        "    6: '5 anos',\n",
        "    7: '6 anos',\n",
        "    8: '7 anos',\n",
        "    9: '8 anos',\n",
        "    10: '9 anos',\n",
        "    11: '10 anos',\n",
        "    12: '11 anos',\n",
        "    13: '12 anos',\n",
        "    14: '13 anos',\n",
        "    15: '14 anos',\n",
        "    16: '15 anos',\n",
        "    17: 'Não Determinando'\n",
        "}\n",
        "\n",
        "estados = {\n",
        "    11: 'Rondônia (RO)',\n",
        "    12: 'Acre (AC)',\n",
        "    13: 'Amazonas (AM)',\n",
        "    14: 'Roraima (RR)',\n",
        "    15: 'Pará (PA)',\n",
        "    16: 'Amapá (AP)',\n",
        "    17: 'Tocantins (TO)',\n",
        "    21: 'Maranhão (MA)',\n",
        "    22: 'Piauí (PI)',\n",
        "    23: 'Ceará (CE)',\n",
        "    24: 'Rio Grande do Norte (RN)',\n",
        "    25: 'Paraíba (PB)',\n",
        "    26: 'Pernambuco (PE)',\n",
        "    27: 'Alagoas (AL)',\n",
        "    28: 'Sergipe (SE)',\n",
        "    29: 'Bahia (BA)',\n",
        "    31: 'Minas Gerais (MG)',\n",
        "    32: 'Espírito Santo (ES)',\n",
        "    33: 'Rio de Janeiro (RJ)',\n",
        "    35: 'São Paulo (SP)',\n",
        "    41: 'Paraná (PR)',\n",
        "    42: 'Santa Catarina (SC)',\n",
        "    43: 'Rio Grande do Sul (RS)',\n",
        "    50: 'Mato Grosso do Sul (MS)',\n",
        "    51: 'Mato Grosso (MT)',\n",
        "    52: 'Goiás (GO)',\n",
        "    53: 'Distrito Federal (DF)'\n",
        "}"
      ],
      "execution_count": 4,
      "outputs": []
    },
    {
      "cell_type": "markdown",
      "metadata": {
        "id": "mkyCoffnQKet"
      },
      "source": [
        "#Distribuição de probabilidade"
      ]
    },
    {
      "cell_type": "markdown",
      "metadata": {
        "id": "DVl8TC6fRBQ3"
      },
      "source": [
        "##Distribuição binomial"
      ]
    },
    {
      "cell_type": "code",
      "metadata": {
        "id": "I62ZjsRnTStg"
      },
      "source": [
        "from scipy.special import comb"
      ],
      "execution_count": null,
      "outputs": []
    },
    {
      "cell_type": "code",
      "metadata": {
        "colab": {
          "base_uri": "https://localhost:8080/"
        },
        "id": "fef3kalGTcN3",
        "outputId": "1bd6563e-7dbf-45dd-9a75-db2fe5212f63"
      },
      "source": [
        "combinacoes = comb(60,6)\n",
        "combinacoes"
      ],
      "execution_count": null,
      "outputs": [
        {
          "output_type": "execute_result",
          "data": {
            "text/plain": [
              "50063860.0"
            ]
          },
          "metadata": {
            "tags": []
          },
          "execution_count": 11
        }
      ]
    },
    {
      "cell_type": "code",
      "metadata": {
        "colab": {
          "base_uri": "https://localhost:8080/"
        },
        "id": "B8vx85-tThjc",
        "outputId": "7bd7f27f-8649-4835-9fda-e5da9b65928a"
      },
      "source": [
        "1/combinacoes*100"
      ],
      "execution_count": null,
      "outputs": [
        {
          "output_type": "execute_result",
          "data": {
            "text/plain": [
              "1.997448858318156e-06"
            ]
          },
          "metadata": {
            "tags": []
          },
          "execution_count": 13
        }
      ]
    },
    {
      "cell_type": "code",
      "metadata": {
        "colab": {
          "base_uri": "https://localhost:8080/"
        },
        "id": "SVN1mFdpT_Oq",
        "outputId": "8f022b8f-ee6e-43ec-8703-ef329f300223"
      },
      "source": [
        "comb(25,20)"
      ],
      "execution_count": null,
      "outputs": [
        {
          "output_type": "execute_result",
          "data": {
            "text/plain": [
              "53130.0"
            ]
          },
          "metadata": {
            "tags": []
          },
          "execution_count": 14
        }
      ]
    },
    {
      "cell_type": "code",
      "metadata": {
        "colab": {
          "base_uri": "https://localhost:8080/"
        },
        "id": "zQgTMJADUbyN",
        "outputId": "d9ee2ddd-9692-4dda-dc0a-32feaa34547e"
      },
      "source": [
        "1/comb(25,20)"
      ],
      "execution_count": null,
      "outputs": [
        {
          "output_type": "execute_result",
          "data": {
            "text/plain": [
              "1.8821757952192734e-05"
            ]
          },
          "metadata": {
            "tags": []
          },
          "execution_count": 16
        }
      ]
    },
    {
      "cell_type": "code",
      "metadata": {
        "colab": {
          "base_uri": "https://localhost:8080/"
        },
        "id": "cCFgsINwUdUU",
        "outputId": "96e1fa3c-1ec3-4ebc-cd08-62e113f65cd6"
      },
      "source": [
        "n = 10\n",
        "n"
      ],
      "execution_count": null,
      "outputs": [
        {
          "output_type": "execute_result",
          "data": {
            "text/plain": [
              "10"
            ]
          },
          "metadata": {
            "tags": []
          },
          "execution_count": 17
        }
      ]
    },
    {
      "cell_type": "code",
      "metadata": {
        "colab": {
          "base_uri": "https://localhost:8080/"
        },
        "id": "Dlc9MV9SVIzG",
        "outputId": "5a9e03e6-56dd-40f0-cf2a-607a0b8a2170"
      },
      "source": [
        "p = 1/3\n",
        "p"
      ],
      "execution_count": null,
      "outputs": [
        {
          "output_type": "execute_result",
          "data": {
            "text/plain": [
              "0.3333333333333333"
            ]
          },
          "metadata": {
            "tags": []
          },
          "execution_count": 18
        }
      ]
    },
    {
      "cell_type": "code",
      "metadata": {
        "colab": {
          "base_uri": "https://localhost:8080/"
        },
        "id": "1lYyYtLmVc4i",
        "outputId": "e099a25f-4ebc-41ff-b9a8-4bccdfd690ac"
      },
      "source": [
        "q = 1-p\n",
        "q"
      ],
      "execution_count": null,
      "outputs": [
        {
          "output_type": "execute_result",
          "data": {
            "text/plain": [
              "0.6666666666666667"
            ]
          },
          "metadata": {
            "tags": []
          },
          "execution_count": 19
        }
      ]
    },
    {
      "cell_type": "code",
      "metadata": {
        "colab": {
          "base_uri": "https://localhost:8080/"
        },
        "id": "F-_dDaVSVfK6",
        "outputId": "aedb3b4e-86b1-4e01-b20c-6b01b647c8ee"
      },
      "source": [
        "k = 5\n",
        "k"
      ],
      "execution_count": null,
      "outputs": [
        {
          "output_type": "execute_result",
          "data": {
            "text/plain": [
              "5"
            ]
          },
          "metadata": {
            "tags": []
          },
          "execution_count": 20
        }
      ]
    },
    {
      "cell_type": "code",
      "metadata": {
        "colab": {
          "base_uri": "https://localhost:8080/"
        },
        "id": "h7kpIttgVlIq",
        "outputId": "dac63e4a-1893-406d-c8eb-771b846b44f3"
      },
      "source": [
        "prob = (comb(n, k) * (p**k) * (q ** (n - k)))\n",
        "prob"
      ],
      "execution_count": null,
      "outputs": [
        {
          "output_type": "execute_result",
          "data": {
            "text/plain": [
              "0.13656454808718185"
            ]
          },
          "metadata": {
            "tags": []
          },
          "execution_count": 21
        }
      ]
    },
    {
      "cell_type": "code",
      "metadata": {
        "id": "VtDjS-YwWATl"
      },
      "source": [
        "from scipy.stats import binom"
      ],
      "execution_count": null,
      "outputs": []
    },
    {
      "cell_type": "code",
      "metadata": {
        "colab": {
          "base_uri": "https://localhost:8080/"
        },
        "id": "P53Df_qAWSok",
        "outputId": "727ecc70-d9a8-41d4-979f-da676686eed6"
      },
      "source": [
        "prob = binom.pmf(k,n,p)\n",
        "print(f'{prob:.8f}')"
      ],
      "execution_count": null,
      "outputs": [
        {
          "output_type": "stream",
          "text": [
            "0.13656455\n"
          ],
          "name": "stdout"
        }
      ]
    },
    {
      "cell_type": "code",
      "metadata": {
        "colab": {
          "base_uri": "https://localhost:8080/"
        },
        "id": "AphyFq5GWjEo",
        "outputId": "b05aca50-5fe8-4b9b-e545-27ddd937aa33"
      },
      "source": [
        " binom.pmf(5,n,p) + binom.pmf(6,n,p) + binom.pmf(7,n,p) + binom.pmf(8,n,p) + binom.pmf(9,n,p) + binom.pmf(10,n,p)"
      ],
      "execution_count": null,
      "outputs": [
        {
          "output_type": "execute_result",
          "data": {
            "text/plain": [
              "0.2131280800690952"
            ]
          },
          "metadata": {
            "tags": []
          },
          "execution_count": 25
        }
      ]
    },
    {
      "cell_type": "code",
      "metadata": {
        "colab": {
          "base_uri": "https://localhost:8080/"
        },
        "id": "Gc33z7DTWz_E",
        "outputId": "a745d858-2a80-46de-fab9-2423ca767ce9"
      },
      "source": [
        " binom.pmf([5, 6, 7, 8, 9, 10], n, p).sum()"
      ],
      "execution_count": null,
      "outputs": [
        {
          "output_type": "execute_result",
          "data": {
            "text/plain": [
              "0.2131280800690952"
            ]
          },
          "metadata": {
            "tags": []
          },
          "execution_count": 26
        }
      ]
    },
    {
      "cell_type": "code",
      "metadata": {
        "colab": {
          "base_uri": "https://localhost:8080/"
        },
        "id": "d01Zu4l7XGvK",
        "outputId": "4e43a5ac-2246-49b5-a5f2-6d4958657bc5"
      },
      "source": [
        "1 - binom.cdf(4, n, p)"
      ],
      "execution_count": null,
      "outputs": [
        {
          "output_type": "execute_result",
          "data": {
            "text/plain": [
              "0.21312808006909512"
            ]
          },
          "metadata": {
            "tags": []
          },
          "execution_count": 29
        }
      ]
    },
    {
      "cell_type": "code",
      "metadata": {
        "colab": {
          "base_uri": "https://localhost:8080/"
        },
        "id": "zTWDpAcNXPnS",
        "outputId": "270d0e48-c01f-48cf-eec3-871b622ea2e9"
      },
      "source": [
        "binom.sf(4, n, p)"
      ],
      "execution_count": null,
      "outputs": [
        {
          "output_type": "execute_result",
          "data": {
            "text/plain": [
              "0.21312808006909517"
            ]
          },
          "metadata": {
            "tags": []
          },
          "execution_count": 31
        }
      ]
    },
    {
      "cell_type": "code",
      "metadata": {
        "id": "HGtC4eaJXdHy"
      },
      "source": [
        "k = 2\n",
        "n = 4\n",
        "p = 1/2"
      ],
      "execution_count": null,
      "outputs": []
    },
    {
      "cell_type": "code",
      "metadata": {
        "colab": {
          "base_uri": "https://localhost:8080/"
        },
        "id": "ERh5uVTZYIaV",
        "outputId": "24a97dea-5495-4d60-a88d-70ac9d63a356"
      },
      "source": [
        "binom.pmf(k, n, p)"
      ],
      "execution_count": null,
      "outputs": [
        {
          "output_type": "execute_result",
          "data": {
            "text/plain": [
              "0.3750000000000001"
            ]
          },
          "metadata": {
            "tags": []
          },
          "execution_count": 38
        }
      ]
    },
    {
      "cell_type": "code",
      "metadata": {
        "id": "4DbHA5gbYKQO"
      },
      "source": [
        "k = 3\n",
        "n = 10\n",
        "p = 1/6"
      ],
      "execution_count": null,
      "outputs": []
    },
    {
      "cell_type": "code",
      "metadata": {
        "colab": {
          "base_uri": "https://localhost:8080/"
        },
        "id": "09-jGyavY73O",
        "outputId": "6ea0702f-d0d9-40a7-b427-73b2b232f282"
      },
      "source": [
        "1-binom.cdf(k, n, p)"
      ],
      "execution_count": null,
      "outputs": [
        {
          "output_type": "execute_result",
          "data": {
            "text/plain": [
              "0.0697278425544886"
            ]
          },
          "metadata": {
            "tags": []
          },
          "execution_count": 50
        }
      ]
    },
    {
      "cell_type": "code",
      "metadata": {
        "id": "Jk_F8OjsY8ml"
      },
      "source": [
        "#exemplo\n",
        "p = 0.6\n",
        "n = 12\n",
        "k = 8"
      ],
      "execution_count": null,
      "outputs": []
    },
    {
      "cell_type": "code",
      "metadata": {
        "colab": {
          "base_uri": "https://localhost:8080/"
        },
        "id": "3w7yOdTCgI9B",
        "outputId": "a0483b1b-6fd7-4300-9ef2-93dc430c299b"
      },
      "source": [
        "prob = binom.pmf(k, n, p)\n",
        "prob"
      ],
      "execution_count": null,
      "outputs": [
        {
          "output_type": "execute_result",
          "data": {
            "text/plain": [
              "0.2128409395199996"
            ]
          },
          "metadata": {
            "tags": []
          },
          "execution_count": 52
        }
      ]
    },
    {
      "cell_type": "code",
      "metadata": {
        "colab": {
          "base_uri": "https://localhost:8080/"
        },
        "id": "Gc89pqejgTCr",
        "outputId": "dcbbd374-3f42-4ae8-f5f1-3fbf01de2a23"
      },
      "source": [
        "n = 30 * prob\n",
        "n"
      ],
      "execution_count": null,
      "outputs": [
        {
          "output_type": "execute_result",
          "data": {
            "text/plain": [
              "6.385228185599988"
            ]
          },
          "metadata": {
            "tags": []
          },
          "execution_count": 54
        }
      ]
    },
    {
      "cell_type": "code",
      "metadata": {
        "id": "LoYDegoUghdS"
      },
      "source": [
        "p = 0.22\n",
        "n = 3\n",
        "k = 2"
      ],
      "execution_count": null,
      "outputs": []
    },
    {
      "cell_type": "code",
      "metadata": {
        "colab": {
          "base_uri": "https://localhost:8080/"
        },
        "id": "XIidc1fdg7XI",
        "outputId": "2430f01f-7b15-4631-c54c-902dfe2004e0"
      },
      "source": [
        "prob = binom.pmf(k, n, p)\n",
        "prob"
      ],
      "execution_count": null,
      "outputs": [
        {
          "output_type": "execute_result",
          "data": {
            "text/plain": [
              "0.11325599999999998"
            ]
          },
          "metadata": {
            "tags": []
          },
          "execution_count": 63
        }
      ]
    },
    {
      "cell_type": "code",
      "metadata": {
        "colab": {
          "base_uri": "https://localhost:8080/"
        },
        "id": "CUDXHxhNg77n",
        "outputId": "77c7b12f-49b1-4873-bec5-1574ef4108ef"
      },
      "source": [
        "50*prob"
      ],
      "execution_count": null,
      "outputs": [
        {
          "output_type": "execute_result",
          "data": {
            "text/plain": [
              "5.662799999999999"
            ]
          },
          "metadata": {
            "tags": []
          },
          "execution_count": 64
        }
      ]
    },
    {
      "cell_type": "markdown",
      "metadata": {
        "id": "3j4LSvjvh_MP"
      },
      "source": [
        "##Distribuição de probabilidade Poisson"
      ]
    },
    {
      "cell_type": "code",
      "metadata": {
        "colab": {
          "base_uri": "https://localhost:8080/"
        },
        "id": "UOrF7lCIhKll",
        "outputId": "e3f9a41e-2f3b-46f5-facb-7a9dc91b22ab"
      },
      "source": [
        "np.e"
      ],
      "execution_count": null,
      "outputs": [
        {
          "output_type": "execute_result",
          "data": {
            "text/plain": [
              "2.718281828459045"
            ]
          },
          "metadata": {
            "tags": []
          },
          "execution_count": 65
        }
      ]
    },
    {
      "cell_type": "code",
      "metadata": {
        "id": "_T2TeYS3izZo"
      },
      "source": [
        "media = 20\n",
        "k = 15"
      ],
      "execution_count": null,
      "outputs": []
    },
    {
      "cell_type": "code",
      "metadata": {
        "colab": {
          "base_uri": "https://localhost:8080/"
        },
        "id": "lrjRkUnQjgS1",
        "outputId": "1e772ecd-e09d-4f77-a4fb-8e613c27c027"
      },
      "source": [
        "prob = ((np.e**(-media)) * (media**k)) / np.math.factorial(k)\n",
        "print(f'{prob:.8f}')"
      ],
      "execution_count": null,
      "outputs": [
        {
          "output_type": "stream",
          "text": [
            "0.05164885\n"
          ],
          "name": "stdout"
        }
      ]
    },
    {
      "cell_type": "code",
      "metadata": {
        "id": "7BGN5WbOj4FH"
      },
      "source": [
        "from scipy.stats import poisson"
      ],
      "execution_count": null,
      "outputs": []
    },
    {
      "cell_type": "code",
      "metadata": {
        "colab": {
          "base_uri": "https://localhost:8080/"
        },
        "id": "x6VunZG3kFUL",
        "outputId": "dc4ffcd3-fbc8-4ada-ef19-15b99fde8430"
      },
      "source": [
        "prob = poisson.pmf(k, media)\n",
        "prob"
      ],
      "execution_count": null,
      "outputs": [
        {
          "output_type": "execute_result",
          "data": {
            "text/plain": [
              "0.05164885353175814"
            ]
          },
          "metadata": {
            "tags": []
          },
          "execution_count": 71
        }
      ]
    },
    {
      "cell_type": "code",
      "metadata": {
        "colab": {
          "base_uri": "https://localhost:8080/"
        },
        "id": "ry18FVrMkJ4y",
        "outputId": "307493a3-a261-4f21-e229-ef153643e29b"
      },
      "source": [
        "k = 25\n",
        "media = 20\n",
        "prob = poisson.pmf(k, media)\n",
        "print(f'{prob*100:.2f}')"
      ],
      "execution_count": null,
      "outputs": [
        {
          "output_type": "stream",
          "text": [
            "4.46\n"
          ],
          "name": "stdout"
        }
      ]
    },
    {
      "cell_type": "markdown",
      "metadata": {
        "id": "YSlpHPM6k4vZ"
      },
      "source": [
        "##Distribuição Normal"
      ]
    },
    {
      "cell_type": "code",
      "metadata": {
        "id": "aGtsfefpkoIv"
      },
      "source": [
        "from scipy.stats import norm"
      ],
      "execution_count": 5,
      "outputs": []
    },
    {
      "cell_type": "code",
      "metadata": {
        "colab": {
          "base_uri": "https://localhost:8080/",
          "height": 1000
        },
        "id": "9b_fCLv3nNNm",
        "outputId": "fc0948af-a189-4bd4-8f7a-33c887ccc7cb"
      },
      "source": [
        "tabela_normal_padronizada = pd.DataFrame(\n",
        "    [],\n",
        "    index=[f\"{i/100:.2f}\" for i in range(0, 400, 10)],\n",
        "    columns=[f\"{i/100:.2f}\" for i in range(0, 10)]\n",
        ")\n",
        "\n",
        "for index in tabela_normal_padronizada.index:\n",
        "    for columns in tabela_normal_padronizada.columns:\n",
        "        Z = np.round(float(index) + float(columns), 2)\n",
        "        tabela_normal_padronizada.loc[index, columns] = f'{norm.cdf(Z):.4f}'\n",
        "\n",
        "tabela_normal_padronizada.rename_axis('Z', axis=1, inplace=True)\n",
        "tabela_normal_padronizada"
      ],
      "execution_count": 6,
      "outputs": [
        {
          "output_type": "execute_result",
          "data": {
            "text/html": [
              "<div>\n",
              "<style scoped>\n",
              "    .dataframe tbody tr th:only-of-type {\n",
              "        vertical-align: middle;\n",
              "    }\n",
              "\n",
              "    .dataframe tbody tr th {\n",
              "        vertical-align: top;\n",
              "    }\n",
              "\n",
              "    .dataframe thead th {\n",
              "        text-align: right;\n",
              "    }\n",
              "</style>\n",
              "<table border=\"1\" class=\"dataframe\">\n",
              "  <thead>\n",
              "    <tr style=\"text-align: right;\">\n",
              "      <th>Z</th>\n",
              "      <th>0.00</th>\n",
              "      <th>0.01</th>\n",
              "      <th>0.02</th>\n",
              "      <th>0.03</th>\n",
              "      <th>0.04</th>\n",
              "      <th>0.05</th>\n",
              "      <th>0.06</th>\n",
              "      <th>0.07</th>\n",
              "      <th>0.08</th>\n",
              "      <th>0.09</th>\n",
              "    </tr>\n",
              "  </thead>\n",
              "  <tbody>\n",
              "    <tr>\n",
              "      <th>0.00</th>\n",
              "      <td>0.5000</td>\n",
              "      <td>0.5040</td>\n",
              "      <td>0.5080</td>\n",
              "      <td>0.5120</td>\n",
              "      <td>0.5160</td>\n",
              "      <td>0.5199</td>\n",
              "      <td>0.5239</td>\n",
              "      <td>0.5279</td>\n",
              "      <td>0.5319</td>\n",
              "      <td>0.5359</td>\n",
              "    </tr>\n",
              "    <tr>\n",
              "      <th>0.10</th>\n",
              "      <td>0.5398</td>\n",
              "      <td>0.5438</td>\n",
              "      <td>0.5478</td>\n",
              "      <td>0.5517</td>\n",
              "      <td>0.5557</td>\n",
              "      <td>0.5596</td>\n",
              "      <td>0.5636</td>\n",
              "      <td>0.5675</td>\n",
              "      <td>0.5714</td>\n",
              "      <td>0.5753</td>\n",
              "    </tr>\n",
              "    <tr>\n",
              "      <th>0.20</th>\n",
              "      <td>0.5793</td>\n",
              "      <td>0.5832</td>\n",
              "      <td>0.5871</td>\n",
              "      <td>0.5910</td>\n",
              "      <td>0.5948</td>\n",
              "      <td>0.5987</td>\n",
              "      <td>0.6026</td>\n",
              "      <td>0.6064</td>\n",
              "      <td>0.6103</td>\n",
              "      <td>0.6141</td>\n",
              "    </tr>\n",
              "    <tr>\n",
              "      <th>0.30</th>\n",
              "      <td>0.6179</td>\n",
              "      <td>0.6217</td>\n",
              "      <td>0.6255</td>\n",
              "      <td>0.6293</td>\n",
              "      <td>0.6331</td>\n",
              "      <td>0.6368</td>\n",
              "      <td>0.6406</td>\n",
              "      <td>0.6443</td>\n",
              "      <td>0.6480</td>\n",
              "      <td>0.6517</td>\n",
              "    </tr>\n",
              "    <tr>\n",
              "      <th>0.40</th>\n",
              "      <td>0.6554</td>\n",
              "      <td>0.6591</td>\n",
              "      <td>0.6628</td>\n",
              "      <td>0.6664</td>\n",
              "      <td>0.6700</td>\n",
              "      <td>0.6736</td>\n",
              "      <td>0.6772</td>\n",
              "      <td>0.6808</td>\n",
              "      <td>0.6844</td>\n",
              "      <td>0.6879</td>\n",
              "    </tr>\n",
              "    <tr>\n",
              "      <th>0.50</th>\n",
              "      <td>0.6915</td>\n",
              "      <td>0.6950</td>\n",
              "      <td>0.6985</td>\n",
              "      <td>0.7019</td>\n",
              "      <td>0.7054</td>\n",
              "      <td>0.7088</td>\n",
              "      <td>0.7123</td>\n",
              "      <td>0.7157</td>\n",
              "      <td>0.7190</td>\n",
              "      <td>0.7224</td>\n",
              "    </tr>\n",
              "    <tr>\n",
              "      <th>0.60</th>\n",
              "      <td>0.7257</td>\n",
              "      <td>0.7291</td>\n",
              "      <td>0.7324</td>\n",
              "      <td>0.7357</td>\n",
              "      <td>0.7389</td>\n",
              "      <td>0.7422</td>\n",
              "      <td>0.7454</td>\n",
              "      <td>0.7486</td>\n",
              "      <td>0.7517</td>\n",
              "      <td>0.7549</td>\n",
              "    </tr>\n",
              "    <tr>\n",
              "      <th>0.70</th>\n",
              "      <td>0.7580</td>\n",
              "      <td>0.7611</td>\n",
              "      <td>0.7642</td>\n",
              "      <td>0.7673</td>\n",
              "      <td>0.7704</td>\n",
              "      <td>0.7734</td>\n",
              "      <td>0.7764</td>\n",
              "      <td>0.7794</td>\n",
              "      <td>0.7823</td>\n",
              "      <td>0.7852</td>\n",
              "    </tr>\n",
              "    <tr>\n",
              "      <th>0.80</th>\n",
              "      <td>0.7881</td>\n",
              "      <td>0.7910</td>\n",
              "      <td>0.7939</td>\n",
              "      <td>0.7967</td>\n",
              "      <td>0.7995</td>\n",
              "      <td>0.8023</td>\n",
              "      <td>0.8051</td>\n",
              "      <td>0.8078</td>\n",
              "      <td>0.8106</td>\n",
              "      <td>0.8133</td>\n",
              "    </tr>\n",
              "    <tr>\n",
              "      <th>0.90</th>\n",
              "      <td>0.8159</td>\n",
              "      <td>0.8186</td>\n",
              "      <td>0.8212</td>\n",
              "      <td>0.8238</td>\n",
              "      <td>0.8264</td>\n",
              "      <td>0.8289</td>\n",
              "      <td>0.8315</td>\n",
              "      <td>0.8340</td>\n",
              "      <td>0.8365</td>\n",
              "      <td>0.8389</td>\n",
              "    </tr>\n",
              "    <tr>\n",
              "      <th>1.00</th>\n",
              "      <td>0.8413</td>\n",
              "      <td>0.8438</td>\n",
              "      <td>0.8461</td>\n",
              "      <td>0.8485</td>\n",
              "      <td>0.8508</td>\n",
              "      <td>0.8531</td>\n",
              "      <td>0.8554</td>\n",
              "      <td>0.8577</td>\n",
              "      <td>0.8599</td>\n",
              "      <td>0.8621</td>\n",
              "    </tr>\n",
              "    <tr>\n",
              "      <th>1.10</th>\n",
              "      <td>0.8643</td>\n",
              "      <td>0.8665</td>\n",
              "      <td>0.8686</td>\n",
              "      <td>0.8708</td>\n",
              "      <td>0.8729</td>\n",
              "      <td>0.8749</td>\n",
              "      <td>0.8770</td>\n",
              "      <td>0.8790</td>\n",
              "      <td>0.8810</td>\n",
              "      <td>0.8830</td>\n",
              "    </tr>\n",
              "    <tr>\n",
              "      <th>1.20</th>\n",
              "      <td>0.8849</td>\n",
              "      <td>0.8869</td>\n",
              "      <td>0.8888</td>\n",
              "      <td>0.8907</td>\n",
              "      <td>0.8925</td>\n",
              "      <td>0.8944</td>\n",
              "      <td>0.8962</td>\n",
              "      <td>0.8980</td>\n",
              "      <td>0.8997</td>\n",
              "      <td>0.9015</td>\n",
              "    </tr>\n",
              "    <tr>\n",
              "      <th>1.30</th>\n",
              "      <td>0.9032</td>\n",
              "      <td>0.9049</td>\n",
              "      <td>0.9066</td>\n",
              "      <td>0.9082</td>\n",
              "      <td>0.9099</td>\n",
              "      <td>0.9115</td>\n",
              "      <td>0.9131</td>\n",
              "      <td>0.9147</td>\n",
              "      <td>0.9162</td>\n",
              "      <td>0.9177</td>\n",
              "    </tr>\n",
              "    <tr>\n",
              "      <th>1.40</th>\n",
              "      <td>0.9192</td>\n",
              "      <td>0.9207</td>\n",
              "      <td>0.9222</td>\n",
              "      <td>0.9236</td>\n",
              "      <td>0.9251</td>\n",
              "      <td>0.9265</td>\n",
              "      <td>0.9279</td>\n",
              "      <td>0.9292</td>\n",
              "      <td>0.9306</td>\n",
              "      <td>0.9319</td>\n",
              "    </tr>\n",
              "    <tr>\n",
              "      <th>1.50</th>\n",
              "      <td>0.9332</td>\n",
              "      <td>0.9345</td>\n",
              "      <td>0.9357</td>\n",
              "      <td>0.9370</td>\n",
              "      <td>0.9382</td>\n",
              "      <td>0.9394</td>\n",
              "      <td>0.9406</td>\n",
              "      <td>0.9418</td>\n",
              "      <td>0.9429</td>\n",
              "      <td>0.9441</td>\n",
              "    </tr>\n",
              "    <tr>\n",
              "      <th>1.60</th>\n",
              "      <td>0.9452</td>\n",
              "      <td>0.9463</td>\n",
              "      <td>0.9474</td>\n",
              "      <td>0.9484</td>\n",
              "      <td>0.9495</td>\n",
              "      <td>0.9505</td>\n",
              "      <td>0.9515</td>\n",
              "      <td>0.9525</td>\n",
              "      <td>0.9535</td>\n",
              "      <td>0.9545</td>\n",
              "    </tr>\n",
              "    <tr>\n",
              "      <th>1.70</th>\n",
              "      <td>0.9554</td>\n",
              "      <td>0.9564</td>\n",
              "      <td>0.9573</td>\n",
              "      <td>0.9582</td>\n",
              "      <td>0.9591</td>\n",
              "      <td>0.9599</td>\n",
              "      <td>0.9608</td>\n",
              "      <td>0.9616</td>\n",
              "      <td>0.9625</td>\n",
              "      <td>0.9633</td>\n",
              "    </tr>\n",
              "    <tr>\n",
              "      <th>1.80</th>\n",
              "      <td>0.9641</td>\n",
              "      <td>0.9649</td>\n",
              "      <td>0.9656</td>\n",
              "      <td>0.9664</td>\n",
              "      <td>0.9671</td>\n",
              "      <td>0.9678</td>\n",
              "      <td>0.9686</td>\n",
              "      <td>0.9693</td>\n",
              "      <td>0.9699</td>\n",
              "      <td>0.9706</td>\n",
              "    </tr>\n",
              "    <tr>\n",
              "      <th>1.90</th>\n",
              "      <td>0.9713</td>\n",
              "      <td>0.9719</td>\n",
              "      <td>0.9726</td>\n",
              "      <td>0.9732</td>\n",
              "      <td>0.9738</td>\n",
              "      <td>0.9744</td>\n",
              "      <td>0.9750</td>\n",
              "      <td>0.9756</td>\n",
              "      <td>0.9761</td>\n",
              "      <td>0.9767</td>\n",
              "    </tr>\n",
              "    <tr>\n",
              "      <th>2.00</th>\n",
              "      <td>0.9772</td>\n",
              "      <td>0.9778</td>\n",
              "      <td>0.9783</td>\n",
              "      <td>0.9788</td>\n",
              "      <td>0.9793</td>\n",
              "      <td>0.9798</td>\n",
              "      <td>0.9803</td>\n",
              "      <td>0.9808</td>\n",
              "      <td>0.9812</td>\n",
              "      <td>0.9817</td>\n",
              "    </tr>\n",
              "    <tr>\n",
              "      <th>2.10</th>\n",
              "      <td>0.9821</td>\n",
              "      <td>0.9826</td>\n",
              "      <td>0.9830</td>\n",
              "      <td>0.9834</td>\n",
              "      <td>0.9838</td>\n",
              "      <td>0.9842</td>\n",
              "      <td>0.9846</td>\n",
              "      <td>0.9850</td>\n",
              "      <td>0.9854</td>\n",
              "      <td>0.9857</td>\n",
              "    </tr>\n",
              "    <tr>\n",
              "      <th>2.20</th>\n",
              "      <td>0.9861</td>\n",
              "      <td>0.9864</td>\n",
              "      <td>0.9868</td>\n",
              "      <td>0.9871</td>\n",
              "      <td>0.9875</td>\n",
              "      <td>0.9878</td>\n",
              "      <td>0.9881</td>\n",
              "      <td>0.9884</td>\n",
              "      <td>0.9887</td>\n",
              "      <td>0.9890</td>\n",
              "    </tr>\n",
              "    <tr>\n",
              "      <th>2.30</th>\n",
              "      <td>0.9893</td>\n",
              "      <td>0.9896</td>\n",
              "      <td>0.9898</td>\n",
              "      <td>0.9901</td>\n",
              "      <td>0.9904</td>\n",
              "      <td>0.9906</td>\n",
              "      <td>0.9909</td>\n",
              "      <td>0.9911</td>\n",
              "      <td>0.9913</td>\n",
              "      <td>0.9916</td>\n",
              "    </tr>\n",
              "    <tr>\n",
              "      <th>2.40</th>\n",
              "      <td>0.9918</td>\n",
              "      <td>0.9920</td>\n",
              "      <td>0.9922</td>\n",
              "      <td>0.9925</td>\n",
              "      <td>0.9927</td>\n",
              "      <td>0.9929</td>\n",
              "      <td>0.9931</td>\n",
              "      <td>0.9932</td>\n",
              "      <td>0.9934</td>\n",
              "      <td>0.9936</td>\n",
              "    </tr>\n",
              "    <tr>\n",
              "      <th>2.50</th>\n",
              "      <td>0.9938</td>\n",
              "      <td>0.9940</td>\n",
              "      <td>0.9941</td>\n",
              "      <td>0.9943</td>\n",
              "      <td>0.9945</td>\n",
              "      <td>0.9946</td>\n",
              "      <td>0.9948</td>\n",
              "      <td>0.9949</td>\n",
              "      <td>0.9951</td>\n",
              "      <td>0.9952</td>\n",
              "    </tr>\n",
              "    <tr>\n",
              "      <th>2.60</th>\n",
              "      <td>0.9953</td>\n",
              "      <td>0.9955</td>\n",
              "      <td>0.9956</td>\n",
              "      <td>0.9957</td>\n",
              "      <td>0.9959</td>\n",
              "      <td>0.9960</td>\n",
              "      <td>0.9961</td>\n",
              "      <td>0.9962</td>\n",
              "      <td>0.9963</td>\n",
              "      <td>0.9964</td>\n",
              "    </tr>\n",
              "    <tr>\n",
              "      <th>2.70</th>\n",
              "      <td>0.9965</td>\n",
              "      <td>0.9966</td>\n",
              "      <td>0.9967</td>\n",
              "      <td>0.9968</td>\n",
              "      <td>0.9969</td>\n",
              "      <td>0.9970</td>\n",
              "      <td>0.9971</td>\n",
              "      <td>0.9972</td>\n",
              "      <td>0.9973</td>\n",
              "      <td>0.9974</td>\n",
              "    </tr>\n",
              "    <tr>\n",
              "      <th>2.80</th>\n",
              "      <td>0.9974</td>\n",
              "      <td>0.9975</td>\n",
              "      <td>0.9976</td>\n",
              "      <td>0.9977</td>\n",
              "      <td>0.9977</td>\n",
              "      <td>0.9978</td>\n",
              "      <td>0.9979</td>\n",
              "      <td>0.9979</td>\n",
              "      <td>0.9980</td>\n",
              "      <td>0.9981</td>\n",
              "    </tr>\n",
              "    <tr>\n",
              "      <th>2.90</th>\n",
              "      <td>0.9981</td>\n",
              "      <td>0.9982</td>\n",
              "      <td>0.9982</td>\n",
              "      <td>0.9983</td>\n",
              "      <td>0.9984</td>\n",
              "      <td>0.9984</td>\n",
              "      <td>0.9985</td>\n",
              "      <td>0.9985</td>\n",
              "      <td>0.9986</td>\n",
              "      <td>0.9986</td>\n",
              "    </tr>\n",
              "    <tr>\n",
              "      <th>3.00</th>\n",
              "      <td>0.9987</td>\n",
              "      <td>0.9987</td>\n",
              "      <td>0.9987</td>\n",
              "      <td>0.9988</td>\n",
              "      <td>0.9988</td>\n",
              "      <td>0.9989</td>\n",
              "      <td>0.9989</td>\n",
              "      <td>0.9989</td>\n",
              "      <td>0.9990</td>\n",
              "      <td>0.9990</td>\n",
              "    </tr>\n",
              "    <tr>\n",
              "      <th>3.10</th>\n",
              "      <td>0.9990</td>\n",
              "      <td>0.9991</td>\n",
              "      <td>0.9991</td>\n",
              "      <td>0.9991</td>\n",
              "      <td>0.9992</td>\n",
              "      <td>0.9992</td>\n",
              "      <td>0.9992</td>\n",
              "      <td>0.9992</td>\n",
              "      <td>0.9993</td>\n",
              "      <td>0.9993</td>\n",
              "    </tr>\n",
              "    <tr>\n",
              "      <th>3.20</th>\n",
              "      <td>0.9993</td>\n",
              "      <td>0.9993</td>\n",
              "      <td>0.9994</td>\n",
              "      <td>0.9994</td>\n",
              "      <td>0.9994</td>\n",
              "      <td>0.9994</td>\n",
              "      <td>0.9994</td>\n",
              "      <td>0.9995</td>\n",
              "      <td>0.9995</td>\n",
              "      <td>0.9995</td>\n",
              "    </tr>\n",
              "    <tr>\n",
              "      <th>3.30</th>\n",
              "      <td>0.9995</td>\n",
              "      <td>0.9995</td>\n",
              "      <td>0.9995</td>\n",
              "      <td>0.9996</td>\n",
              "      <td>0.9996</td>\n",
              "      <td>0.9996</td>\n",
              "      <td>0.9996</td>\n",
              "      <td>0.9996</td>\n",
              "      <td>0.9996</td>\n",
              "      <td>0.9997</td>\n",
              "    </tr>\n",
              "    <tr>\n",
              "      <th>3.40</th>\n",
              "      <td>0.9997</td>\n",
              "      <td>0.9997</td>\n",
              "      <td>0.9997</td>\n",
              "      <td>0.9997</td>\n",
              "      <td>0.9997</td>\n",
              "      <td>0.9997</td>\n",
              "      <td>0.9997</td>\n",
              "      <td>0.9997</td>\n",
              "      <td>0.9997</td>\n",
              "      <td>0.9998</td>\n",
              "    </tr>\n",
              "    <tr>\n",
              "      <th>3.50</th>\n",
              "      <td>0.9998</td>\n",
              "      <td>0.9998</td>\n",
              "      <td>0.9998</td>\n",
              "      <td>0.9998</td>\n",
              "      <td>0.9998</td>\n",
              "      <td>0.9998</td>\n",
              "      <td>0.9998</td>\n",
              "      <td>0.9998</td>\n",
              "      <td>0.9998</td>\n",
              "      <td>0.9998</td>\n",
              "    </tr>\n",
              "    <tr>\n",
              "      <th>3.60</th>\n",
              "      <td>0.9998</td>\n",
              "      <td>0.9998</td>\n",
              "      <td>0.9999</td>\n",
              "      <td>0.9999</td>\n",
              "      <td>0.9999</td>\n",
              "      <td>0.9999</td>\n",
              "      <td>0.9999</td>\n",
              "      <td>0.9999</td>\n",
              "      <td>0.9999</td>\n",
              "      <td>0.9999</td>\n",
              "    </tr>\n",
              "    <tr>\n",
              "      <th>3.70</th>\n",
              "      <td>0.9999</td>\n",
              "      <td>0.9999</td>\n",
              "      <td>0.9999</td>\n",
              "      <td>0.9999</td>\n",
              "      <td>0.9999</td>\n",
              "      <td>0.9999</td>\n",
              "      <td>0.9999</td>\n",
              "      <td>0.9999</td>\n",
              "      <td>0.9999</td>\n",
              "      <td>0.9999</td>\n",
              "    </tr>\n",
              "    <tr>\n",
              "      <th>3.80</th>\n",
              "      <td>0.9999</td>\n",
              "      <td>0.9999</td>\n",
              "      <td>0.9999</td>\n",
              "      <td>0.9999</td>\n",
              "      <td>0.9999</td>\n",
              "      <td>0.9999</td>\n",
              "      <td>0.9999</td>\n",
              "      <td>0.9999</td>\n",
              "      <td>0.9999</td>\n",
              "      <td>0.9999</td>\n",
              "    </tr>\n",
              "    <tr>\n",
              "      <th>3.90</th>\n",
              "      <td>1.0000</td>\n",
              "      <td>1.0000</td>\n",
              "      <td>1.0000</td>\n",
              "      <td>1.0000</td>\n",
              "      <td>1.0000</td>\n",
              "      <td>1.0000</td>\n",
              "      <td>1.0000</td>\n",
              "      <td>1.0000</td>\n",
              "      <td>1.0000</td>\n",
              "      <td>1.0000</td>\n",
              "    </tr>\n",
              "  </tbody>\n",
              "</table>\n",
              "</div>"
            ],
            "text/plain": [
              "Z       0.00    0.01    0.02    0.03  ...    0.06    0.07    0.08    0.09\n",
              "0.00  0.5000  0.5040  0.5080  0.5120  ...  0.5239  0.5279  0.5319  0.5359\n",
              "0.10  0.5398  0.5438  0.5478  0.5517  ...  0.5636  0.5675  0.5714  0.5753\n",
              "0.20  0.5793  0.5832  0.5871  0.5910  ...  0.6026  0.6064  0.6103  0.6141\n",
              "0.30  0.6179  0.6217  0.6255  0.6293  ...  0.6406  0.6443  0.6480  0.6517\n",
              "0.40  0.6554  0.6591  0.6628  0.6664  ...  0.6772  0.6808  0.6844  0.6879\n",
              "0.50  0.6915  0.6950  0.6985  0.7019  ...  0.7123  0.7157  0.7190  0.7224\n",
              "0.60  0.7257  0.7291  0.7324  0.7357  ...  0.7454  0.7486  0.7517  0.7549\n",
              "0.70  0.7580  0.7611  0.7642  0.7673  ...  0.7764  0.7794  0.7823  0.7852\n",
              "0.80  0.7881  0.7910  0.7939  0.7967  ...  0.8051  0.8078  0.8106  0.8133\n",
              "0.90  0.8159  0.8186  0.8212  0.8238  ...  0.8315  0.8340  0.8365  0.8389\n",
              "1.00  0.8413  0.8438  0.8461  0.8485  ...  0.8554  0.8577  0.8599  0.8621\n",
              "1.10  0.8643  0.8665  0.8686  0.8708  ...  0.8770  0.8790  0.8810  0.8830\n",
              "1.20  0.8849  0.8869  0.8888  0.8907  ...  0.8962  0.8980  0.8997  0.9015\n",
              "1.30  0.9032  0.9049  0.9066  0.9082  ...  0.9131  0.9147  0.9162  0.9177\n",
              "1.40  0.9192  0.9207  0.9222  0.9236  ...  0.9279  0.9292  0.9306  0.9319\n",
              "1.50  0.9332  0.9345  0.9357  0.9370  ...  0.9406  0.9418  0.9429  0.9441\n",
              "1.60  0.9452  0.9463  0.9474  0.9484  ...  0.9515  0.9525  0.9535  0.9545\n",
              "1.70  0.9554  0.9564  0.9573  0.9582  ...  0.9608  0.9616  0.9625  0.9633\n",
              "1.80  0.9641  0.9649  0.9656  0.9664  ...  0.9686  0.9693  0.9699  0.9706\n",
              "1.90  0.9713  0.9719  0.9726  0.9732  ...  0.9750  0.9756  0.9761  0.9767\n",
              "2.00  0.9772  0.9778  0.9783  0.9788  ...  0.9803  0.9808  0.9812  0.9817\n",
              "2.10  0.9821  0.9826  0.9830  0.9834  ...  0.9846  0.9850  0.9854  0.9857\n",
              "2.20  0.9861  0.9864  0.9868  0.9871  ...  0.9881  0.9884  0.9887  0.9890\n",
              "2.30  0.9893  0.9896  0.9898  0.9901  ...  0.9909  0.9911  0.9913  0.9916\n",
              "2.40  0.9918  0.9920  0.9922  0.9925  ...  0.9931  0.9932  0.9934  0.9936\n",
              "2.50  0.9938  0.9940  0.9941  0.9943  ...  0.9948  0.9949  0.9951  0.9952\n",
              "2.60  0.9953  0.9955  0.9956  0.9957  ...  0.9961  0.9962  0.9963  0.9964\n",
              "2.70  0.9965  0.9966  0.9967  0.9968  ...  0.9971  0.9972  0.9973  0.9974\n",
              "2.80  0.9974  0.9975  0.9976  0.9977  ...  0.9979  0.9979  0.9980  0.9981\n",
              "2.90  0.9981  0.9982  0.9982  0.9983  ...  0.9985  0.9985  0.9986  0.9986\n",
              "3.00  0.9987  0.9987  0.9987  0.9988  ...  0.9989  0.9989  0.9990  0.9990\n",
              "3.10  0.9990  0.9991  0.9991  0.9991  ...  0.9992  0.9992  0.9993  0.9993\n",
              "3.20  0.9993  0.9993  0.9994  0.9994  ...  0.9994  0.9995  0.9995  0.9995\n",
              "3.30  0.9995  0.9995  0.9995  0.9996  ...  0.9996  0.9996  0.9996  0.9997\n",
              "3.40  0.9997  0.9997  0.9997  0.9997  ...  0.9997  0.9997  0.9997  0.9998\n",
              "3.50  0.9998  0.9998  0.9998  0.9998  ...  0.9998  0.9998  0.9998  0.9998\n",
              "3.60  0.9998  0.9998  0.9999  0.9999  ...  0.9999  0.9999  0.9999  0.9999\n",
              "3.70  0.9999  0.9999  0.9999  0.9999  ...  0.9999  0.9999  0.9999  0.9999\n",
              "3.80  0.9999  0.9999  0.9999  0.9999  ...  0.9999  0.9999  0.9999  0.9999\n",
              "3.90  1.0000  1.0000  1.0000  1.0000  ...  1.0000  1.0000  1.0000  1.0000\n",
              "\n",
              "[40 rows x 10 columns]"
            ]
          },
          "metadata": {
            "tags": []
          },
          "execution_count": 6
        }
      ]
    },
    {
      "cell_type": "code",
      "metadata": {
        "id": "6g3LcAtooxyp"
      },
      "source": [
        "media = 1.70\n",
        "dp = 0.1\n",
        "x = 1.80"
      ],
      "execution_count": 7,
      "outputs": []
    },
    {
      "cell_type": "code",
      "metadata": {
        "colab": {
          "base_uri": "https://localhost:8080/"
        },
        "id": "BTXB7SUUTfth",
        "outputId": "f6a14372-46e6-45fe-b6ae-e6aa7d035a60"
      },
      "source": [
        "Z = (x - media)/dp\n",
        "Z"
      ],
      "execution_count": 10,
      "outputs": [
        {
          "output_type": "execute_result",
          "data": {
            "text/plain": [
              "1.0000000000000009"
            ]
          },
          "metadata": {
            "tags": []
          },
          "execution_count": 10
        }
      ]
    },
    {
      "cell_type": "code",
      "metadata": {
        "colab": {
          "base_uri": "https://localhost:8080/"
        },
        "id": "sWOfTs6bTlwX",
        "outputId": "1956c617-597b-4ac4-bc99-75c786eb032f"
      },
      "source": [
        "prob = 0.8413\n",
        "prob"
      ],
      "execution_count": 11,
      "outputs": [
        {
          "output_type": "execute_result",
          "data": {
            "text/plain": [
              "0.8413"
            ]
          },
          "metadata": {
            "tags": []
          },
          "execution_count": 11
        }
      ]
    },
    {
      "cell_type": "code",
      "metadata": {
        "colab": {
          "base_uri": "https://localhost:8080/"
        },
        "id": "GIF89WozT6Qp",
        "outputId": "92715671-e045-4e9a-bfb5-314c6954773d"
      },
      "source": [
        "prob=norm.cdf(Z)\n",
        "prob"
      ],
      "execution_count": 13,
      "outputs": [
        {
          "output_type": "execute_result",
          "data": {
            "text/plain": [
              "0.8413447460685431"
            ]
          },
          "metadata": {
            "tags": []
          },
          "execution_count": 13
        }
      ]
    },
    {
      "cell_type": "code",
      "metadata": {
        "colab": {
          "base_uri": "https://localhost:8080/"
        },
        "id": "-CfjZqCbUKzf",
        "outputId": "28692e01-618c-4ebd-9ec3-61daf5fba703"
      },
      "source": [
        "prob = norm.cdf((85-70)/5)\n",
        "prob"
      ],
      "execution_count": 14,
      "outputs": [
        {
          "output_type": "execute_result",
          "data": {
            "text/plain": [
              "0.9986501019683699"
            ]
          },
          "metadata": {
            "tags": []
          },
          "execution_count": 14
        }
      ]
    },
    {
      "cell_type": "code",
      "metadata": {
        "colab": {
          "base_uri": "https://localhost:8080/"
        },
        "id": "HTZJHFtCUniI",
        "outputId": "9b2015b6-a3cf-42cd-94a8-9c21969d4f8e"
      },
      "source": [
        "prob = norm.cdf((1.80-1.70)/0.1) - norm.cdf((1.60-1.70)/0.1)\n",
        "prob"
      ],
      "execution_count": 15,
      "outputs": [
        {
          "output_type": "execute_result",
          "data": {
            "text/plain": [
              "0.6826894921370857"
            ]
          },
          "metadata": {
            "tags": []
          },
          "execution_count": 15
        }
      ]
    },
    {
      "cell_type": "code",
      "metadata": {
        "colab": {
          "base_uri": "https://localhost:8080/"
        },
        "id": "YUL0AHnEVGuz",
        "outputId": "72293180-7e14-43f3-b635-5ed0bd282b84"
      },
      "source": [
        "prob = (norm.cdf((1.80-1.70)/0.1) - 0.5)*2\n",
        "prob"
      ],
      "execution_count": 16,
      "outputs": [
        {
          "output_type": "execute_result",
          "data": {
            "text/plain": [
              "0.6826894921370863"
            ]
          },
          "metadata": {
            "tags": []
          },
          "execution_count": 16
        }
      ]
    },
    {
      "cell_type": "code",
      "metadata": {
        "colab": {
          "base_uri": "https://localhost:8080/"
        },
        "id": "dyx1WDDgVwBQ",
        "outputId": "a837dba0-8238-4fef-ad05-61eeb27e64ab"
      },
      "source": [
        "prob = norm.cdf((1.80-1.70)/0.1) - (1 - norm.cdf((1.80-1.70)/0.1))\n",
        "prob"
      ],
      "execution_count": 17,
      "outputs": [
        {
          "output_type": "execute_result",
          "data": {
            "text/plain": [
              "0.6826894921370863"
            ]
          },
          "metadata": {
            "tags": []
          },
          "execution_count": 17
        }
      ]
    },
    {
      "cell_type": "code",
      "metadata": {
        "colab": {
          "base_uri": "https://localhost:8080/"
        },
        "id": "JXTvdMV7WY5g",
        "outputId": "d044ddcc-cfaa-4e2c-e294-73a2db18baf8"
      },
      "source": [
        "media = 300\n",
        "dp = 50\n",
        "x1 = 250\n",
        "x2 = 350\n",
        "prob = norm.cdf((x1-media)/dp) - (norm.cdf((x2-media)/dp))\n",
        "prob*100"
      ],
      "execution_count": 20,
      "outputs": [
        {
          "output_type": "execute_result",
          "data": {
            "text/plain": [
              "-68.26894921370858"
            ]
          },
          "metadata": {
            "tags": []
          },
          "execution_count": 20
        }
      ]
    },
    {
      "cell_type": "code",
      "metadata": {
        "colab": {
          "base_uri": "https://localhost:8080/"
        },
        "id": "kKfec8jWXMxx",
        "outputId": "609a7c07-f10a-4ff4-e17a-ddab77a4e692"
      },
      "source": [
        "media = 300\n",
        "dp = 50\n",
        "x1 = 400\n",
        "x2 = 500\n",
        "prob = norm.cdf((x1-media)/dp) - (norm.cdf((x2-media)/dp))\n",
        "prob*100"
      ],
      "execution_count": 26,
      "outputs": [
        {
          "output_type": "execute_result",
          "data": {
            "text/plain": [
              "-2.271846070634609"
            ]
          },
          "metadata": {
            "tags": []
          },
          "execution_count": 26
        }
      ]
    },
    {
      "cell_type": "code",
      "metadata": {
        "colab": {
          "base_uri": "https://localhost:8080/"
        },
        "id": "fVNe-1tRXFSU",
        "outputId": "f51d9534-afb6-4cbb-ea73-a6970f0cb7a0"
      },
      "source": [
        "media = 1.70\n",
        "dp = 0.1\n",
        "x1 = 1.90\n",
        "prob = 1- (norm.cdf((x1-media)/dp))\n",
        "prob*100"
      ],
      "execution_count": 25,
      "outputs": [
        {
          "output_type": "execute_result",
          "data": {
            "text/plain": [
              "2.275013194817921"
            ]
          },
          "metadata": {
            "tags": []
          },
          "execution_count": 25
        }
      ]
    },
    {
      "cell_type": "code",
      "metadata": {
        "colab": {
          "base_uri": "https://localhost:8080/"
        },
        "id": "bjVjxz7EYZV0",
        "outputId": "090a4aaf-799e-4533-eb5b-9fb4a183e2a0"
      },
      "source": [
        "media = 1.70\n",
        "dp = 0.1\n",
        "x1 = 1.90\n",
        "prob = (norm.cdf(-(x1-media)/dp))\n",
        "prob*100"
      ],
      "execution_count": 27,
      "outputs": [
        {
          "output_type": "execute_result",
          "data": {
            "text/plain": [
              "2.2750131948179217"
            ]
          },
          "metadata": {
            "tags": []
          },
          "execution_count": 27
        }
      ]
    },
    {
      "cell_type": "code",
      "metadata": {
        "colab": {
          "base_uri": "https://localhost:8080/"
        },
        "id": "DGjwNXcxYbaL",
        "outputId": "871400f8-5c3e-4e39-971b-b7d88f67bf06"
      },
      "source": [
        "media = 720\n",
        "dp = 30\n",
        "x1 = 650\n",
        "x2 = 750\n",
        "x3 = 800\n",
        "x4 = 700\n",
        "prob = norm.cdf((x1-media)/dp) - (norm.cdf((x2-media)/dp))\n",
        "prob*100"
      ],
      "execution_count": 32,
      "outputs": [
        {
          "output_type": "execute_result",
          "data": {
            "text/plain": [
              "-83.15294174398976"
            ]
          },
          "metadata": {
            "tags": []
          },
          "execution_count": 32
        }
      ]
    },
    {
      "cell_type": "code",
      "metadata": {
        "colab": {
          "base_uri": "https://localhost:8080/"
        },
        "id": "8EZYtk20Y_gl",
        "outputId": "ff06395d-1a02-473c-b2ed-a88b5732878c"
      },
      "source": [
        "prob = (norm.cdf(-(x3-media)/dp))\n",
        "prob*100"
      ],
      "execution_count": 31,
      "outputs": [
        {
          "output_type": "execute_result",
          "data": {
            "text/plain": [
              "0.3830380567589736"
            ]
          },
          "metadata": {
            "tags": []
          },
          "execution_count": 31
        }
      ]
    },
    {
      "cell_type": "code",
      "metadata": {
        "colab": {
          "base_uri": "https://localhost:8080/"
        },
        "id": "HnOgB0moZNit",
        "outputId": "00b295b2-a23b-4ce0-f036-009c4aef6450"
      },
      "source": [
        "prob = (norm.cdf((x4-media)/dp))\n",
        "prob*100"
      ],
      "execution_count": 33,
      "outputs": [
        {
          "output_type": "execute_result",
          "data": {
            "text/plain": [
              "25.24925375469229"
            ]
          },
          "metadata": {
            "tags": []
          },
          "execution_count": 33
        }
      ]
    },
    {
      "cell_type": "code",
      "metadata": {
        "colab": {
          "base_uri": "https://localhost:8080/"
        },
        "id": "TzCLDlpiZQ58",
        "outputId": "05729e04-e975-451d-a8cc-333bc6f016e7"
      },
      "source": [
        "prob = norm.cdf(1.96)\n",
        "prob"
      ],
      "execution_count": 39,
      "outputs": [
        {
          "output_type": "execute_result",
          "data": {
            "text/plain": [
              "0.9750021048517795"
            ]
          },
          "metadata": {
            "tags": []
          },
          "execution_count": 39
        }
      ]
    },
    {
      "cell_type": "code",
      "metadata": {
        "colab": {
          "base_uri": "https://localhost:8080/"
        },
        "id": "LSURMz_GcKc7",
        "outputId": "e2ebf315-cc9b-40f2-8548-7de41a8013f9"
      },
      "source": [
        "prob = 1-norm.cdf(2.15)\n",
        "prob"
      ],
      "execution_count": 40,
      "outputs": [
        {
          "output_type": "execute_result",
          "data": {
            "text/plain": [
              "0.015777607391090465"
            ]
          },
          "metadata": {
            "tags": []
          },
          "execution_count": 40
        }
      ]
    },
    {
      "cell_type": "code",
      "metadata": {
        "colab": {
          "base_uri": "https://localhost:8080/"
        },
        "id": "tRWdVpP5cTiw",
        "outputId": "2b3fb0cf-938e-4499-8e20-f2e08c26afce"
      },
      "source": [
        "prob = norm.cdf(-0.78)\n",
        "prob"
      ],
      "execution_count": 41,
      "outputs": [
        {
          "output_type": "execute_result",
          "data": {
            "text/plain": [
              "0.21769543758573312"
            ]
          },
          "metadata": {
            "tags": []
          },
          "execution_count": 41
        }
      ]
    },
    {
      "cell_type": "code",
      "metadata": {
        "colab": {
          "base_uri": "https://localhost:8080/"
        },
        "id": "sfsmnD5-cdjl",
        "outputId": "017c66ac-5537-4cd7-83d9-6aac975d23bb"
      },
      "source": [
        "prob = 1-norm.cdf(0.59)\n",
        "prob"
      ],
      "execution_count": 42,
      "outputs": [
        {
          "output_type": "execute_result",
          "data": {
            "text/plain": [
              "0.27759532475346493"
            ]
          },
          "metadata": {
            "tags": []
          },
          "execution_count": 42
        }
      ]
    },
    {
      "cell_type": "markdown",
      "metadata": {
        "id": "BQXyi-ZUcyGE"
      },
      "source": [
        "#Amostragem"
      ]
    },
    {
      "cell_type": "markdown",
      "metadata": {
        "id": "wt-5Pnedc3KI"
      },
      "source": [
        "##Populacao e amostragem"
      ]
    },
    {
      "cell_type": "code",
      "metadata": {
        "colab": {
          "base_uri": "https://localhost:8080/"
        },
        "id": "wgPDiprMch6V",
        "outputId": "9d0626d5-97e8-4c98-f764-9296a6ae107c"
      },
      "source": [
        "dados.shape[0]"
      ],
      "execution_count": 71,
      "outputs": [
        {
          "output_type": "execute_result",
          "data": {
            "text/plain": [
              "76840"
            ]
          },
          "metadata": {
            "tags": []
          },
          "execution_count": 71
        }
      ]
    },
    {
      "cell_type": "code",
      "metadata": {
        "colab": {
          "base_uri": "https://localhost:8080/"
        },
        "id": "-_FP1H2Meai2",
        "outputId": "4905ae79-c85c-44a9-a248-6d823bf2aad6"
      },
      "source": [
        "dados.Renda.mean()"
      ],
      "execution_count": 46,
      "outputs": [
        {
          "output_type": "execute_result",
          "data": {
            "text/plain": [
              "2000.3831988547631"
            ]
          },
          "metadata": {
            "tags": []
          },
          "execution_count": 46
        }
      ]
    },
    {
      "cell_type": "code",
      "metadata": {
        "id": "h3MnchT-hQy_"
      },
      "source": [
        "amostra = dados.sample(n = 100, random_state=101)"
      ],
      "execution_count": 85,
      "outputs": []
    },
    {
      "cell_type": "code",
      "metadata": {
        "colab": {
          "base_uri": "https://localhost:8080/"
        },
        "id": "JU8NVfZlhh2i",
        "outputId": "1cfe6118-5236-4cde-9ac0-6a14e8e8800e"
      },
      "source": [
        "amostra.shape[0]"
      ],
      "execution_count": 86,
      "outputs": [
        {
          "output_type": "execute_result",
          "data": {
            "text/plain": [
              "100"
            ]
          },
          "metadata": {
            "tags": []
          },
          "execution_count": 86
        }
      ]
    },
    {
      "cell_type": "code",
      "metadata": {
        "colab": {
          "base_uri": "https://localhost:8080/"
        },
        "id": "wf3XBGzRhjTo",
        "outputId": "7ae0c88f-2728-41d9-8fda-f5b132571f0c"
      },
      "source": [
        "amostra.Renda.mean()"
      ],
      "execution_count": 87,
      "outputs": [
        {
          "output_type": "execute_result",
          "data": {
            "text/plain": [
              "2150.85"
            ]
          },
          "metadata": {
            "tags": []
          },
          "execution_count": 87
        }
      ]
    },
    {
      "cell_type": "code",
      "metadata": {
        "colab": {
          "base_uri": "https://localhost:8080/"
        },
        "id": "9AhDiBx5hogZ",
        "outputId": "20cf64d4-0886-473b-8791-92b1f30e6782"
      },
      "source": [
        "dados.Sexo.value_counts(normalize=True)"
      ],
      "execution_count": 88,
      "outputs": [
        {
          "output_type": "execute_result",
          "data": {
            "text/plain": [
              "0    0.692998\n",
              "1    0.307002\n",
              "Name: Sexo, dtype: float64"
            ]
          },
          "metadata": {
            "tags": []
          },
          "execution_count": 88
        }
      ]
    },
    {
      "cell_type": "code",
      "metadata": {
        "colab": {
          "base_uri": "https://localhost:8080/"
        },
        "id": "vwSl__94h47c",
        "outputId": "2b15d30e-a4b8-42c9-f59e-c36ec724af64"
      },
      "source": [
        "amostra.Sexo.value_counts(normalize=True)"
      ],
      "execution_count": 89,
      "outputs": [
        {
          "output_type": "execute_result",
          "data": {
            "text/plain": [
              "0    0.69\n",
              "1    0.31\n",
              "Name: Sexo, dtype: float64"
            ]
          },
          "metadata": {
            "tags": []
          },
          "execution_count": 89
        }
      ]
    },
    {
      "cell_type": "markdown",
      "metadata": {
        "id": "5TOHrVfpjS5y"
      },
      "source": [
        "#Estimação"
      ]
    },
    {
      "cell_type": "markdown",
      "metadata": {
        "id": "BMTZe6mbjVbx"
      },
      "source": [
        "##Teorema do limíte central"
      ]
    },
    {
      "cell_type": "code",
      "metadata": {
        "id": "WYGteoRBh7kJ"
      },
      "source": [
        "n = 2000\n",
        "total_amostras = 1500"
      ],
      "execution_count": 80,
      "outputs": []
    },
    {
      "cell_type": "code",
      "metadata": {
        "id": "RUHaZigUk0xu"
      },
      "source": [
        "amostras = pd.DataFrame()"
      ],
      "execution_count": 83,
      "outputs": []
    },
    {
      "cell_type": "code",
      "metadata": {
        "colab": {
          "base_uri": "https://localhost:8080/",
          "height": 439
        },
        "id": "9LxXoIA2j6gY",
        "outputId": "c9493bdc-e110-44aa-dc35-f57e3f123b09"
      },
      "source": [
        "for i in range(total_amostras):\n",
        "   _ = dados.Idade.sample(2000)\n",
        "   _.index = range(0, len(a))\n",
        "   amostras['Amostra_' + str(i)] = _\n",
        "\n",
        "amostras"
      ],
      "execution_count": 84,
      "outputs": [
        {
          "output_type": "execute_result",
          "data": {
            "text/html": [
              "<div>\n",
              "<style scoped>\n",
              "    .dataframe tbody tr th:only-of-type {\n",
              "        vertical-align: middle;\n",
              "    }\n",
              "\n",
              "    .dataframe tbody tr th {\n",
              "        vertical-align: top;\n",
              "    }\n",
              "\n",
              "    .dataframe thead th {\n",
              "        text-align: right;\n",
              "    }\n",
              "</style>\n",
              "<table border=\"1\" class=\"dataframe\">\n",
              "  <thead>\n",
              "    <tr style=\"text-align: right;\">\n",
              "      <th></th>\n",
              "      <th>Amostra_0</th>\n",
              "      <th>Amostra_1</th>\n",
              "      <th>Amostra_2</th>\n",
              "      <th>Amostra_3</th>\n",
              "      <th>Amostra_4</th>\n",
              "      <th>Amostra_5</th>\n",
              "      <th>Amostra_6</th>\n",
              "      <th>Amostra_7</th>\n",
              "      <th>Amostra_8</th>\n",
              "      <th>Amostra_9</th>\n",
              "      <th>Amostra_10</th>\n",
              "      <th>Amostra_11</th>\n",
              "      <th>Amostra_12</th>\n",
              "      <th>Amostra_13</th>\n",
              "      <th>Amostra_14</th>\n",
              "      <th>Amostra_15</th>\n",
              "      <th>Amostra_16</th>\n",
              "      <th>Amostra_17</th>\n",
              "      <th>Amostra_18</th>\n",
              "      <th>Amostra_19</th>\n",
              "      <th>Amostra_20</th>\n",
              "      <th>Amostra_21</th>\n",
              "      <th>Amostra_22</th>\n",
              "      <th>Amostra_23</th>\n",
              "      <th>Amostra_24</th>\n",
              "      <th>Amostra_25</th>\n",
              "      <th>Amostra_26</th>\n",
              "      <th>Amostra_27</th>\n",
              "      <th>Amostra_28</th>\n",
              "      <th>Amostra_29</th>\n",
              "      <th>Amostra_30</th>\n",
              "      <th>Amostra_31</th>\n",
              "      <th>Amostra_32</th>\n",
              "      <th>Amostra_33</th>\n",
              "      <th>Amostra_34</th>\n",
              "      <th>Amostra_35</th>\n",
              "      <th>Amostra_36</th>\n",
              "      <th>Amostra_37</th>\n",
              "      <th>Amostra_38</th>\n",
              "      <th>Amostra_39</th>\n",
              "      <th>...</th>\n",
              "      <th>Amostra_1460</th>\n",
              "      <th>Amostra_1461</th>\n",
              "      <th>Amostra_1462</th>\n",
              "      <th>Amostra_1463</th>\n",
              "      <th>Amostra_1464</th>\n",
              "      <th>Amostra_1465</th>\n",
              "      <th>Amostra_1466</th>\n",
              "      <th>Amostra_1467</th>\n",
              "      <th>Amostra_1468</th>\n",
              "      <th>Amostra_1469</th>\n",
              "      <th>Amostra_1470</th>\n",
              "      <th>Amostra_1471</th>\n",
              "      <th>Amostra_1472</th>\n",
              "      <th>Amostra_1473</th>\n",
              "      <th>Amostra_1474</th>\n",
              "      <th>Amostra_1475</th>\n",
              "      <th>Amostra_1476</th>\n",
              "      <th>Amostra_1477</th>\n",
              "      <th>Amostra_1478</th>\n",
              "      <th>Amostra_1479</th>\n",
              "      <th>Amostra_1480</th>\n",
              "      <th>Amostra_1481</th>\n",
              "      <th>Amostra_1482</th>\n",
              "      <th>Amostra_1483</th>\n",
              "      <th>Amostra_1484</th>\n",
              "      <th>Amostra_1485</th>\n",
              "      <th>Amostra_1486</th>\n",
              "      <th>Amostra_1487</th>\n",
              "      <th>Amostra_1488</th>\n",
              "      <th>Amostra_1489</th>\n",
              "      <th>Amostra_1490</th>\n",
              "      <th>Amostra_1491</th>\n",
              "      <th>Amostra_1492</th>\n",
              "      <th>Amostra_1493</th>\n",
              "      <th>Amostra_1494</th>\n",
              "      <th>Amostra_1495</th>\n",
              "      <th>Amostra_1496</th>\n",
              "      <th>Amostra_1497</th>\n",
              "      <th>Amostra_1498</th>\n",
              "      <th>Amostra_1499</th>\n",
              "    </tr>\n",
              "  </thead>\n",
              "  <tbody>\n",
              "    <tr>\n",
              "      <th>0</th>\n",
              "      <td>35</td>\n",
              "      <td>48</td>\n",
              "      <td>58</td>\n",
              "      <td>44</td>\n",
              "      <td>20</td>\n",
              "      <td>29</td>\n",
              "      <td>50</td>\n",
              "      <td>49</td>\n",
              "      <td>26</td>\n",
              "      <td>66</td>\n",
              "      <td>25</td>\n",
              "      <td>69</td>\n",
              "      <td>39</td>\n",
              "      <td>53</td>\n",
              "      <td>34</td>\n",
              "      <td>28</td>\n",
              "      <td>52</td>\n",
              "      <td>53</td>\n",
              "      <td>28</td>\n",
              "      <td>55</td>\n",
              "      <td>59</td>\n",
              "      <td>54</td>\n",
              "      <td>44</td>\n",
              "      <td>51</td>\n",
              "      <td>44</td>\n",
              "      <td>35</td>\n",
              "      <td>58</td>\n",
              "      <td>28</td>\n",
              "      <td>56</td>\n",
              "      <td>59</td>\n",
              "      <td>30</td>\n",
              "      <td>32</td>\n",
              "      <td>45</td>\n",
              "      <td>27</td>\n",
              "      <td>59</td>\n",
              "      <td>49</td>\n",
              "      <td>26</td>\n",
              "      <td>44</td>\n",
              "      <td>48</td>\n",
              "      <td>51</td>\n",
              "      <td>...</td>\n",
              "      <td>62</td>\n",
              "      <td>69</td>\n",
              "      <td>58</td>\n",
              "      <td>33</td>\n",
              "      <td>54</td>\n",
              "      <td>59</td>\n",
              "      <td>52</td>\n",
              "      <td>34</td>\n",
              "      <td>27</td>\n",
              "      <td>36</td>\n",
              "      <td>60</td>\n",
              "      <td>50</td>\n",
              "      <td>32</td>\n",
              "      <td>25</td>\n",
              "      <td>29</td>\n",
              "      <td>48</td>\n",
              "      <td>50</td>\n",
              "      <td>61</td>\n",
              "      <td>57</td>\n",
              "      <td>23</td>\n",
              "      <td>26</td>\n",
              "      <td>44</td>\n",
              "      <td>36</td>\n",
              "      <td>38</td>\n",
              "      <td>53</td>\n",
              "      <td>34</td>\n",
              "      <td>48</td>\n",
              "      <td>43</td>\n",
              "      <td>37</td>\n",
              "      <td>53</td>\n",
              "      <td>43</td>\n",
              "      <td>33</td>\n",
              "      <td>35</td>\n",
              "      <td>41</td>\n",
              "      <td>24</td>\n",
              "      <td>25</td>\n",
              "      <td>21</td>\n",
              "      <td>36</td>\n",
              "      <td>44</td>\n",
              "      <td>33</td>\n",
              "    </tr>\n",
              "    <tr>\n",
              "      <th>1</th>\n",
              "      <td>32</td>\n",
              "      <td>32</td>\n",
              "      <td>46</td>\n",
              "      <td>49</td>\n",
              "      <td>39</td>\n",
              "      <td>55</td>\n",
              "      <td>51</td>\n",
              "      <td>40</td>\n",
              "      <td>51</td>\n",
              "      <td>48</td>\n",
              "      <td>21</td>\n",
              "      <td>57</td>\n",
              "      <td>24</td>\n",
              "      <td>56</td>\n",
              "      <td>39</td>\n",
              "      <td>66</td>\n",
              "      <td>55</td>\n",
              "      <td>42</td>\n",
              "      <td>23</td>\n",
              "      <td>36</td>\n",
              "      <td>61</td>\n",
              "      <td>48</td>\n",
              "      <td>53</td>\n",
              "      <td>52</td>\n",
              "      <td>42</td>\n",
              "      <td>42</td>\n",
              "      <td>32</td>\n",
              "      <td>43</td>\n",
              "      <td>41</td>\n",
              "      <td>47</td>\n",
              "      <td>25</td>\n",
              "      <td>24</td>\n",
              "      <td>22</td>\n",
              "      <td>77</td>\n",
              "      <td>33</td>\n",
              "      <td>76</td>\n",
              "      <td>52</td>\n",
              "      <td>58</td>\n",
              "      <td>45</td>\n",
              "      <td>57</td>\n",
              "      <td>...</td>\n",
              "      <td>47</td>\n",
              "      <td>23</td>\n",
              "      <td>37</td>\n",
              "      <td>44</td>\n",
              "      <td>38</td>\n",
              "      <td>49</td>\n",
              "      <td>41</td>\n",
              "      <td>31</td>\n",
              "      <td>49</td>\n",
              "      <td>46</td>\n",
              "      <td>53</td>\n",
              "      <td>58</td>\n",
              "      <td>25</td>\n",
              "      <td>35</td>\n",
              "      <td>42</td>\n",
              "      <td>24</td>\n",
              "      <td>53</td>\n",
              "      <td>36</td>\n",
              "      <td>45</td>\n",
              "      <td>27</td>\n",
              "      <td>52</td>\n",
              "      <td>29</td>\n",
              "      <td>53</td>\n",
              "      <td>59</td>\n",
              "      <td>51</td>\n",
              "      <td>48</td>\n",
              "      <td>53</td>\n",
              "      <td>67</td>\n",
              "      <td>31</td>\n",
              "      <td>27</td>\n",
              "      <td>29</td>\n",
              "      <td>54</td>\n",
              "      <td>50</td>\n",
              "      <td>45</td>\n",
              "      <td>30</td>\n",
              "      <td>41</td>\n",
              "      <td>42</td>\n",
              "      <td>41</td>\n",
              "      <td>57</td>\n",
              "      <td>32</td>\n",
              "    </tr>\n",
              "    <tr>\n",
              "      <th>2</th>\n",
              "      <td>39</td>\n",
              "      <td>28</td>\n",
              "      <td>47</td>\n",
              "      <td>35</td>\n",
              "      <td>41</td>\n",
              "      <td>46</td>\n",
              "      <td>21</td>\n",
              "      <td>35</td>\n",
              "      <td>58</td>\n",
              "      <td>55</td>\n",
              "      <td>43</td>\n",
              "      <td>49</td>\n",
              "      <td>25</td>\n",
              "      <td>37</td>\n",
              "      <td>39</td>\n",
              "      <td>39</td>\n",
              "      <td>32</td>\n",
              "      <td>59</td>\n",
              "      <td>21</td>\n",
              "      <td>27</td>\n",
              "      <td>34</td>\n",
              "      <td>46</td>\n",
              "      <td>72</td>\n",
              "      <td>61</td>\n",
              "      <td>45</td>\n",
              "      <td>47</td>\n",
              "      <td>48</td>\n",
              "      <td>49</td>\n",
              "      <td>40</td>\n",
              "      <td>62</td>\n",
              "      <td>21</td>\n",
              "      <td>31</td>\n",
              "      <td>35</td>\n",
              "      <td>50</td>\n",
              "      <td>45</td>\n",
              "      <td>21</td>\n",
              "      <td>56</td>\n",
              "      <td>74</td>\n",
              "      <td>25</td>\n",
              "      <td>39</td>\n",
              "      <td>...</td>\n",
              "      <td>40</td>\n",
              "      <td>45</td>\n",
              "      <td>34</td>\n",
              "      <td>59</td>\n",
              "      <td>61</td>\n",
              "      <td>56</td>\n",
              "      <td>53</td>\n",
              "      <td>16</td>\n",
              "      <td>42</td>\n",
              "      <td>67</td>\n",
              "      <td>21</td>\n",
              "      <td>54</td>\n",
              "      <td>43</td>\n",
              "      <td>74</td>\n",
              "      <td>32</td>\n",
              "      <td>42</td>\n",
              "      <td>37</td>\n",
              "      <td>32</td>\n",
              "      <td>23</td>\n",
              "      <td>31</td>\n",
              "      <td>34</td>\n",
              "      <td>55</td>\n",
              "      <td>37</td>\n",
              "      <td>58</td>\n",
              "      <td>35</td>\n",
              "      <td>37</td>\n",
              "      <td>49</td>\n",
              "      <td>54</td>\n",
              "      <td>33</td>\n",
              "      <td>30</td>\n",
              "      <td>34</td>\n",
              "      <td>52</td>\n",
              "      <td>56</td>\n",
              "      <td>52</td>\n",
              "      <td>47</td>\n",
              "      <td>23</td>\n",
              "      <td>55</td>\n",
              "      <td>47</td>\n",
              "      <td>53</td>\n",
              "      <td>32</td>\n",
              "    </tr>\n",
              "    <tr>\n",
              "      <th>3</th>\n",
              "      <td>42</td>\n",
              "      <td>51</td>\n",
              "      <td>51</td>\n",
              "      <td>28</td>\n",
              "      <td>25</td>\n",
              "      <td>37</td>\n",
              "      <td>68</td>\n",
              "      <td>47</td>\n",
              "      <td>56</td>\n",
              "      <td>60</td>\n",
              "      <td>27</td>\n",
              "      <td>77</td>\n",
              "      <td>48</td>\n",
              "      <td>31</td>\n",
              "      <td>32</td>\n",
              "      <td>43</td>\n",
              "      <td>60</td>\n",
              "      <td>28</td>\n",
              "      <td>80</td>\n",
              "      <td>49</td>\n",
              "      <td>63</td>\n",
              "      <td>36</td>\n",
              "      <td>32</td>\n",
              "      <td>41</td>\n",
              "      <td>36</td>\n",
              "      <td>43</td>\n",
              "      <td>40</td>\n",
              "      <td>35</td>\n",
              "      <td>31</td>\n",
              "      <td>32</td>\n",
              "      <td>37</td>\n",
              "      <td>60</td>\n",
              "      <td>40</td>\n",
              "      <td>26</td>\n",
              "      <td>50</td>\n",
              "      <td>43</td>\n",
              "      <td>64</td>\n",
              "      <td>41</td>\n",
              "      <td>45</td>\n",
              "      <td>60</td>\n",
              "      <td>...</td>\n",
              "      <td>29</td>\n",
              "      <td>31</td>\n",
              "      <td>51</td>\n",
              "      <td>47</td>\n",
              "      <td>28</td>\n",
              "      <td>50</td>\n",
              "      <td>43</td>\n",
              "      <td>64</td>\n",
              "      <td>30</td>\n",
              "      <td>46</td>\n",
              "      <td>47</td>\n",
              "      <td>39</td>\n",
              "      <td>57</td>\n",
              "      <td>61</td>\n",
              "      <td>29</td>\n",
              "      <td>53</td>\n",
              "      <td>40</td>\n",
              "      <td>36</td>\n",
              "      <td>54</td>\n",
              "      <td>23</td>\n",
              "      <td>31</td>\n",
              "      <td>39</td>\n",
              "      <td>28</td>\n",
              "      <td>31</td>\n",
              "      <td>45</td>\n",
              "      <td>59</td>\n",
              "      <td>76</td>\n",
              "      <td>47</td>\n",
              "      <td>51</td>\n",
              "      <td>21</td>\n",
              "      <td>53</td>\n",
              "      <td>22</td>\n",
              "      <td>35</td>\n",
              "      <td>32</td>\n",
              "      <td>36</td>\n",
              "      <td>48</td>\n",
              "      <td>60</td>\n",
              "      <td>36</td>\n",
              "      <td>37</td>\n",
              "      <td>30</td>\n",
              "    </tr>\n",
              "    <tr>\n",
              "      <th>4</th>\n",
              "      <td>27</td>\n",
              "      <td>34</td>\n",
              "      <td>57</td>\n",
              "      <td>34</td>\n",
              "      <td>44</td>\n",
              "      <td>18</td>\n",
              "      <td>46</td>\n",
              "      <td>55</td>\n",
              "      <td>62</td>\n",
              "      <td>53</td>\n",
              "      <td>58</td>\n",
              "      <td>42</td>\n",
              "      <td>32</td>\n",
              "      <td>46</td>\n",
              "      <td>51</td>\n",
              "      <td>33</td>\n",
              "      <td>39</td>\n",
              "      <td>23</td>\n",
              "      <td>36</td>\n",
              "      <td>45</td>\n",
              "      <td>59</td>\n",
              "      <td>35</td>\n",
              "      <td>27</td>\n",
              "      <td>62</td>\n",
              "      <td>26</td>\n",
              "      <td>38</td>\n",
              "      <td>48</td>\n",
              "      <td>52</td>\n",
              "      <td>65</td>\n",
              "      <td>42</td>\n",
              "      <td>47</td>\n",
              "      <td>38</td>\n",
              "      <td>22</td>\n",
              "      <td>44</td>\n",
              "      <td>62</td>\n",
              "      <td>73</td>\n",
              "      <td>52</td>\n",
              "      <td>45</td>\n",
              "      <td>31</td>\n",
              "      <td>63</td>\n",
              "      <td>...</td>\n",
              "      <td>44</td>\n",
              "      <td>33</td>\n",
              "      <td>57</td>\n",
              "      <td>34</td>\n",
              "      <td>40</td>\n",
              "      <td>33</td>\n",
              "      <td>23</td>\n",
              "      <td>53</td>\n",
              "      <td>33</td>\n",
              "      <td>48</td>\n",
              "      <td>57</td>\n",
              "      <td>56</td>\n",
              "      <td>44</td>\n",
              "      <td>35</td>\n",
              "      <td>44</td>\n",
              "      <td>39</td>\n",
              "      <td>49</td>\n",
              "      <td>38</td>\n",
              "      <td>28</td>\n",
              "      <td>40</td>\n",
              "      <td>47</td>\n",
              "      <td>29</td>\n",
              "      <td>51</td>\n",
              "      <td>45</td>\n",
              "      <td>45</td>\n",
              "      <td>57</td>\n",
              "      <td>42</td>\n",
              "      <td>54</td>\n",
              "      <td>30</td>\n",
              "      <td>38</td>\n",
              "      <td>65</td>\n",
              "      <td>43</td>\n",
              "      <td>31</td>\n",
              "      <td>51</td>\n",
              "      <td>68</td>\n",
              "      <td>38</td>\n",
              "      <td>52</td>\n",
              "      <td>29</td>\n",
              "      <td>65</td>\n",
              "      <td>22</td>\n",
              "    </tr>\n",
              "    <tr>\n",
              "      <th>...</th>\n",
              "      <td>...</td>\n",
              "      <td>...</td>\n",
              "      <td>...</td>\n",
              "      <td>...</td>\n",
              "      <td>...</td>\n",
              "      <td>...</td>\n",
              "      <td>...</td>\n",
              "      <td>...</td>\n",
              "      <td>...</td>\n",
              "      <td>...</td>\n",
              "      <td>...</td>\n",
              "      <td>...</td>\n",
              "      <td>...</td>\n",
              "      <td>...</td>\n",
              "      <td>...</td>\n",
              "      <td>...</td>\n",
              "      <td>...</td>\n",
              "      <td>...</td>\n",
              "      <td>...</td>\n",
              "      <td>...</td>\n",
              "      <td>...</td>\n",
              "      <td>...</td>\n",
              "      <td>...</td>\n",
              "      <td>...</td>\n",
              "      <td>...</td>\n",
              "      <td>...</td>\n",
              "      <td>...</td>\n",
              "      <td>...</td>\n",
              "      <td>...</td>\n",
              "      <td>...</td>\n",
              "      <td>...</td>\n",
              "      <td>...</td>\n",
              "      <td>...</td>\n",
              "      <td>...</td>\n",
              "      <td>...</td>\n",
              "      <td>...</td>\n",
              "      <td>...</td>\n",
              "      <td>...</td>\n",
              "      <td>...</td>\n",
              "      <td>...</td>\n",
              "      <td>...</td>\n",
              "      <td>...</td>\n",
              "      <td>...</td>\n",
              "      <td>...</td>\n",
              "      <td>...</td>\n",
              "      <td>...</td>\n",
              "      <td>...</td>\n",
              "      <td>...</td>\n",
              "      <td>...</td>\n",
              "      <td>...</td>\n",
              "      <td>...</td>\n",
              "      <td>...</td>\n",
              "      <td>...</td>\n",
              "      <td>...</td>\n",
              "      <td>...</td>\n",
              "      <td>...</td>\n",
              "      <td>...</td>\n",
              "      <td>...</td>\n",
              "      <td>...</td>\n",
              "      <td>...</td>\n",
              "      <td>...</td>\n",
              "      <td>...</td>\n",
              "      <td>...</td>\n",
              "      <td>...</td>\n",
              "      <td>...</td>\n",
              "      <td>...</td>\n",
              "      <td>...</td>\n",
              "      <td>...</td>\n",
              "      <td>...</td>\n",
              "      <td>...</td>\n",
              "      <td>...</td>\n",
              "      <td>...</td>\n",
              "      <td>...</td>\n",
              "      <td>...</td>\n",
              "      <td>...</td>\n",
              "      <td>...</td>\n",
              "      <td>...</td>\n",
              "      <td>...</td>\n",
              "      <td>...</td>\n",
              "      <td>...</td>\n",
              "      <td>...</td>\n",
              "    </tr>\n",
              "    <tr>\n",
              "      <th>1995</th>\n",
              "      <td>52</td>\n",
              "      <td>32</td>\n",
              "      <td>38</td>\n",
              "      <td>25</td>\n",
              "      <td>48</td>\n",
              "      <td>68</td>\n",
              "      <td>43</td>\n",
              "      <td>33</td>\n",
              "      <td>40</td>\n",
              "      <td>33</td>\n",
              "      <td>34</td>\n",
              "      <td>62</td>\n",
              "      <td>27</td>\n",
              "      <td>25</td>\n",
              "      <td>38</td>\n",
              "      <td>42</td>\n",
              "      <td>41</td>\n",
              "      <td>41</td>\n",
              "      <td>50</td>\n",
              "      <td>32</td>\n",
              "      <td>69</td>\n",
              "      <td>23</td>\n",
              "      <td>48</td>\n",
              "      <td>53</td>\n",
              "      <td>40</td>\n",
              "      <td>40</td>\n",
              "      <td>61</td>\n",
              "      <td>35</td>\n",
              "      <td>56</td>\n",
              "      <td>58</td>\n",
              "      <td>47</td>\n",
              "      <td>48</td>\n",
              "      <td>23</td>\n",
              "      <td>34</td>\n",
              "      <td>31</td>\n",
              "      <td>62</td>\n",
              "      <td>51</td>\n",
              "      <td>46</td>\n",
              "      <td>28</td>\n",
              "      <td>34</td>\n",
              "      <td>...</td>\n",
              "      <td>51</td>\n",
              "      <td>29</td>\n",
              "      <td>43</td>\n",
              "      <td>32</td>\n",
              "      <td>57</td>\n",
              "      <td>36</td>\n",
              "      <td>61</td>\n",
              "      <td>37</td>\n",
              "      <td>56</td>\n",
              "      <td>44</td>\n",
              "      <td>58</td>\n",
              "      <td>37</td>\n",
              "      <td>38</td>\n",
              "      <td>58</td>\n",
              "      <td>22</td>\n",
              "      <td>26</td>\n",
              "      <td>50</td>\n",
              "      <td>36</td>\n",
              "      <td>47</td>\n",
              "      <td>36</td>\n",
              "      <td>46</td>\n",
              "      <td>27</td>\n",
              "      <td>62</td>\n",
              "      <td>43</td>\n",
              "      <td>45</td>\n",
              "      <td>56</td>\n",
              "      <td>31</td>\n",
              "      <td>58</td>\n",
              "      <td>47</td>\n",
              "      <td>27</td>\n",
              "      <td>47</td>\n",
              "      <td>38</td>\n",
              "      <td>51</td>\n",
              "      <td>51</td>\n",
              "      <td>28</td>\n",
              "      <td>25</td>\n",
              "      <td>42</td>\n",
              "      <td>31</td>\n",
              "      <td>64</td>\n",
              "      <td>61</td>\n",
              "    </tr>\n",
              "    <tr>\n",
              "      <th>1996</th>\n",
              "      <td>59</td>\n",
              "      <td>22</td>\n",
              "      <td>37</td>\n",
              "      <td>51</td>\n",
              "      <td>19</td>\n",
              "      <td>31</td>\n",
              "      <td>23</td>\n",
              "      <td>56</td>\n",
              "      <td>49</td>\n",
              "      <td>55</td>\n",
              "      <td>50</td>\n",
              "      <td>62</td>\n",
              "      <td>29</td>\n",
              "      <td>60</td>\n",
              "      <td>35</td>\n",
              "      <td>50</td>\n",
              "      <td>42</td>\n",
              "      <td>32</td>\n",
              "      <td>36</td>\n",
              "      <td>46</td>\n",
              "      <td>42</td>\n",
              "      <td>28</td>\n",
              "      <td>42</td>\n",
              "      <td>35</td>\n",
              "      <td>32</td>\n",
              "      <td>40</td>\n",
              "      <td>44</td>\n",
              "      <td>37</td>\n",
              "      <td>49</td>\n",
              "      <td>24</td>\n",
              "      <td>38</td>\n",
              "      <td>51</td>\n",
              "      <td>58</td>\n",
              "      <td>52</td>\n",
              "      <td>59</td>\n",
              "      <td>54</td>\n",
              "      <td>29</td>\n",
              "      <td>62</td>\n",
              "      <td>42</td>\n",
              "      <td>58</td>\n",
              "      <td>...</td>\n",
              "      <td>34</td>\n",
              "      <td>62</td>\n",
              "      <td>43</td>\n",
              "      <td>37</td>\n",
              "      <td>37</td>\n",
              "      <td>43</td>\n",
              "      <td>55</td>\n",
              "      <td>29</td>\n",
              "      <td>52</td>\n",
              "      <td>33</td>\n",
              "      <td>21</td>\n",
              "      <td>30</td>\n",
              "      <td>50</td>\n",
              "      <td>44</td>\n",
              "      <td>70</td>\n",
              "      <td>47</td>\n",
              "      <td>44</td>\n",
              "      <td>41</td>\n",
              "      <td>35</td>\n",
              "      <td>59</td>\n",
              "      <td>45</td>\n",
              "      <td>48</td>\n",
              "      <td>36</td>\n",
              "      <td>40</td>\n",
              "      <td>50</td>\n",
              "      <td>45</td>\n",
              "      <td>55</td>\n",
              "      <td>46</td>\n",
              "      <td>46</td>\n",
              "      <td>42</td>\n",
              "      <td>45</td>\n",
              "      <td>54</td>\n",
              "      <td>54</td>\n",
              "      <td>38</td>\n",
              "      <td>62</td>\n",
              "      <td>24</td>\n",
              "      <td>71</td>\n",
              "      <td>43</td>\n",
              "      <td>41</td>\n",
              "      <td>51</td>\n",
              "    </tr>\n",
              "    <tr>\n",
              "      <th>1997</th>\n",
              "      <td>40</td>\n",
              "      <td>47</td>\n",
              "      <td>55</td>\n",
              "      <td>49</td>\n",
              "      <td>50</td>\n",
              "      <td>28</td>\n",
              "      <td>58</td>\n",
              "      <td>63</td>\n",
              "      <td>41</td>\n",
              "      <td>50</td>\n",
              "      <td>56</td>\n",
              "      <td>51</td>\n",
              "      <td>53</td>\n",
              "      <td>58</td>\n",
              "      <td>46</td>\n",
              "      <td>52</td>\n",
              "      <td>46</td>\n",
              "      <td>64</td>\n",
              "      <td>54</td>\n",
              "      <td>54</td>\n",
              "      <td>45</td>\n",
              "      <td>49</td>\n",
              "      <td>35</td>\n",
              "      <td>38</td>\n",
              "      <td>33</td>\n",
              "      <td>34</td>\n",
              "      <td>65</td>\n",
              "      <td>44</td>\n",
              "      <td>57</td>\n",
              "      <td>54</td>\n",
              "      <td>42</td>\n",
              "      <td>24</td>\n",
              "      <td>38</td>\n",
              "      <td>49</td>\n",
              "      <td>30</td>\n",
              "      <td>46</td>\n",
              "      <td>30</td>\n",
              "      <td>54</td>\n",
              "      <td>37</td>\n",
              "      <td>38</td>\n",
              "      <td>...</td>\n",
              "      <td>44</td>\n",
              "      <td>57</td>\n",
              "      <td>53</td>\n",
              "      <td>30</td>\n",
              "      <td>35</td>\n",
              "      <td>62</td>\n",
              "      <td>56</td>\n",
              "      <td>43</td>\n",
              "      <td>51</td>\n",
              "      <td>47</td>\n",
              "      <td>44</td>\n",
              "      <td>58</td>\n",
              "      <td>67</td>\n",
              "      <td>33</td>\n",
              "      <td>36</td>\n",
              "      <td>28</td>\n",
              "      <td>54</td>\n",
              "      <td>55</td>\n",
              "      <td>50</td>\n",
              "      <td>66</td>\n",
              "      <td>49</td>\n",
              "      <td>56</td>\n",
              "      <td>45</td>\n",
              "      <td>41</td>\n",
              "      <td>39</td>\n",
              "      <td>50</td>\n",
              "      <td>63</td>\n",
              "      <td>34</td>\n",
              "      <td>42</td>\n",
              "      <td>52</td>\n",
              "      <td>50</td>\n",
              "      <td>37</td>\n",
              "      <td>77</td>\n",
              "      <td>32</td>\n",
              "      <td>60</td>\n",
              "      <td>37</td>\n",
              "      <td>36</td>\n",
              "      <td>43</td>\n",
              "      <td>47</td>\n",
              "      <td>27</td>\n",
              "    </tr>\n",
              "    <tr>\n",
              "      <th>1998</th>\n",
              "      <td>56</td>\n",
              "      <td>38</td>\n",
              "      <td>47</td>\n",
              "      <td>58</td>\n",
              "      <td>49</td>\n",
              "      <td>48</td>\n",
              "      <td>40</td>\n",
              "      <td>28</td>\n",
              "      <td>56</td>\n",
              "      <td>33</td>\n",
              "      <td>20</td>\n",
              "      <td>43</td>\n",
              "      <td>50</td>\n",
              "      <td>54</td>\n",
              "      <td>54</td>\n",
              "      <td>52</td>\n",
              "      <td>35</td>\n",
              "      <td>61</td>\n",
              "      <td>37</td>\n",
              "      <td>51</td>\n",
              "      <td>59</td>\n",
              "      <td>54</td>\n",
              "      <td>56</td>\n",
              "      <td>43</td>\n",
              "      <td>65</td>\n",
              "      <td>46</td>\n",
              "      <td>40</td>\n",
              "      <td>56</td>\n",
              "      <td>69</td>\n",
              "      <td>45</td>\n",
              "      <td>47</td>\n",
              "      <td>38</td>\n",
              "      <td>67</td>\n",
              "      <td>52</td>\n",
              "      <td>52</td>\n",
              "      <td>64</td>\n",
              "      <td>39</td>\n",
              "      <td>39</td>\n",
              "      <td>37</td>\n",
              "      <td>71</td>\n",
              "      <td>...</td>\n",
              "      <td>52</td>\n",
              "      <td>59</td>\n",
              "      <td>43</td>\n",
              "      <td>50</td>\n",
              "      <td>39</td>\n",
              "      <td>35</td>\n",
              "      <td>65</td>\n",
              "      <td>44</td>\n",
              "      <td>49</td>\n",
              "      <td>48</td>\n",
              "      <td>46</td>\n",
              "      <td>68</td>\n",
              "      <td>34</td>\n",
              "      <td>31</td>\n",
              "      <td>53</td>\n",
              "      <td>39</td>\n",
              "      <td>56</td>\n",
              "      <td>28</td>\n",
              "      <td>49</td>\n",
              "      <td>26</td>\n",
              "      <td>62</td>\n",
              "      <td>47</td>\n",
              "      <td>52</td>\n",
              "      <td>57</td>\n",
              "      <td>64</td>\n",
              "      <td>28</td>\n",
              "      <td>58</td>\n",
              "      <td>32</td>\n",
              "      <td>43</td>\n",
              "      <td>67</td>\n",
              "      <td>61</td>\n",
              "      <td>32</td>\n",
              "      <td>25</td>\n",
              "      <td>35</td>\n",
              "      <td>35</td>\n",
              "      <td>46</td>\n",
              "      <td>34</td>\n",
              "      <td>34</td>\n",
              "      <td>41</td>\n",
              "      <td>34</td>\n",
              "    </tr>\n",
              "    <tr>\n",
              "      <th>1999</th>\n",
              "      <td>32</td>\n",
              "      <td>53</td>\n",
              "      <td>70</td>\n",
              "      <td>50</td>\n",
              "      <td>55</td>\n",
              "      <td>39</td>\n",
              "      <td>43</td>\n",
              "      <td>30</td>\n",
              "      <td>51</td>\n",
              "      <td>43</td>\n",
              "      <td>30</td>\n",
              "      <td>42</td>\n",
              "      <td>58</td>\n",
              "      <td>37</td>\n",
              "      <td>51</td>\n",
              "      <td>40</td>\n",
              "      <td>29</td>\n",
              "      <td>52</td>\n",
              "      <td>52</td>\n",
              "      <td>50</td>\n",
              "      <td>55</td>\n",
              "      <td>33</td>\n",
              "      <td>43</td>\n",
              "      <td>28</td>\n",
              "      <td>49</td>\n",
              "      <td>62</td>\n",
              "      <td>46</td>\n",
              "      <td>51</td>\n",
              "      <td>67</td>\n",
              "      <td>62</td>\n",
              "      <td>31</td>\n",
              "      <td>37</td>\n",
              "      <td>24</td>\n",
              "      <td>37</td>\n",
              "      <td>45</td>\n",
              "      <td>40</td>\n",
              "      <td>47</td>\n",
              "      <td>59</td>\n",
              "      <td>36</td>\n",
              "      <td>53</td>\n",
              "      <td>...</td>\n",
              "      <td>61</td>\n",
              "      <td>62</td>\n",
              "      <td>49</td>\n",
              "      <td>42</td>\n",
              "      <td>44</td>\n",
              "      <td>64</td>\n",
              "      <td>56</td>\n",
              "      <td>49</td>\n",
              "      <td>63</td>\n",
              "      <td>43</td>\n",
              "      <td>37</td>\n",
              "      <td>66</td>\n",
              "      <td>33</td>\n",
              "      <td>53</td>\n",
              "      <td>52</td>\n",
              "      <td>58</td>\n",
              "      <td>48</td>\n",
              "      <td>50</td>\n",
              "      <td>53</td>\n",
              "      <td>36</td>\n",
              "      <td>24</td>\n",
              "      <td>59</td>\n",
              "      <td>39</td>\n",
              "      <td>26</td>\n",
              "      <td>58</td>\n",
              "      <td>68</td>\n",
              "      <td>49</td>\n",
              "      <td>52</td>\n",
              "      <td>32</td>\n",
              "      <td>51</td>\n",
              "      <td>20</td>\n",
              "      <td>35</td>\n",
              "      <td>54</td>\n",
              "      <td>70</td>\n",
              "      <td>47</td>\n",
              "      <td>64</td>\n",
              "      <td>59</td>\n",
              "      <td>25</td>\n",
              "      <td>44</td>\n",
              "      <td>24</td>\n",
              "    </tr>\n",
              "  </tbody>\n",
              "</table>\n",
              "<p>2000 rows × 1500 columns</p>\n",
              "</div>"
            ],
            "text/plain": [
              "      Amostra_0  Amostra_1  Amostra_2  ...  Amostra_1497  Amostra_1498  Amostra_1499\n",
              "0            35         48         58  ...            36            44            33\n",
              "1            32         32         46  ...            41            57            32\n",
              "2            39         28         47  ...            47            53            32\n",
              "3            42         51         51  ...            36            37            30\n",
              "4            27         34         57  ...            29            65            22\n",
              "...         ...        ...        ...  ...           ...           ...           ...\n",
              "1995         52         32         38  ...            31            64            61\n",
              "1996         59         22         37  ...            43            41            51\n",
              "1997         40         47         55  ...            43            47            27\n",
              "1998         56         38         47  ...            34            41            34\n",
              "1999         32         53         70  ...            25            44            24\n",
              "\n",
              "[2000 rows x 1500 columns]"
            ]
          },
          "metadata": {
            "tags": []
          },
          "execution_count": 84
        }
      ]
    },
    {
      "cell_type": "code",
      "metadata": {
        "colab": {
          "base_uri": "https://localhost:8080/"
        },
        "id": "9QtOjq3LkBqm",
        "outputId": "05a59dd5-b6d1-468a-ee31-7718ba002c0f"
      },
      "source": [
        "amostras.mean()"
      ],
      "execution_count": 90,
      "outputs": [
        {
          "output_type": "execute_result",
          "data": {
            "text/plain": [
              "Amostra_0       43.9635\n",
              "Amostra_1       44.0620\n",
              "Amostra_2       44.0510\n",
              "Amostra_3       44.1205\n",
              "Amostra_4       43.6595\n",
              "                 ...   \n",
              "Amostra_1495    44.2000\n",
              "Amostra_1496    43.8820\n",
              "Amostra_1497    43.7245\n",
              "Amostra_1498    44.2045\n",
              "Amostra_1499    43.7290\n",
              "Length: 1500, dtype: float64"
            ]
          },
          "metadata": {
            "tags": []
          },
          "execution_count": 90
        }
      ]
    },
    {
      "cell_type": "code",
      "metadata": {
        "colab": {
          "base_uri": "https://localhost:8080/",
          "height": 282
        },
        "id": "LYQGMsowmyux",
        "outputId": "358a34b9-4d7b-44db-d416-3cdf17893fdb"
      },
      "source": [
        "amostras.mean().hist()"
      ],
      "execution_count": 91,
      "outputs": [
        {
          "output_type": "execute_result",
          "data": {
            "text/plain": [
              "<matplotlib.axes._subplots.AxesSubplot at 0x7f6c51c33950>"
            ]
          },
          "metadata": {
            "tags": []
          },
          "execution_count": 91
        },
        {
          "output_type": "display_data",
          "data": {
            "image/png": "[encoded data removed]",
            "text/plain": [
              "<Figure size 432x288 with 1 Axes>"
            ]
          },
          "metadata": {
            "tags": [],
            "needs_background": "light"
          }
        }
      ]
    },
    {
      "cell_type": "code",
      "metadata": {
        "colab": {
          "base_uri": "https://localhost:8080/"
        },
        "id": "2F1iYeGhm63a",
        "outputId": "19c8da87-0faa-45e0-aaa6-71c27336d9ef"
      },
      "source": [
        "dados.Idade.mean()"
      ],
      "execution_count": 92,
      "outputs": [
        {
          "output_type": "execute_result",
          "data": {
            "text/plain": [
              "44.07142113482561"
            ]
          },
          "metadata": {
            "tags": []
          },
          "execution_count": 92
        }
      ]
    },
    {
      "cell_type": "code",
      "metadata": {
        "colab": {
          "base_uri": "https://localhost:8080/"
        },
        "id": "HDm2p2k5m-Y6",
        "outputId": "d70df45d-b69b-4567-8188-02d4f46c298b"
      },
      "source": [
        "amostras.mean().mean()"
      ],
      "execution_count": 93,
      "outputs": [
        {
          "output_type": "execute_result",
          "data": {
            "text/plain": [
              "44.08790933333332"
            ]
          },
          "metadata": {
            "tags": []
          },
          "execution_count": 93
        }
      ]
    },
    {
      "cell_type": "code",
      "metadata": {
        "colab": {
          "base_uri": "https://localhost:8080/"
        },
        "id": "s-6jx5mmnCrO",
        "outputId": "e01dfaca-afc9-4ef4-8859-0196151c662f"
      },
      "source": [
        "amostras.mean().std()"
      ],
      "execution_count": 94,
      "outputs": [
        {
          "output_type": "execute_result",
          "data": {
            "text/plain": [
              "0.26553095532984694"
            ]
          },
          "metadata": {
            "tags": []
          },
          "execution_count": 94
        }
      ]
    },
    {
      "cell_type": "code",
      "metadata": {
        "colab": {
          "base_uri": "https://localhost:8080/"
        },
        "id": "YGWXpqWfnJEO",
        "outputId": "31a7ae96-3f93-4606-eae7-5e5833204924"
      },
      "source": [
        "dados.Idade.std()"
      ],
      "execution_count": 95,
      "outputs": [
        {
          "output_type": "execute_result",
          "data": {
            "text/plain": [
              "12.480583465360187"
            ]
          },
          "metadata": {
            "tags": []
          },
          "execution_count": 95
        }
      ]
    },
    {
      "cell_type": "code",
      "metadata": {
        "colab": {
          "base_uri": "https://localhost:8080/"
        },
        "id": "5M59BfMrnQXA",
        "outputId": "8af6b607-b241-4d88-d6b9-4ec206452eab"
      },
      "source": [
        "dados.Idade.std()/np.sqrt(n)"
      ],
      "execution_count": 96,
      "outputs": [
        {
          "output_type": "execute_result",
          "data": {
            "text/plain": [
              "0.2790743302740527"
            ]
          },
          "metadata": {
            "tags": []
          },
          "execution_count": 96
        }
      ]
    },
    {
      "cell_type": "code",
      "metadata": {
        "id": "RczjjEMpnVhU"
      },
      "source": [
        ""
      ],
      "execution_count": null,
      "outputs": []
    }
  ]
}