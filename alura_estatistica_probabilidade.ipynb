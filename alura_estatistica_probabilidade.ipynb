{
  "nbformat": 4,
  "nbformat_minor": 0,
  "metadata": {
    "colab": {
      "name": "alura_estatistica_probabilidade.ipynb",
      "provenance": [],
      "toc_visible": true,
      "authorship_tag": "ABX9TyO83dTeqlMiPpe9GHKIf+uQ"
    },
    "kernelspec": {
      "name": "python3",
      "display_name": "Python 3"
    },
    "language_info": {
      "name": "python"
    }
  },
  "cells": [
    {
      "cell_type": "code",
      "metadata": {
        "id": "PF219yewQCuv"
      },
      "source": [
        "import pandas as pd\n",
        "import numpy as np\n",
        "import seaborn as sns\n",
        "import scipy as sp"
      ],
      "execution_count": 1,
      "outputs": []
    },
    {
      "cell_type": "code",
      "metadata": {
        "id": "zSjmkZ8vQRIY"
      },
      "source": [
        "dados = pd.read_csv('dados.csv')"
      ],
      "execution_count": 2,
      "outputs": []
    },
    {
      "cell_type": "code",
      "metadata": {
        "colab": {
          "base_uri": "https://localhost:8080/",
          "height": 204
        },
        "id": "Fnl9CST_QasK",
        "outputId": "7a44d884-c5b5-4501-da06-f12fcf99e94e"
      },
      "source": [
        "dados.head()"
      ],
      "execution_count": 3,
      "outputs": [
        {
          "output_type": "execute_result",
          "data": {
            "text/html": [
              "<div>\n",
              "<style scoped>\n",
              "    .dataframe tbody tr th:only-of-type {\n",
              "        vertical-align: middle;\n",
              "    }\n",
              "\n",
              "    .dataframe tbody tr th {\n",
              "        vertical-align: top;\n",
              "    }\n",
              "\n",
              "    .dataframe thead th {\n",
              "        text-align: right;\n",
              "    }\n",
              "</style>\n",
              "<table border=\"1\" class=\"dataframe\">\n",
              "  <thead>\n",
              "    <tr style=\"text-align: right;\">\n",
              "      <th></th>\n",
              "      <th>UF</th>\n",
              "      <th>Sexo</th>\n",
              "      <th>Idade</th>\n",
              "      <th>Cor</th>\n",
              "      <th>Anos de Estudo</th>\n",
              "      <th>Renda</th>\n",
              "      <th>Altura</th>\n",
              "    </tr>\n",
              "  </thead>\n",
              "  <tbody>\n",
              "    <tr>\n",
              "      <th>0</th>\n",
              "      <td>11</td>\n",
              "      <td>0</td>\n",
              "      <td>23</td>\n",
              "      <td>8</td>\n",
              "      <td>12</td>\n",
              "      <td>800</td>\n",
              "      <td>1.603808</td>\n",
              "    </tr>\n",
              "    <tr>\n",
              "      <th>1</th>\n",
              "      <td>11</td>\n",
              "      <td>1</td>\n",
              "      <td>23</td>\n",
              "      <td>2</td>\n",
              "      <td>12</td>\n",
              "      <td>1150</td>\n",
              "      <td>1.739790</td>\n",
              "    </tr>\n",
              "    <tr>\n",
              "      <th>2</th>\n",
              "      <td>11</td>\n",
              "      <td>1</td>\n",
              "      <td>35</td>\n",
              "      <td>8</td>\n",
              "      <td>15</td>\n",
              "      <td>880</td>\n",
              "      <td>1.760444</td>\n",
              "    </tr>\n",
              "    <tr>\n",
              "      <th>3</th>\n",
              "      <td>11</td>\n",
              "      <td>0</td>\n",
              "      <td>46</td>\n",
              "      <td>2</td>\n",
              "      <td>6</td>\n",
              "      <td>3500</td>\n",
              "      <td>1.783158</td>\n",
              "    </tr>\n",
              "    <tr>\n",
              "      <th>4</th>\n",
              "      <td>11</td>\n",
              "      <td>1</td>\n",
              "      <td>47</td>\n",
              "      <td>8</td>\n",
              "      <td>9</td>\n",
              "      <td>150</td>\n",
              "      <td>1.690631</td>\n",
              "    </tr>\n",
              "  </tbody>\n",
              "</table>\n",
              "</div>"
            ],
            "text/plain": [
              "   UF  Sexo  Idade  Cor  Anos de Estudo  Renda    Altura\n",
              "0  11     0     23    8              12    800  1.603808\n",
              "1  11     1     23    2              12   1150  1.739790\n",
              "2  11     1     35    8              15    880  1.760444\n",
              "3  11     0     46    2               6   3500  1.783158\n",
              "4  11     1     47    8               9    150  1.690631"
            ]
          },
          "metadata": {
            "tags": []
          },
          "execution_count": 3
        }
      ]
    },
    {
      "cell_type": "code",
      "metadata": {
        "id": "ZUEPmANAQnyi"
      },
      "source": [
        "sexo = {0: 'Masculino',\n",
        "        1: 'Feminino'}\n",
        "\n",
        "cor = {0: 'Indígena',\n",
        "       2: 'Branca',\n",
        "       4: 'Preta',\n",
        "       6: 'Amarela',\n",
        "       8: 'Parda',\n",
        "       9: 'Sem declaração'}\n",
        "\n",
        "estudo = {\n",
        "    1: 'Sem instrução',\n",
        "    2: '1 ano',\n",
        "    3: '2 anos',\n",
        "    4: '3 anos',\n",
        "    5: '4 anos',\n",
        "    6: '5 anos',\n",
        "    7: '6 anos',\n",
        "    8: '7 anos',\n",
        "    9: '8 anos',\n",
        "    10: '9 anos',\n",
        "    11: '10 anos',\n",
        "    12: '11 anos',\n",
        "    13: '12 anos',\n",
        "    14: '13 anos',\n",
        "    15: '14 anos',\n",
        "    16: '15 anos',\n",
        "    17: 'Não Determinando'\n",
        "}\n",
        "\n",
        "estados = {\n",
        "    11: 'Rondônia (RO)',\n",
        "    12: 'Acre (AC)',\n",
        "    13: 'Amazonas (AM)',\n",
        "    14: 'Roraima (RR)',\n",
        "    15: 'Pará (PA)',\n",
        "    16: 'Amapá (AP)',\n",
        "    17: 'Tocantins (TO)',\n",
        "    21: 'Maranhão (MA)',\n",
        "    22: 'Piauí (PI)',\n",
        "    23: 'Ceará (CE)',\n",
        "    24: 'Rio Grande do Norte (RN)',\n",
        "    25: 'Paraíba (PB)',\n",
        "    26: 'Pernambuco (PE)',\n",
        "    27: 'Alagoas (AL)',\n",
        "    28: 'Sergipe (SE)',\n",
        "    29: 'Bahia (BA)',\n",
        "    31: 'Minas Gerais (MG)',\n",
        "    32: 'Espírito Santo (ES)',\n",
        "    33: 'Rio de Janeiro (RJ)',\n",
        "    35: 'São Paulo (SP)',\n",
        "    41: 'Paraná (PR)',\n",
        "    42: 'Santa Catarina (SC)',\n",
        "    43: 'Rio Grande do Sul (RS)',\n",
        "    50: 'Mato Grosso do Sul (MS)',\n",
        "    51: 'Mato Grosso (MT)',\n",
        "    52: 'Goiás (GO)',\n",
        "    53: 'Distrito Federal (DF)'\n",
        "}"
      ],
      "execution_count": 4,
      "outputs": []
    },
    {
      "cell_type": "markdown",
      "metadata": {
        "id": "mkyCoffnQKet"
      },
      "source": [
        "#Distribuição de probabilidade"
      ]
    },
    {
      "cell_type": "markdown",
      "metadata": {
        "id": "DVl8TC6fRBQ3"
      },
      "source": [
        "##Distribuição binomial"
      ]
    },
    {
      "cell_type": "code",
      "metadata": {
        "id": "I62ZjsRnTStg"
      },
      "source": [
        "from scipy.special import comb"
      ],
      "execution_count": 5,
      "outputs": []
    },
    {
      "cell_type": "code",
      "metadata": {
        "colab": {
          "base_uri": "https://localhost:8080/"
        },
        "id": "fef3kalGTcN3",
        "outputId": "53d56a80-412f-4494-deb8-4b57f0f9668a"
      },
      "source": [
        "combinacoes = comb(60,6)\n",
        "combinacoes"
      ],
      "execution_count": 6,
      "outputs": [
        {
          "output_type": "execute_result",
          "data": {
            "text/plain": [
              "50063860.0"
            ]
          },
          "metadata": {
            "tags": []
          },
          "execution_count": 6
        }
      ]
    },
    {
      "cell_type": "code",
      "metadata": {
        "colab": {
          "base_uri": "https://localhost:8080/"
        },
        "id": "B8vx85-tThjc",
        "outputId": "996c4901-901f-43ba-ed7f-ed67e11d08aa"
      },
      "source": [
        "1/combinacoes*100"
      ],
      "execution_count": 7,
      "outputs": [
        {
          "output_type": "execute_result",
          "data": {
            "text/plain": [
              "1.997448858318156e-06"
            ]
          },
          "metadata": {
            "tags": []
          },
          "execution_count": 7
        }
      ]
    },
    {
      "cell_type": "code",
      "metadata": {
        "colab": {
          "base_uri": "https://localhost:8080/"
        },
        "id": "SVN1mFdpT_Oq",
        "outputId": "f63f2d31-bae7-4ece-d3c6-90a9215ba19b"
      },
      "source": [
        "comb(25,20)"
      ],
      "execution_count": 8,
      "outputs": [
        {
          "output_type": "execute_result",
          "data": {
            "text/plain": [
              "53130.0"
            ]
          },
          "metadata": {
            "tags": []
          },
          "execution_count": 8
        }
      ]
    },
    {
      "cell_type": "code",
      "metadata": {
        "colab": {
          "base_uri": "https://localhost:8080/"
        },
        "id": "zQgTMJADUbyN",
        "outputId": "698d8bb2-125b-4612-cd92-5a80419df3f8"
      },
      "source": [
        "1/comb(25,20)"
      ],
      "execution_count": 9,
      "outputs": [
        {
          "output_type": "execute_result",
          "data": {
            "text/plain": [
              "1.8821757952192734e-05"
            ]
          },
          "metadata": {
            "tags": []
          },
          "execution_count": 9
        }
      ]
    },
    {
      "cell_type": "code",
      "metadata": {
        "colab": {
          "base_uri": "https://localhost:8080/"
        },
        "id": "cCFgsINwUdUU",
        "outputId": "421b5233-7fa5-4e58-9393-ed52ec3614cb"
      },
      "source": [
        "n = 10\n",
        "n"
      ],
      "execution_count": 10,
      "outputs": [
        {
          "output_type": "execute_result",
          "data": {
            "text/plain": [
              "10"
            ]
          },
          "metadata": {
            "tags": []
          },
          "execution_count": 10
        }
      ]
    },
    {
      "cell_type": "code",
      "metadata": {
        "colab": {
          "base_uri": "https://localhost:8080/"
        },
        "id": "Dlc9MV9SVIzG",
        "outputId": "9e29f548-e60b-4a54-b7b8-08612e0fc7a2"
      },
      "source": [
        "p = 1/3\n",
        "p"
      ],
      "execution_count": 11,
      "outputs": [
        {
          "output_type": "execute_result",
          "data": {
            "text/plain": [
              "0.3333333333333333"
            ]
          },
          "metadata": {
            "tags": []
          },
          "execution_count": 11
        }
      ]
    },
    {
      "cell_type": "code",
      "metadata": {
        "colab": {
          "base_uri": "https://localhost:8080/"
        },
        "id": "1lYyYtLmVc4i",
        "outputId": "30c25de4-42ff-4bfd-e542-d216b46416ff"
      },
      "source": [
        "q = 1-p\n",
        "q"
      ],
      "execution_count": 12,
      "outputs": [
        {
          "output_type": "execute_result",
          "data": {
            "text/plain": [
              "0.6666666666666667"
            ]
          },
          "metadata": {
            "tags": []
          },
          "execution_count": 12
        }
      ]
    },
    {
      "cell_type": "code",
      "metadata": {
        "colab": {
          "base_uri": "https://localhost:8080/"
        },
        "id": "F-_dDaVSVfK6",
        "outputId": "ea37f872-944b-4e12-acc1-b0a8b1191cd8"
      },
      "source": [
        "k = 5\n",
        "k"
      ],
      "execution_count": 13,
      "outputs": [
        {
          "output_type": "execute_result",
          "data": {
            "text/plain": [
              "5"
            ]
          },
          "metadata": {
            "tags": []
          },
          "execution_count": 13
        }
      ]
    },
    {
      "cell_type": "code",
      "metadata": {
        "colab": {
          "base_uri": "https://localhost:8080/"
        },
        "id": "h7kpIttgVlIq",
        "outputId": "b21a86cd-f0c0-4544-8573-e419f56bcf6b"
      },
      "source": [
        "prob = (comb(n, k) * (p**k) * (q ** (n - k)))\n",
        "prob"
      ],
      "execution_count": 14,
      "outputs": [
        {
          "output_type": "execute_result",
          "data": {
            "text/plain": [
              "0.13656454808718185"
            ]
          },
          "metadata": {
            "tags": []
          },
          "execution_count": 14
        }
      ]
    },
    {
      "cell_type": "code",
      "metadata": {
        "id": "VtDjS-YwWATl"
      },
      "source": [
        "from scipy.stats import binom"
      ],
      "execution_count": 15,
      "outputs": []
    },
    {
      "cell_type": "code",
      "metadata": {
        "colab": {
          "base_uri": "https://localhost:8080/"
        },
        "id": "P53Df_qAWSok",
        "outputId": "60066e09-8a78-4aa7-f622-4b850a5ae023"
      },
      "source": [
        "prob = binom.pmf(k,n,p)\n",
        "print(f'{prob:.8f}')"
      ],
      "execution_count": 16,
      "outputs": [
        {
          "output_type": "stream",
          "text": [
            "0.13656455\n"
          ],
          "name": "stdout"
        }
      ]
    },
    {
      "cell_type": "code",
      "metadata": {
        "colab": {
          "base_uri": "https://localhost:8080/"
        },
        "id": "AphyFq5GWjEo",
        "outputId": "67be3870-6848-45db-a21b-c3abc9322976"
      },
      "source": [
        " binom.pmf(5,n,p) + binom.pmf(6,n,p) + binom.pmf(7,n,p) + binom.pmf(8,n,p) + binom.pmf(9,n,p) + binom.pmf(10,n,p)"
      ],
      "execution_count": 17,
      "outputs": [
        {
          "output_type": "execute_result",
          "data": {
            "text/plain": [
              "0.2131280800690952"
            ]
          },
          "metadata": {
            "tags": []
          },
          "execution_count": 17
        }
      ]
    },
    {
      "cell_type": "code",
      "metadata": {
        "colab": {
          "base_uri": "https://localhost:8080/"
        },
        "id": "Gc33z7DTWz_E",
        "outputId": "3139ac92-2bc2-4f18-a0b0-6e1ce47f3d13"
      },
      "source": [
        " binom.pmf([5, 6, 7, 8, 9, 10], n, p).sum()"
      ],
      "execution_count": 18,
      "outputs": [
        {
          "output_type": "execute_result",
          "data": {
            "text/plain": [
              "0.2131280800690952"
            ]
          },
          "metadata": {
            "tags": []
          },
          "execution_count": 18
        }
      ]
    },
    {
      "cell_type": "code",
      "metadata": {
        "colab": {
          "base_uri": "https://localhost:8080/"
        },
        "id": "d01Zu4l7XGvK",
        "outputId": "1dc6e140-227f-452b-8ba9-d870d9d15e7c"
      },
      "source": [
        "1 - binom.cdf(4, n, p)"
      ],
      "execution_count": 19,
      "outputs": [
        {
          "output_type": "execute_result",
          "data": {
            "text/plain": [
              "0.21312808006909512"
            ]
          },
          "metadata": {
            "tags": []
          },
          "execution_count": 19
        }
      ]
    },
    {
      "cell_type": "code",
      "metadata": {
        "colab": {
          "base_uri": "https://localhost:8080/"
        },
        "id": "zTWDpAcNXPnS",
        "outputId": "fdf8e6df-ad3d-4e00-f829-0dfa4e56cdc0"
      },
      "source": [
        "binom.sf(4, n, p)"
      ],
      "execution_count": 20,
      "outputs": [
        {
          "output_type": "execute_result",
          "data": {
            "text/plain": [
              "0.21312808006909517"
            ]
          },
          "metadata": {
            "tags": []
          },
          "execution_count": 20
        }
      ]
    },
    {
      "cell_type": "code",
      "metadata": {
        "id": "HGtC4eaJXdHy"
      },
      "source": [
        "k = 2\n",
        "n = 4\n",
        "p = 1/2"
      ],
      "execution_count": 21,
      "outputs": []
    },
    {
      "cell_type": "code",
      "metadata": {
        "colab": {
          "base_uri": "https://localhost:8080/"
        },
        "id": "ERh5uVTZYIaV",
        "outputId": "b2392825-cf35-4871-d453-61090b60dd84"
      },
      "source": [
        "binom.pmf(k, n, p)"
      ],
      "execution_count": 22,
      "outputs": [
        {
          "output_type": "execute_result",
          "data": {
            "text/plain": [
              "0.3750000000000001"
            ]
          },
          "metadata": {
            "tags": []
          },
          "execution_count": 22
        }
      ]
    },
    {
      "cell_type": "code",
      "metadata": {
        "id": "4DbHA5gbYKQO"
      },
      "source": [
        "k = 3\n",
        "n = 10\n",
        "p = 1/6"
      ],
      "execution_count": 23,
      "outputs": []
    },
    {
      "cell_type": "code",
      "metadata": {
        "colab": {
          "base_uri": "https://localhost:8080/"
        },
        "id": "09-jGyavY73O",
        "outputId": "f59ae2e0-c8a0-4c64-995e-138ecb6af6a0"
      },
      "source": [
        "1-binom.cdf(k, n, p)"
      ],
      "execution_count": 24,
      "outputs": [
        {
          "output_type": "execute_result",
          "data": {
            "text/plain": [
              "0.0697278425544886"
            ]
          },
          "metadata": {
            "tags": []
          },
          "execution_count": 24
        }
      ]
    },
    {
      "cell_type": "code",
      "metadata": {
        "id": "Jk_F8OjsY8ml"
      },
      "source": [
        "#exemplo\n",
        "p = 0.6\n",
        "n = 12\n",
        "k = 8"
      ],
      "execution_count": 25,
      "outputs": []
    },
    {
      "cell_type": "code",
      "metadata": {
        "colab": {
          "base_uri": "https://localhost:8080/"
        },
        "id": "3w7yOdTCgI9B",
        "outputId": "7fd8757a-3fbb-44fe-c11d-be9d63c74327"
      },
      "source": [
        "prob = binom.pmf(k, n, p)\n",
        "prob"
      ],
      "execution_count": 26,
      "outputs": [
        {
          "output_type": "execute_result",
          "data": {
            "text/plain": [
              "0.2128409395199996"
            ]
          },
          "metadata": {
            "tags": []
          },
          "execution_count": 26
        }
      ]
    },
    {
      "cell_type": "code",
      "metadata": {
        "colab": {
          "base_uri": "https://localhost:8080/"
        },
        "id": "Gc89pqejgTCr",
        "outputId": "3b5f2c6f-a6d0-4277-d243-80d6ba205223"
      },
      "source": [
        "n = 30 * prob\n",
        "n"
      ],
      "execution_count": 27,
      "outputs": [
        {
          "output_type": "execute_result",
          "data": {
            "text/plain": [
              "6.385228185599988"
            ]
          },
          "metadata": {
            "tags": []
          },
          "execution_count": 27
        }
      ]
    },
    {
      "cell_type": "code",
      "metadata": {
        "id": "LoYDegoUghdS"
      },
      "source": [
        "p = 0.22\n",
        "n = 3\n",
        "k = 2"
      ],
      "execution_count": 28,
      "outputs": []
    },
    {
      "cell_type": "code",
      "metadata": {
        "colab": {
          "base_uri": "https://localhost:8080/"
        },
        "id": "XIidc1fdg7XI",
        "outputId": "c9e09a71-b425-4939-8578-92f5af8cf7e9"
      },
      "source": [
        "prob = binom.pmf(k, n, p)\n",
        "prob"
      ],
      "execution_count": 29,
      "outputs": [
        {
          "output_type": "execute_result",
          "data": {
            "text/plain": [
              "0.11325599999999998"
            ]
          },
          "metadata": {
            "tags": []
          },
          "execution_count": 29
        }
      ]
    },
    {
      "cell_type": "code",
      "metadata": {
        "colab": {
          "base_uri": "https://localhost:8080/"
        },
        "id": "CUDXHxhNg77n",
        "outputId": "033c3685-0380-4e71-8bd2-d3ac2125f06d"
      },
      "source": [
        "50*prob"
      ],
      "execution_count": 30,
      "outputs": [
        {
          "output_type": "execute_result",
          "data": {
            "text/plain": [
              "5.662799999999999"
            ]
          },
          "metadata": {
            "tags": []
          },
          "execution_count": 30
        }
      ]
    },
    {
      "cell_type": "markdown",
      "metadata": {
        "id": "3j4LSvjvh_MP"
      },
      "source": [
        "##Distribuição de probabilidade Poisson"
      ]
    },
    {
      "cell_type": "code",
      "metadata": {
        "colab": {
          "base_uri": "https://localhost:8080/"
        },
        "id": "UOrF7lCIhKll",
        "outputId": "f4c7c754-b437-4c88-9b37-0a2d54a4ecf1"
      },
      "source": [
        "np.e"
      ],
      "execution_count": 31,
      "outputs": [
        {
          "output_type": "execute_result",
          "data": {
            "text/plain": [
              "2.718281828459045"
            ]
          },
          "metadata": {
            "tags": []
          },
          "execution_count": 31
        }
      ]
    },
    {
      "cell_type": "code",
      "metadata": {
        "id": "_T2TeYS3izZo"
      },
      "source": [
        "media = 20\n",
        "k = 15"
      ],
      "execution_count": 32,
      "outputs": []
    },
    {
      "cell_type": "code",
      "metadata": {
        "colab": {
          "base_uri": "https://localhost:8080/"
        },
        "id": "lrjRkUnQjgS1",
        "outputId": "3dffb9ac-0555-4e08-adfc-7c5297bd22c1"
      },
      "source": [
        "prob = ((np.e**(-media)) * (media**k)) / np.math.factorial(k)\n",
        "print(f'{prob:.8f}')"
      ],
      "execution_count": 33,
      "outputs": [
        {
          "output_type": "stream",
          "text": [
            "0.05164885\n"
          ],
          "name": "stdout"
        }
      ]
    },
    {
      "cell_type": "code",
      "metadata": {
        "id": "7BGN5WbOj4FH"
      },
      "source": [
        "from scipy.stats import poisson"
      ],
      "execution_count": 34,
      "outputs": []
    },
    {
      "cell_type": "code",
      "metadata": {
        "colab": {
          "base_uri": "https://localhost:8080/"
        },
        "id": "x6VunZG3kFUL",
        "outputId": "2b0c5c53-8712-4e2d-f125-622c7773bff6"
      },
      "source": [
        "prob = poisson.pmf(k, media)\n",
        "prob"
      ],
      "execution_count": 35,
      "outputs": [
        {
          "output_type": "execute_result",
          "data": {
            "text/plain": [
              "0.05164885353175814"
            ]
          },
          "metadata": {
            "tags": []
          },
          "execution_count": 35
        }
      ]
    },
    {
      "cell_type": "code",
      "metadata": {
        "colab": {
          "base_uri": "https://localhost:8080/"
        },
        "id": "ry18FVrMkJ4y",
        "outputId": "2f90171c-325e-4047-c13c-7a3f13791acb"
      },
      "source": [
        "k = 25\n",
        "media = 20\n",
        "prob = poisson.pmf(k, media)\n",
        "print(f'{prob*100:.2f}')"
      ],
      "execution_count": 36,
      "outputs": [
        {
          "output_type": "stream",
          "text": [
            "4.46\n"
          ],
          "name": "stdout"
        }
      ]
    },
    {
      "cell_type": "markdown",
      "metadata": {
        "id": "YSlpHPM6k4vZ"
      },
      "source": [
        "##Distribuição Normal"
      ]
    },
    {
      "cell_type": "code",
      "metadata": {
        "id": "aGtsfefpkoIv"
      },
      "source": [
        "from scipy.stats import norm"
      ],
      "execution_count": 37,
      "outputs": []
    },
    {
      "cell_type": "code",
      "metadata": {
        "colab": {
          "base_uri": "https://localhost:8080/",
          "height": 0
        },
        "id": "9b_fCLv3nNNm",
        "outputId": "f2718145-d0f6-49fa-c01f-868bae6aef72"
      },
      "source": [
        "tabela_normal_padronizada = pd.DataFrame(\n",
        "    [],\n",
        "    index=[f\"{i/100:.2f}\" for i in range(0, 400, 10)],\n",
        "    columns=[f\"{i/100:.2f}\" for i in range(0, 10)]\n",
        ")\n",
        "\n",
        "for index in tabela_normal_padronizada.index:\n",
        "    for columns in tabela_normal_padronizada.columns:\n",
        "        Z = np.round(float(index) + float(columns), 2)\n",
        "        tabela_normal_padronizada.loc[index, columns] = f'{norm.cdf(Z):.4f}'\n",
        "\n",
        "tabela_normal_padronizada.rename_axis('Z', axis=1, inplace=True)\n",
        "tabela_normal_padronizada"
      ],
      "execution_count": 38,
      "outputs": [
        {
          "output_type": "execute_result",
          "data": {
            "text/html": [
              "<div>\n",
              "<style scoped>\n",
              "    .dataframe tbody tr th:only-of-type {\n",
              "        vertical-align: middle;\n",
              "    }\n",
              "\n",
              "    .dataframe tbody tr th {\n",
              "        vertical-align: top;\n",
              "    }\n",
              "\n",
              "    .dataframe thead th {\n",
              "        text-align: right;\n",
              "    }\n",
              "</style>\n",
              "<table border=\"1\" class=\"dataframe\">\n",
              "  <thead>\n",
              "    <tr style=\"text-align: right;\">\n",
              "      <th>Z</th>\n",
              "      <th>0.00</th>\n",
              "      <th>0.01</th>\n",
              "      <th>0.02</th>\n",
              "      <th>0.03</th>\n",
              "      <th>0.04</th>\n",
              "      <th>0.05</th>\n",
              "      <th>0.06</th>\n",
              "      <th>0.07</th>\n",
              "      <th>0.08</th>\n",
              "      <th>0.09</th>\n",
              "    </tr>\n",
              "  </thead>\n",
              "  <tbody>\n",
              "    <tr>\n",
              "      <th>0.00</th>\n",
              "      <td>0.5000</td>\n",
              "      <td>0.5040</td>\n",
              "      <td>0.5080</td>\n",
              "      <td>0.5120</td>\n",
              "      <td>0.5160</td>\n",
              "      <td>0.5199</td>\n",
              "      <td>0.5239</td>\n",
              "      <td>0.5279</td>\n",
              "      <td>0.5319</td>\n",
              "      <td>0.5359</td>\n",
              "    </tr>\n",
              "    <tr>\n",
              "      <th>0.10</th>\n",
              "      <td>0.5398</td>\n",
              "      <td>0.5438</td>\n",
              "      <td>0.5478</td>\n",
              "      <td>0.5517</td>\n",
              "      <td>0.5557</td>\n",
              "      <td>0.5596</td>\n",
              "      <td>0.5636</td>\n",
              "      <td>0.5675</td>\n",
              "      <td>0.5714</td>\n",
              "      <td>0.5753</td>\n",
              "    </tr>\n",
              "    <tr>\n",
              "      <th>0.20</th>\n",
              "      <td>0.5793</td>\n",
              "      <td>0.5832</td>\n",
              "      <td>0.5871</td>\n",
              "      <td>0.5910</td>\n",
              "      <td>0.5948</td>\n",
              "      <td>0.5987</td>\n",
              "      <td>0.6026</td>\n",
              "      <td>0.6064</td>\n",
              "      <td>0.6103</td>\n",
              "      <td>0.6141</td>\n",
              "    </tr>\n",
              "    <tr>\n",
              "      <th>0.30</th>\n",
              "      <td>0.6179</td>\n",
              "      <td>0.6217</td>\n",
              "      <td>0.6255</td>\n",
              "      <td>0.6293</td>\n",
              "      <td>0.6331</td>\n",
              "      <td>0.6368</td>\n",
              "      <td>0.6406</td>\n",
              "      <td>0.6443</td>\n",
              "      <td>0.6480</td>\n",
              "      <td>0.6517</td>\n",
              "    </tr>\n",
              "    <tr>\n",
              "      <th>0.40</th>\n",
              "      <td>0.6554</td>\n",
              "      <td>0.6591</td>\n",
              "      <td>0.6628</td>\n",
              "      <td>0.6664</td>\n",
              "      <td>0.6700</td>\n",
              "      <td>0.6736</td>\n",
              "      <td>0.6772</td>\n",
              "      <td>0.6808</td>\n",
              "      <td>0.6844</td>\n",
              "      <td>0.6879</td>\n",
              "    </tr>\n",
              "    <tr>\n",
              "      <th>0.50</th>\n",
              "      <td>0.6915</td>\n",
              "      <td>0.6950</td>\n",
              "      <td>0.6985</td>\n",
              "      <td>0.7019</td>\n",
              "      <td>0.7054</td>\n",
              "      <td>0.7088</td>\n",
              "      <td>0.7123</td>\n",
              "      <td>0.7157</td>\n",
              "      <td>0.7190</td>\n",
              "      <td>0.7224</td>\n",
              "    </tr>\n",
              "    <tr>\n",
              "      <th>0.60</th>\n",
              "      <td>0.7257</td>\n",
              "      <td>0.7291</td>\n",
              "      <td>0.7324</td>\n",
              "      <td>0.7357</td>\n",
              "      <td>0.7389</td>\n",
              "      <td>0.7422</td>\n",
              "      <td>0.7454</td>\n",
              "      <td>0.7486</td>\n",
              "      <td>0.7517</td>\n",
              "      <td>0.7549</td>\n",
              "    </tr>\n",
              "    <tr>\n",
              "      <th>0.70</th>\n",
              "      <td>0.7580</td>\n",
              "      <td>0.7611</td>\n",
              "      <td>0.7642</td>\n",
              "      <td>0.7673</td>\n",
              "      <td>0.7704</td>\n",
              "      <td>0.7734</td>\n",
              "      <td>0.7764</td>\n",
              "      <td>0.7794</td>\n",
              "      <td>0.7823</td>\n",
              "      <td>0.7852</td>\n",
              "    </tr>\n",
              "    <tr>\n",
              "      <th>0.80</th>\n",
              "      <td>0.7881</td>\n",
              "      <td>0.7910</td>\n",
              "      <td>0.7939</td>\n",
              "      <td>0.7967</td>\n",
              "      <td>0.7995</td>\n",
              "      <td>0.8023</td>\n",
              "      <td>0.8051</td>\n",
              "      <td>0.8078</td>\n",
              "      <td>0.8106</td>\n",
              "      <td>0.8133</td>\n",
              "    </tr>\n",
              "    <tr>\n",
              "      <th>0.90</th>\n",
              "      <td>0.8159</td>\n",
              "      <td>0.8186</td>\n",
              "      <td>0.8212</td>\n",
              "      <td>0.8238</td>\n",
              "      <td>0.8264</td>\n",
              "      <td>0.8289</td>\n",
              "      <td>0.8315</td>\n",
              "      <td>0.8340</td>\n",
              "      <td>0.8365</td>\n",
              "      <td>0.8389</td>\n",
              "    </tr>\n",
              "    <tr>\n",
              "      <th>1.00</th>\n",
              "      <td>0.8413</td>\n",
              "      <td>0.8438</td>\n",
              "      <td>0.8461</td>\n",
              "      <td>0.8485</td>\n",
              "      <td>0.8508</td>\n",
              "      <td>0.8531</td>\n",
              "      <td>0.8554</td>\n",
              "      <td>0.8577</td>\n",
              "      <td>0.8599</td>\n",
              "      <td>0.8621</td>\n",
              "    </tr>\n",
              "    <tr>\n",
              "      <th>1.10</th>\n",
              "      <td>0.8643</td>\n",
              "      <td>0.8665</td>\n",
              "      <td>0.8686</td>\n",
              "      <td>0.8708</td>\n",
              "      <td>0.8729</td>\n",
              "      <td>0.8749</td>\n",
              "      <td>0.8770</td>\n",
              "      <td>0.8790</td>\n",
              "      <td>0.8810</td>\n",
              "      <td>0.8830</td>\n",
              "    </tr>\n",
              "    <tr>\n",
              "      <th>1.20</th>\n",
              "      <td>0.8849</td>\n",
              "      <td>0.8869</td>\n",
              "      <td>0.8888</td>\n",
              "      <td>0.8907</td>\n",
              "      <td>0.8925</td>\n",
              "      <td>0.8944</td>\n",
              "      <td>0.8962</td>\n",
              "      <td>0.8980</td>\n",
              "      <td>0.8997</td>\n",
              "      <td>0.9015</td>\n",
              "    </tr>\n",
              "    <tr>\n",
              "      <th>1.30</th>\n",
              "      <td>0.9032</td>\n",
              "      <td>0.9049</td>\n",
              "      <td>0.9066</td>\n",
              "      <td>0.9082</td>\n",
              "      <td>0.9099</td>\n",
              "      <td>0.9115</td>\n",
              "      <td>0.9131</td>\n",
              "      <td>0.9147</td>\n",
              "      <td>0.9162</td>\n",
              "      <td>0.9177</td>\n",
              "    </tr>\n",
              "    <tr>\n",
              "      <th>1.40</th>\n",
              "      <td>0.9192</td>\n",
              "      <td>0.9207</td>\n",
              "      <td>0.9222</td>\n",
              "      <td>0.9236</td>\n",
              "      <td>0.9251</td>\n",
              "      <td>0.9265</td>\n",
              "      <td>0.9279</td>\n",
              "      <td>0.9292</td>\n",
              "      <td>0.9306</td>\n",
              "      <td>0.9319</td>\n",
              "    </tr>\n",
              "    <tr>\n",
              "      <th>1.50</th>\n",
              "      <td>0.9332</td>\n",
              "      <td>0.9345</td>\n",
              "      <td>0.9357</td>\n",
              "      <td>0.9370</td>\n",
              "      <td>0.9382</td>\n",
              "      <td>0.9394</td>\n",
              "      <td>0.9406</td>\n",
              "      <td>0.9418</td>\n",
              "      <td>0.9429</td>\n",
              "      <td>0.9441</td>\n",
              "    </tr>\n",
              "    <tr>\n",
              "      <th>1.60</th>\n",
              "      <td>0.9452</td>\n",
              "      <td>0.9463</td>\n",
              "      <td>0.9474</td>\n",
              "      <td>0.9484</td>\n",
              "      <td>0.9495</td>\n",
              "      <td>0.9505</td>\n",
              "      <td>0.9515</td>\n",
              "      <td>0.9525</td>\n",
              "      <td>0.9535</td>\n",
              "      <td>0.9545</td>\n",
              "    </tr>\n",
              "    <tr>\n",
              "      <th>1.70</th>\n",
              "      <td>0.9554</td>\n",
              "      <td>0.9564</td>\n",
              "      <td>0.9573</td>\n",
              "      <td>0.9582</td>\n",
              "      <td>0.9591</td>\n",
              "      <td>0.9599</td>\n",
              "      <td>0.9608</td>\n",
              "      <td>0.9616</td>\n",
              "      <td>0.9625</td>\n",
              "      <td>0.9633</td>\n",
              "    </tr>\n",
              "    <tr>\n",
              "      <th>1.80</th>\n",
              "      <td>0.9641</td>\n",
              "      <td>0.9649</td>\n",
              "      <td>0.9656</td>\n",
              "      <td>0.9664</td>\n",
              "      <td>0.9671</td>\n",
              "      <td>0.9678</td>\n",
              "      <td>0.9686</td>\n",
              "      <td>0.9693</td>\n",
              "      <td>0.9699</td>\n",
              "      <td>0.9706</td>\n",
              "    </tr>\n",
              "    <tr>\n",
              "      <th>1.90</th>\n",
              "      <td>0.9713</td>\n",
              "      <td>0.9719</td>\n",
              "      <td>0.9726</td>\n",
              "      <td>0.9732</td>\n",
              "      <td>0.9738</td>\n",
              "      <td>0.9744</td>\n",
              "      <td>0.9750</td>\n",
              "      <td>0.9756</td>\n",
              "      <td>0.9761</td>\n",
              "      <td>0.9767</td>\n",
              "    </tr>\n",
              "    <tr>\n",
              "      <th>2.00</th>\n",
              "      <td>0.9772</td>\n",
              "      <td>0.9778</td>\n",
              "      <td>0.9783</td>\n",
              "      <td>0.9788</td>\n",
              "      <td>0.9793</td>\n",
              "      <td>0.9798</td>\n",
              "      <td>0.9803</td>\n",
              "      <td>0.9808</td>\n",
              "      <td>0.9812</td>\n",
              "      <td>0.9817</td>\n",
              "    </tr>\n",
              "    <tr>\n",
              "      <th>2.10</th>\n",
              "      <td>0.9821</td>\n",
              "      <td>0.9826</td>\n",
              "      <td>0.9830</td>\n",
              "      <td>0.9834</td>\n",
              "      <td>0.9838</td>\n",
              "      <td>0.9842</td>\n",
              "      <td>0.9846</td>\n",
              "      <td>0.9850</td>\n",
              "      <td>0.9854</td>\n",
              "      <td>0.9857</td>\n",
              "    </tr>\n",
              "    <tr>\n",
              "      <th>2.20</th>\n",
              "      <td>0.9861</td>\n",
              "      <td>0.9864</td>\n",
              "      <td>0.9868</td>\n",
              "      <td>0.9871</td>\n",
              "      <td>0.9875</td>\n",
              "      <td>0.9878</td>\n",
              "      <td>0.9881</td>\n",
              "      <td>0.9884</td>\n",
              "      <td>0.9887</td>\n",
              "      <td>0.9890</td>\n",
              "    </tr>\n",
              "    <tr>\n",
              "      <th>2.30</th>\n",
              "      <td>0.9893</td>\n",
              "      <td>0.9896</td>\n",
              "      <td>0.9898</td>\n",
              "      <td>0.9901</td>\n",
              "      <td>0.9904</td>\n",
              "      <td>0.9906</td>\n",
              "      <td>0.9909</td>\n",
              "      <td>0.9911</td>\n",
              "      <td>0.9913</td>\n",
              "      <td>0.9916</td>\n",
              "    </tr>\n",
              "    <tr>\n",
              "      <th>2.40</th>\n",
              "      <td>0.9918</td>\n",
              "      <td>0.9920</td>\n",
              "      <td>0.9922</td>\n",
              "      <td>0.9925</td>\n",
              "      <td>0.9927</td>\n",
              "      <td>0.9929</td>\n",
              "      <td>0.9931</td>\n",
              "      <td>0.9932</td>\n",
              "      <td>0.9934</td>\n",
              "      <td>0.9936</td>\n",
              "    </tr>\n",
              "    <tr>\n",
              "      <th>2.50</th>\n",
              "      <td>0.9938</td>\n",
              "      <td>0.9940</td>\n",
              "      <td>0.9941</td>\n",
              "      <td>0.9943</td>\n",
              "      <td>0.9945</td>\n",
              "      <td>0.9946</td>\n",
              "      <td>0.9948</td>\n",
              "      <td>0.9949</td>\n",
              "      <td>0.9951</td>\n",
              "      <td>0.9952</td>\n",
              "    </tr>\n",
              "    <tr>\n",
              "      <th>2.60</th>\n",
              "      <td>0.9953</td>\n",
              "      <td>0.9955</td>\n",
              "      <td>0.9956</td>\n",
              "      <td>0.9957</td>\n",
              "      <td>0.9959</td>\n",
              "      <td>0.9960</td>\n",
              "      <td>0.9961</td>\n",
              "      <td>0.9962</td>\n",
              "      <td>0.9963</td>\n",
              "      <td>0.9964</td>\n",
              "    </tr>\n",
              "    <tr>\n",
              "      <th>2.70</th>\n",
              "      <td>0.9965</td>\n",
              "      <td>0.9966</td>\n",
              "      <td>0.9967</td>\n",
              "      <td>0.9968</td>\n",
              "      <td>0.9969</td>\n",
              "      <td>0.9970</td>\n",
              "      <td>0.9971</td>\n",
              "      <td>0.9972</td>\n",
              "      <td>0.9973</td>\n",
              "      <td>0.9974</td>\n",
              "    </tr>\n",
              "    <tr>\n",
              "      <th>2.80</th>\n",
              "      <td>0.9974</td>\n",
              "      <td>0.9975</td>\n",
              "      <td>0.9976</td>\n",
              "      <td>0.9977</td>\n",
              "      <td>0.9977</td>\n",
              "      <td>0.9978</td>\n",
              "      <td>0.9979</td>\n",
              "      <td>0.9979</td>\n",
              "      <td>0.9980</td>\n",
              "      <td>0.9981</td>\n",
              "    </tr>\n",
              "    <tr>\n",
              "      <th>2.90</th>\n",
              "      <td>0.9981</td>\n",
              "      <td>0.9982</td>\n",
              "      <td>0.9982</td>\n",
              "      <td>0.9983</td>\n",
              "      <td>0.9984</td>\n",
              "      <td>0.9984</td>\n",
              "      <td>0.9985</td>\n",
              "      <td>0.9985</td>\n",
              "      <td>0.9986</td>\n",
              "      <td>0.9986</td>\n",
              "    </tr>\n",
              "    <tr>\n",
              "      <th>3.00</th>\n",
              "      <td>0.9987</td>\n",
              "      <td>0.9987</td>\n",
              "      <td>0.9987</td>\n",
              "      <td>0.9988</td>\n",
              "      <td>0.9988</td>\n",
              "      <td>0.9989</td>\n",
              "      <td>0.9989</td>\n",
              "      <td>0.9989</td>\n",
              "      <td>0.9990</td>\n",
              "      <td>0.9990</td>\n",
              "    </tr>\n",
              "    <tr>\n",
              "      <th>3.10</th>\n",
              "      <td>0.9990</td>\n",
              "      <td>0.9991</td>\n",
              "      <td>0.9991</td>\n",
              "      <td>0.9991</td>\n",
              "      <td>0.9992</td>\n",
              "      <td>0.9992</td>\n",
              "      <td>0.9992</td>\n",
              "      <td>0.9992</td>\n",
              "      <td>0.9993</td>\n",
              "      <td>0.9993</td>\n",
              "    </tr>\n",
              "    <tr>\n",
              "      <th>3.20</th>\n",
              "      <td>0.9993</td>\n",
              "      <td>0.9993</td>\n",
              "      <td>0.9994</td>\n",
              "      <td>0.9994</td>\n",
              "      <td>0.9994</td>\n",
              "      <td>0.9994</td>\n",
              "      <td>0.9994</td>\n",
              "      <td>0.9995</td>\n",
              "      <td>0.9995</td>\n",
              "      <td>0.9995</td>\n",
              "    </tr>\n",
              "    <tr>\n",
              "      <th>3.30</th>\n",
              "      <td>0.9995</td>\n",
              "      <td>0.9995</td>\n",
              "      <td>0.9995</td>\n",
              "      <td>0.9996</td>\n",
              "      <td>0.9996</td>\n",
              "      <td>0.9996</td>\n",
              "      <td>0.9996</td>\n",
              "      <td>0.9996</td>\n",
              "      <td>0.9996</td>\n",
              "      <td>0.9997</td>\n",
              "    </tr>\n",
              "    <tr>\n",
              "      <th>3.40</th>\n",
              "      <td>0.9997</td>\n",
              "      <td>0.9997</td>\n",
              "      <td>0.9997</td>\n",
              "      <td>0.9997</td>\n",
              "      <td>0.9997</td>\n",
              "      <td>0.9997</td>\n",
              "      <td>0.9997</td>\n",
              "      <td>0.9997</td>\n",
              "      <td>0.9997</td>\n",
              "      <td>0.9998</td>\n",
              "    </tr>\n",
              "    <tr>\n",
              "      <th>3.50</th>\n",
              "      <td>0.9998</td>\n",
              "      <td>0.9998</td>\n",
              "      <td>0.9998</td>\n",
              "      <td>0.9998</td>\n",
              "      <td>0.9998</td>\n",
              "      <td>0.9998</td>\n",
              "      <td>0.9998</td>\n",
              "      <td>0.9998</td>\n",
              "      <td>0.9998</td>\n",
              "      <td>0.9998</td>\n",
              "    </tr>\n",
              "    <tr>\n",
              "      <th>3.60</th>\n",
              "      <td>0.9998</td>\n",
              "      <td>0.9998</td>\n",
              "      <td>0.9999</td>\n",
              "      <td>0.9999</td>\n",
              "      <td>0.9999</td>\n",
              "      <td>0.9999</td>\n",
              "      <td>0.9999</td>\n",
              "      <td>0.9999</td>\n",
              "      <td>0.9999</td>\n",
              "      <td>0.9999</td>\n",
              "    </tr>\n",
              "    <tr>\n",
              "      <th>3.70</th>\n",
              "      <td>0.9999</td>\n",
              "      <td>0.9999</td>\n",
              "      <td>0.9999</td>\n",
              "      <td>0.9999</td>\n",
              "      <td>0.9999</td>\n",
              "      <td>0.9999</td>\n",
              "      <td>0.9999</td>\n",
              "      <td>0.9999</td>\n",
              "      <td>0.9999</td>\n",
              "      <td>0.9999</td>\n",
              "    </tr>\n",
              "    <tr>\n",
              "      <th>3.80</th>\n",
              "      <td>0.9999</td>\n",
              "      <td>0.9999</td>\n",
              "      <td>0.9999</td>\n",
              "      <td>0.9999</td>\n",
              "      <td>0.9999</td>\n",
              "      <td>0.9999</td>\n",
              "      <td>0.9999</td>\n",
              "      <td>0.9999</td>\n",
              "      <td>0.9999</td>\n",
              "      <td>0.9999</td>\n",
              "    </tr>\n",
              "    <tr>\n",
              "      <th>3.90</th>\n",
              "      <td>1.0000</td>\n",
              "      <td>1.0000</td>\n",
              "      <td>1.0000</td>\n",
              "      <td>1.0000</td>\n",
              "      <td>1.0000</td>\n",
              "      <td>1.0000</td>\n",
              "      <td>1.0000</td>\n",
              "      <td>1.0000</td>\n",
              "      <td>1.0000</td>\n",
              "      <td>1.0000</td>\n",
              "    </tr>\n",
              "  </tbody>\n",
              "</table>\n",
              "</div>"
            ],
            "text/plain": [
              "Z       0.00    0.01    0.02    0.03  ...    0.06    0.07    0.08    0.09\n",
              "0.00  0.5000  0.5040  0.5080  0.5120  ...  0.5239  0.5279  0.5319  0.5359\n",
              "0.10  0.5398  0.5438  0.5478  0.5517  ...  0.5636  0.5675  0.5714  0.5753\n",
              "0.20  0.5793  0.5832  0.5871  0.5910  ...  0.6026  0.6064  0.6103  0.6141\n",
              "0.30  0.6179  0.6217  0.6255  0.6293  ...  0.6406  0.6443  0.6480  0.6517\n",
              "0.40  0.6554  0.6591  0.6628  0.6664  ...  0.6772  0.6808  0.6844  0.6879\n",
              "0.50  0.6915  0.6950  0.6985  0.7019  ...  0.7123  0.7157  0.7190  0.7224\n",
              "0.60  0.7257  0.7291  0.7324  0.7357  ...  0.7454  0.7486  0.7517  0.7549\n",
              "0.70  0.7580  0.7611  0.7642  0.7673  ...  0.7764  0.7794  0.7823  0.7852\n",
              "0.80  0.7881  0.7910  0.7939  0.7967  ...  0.8051  0.8078  0.8106  0.8133\n",
              "0.90  0.8159  0.8186  0.8212  0.8238  ...  0.8315  0.8340  0.8365  0.8389\n",
              "1.00  0.8413  0.8438  0.8461  0.8485  ...  0.8554  0.8577  0.8599  0.8621\n",
              "1.10  0.8643  0.8665  0.8686  0.8708  ...  0.8770  0.8790  0.8810  0.8830\n",
              "1.20  0.8849  0.8869  0.8888  0.8907  ...  0.8962  0.8980  0.8997  0.9015\n",
              "1.30  0.9032  0.9049  0.9066  0.9082  ...  0.9131  0.9147  0.9162  0.9177\n",
              "1.40  0.9192  0.9207  0.9222  0.9236  ...  0.9279  0.9292  0.9306  0.9319\n",
              "1.50  0.9332  0.9345  0.9357  0.9370  ...  0.9406  0.9418  0.9429  0.9441\n",
              "1.60  0.9452  0.9463  0.9474  0.9484  ...  0.9515  0.9525  0.9535  0.9545\n",
              "1.70  0.9554  0.9564  0.9573  0.9582  ...  0.9608  0.9616  0.9625  0.9633\n",
              "1.80  0.9641  0.9649  0.9656  0.9664  ...  0.9686  0.9693  0.9699  0.9706\n",
              "1.90  0.9713  0.9719  0.9726  0.9732  ...  0.9750  0.9756  0.9761  0.9767\n",
              "2.00  0.9772  0.9778  0.9783  0.9788  ...  0.9803  0.9808  0.9812  0.9817\n",
              "2.10  0.9821  0.9826  0.9830  0.9834  ...  0.9846  0.9850  0.9854  0.9857\n",
              "2.20  0.9861  0.9864  0.9868  0.9871  ...  0.9881  0.9884  0.9887  0.9890\n",
              "2.30  0.9893  0.9896  0.9898  0.9901  ...  0.9909  0.9911  0.9913  0.9916\n",
              "2.40  0.9918  0.9920  0.9922  0.9925  ...  0.9931  0.9932  0.9934  0.9936\n",
              "2.50  0.9938  0.9940  0.9941  0.9943  ...  0.9948  0.9949  0.9951  0.9952\n",
              "2.60  0.9953  0.9955  0.9956  0.9957  ...  0.9961  0.9962  0.9963  0.9964\n",
              "2.70  0.9965  0.9966  0.9967  0.9968  ...  0.9971  0.9972  0.9973  0.9974\n",
              "2.80  0.9974  0.9975  0.9976  0.9977  ...  0.9979  0.9979  0.9980  0.9981\n",
              "2.90  0.9981  0.9982  0.9982  0.9983  ...  0.9985  0.9985  0.9986  0.9986\n",
              "3.00  0.9987  0.9987  0.9987  0.9988  ...  0.9989  0.9989  0.9990  0.9990\n",
              "3.10  0.9990  0.9991  0.9991  0.9991  ...  0.9992  0.9992  0.9993  0.9993\n",
              "3.20  0.9993  0.9993  0.9994  0.9994  ...  0.9994  0.9995  0.9995  0.9995\n",
              "3.30  0.9995  0.9995  0.9995  0.9996  ...  0.9996  0.9996  0.9996  0.9997\n",
              "3.40  0.9997  0.9997  0.9997  0.9997  ...  0.9997  0.9997  0.9997  0.9998\n",
              "3.50  0.9998  0.9998  0.9998  0.9998  ...  0.9998  0.9998  0.9998  0.9998\n",
              "3.60  0.9998  0.9998  0.9999  0.9999  ...  0.9999  0.9999  0.9999  0.9999\n",
              "3.70  0.9999  0.9999  0.9999  0.9999  ...  0.9999  0.9999  0.9999  0.9999\n",
              "3.80  0.9999  0.9999  0.9999  0.9999  ...  0.9999  0.9999  0.9999  0.9999\n",
              "3.90  1.0000  1.0000  1.0000  1.0000  ...  1.0000  1.0000  1.0000  1.0000\n",
              "\n",
              "[40 rows x 10 columns]"
            ]
          },
          "metadata": {
            "tags": []
          },
          "execution_count": 38
        }
      ]
    },
    {
      "cell_type": "code",
      "metadata": {
        "id": "6g3LcAtooxyp"
      },
      "source": [
        "media = 1.70\n",
        "dp = 0.1\n",
        "x = 1.80"
      ],
      "execution_count": 39,
      "outputs": []
    },
    {
      "cell_type": "code",
      "metadata": {
        "colab": {
          "base_uri": "https://localhost:8080/"
        },
        "id": "BTXB7SUUTfth",
        "outputId": "92055d94-15e5-429a-f978-7b89d1f6448a"
      },
      "source": [
        "Z = (x - media)/dp\n",
        "Z"
      ],
      "execution_count": 40,
      "outputs": [
        {
          "output_type": "execute_result",
          "data": {
            "text/plain": [
              "1.0000000000000009"
            ]
          },
          "metadata": {
            "tags": []
          },
          "execution_count": 40
        }
      ]
    },
    {
      "cell_type": "code",
      "metadata": {
        "colab": {
          "base_uri": "https://localhost:8080/"
        },
        "id": "sWOfTs6bTlwX",
        "outputId": "d56214c5-51fa-4eb8-f545-8df3f49d711b"
      },
      "source": [
        "prob = 0.8413\n",
        "prob"
      ],
      "execution_count": 41,
      "outputs": [
        {
          "output_type": "execute_result",
          "data": {
            "text/plain": [
              "0.8413"
            ]
          },
          "metadata": {
            "tags": []
          },
          "execution_count": 41
        }
      ]
    },
    {
      "cell_type": "code",
      "metadata": {
        "colab": {
          "base_uri": "https://localhost:8080/"
        },
        "id": "GIF89WozT6Qp",
        "outputId": "46a1bc1f-6fa3-48bd-9d5a-9e1421f7ba64"
      },
      "source": [
        "prob=norm.cdf(Z)\n",
        "prob"
      ],
      "execution_count": 42,
      "outputs": [
        {
          "output_type": "execute_result",
          "data": {
            "text/plain": [
              "0.8413447460685431"
            ]
          },
          "metadata": {
            "tags": []
          },
          "execution_count": 42
        }
      ]
    },
    {
      "cell_type": "code",
      "metadata": {
        "colab": {
          "base_uri": "https://localhost:8080/"
        },
        "id": "-CfjZqCbUKzf",
        "outputId": "c8a67076-6f59-464b-df99-74f305581a7c"
      },
      "source": [
        "prob = norm.cdf((85-70)/5)\n",
        "prob"
      ],
      "execution_count": 43,
      "outputs": [
        {
          "output_type": "execute_result",
          "data": {
            "text/plain": [
              "0.9986501019683699"
            ]
          },
          "metadata": {
            "tags": []
          },
          "execution_count": 43
        }
      ]
    },
    {
      "cell_type": "code",
      "metadata": {
        "colab": {
          "base_uri": "https://localhost:8080/"
        },
        "id": "HTZJHFtCUniI",
        "outputId": "2d2d636c-b5e9-4719-99f6-e6e3db4fce36"
      },
      "source": [
        "prob = norm.cdf((1.80-1.70)/0.1) - norm.cdf((1.60-1.70)/0.1)\n",
        "prob"
      ],
      "execution_count": 44,
      "outputs": [
        {
          "output_type": "execute_result",
          "data": {
            "text/plain": [
              "0.6826894921370857"
            ]
          },
          "metadata": {
            "tags": []
          },
          "execution_count": 44
        }
      ]
    },
    {
      "cell_type": "code",
      "metadata": {
        "colab": {
          "base_uri": "https://localhost:8080/"
        },
        "id": "YUL0AHnEVGuz",
        "outputId": "0c48e2ab-7e33-4db7-db6f-4ddecab5fe06"
      },
      "source": [
        "prob = (norm.cdf((1.80-1.70)/0.1) - 0.5)*2\n",
        "prob"
      ],
      "execution_count": 45,
      "outputs": [
        {
          "output_type": "execute_result",
          "data": {
            "text/plain": [
              "0.6826894921370863"
            ]
          },
          "metadata": {
            "tags": []
          },
          "execution_count": 45
        }
      ]
    },
    {
      "cell_type": "code",
      "metadata": {
        "colab": {
          "base_uri": "https://localhost:8080/"
        },
        "id": "dyx1WDDgVwBQ",
        "outputId": "b5607dff-b7c3-48cc-a029-4cd51682bfbc"
      },
      "source": [
        "prob = norm.cdf((1.80-1.70)/0.1) - (1 - norm.cdf((1.80-1.70)/0.1))\n",
        "prob"
      ],
      "execution_count": 46,
      "outputs": [
        {
          "output_type": "execute_result",
          "data": {
            "text/plain": [
              "0.6826894921370863"
            ]
          },
          "metadata": {
            "tags": []
          },
          "execution_count": 46
        }
      ]
    },
    {
      "cell_type": "code",
      "metadata": {
        "colab": {
          "base_uri": "https://localhost:8080/"
        },
        "id": "JXTvdMV7WY5g",
        "outputId": "701b6292-e434-45a7-d140-4bc0490eb989"
      },
      "source": [
        "media = 300\n",
        "dp = 50\n",
        "x1 = 250\n",
        "x2 = 350\n",
        "prob = norm.cdf((x1-media)/dp) - (norm.cdf((x2-media)/dp))\n",
        "prob*100"
      ],
      "execution_count": 47,
      "outputs": [
        {
          "output_type": "execute_result",
          "data": {
            "text/plain": [
              "-68.26894921370858"
            ]
          },
          "metadata": {
            "tags": []
          },
          "execution_count": 47
        }
      ]
    },
    {
      "cell_type": "code",
      "metadata": {
        "colab": {
          "base_uri": "https://localhost:8080/"
        },
        "id": "kKfec8jWXMxx",
        "outputId": "30c9024d-d2e5-43c0-8ee3-35ce3b5a51ba"
      },
      "source": [
        "media = 300\n",
        "dp = 50\n",
        "x1 = 400\n",
        "x2 = 500\n",
        "prob = norm.cdf((x1-media)/dp) - (norm.cdf((x2-media)/dp))\n",
        "prob*100"
      ],
      "execution_count": 48,
      "outputs": [
        {
          "output_type": "execute_result",
          "data": {
            "text/plain": [
              "-2.271846070634609"
            ]
          },
          "metadata": {
            "tags": []
          },
          "execution_count": 48
        }
      ]
    },
    {
      "cell_type": "code",
      "metadata": {
        "colab": {
          "base_uri": "https://localhost:8080/"
        },
        "id": "fVNe-1tRXFSU",
        "outputId": "fe3c0292-e792-4391-da37-af86fa31ebb2"
      },
      "source": [
        "media = 1.70\n",
        "dp = 0.1\n",
        "x1 = 1.90\n",
        "prob = 1- (norm.cdf((x1-media)/dp))\n",
        "prob*100"
      ],
      "execution_count": 49,
      "outputs": [
        {
          "output_type": "execute_result",
          "data": {
            "text/plain": [
              "2.275013194817921"
            ]
          },
          "metadata": {
            "tags": []
          },
          "execution_count": 49
        }
      ]
    },
    {
      "cell_type": "code",
      "metadata": {
        "colab": {
          "base_uri": "https://localhost:8080/"
        },
        "id": "bjVjxz7EYZV0",
        "outputId": "77c9839c-37f6-4849-db75-4a2bd1d5f7d5"
      },
      "source": [
        "media = 1.70\n",
        "dp = 0.1\n",
        "x1 = 1.90\n",
        "prob = (norm.cdf(-(x1-media)/dp))\n",
        "prob*100"
      ],
      "execution_count": 50,
      "outputs": [
        {
          "output_type": "execute_result",
          "data": {
            "text/plain": [
              "2.2750131948179217"
            ]
          },
          "metadata": {
            "tags": []
          },
          "execution_count": 50
        }
      ]
    },
    {
      "cell_type": "code",
      "metadata": {
        "colab": {
          "base_uri": "https://localhost:8080/"
        },
        "id": "DGjwNXcxYbaL",
        "outputId": "caefe7a5-a789-4dd1-c9a5-3940dc404dab"
      },
      "source": [
        "media = 720\n",
        "dp = 30\n",
        "x1 = 650\n",
        "x2 = 750\n",
        "x3 = 800\n",
        "x4 = 700\n",
        "prob = norm.cdf((x1-media)/dp) - (norm.cdf((x2-media)/dp))\n",
        "prob*100"
      ],
      "execution_count": 51,
      "outputs": [
        {
          "output_type": "execute_result",
          "data": {
            "text/plain": [
              "-83.15294174398976"
            ]
          },
          "metadata": {
            "tags": []
          },
          "execution_count": 51
        }
      ]
    },
    {
      "cell_type": "code",
      "metadata": {
        "colab": {
          "base_uri": "https://localhost:8080/"
        },
        "id": "8EZYtk20Y_gl",
        "outputId": "26254dd7-9467-46a0-ad7c-b6af1ff41d2f"
      },
      "source": [
        "prob = (norm.cdf(-(x3-media)/dp))\n",
        "prob*100"
      ],
      "execution_count": 52,
      "outputs": [
        {
          "output_type": "execute_result",
          "data": {
            "text/plain": [
              "0.3830380567589736"
            ]
          },
          "metadata": {
            "tags": []
          },
          "execution_count": 52
        }
      ]
    },
    {
      "cell_type": "code",
      "metadata": {
        "colab": {
          "base_uri": "https://localhost:8080/"
        },
        "id": "HnOgB0moZNit",
        "outputId": "ae2a098a-0779-422a-e6b8-e1d877a83b00"
      },
      "source": [
        "prob = (norm.cdf((x4-media)/dp))\n",
        "prob*100"
      ],
      "execution_count": 53,
      "outputs": [
        {
          "output_type": "execute_result",
          "data": {
            "text/plain": [
              "25.24925375469229"
            ]
          },
          "metadata": {
            "tags": []
          },
          "execution_count": 53
        }
      ]
    },
    {
      "cell_type": "code",
      "metadata": {
        "colab": {
          "base_uri": "https://localhost:8080/"
        },
        "id": "TzCLDlpiZQ58",
        "outputId": "f23e6b02-8f59-428a-d638-ee89c60e57ea"
      },
      "source": [
        "prob = norm.cdf(1.96)\n",
        "prob"
      ],
      "execution_count": 54,
      "outputs": [
        {
          "output_type": "execute_result",
          "data": {
            "text/plain": [
              "0.9750021048517795"
            ]
          },
          "metadata": {
            "tags": []
          },
          "execution_count": 54
        }
      ]
    },
    {
      "cell_type": "code",
      "metadata": {
        "colab": {
          "base_uri": "https://localhost:8080/"
        },
        "id": "LSURMz_GcKc7",
        "outputId": "3b205bed-36f5-4abb-b3a2-40ee0278ced5"
      },
      "source": [
        "prob = 1-norm.cdf(2.15)\n",
        "prob"
      ],
      "execution_count": 55,
      "outputs": [
        {
          "output_type": "execute_result",
          "data": {
            "text/plain": [
              "0.015777607391090465"
            ]
          },
          "metadata": {
            "tags": []
          },
          "execution_count": 55
        }
      ]
    },
    {
      "cell_type": "code",
      "metadata": {
        "colab": {
          "base_uri": "https://localhost:8080/"
        },
        "id": "tRWdVpP5cTiw",
        "outputId": "d6fe8803-6cf2-467b-8c61-5b33796f84f5"
      },
      "source": [
        "prob = norm.cdf(-0.78)\n",
        "prob"
      ],
      "execution_count": 56,
      "outputs": [
        {
          "output_type": "execute_result",
          "data": {
            "text/plain": [
              "0.21769543758573312"
            ]
          },
          "metadata": {
            "tags": []
          },
          "execution_count": 56
        }
      ]
    },
    {
      "cell_type": "code",
      "metadata": {
        "colab": {
          "base_uri": "https://localhost:8080/"
        },
        "id": "sfsmnD5-cdjl",
        "outputId": "8a997bb5-e093-4875-d74c-a60a3bcd8cea"
      },
      "source": [
        "prob = 1-norm.cdf(0.59)\n",
        "prob"
      ],
      "execution_count": 57,
      "outputs": [
        {
          "output_type": "execute_result",
          "data": {
            "text/plain": [
              "0.27759532475346493"
            ]
          },
          "metadata": {
            "tags": []
          },
          "execution_count": 57
        }
      ]
    },
    {
      "cell_type": "markdown",
      "metadata": {
        "id": "BQXyi-ZUcyGE"
      },
      "source": [
        "#Amostragem"
      ]
    },
    {
      "cell_type": "markdown",
      "metadata": {
        "id": "wt-5Pnedc3KI"
      },
      "source": [
        "##Populacao e amostragem"
      ]
    },
    {
      "cell_type": "code",
      "metadata": {
        "colab": {
          "base_uri": "https://localhost:8080/"
        },
        "id": "wgPDiprMch6V",
        "outputId": "d016c0b8-6a90-43f9-bae3-dca8ba1caa0e"
      },
      "source": [
        "dados.shape[0]"
      ],
      "execution_count": 58,
      "outputs": [
        {
          "output_type": "execute_result",
          "data": {
            "text/plain": [
              "76840"
            ]
          },
          "metadata": {
            "tags": []
          },
          "execution_count": 58
        }
      ]
    },
    {
      "cell_type": "code",
      "metadata": {
        "colab": {
          "base_uri": "https://localhost:8080/"
        },
        "id": "-_FP1H2Meai2",
        "outputId": "cab9a48b-cfcd-4639-c45d-46afd9e773a4"
      },
      "source": [
        "dados.Renda.mean()"
      ],
      "execution_count": 59,
      "outputs": [
        {
          "output_type": "execute_result",
          "data": {
            "text/plain": [
              "2000.3831988547631"
            ]
          },
          "metadata": {
            "tags": []
          },
          "execution_count": 59
        }
      ]
    },
    {
      "cell_type": "code",
      "metadata": {
        "id": "h3MnchT-hQy_"
      },
      "source": [
        "amostra = dados.sample(n = 100, random_state=101)"
      ],
      "execution_count": 60,
      "outputs": []
    },
    {
      "cell_type": "code",
      "metadata": {
        "colab": {
          "base_uri": "https://localhost:8080/"
        },
        "id": "JU8NVfZlhh2i",
        "outputId": "707e7a23-a682-46fb-9963-9a7f1ace35cf"
      },
      "source": [
        "amostra.shape[0]"
      ],
      "execution_count": 61,
      "outputs": [
        {
          "output_type": "execute_result",
          "data": {
            "text/plain": [
              "100"
            ]
          },
          "metadata": {
            "tags": []
          },
          "execution_count": 61
        }
      ]
    },
    {
      "cell_type": "code",
      "metadata": {
        "colab": {
          "base_uri": "https://localhost:8080/"
        },
        "id": "wf3XBGzRhjTo",
        "outputId": "b57cadf9-e64a-4fb1-dfd7-458befc6c8b9"
      },
      "source": [
        "amostra.Renda.mean()"
      ],
      "execution_count": 62,
      "outputs": [
        {
          "output_type": "execute_result",
          "data": {
            "text/plain": [
              "2150.85"
            ]
          },
          "metadata": {
            "tags": []
          },
          "execution_count": 62
        }
      ]
    },
    {
      "cell_type": "code",
      "metadata": {
        "colab": {
          "base_uri": "https://localhost:8080/"
        },
        "id": "9AhDiBx5hogZ",
        "outputId": "f00d5148-369b-48ac-a8a4-0f5fe6b339fd"
      },
      "source": [
        "dados.Sexo.value_counts(normalize=True)"
      ],
      "execution_count": 63,
      "outputs": [
        {
          "output_type": "execute_result",
          "data": {
            "text/plain": [
              "0    0.692998\n",
              "1    0.307002\n",
              "Name: Sexo, dtype: float64"
            ]
          },
          "metadata": {
            "tags": []
          },
          "execution_count": 63
        }
      ]
    },
    {
      "cell_type": "code",
      "metadata": {
        "colab": {
          "base_uri": "https://localhost:8080/"
        },
        "id": "vwSl__94h47c",
        "outputId": "4c72c0cf-4994-40fb-9446-a4be6f57daa2"
      },
      "source": [
        "amostra.Sexo.value_counts(normalize=True)"
      ],
      "execution_count": 64,
      "outputs": [
        {
          "output_type": "execute_result",
          "data": {
            "text/plain": [
              "0    0.69\n",
              "1    0.31\n",
              "Name: Sexo, dtype: float64"
            ]
          },
          "metadata": {
            "tags": []
          },
          "execution_count": 64
        }
      ]
    },
    {
      "cell_type": "markdown",
      "metadata": {
        "id": "5TOHrVfpjS5y"
      },
      "source": [
        "#Estimação"
      ]
    },
    {
      "cell_type": "markdown",
      "metadata": {
        "id": "BMTZe6mbjVbx"
      },
      "source": [
        "##Teorema do limíte central"
      ]
    },
    {
      "cell_type": "code",
      "metadata": {
        "id": "WYGteoRBh7kJ"
      },
      "source": [
        "n = 2000\n",
        "total_amostras = 1500"
      ],
      "execution_count": 65,
      "outputs": []
    },
    {
      "cell_type": "code",
      "metadata": {
        "id": "RUHaZigUk0xu"
      },
      "source": [
        "amostras = pd.DataFrame()"
      ],
      "execution_count": 66,
      "outputs": []
    },
    {
      "cell_type": "code",
      "metadata": {
        "colab": {
          "base_uri": "https://localhost:8080/",
          "height": 0
        },
        "id": "9LxXoIA2j6gY",
        "outputId": "64862f31-4032-42d8-a89c-14981a8c2e90"
      },
      "source": [
        "for i in range(total_amostras):\n",
        "   _ = dados.Idade.sample(2000)\n",
        "   _.index = range(0, len(_))\n",
        "   amostras['Amostra_' + str(i)] = _\n",
        "\n",
        "amostras"
      ],
      "execution_count": 67,
      "outputs": [
        {
          "output_type": "execute_result",
          "data": {
            "text/html": [
              "<div>\n",
              "<style scoped>\n",
              "    .dataframe tbody tr th:only-of-type {\n",
              "        vertical-align: middle;\n",
              "    }\n",
              "\n",
              "    .dataframe tbody tr th {\n",
              "        vertical-align: top;\n",
              "    }\n",
              "\n",
              "    .dataframe thead th {\n",
              "        text-align: right;\n",
              "    }\n",
              "</style>\n",
              "<table border=\"1\" class=\"dataframe\">\n",
              "  <thead>\n",
              "    <tr style=\"text-align: right;\">\n",
              "      <th></th>\n",
              "      <th>Amostra_0</th>\n",
              "      <th>Amostra_1</th>\n",
              "      <th>Amostra_2</th>\n",
              "      <th>Amostra_3</th>\n",
              "      <th>Amostra_4</th>\n",
              "      <th>Amostra_5</th>\n",
              "      <th>Amostra_6</th>\n",
              "      <th>Amostra_7</th>\n",
              "      <th>Amostra_8</th>\n",
              "      <th>Amostra_9</th>\n",
              "      <th>Amostra_10</th>\n",
              "      <th>Amostra_11</th>\n",
              "      <th>Amostra_12</th>\n",
              "      <th>Amostra_13</th>\n",
              "      <th>Amostra_14</th>\n",
              "      <th>Amostra_15</th>\n",
              "      <th>Amostra_16</th>\n",
              "      <th>Amostra_17</th>\n",
              "      <th>Amostra_18</th>\n",
              "      <th>Amostra_19</th>\n",
              "      <th>Amostra_20</th>\n",
              "      <th>Amostra_21</th>\n",
              "      <th>Amostra_22</th>\n",
              "      <th>Amostra_23</th>\n",
              "      <th>Amostra_24</th>\n",
              "      <th>Amostra_25</th>\n",
              "      <th>Amostra_26</th>\n",
              "      <th>Amostra_27</th>\n",
              "      <th>Amostra_28</th>\n",
              "      <th>Amostra_29</th>\n",
              "      <th>Amostra_30</th>\n",
              "      <th>Amostra_31</th>\n",
              "      <th>Amostra_32</th>\n",
              "      <th>Amostra_33</th>\n",
              "      <th>Amostra_34</th>\n",
              "      <th>Amostra_35</th>\n",
              "      <th>Amostra_36</th>\n",
              "      <th>Amostra_37</th>\n",
              "      <th>Amostra_38</th>\n",
              "      <th>Amostra_39</th>\n",
              "      <th>...</th>\n",
              "      <th>Amostra_1460</th>\n",
              "      <th>Amostra_1461</th>\n",
              "      <th>Amostra_1462</th>\n",
              "      <th>Amostra_1463</th>\n",
              "      <th>Amostra_1464</th>\n",
              "      <th>Amostra_1465</th>\n",
              "      <th>Amostra_1466</th>\n",
              "      <th>Amostra_1467</th>\n",
              "      <th>Amostra_1468</th>\n",
              "      <th>Amostra_1469</th>\n",
              "      <th>Amostra_1470</th>\n",
              "      <th>Amostra_1471</th>\n",
              "      <th>Amostra_1472</th>\n",
              "      <th>Amostra_1473</th>\n",
              "      <th>Amostra_1474</th>\n",
              "      <th>Amostra_1475</th>\n",
              "      <th>Amostra_1476</th>\n",
              "      <th>Amostra_1477</th>\n",
              "      <th>Amostra_1478</th>\n",
              "      <th>Amostra_1479</th>\n",
              "      <th>Amostra_1480</th>\n",
              "      <th>Amostra_1481</th>\n",
              "      <th>Amostra_1482</th>\n",
              "      <th>Amostra_1483</th>\n",
              "      <th>Amostra_1484</th>\n",
              "      <th>Amostra_1485</th>\n",
              "      <th>Amostra_1486</th>\n",
              "      <th>Amostra_1487</th>\n",
              "      <th>Amostra_1488</th>\n",
              "      <th>Amostra_1489</th>\n",
              "      <th>Amostra_1490</th>\n",
              "      <th>Amostra_1491</th>\n",
              "      <th>Amostra_1492</th>\n",
              "      <th>Amostra_1493</th>\n",
              "      <th>Amostra_1494</th>\n",
              "      <th>Amostra_1495</th>\n",
              "      <th>Amostra_1496</th>\n",
              "      <th>Amostra_1497</th>\n",
              "      <th>Amostra_1498</th>\n",
              "      <th>Amostra_1499</th>\n",
              "    </tr>\n",
              "  </thead>\n",
              "  <tbody>\n",
              "    <tr>\n",
              "      <th>0</th>\n",
              "      <td>41</td>\n",
              "      <td>33</td>\n",
              "      <td>42</td>\n",
              "      <td>54</td>\n",
              "      <td>29</td>\n",
              "      <td>49</td>\n",
              "      <td>36</td>\n",
              "      <td>25</td>\n",
              "      <td>39</td>\n",
              "      <td>27</td>\n",
              "      <td>29</td>\n",
              "      <td>55</td>\n",
              "      <td>43</td>\n",
              "      <td>45</td>\n",
              "      <td>64</td>\n",
              "      <td>33</td>\n",
              "      <td>32</td>\n",
              "      <td>65</td>\n",
              "      <td>79</td>\n",
              "      <td>60</td>\n",
              "      <td>66</td>\n",
              "      <td>73</td>\n",
              "      <td>74</td>\n",
              "      <td>30</td>\n",
              "      <td>38</td>\n",
              "      <td>42</td>\n",
              "      <td>24</td>\n",
              "      <td>49</td>\n",
              "      <td>70</td>\n",
              "      <td>37</td>\n",
              "      <td>39</td>\n",
              "      <td>52</td>\n",
              "      <td>63</td>\n",
              "      <td>63</td>\n",
              "      <td>40</td>\n",
              "      <td>25</td>\n",
              "      <td>33</td>\n",
              "      <td>39</td>\n",
              "      <td>38</td>\n",
              "      <td>23</td>\n",
              "      <td>...</td>\n",
              "      <td>30</td>\n",
              "      <td>48</td>\n",
              "      <td>44</td>\n",
              "      <td>41</td>\n",
              "      <td>28</td>\n",
              "      <td>24</td>\n",
              "      <td>50</td>\n",
              "      <td>24</td>\n",
              "      <td>42</td>\n",
              "      <td>27</td>\n",
              "      <td>40</td>\n",
              "      <td>35</td>\n",
              "      <td>43</td>\n",
              "      <td>31</td>\n",
              "      <td>46</td>\n",
              "      <td>46</td>\n",
              "      <td>60</td>\n",
              "      <td>53</td>\n",
              "      <td>40</td>\n",
              "      <td>64</td>\n",
              "      <td>29</td>\n",
              "      <td>37</td>\n",
              "      <td>71</td>\n",
              "      <td>59</td>\n",
              "      <td>37</td>\n",
              "      <td>46</td>\n",
              "      <td>33</td>\n",
              "      <td>42</td>\n",
              "      <td>82</td>\n",
              "      <td>48</td>\n",
              "      <td>36</td>\n",
              "      <td>52</td>\n",
              "      <td>57</td>\n",
              "      <td>52</td>\n",
              "      <td>54</td>\n",
              "      <td>31</td>\n",
              "      <td>58</td>\n",
              "      <td>34</td>\n",
              "      <td>35</td>\n",
              "      <td>31</td>\n",
              "    </tr>\n",
              "    <tr>\n",
              "      <th>1</th>\n",
              "      <td>39</td>\n",
              "      <td>44</td>\n",
              "      <td>52</td>\n",
              "      <td>61</td>\n",
              "      <td>61</td>\n",
              "      <td>41</td>\n",
              "      <td>26</td>\n",
              "      <td>62</td>\n",
              "      <td>36</td>\n",
              "      <td>34</td>\n",
              "      <td>61</td>\n",
              "      <td>43</td>\n",
              "      <td>49</td>\n",
              "      <td>29</td>\n",
              "      <td>43</td>\n",
              "      <td>47</td>\n",
              "      <td>47</td>\n",
              "      <td>59</td>\n",
              "      <td>64</td>\n",
              "      <td>50</td>\n",
              "      <td>40</td>\n",
              "      <td>75</td>\n",
              "      <td>54</td>\n",
              "      <td>47</td>\n",
              "      <td>60</td>\n",
              "      <td>58</td>\n",
              "      <td>41</td>\n",
              "      <td>35</td>\n",
              "      <td>53</td>\n",
              "      <td>52</td>\n",
              "      <td>26</td>\n",
              "      <td>42</td>\n",
              "      <td>29</td>\n",
              "      <td>64</td>\n",
              "      <td>55</td>\n",
              "      <td>47</td>\n",
              "      <td>28</td>\n",
              "      <td>45</td>\n",
              "      <td>49</td>\n",
              "      <td>60</td>\n",
              "      <td>...</td>\n",
              "      <td>50</td>\n",
              "      <td>55</td>\n",
              "      <td>25</td>\n",
              "      <td>36</td>\n",
              "      <td>48</td>\n",
              "      <td>60</td>\n",
              "      <td>29</td>\n",
              "      <td>68</td>\n",
              "      <td>21</td>\n",
              "      <td>26</td>\n",
              "      <td>52</td>\n",
              "      <td>55</td>\n",
              "      <td>63</td>\n",
              "      <td>56</td>\n",
              "      <td>50</td>\n",
              "      <td>47</td>\n",
              "      <td>28</td>\n",
              "      <td>50</td>\n",
              "      <td>21</td>\n",
              "      <td>32</td>\n",
              "      <td>47</td>\n",
              "      <td>32</td>\n",
              "      <td>69</td>\n",
              "      <td>32</td>\n",
              "      <td>50</td>\n",
              "      <td>35</td>\n",
              "      <td>35</td>\n",
              "      <td>63</td>\n",
              "      <td>34</td>\n",
              "      <td>42</td>\n",
              "      <td>59</td>\n",
              "      <td>24</td>\n",
              "      <td>46</td>\n",
              "      <td>47</td>\n",
              "      <td>34</td>\n",
              "      <td>71</td>\n",
              "      <td>36</td>\n",
              "      <td>91</td>\n",
              "      <td>59</td>\n",
              "      <td>33</td>\n",
              "    </tr>\n",
              "    <tr>\n",
              "      <th>2</th>\n",
              "      <td>52</td>\n",
              "      <td>55</td>\n",
              "      <td>49</td>\n",
              "      <td>47</td>\n",
              "      <td>53</td>\n",
              "      <td>18</td>\n",
              "      <td>39</td>\n",
              "      <td>44</td>\n",
              "      <td>39</td>\n",
              "      <td>55</td>\n",
              "      <td>41</td>\n",
              "      <td>52</td>\n",
              "      <td>54</td>\n",
              "      <td>53</td>\n",
              "      <td>40</td>\n",
              "      <td>35</td>\n",
              "      <td>49</td>\n",
              "      <td>55</td>\n",
              "      <td>58</td>\n",
              "      <td>58</td>\n",
              "      <td>55</td>\n",
              "      <td>58</td>\n",
              "      <td>47</td>\n",
              "      <td>64</td>\n",
              "      <td>34</td>\n",
              "      <td>24</td>\n",
              "      <td>37</td>\n",
              "      <td>48</td>\n",
              "      <td>59</td>\n",
              "      <td>36</td>\n",
              "      <td>54</td>\n",
              "      <td>32</td>\n",
              "      <td>35</td>\n",
              "      <td>59</td>\n",
              "      <td>58</td>\n",
              "      <td>29</td>\n",
              "      <td>41</td>\n",
              "      <td>68</td>\n",
              "      <td>35</td>\n",
              "      <td>44</td>\n",
              "      <td>...</td>\n",
              "      <td>31</td>\n",
              "      <td>20</td>\n",
              "      <td>29</td>\n",
              "      <td>40</td>\n",
              "      <td>75</td>\n",
              "      <td>52</td>\n",
              "      <td>48</td>\n",
              "      <td>34</td>\n",
              "      <td>44</td>\n",
              "      <td>18</td>\n",
              "      <td>58</td>\n",
              "      <td>48</td>\n",
              "      <td>64</td>\n",
              "      <td>44</td>\n",
              "      <td>42</td>\n",
              "      <td>52</td>\n",
              "      <td>43</td>\n",
              "      <td>64</td>\n",
              "      <td>43</td>\n",
              "      <td>73</td>\n",
              "      <td>29</td>\n",
              "      <td>57</td>\n",
              "      <td>52</td>\n",
              "      <td>56</td>\n",
              "      <td>28</td>\n",
              "      <td>45</td>\n",
              "      <td>65</td>\n",
              "      <td>55</td>\n",
              "      <td>34</td>\n",
              "      <td>43</td>\n",
              "      <td>30</td>\n",
              "      <td>36</td>\n",
              "      <td>53</td>\n",
              "      <td>51</td>\n",
              "      <td>35</td>\n",
              "      <td>26</td>\n",
              "      <td>38</td>\n",
              "      <td>61</td>\n",
              "      <td>39</td>\n",
              "      <td>35</td>\n",
              "    </tr>\n",
              "    <tr>\n",
              "      <th>3</th>\n",
              "      <td>46</td>\n",
              "      <td>18</td>\n",
              "      <td>23</td>\n",
              "      <td>29</td>\n",
              "      <td>31</td>\n",
              "      <td>37</td>\n",
              "      <td>52</td>\n",
              "      <td>56</td>\n",
              "      <td>30</td>\n",
              "      <td>33</td>\n",
              "      <td>58</td>\n",
              "      <td>41</td>\n",
              "      <td>34</td>\n",
              "      <td>32</td>\n",
              "      <td>41</td>\n",
              "      <td>30</td>\n",
              "      <td>26</td>\n",
              "      <td>44</td>\n",
              "      <td>57</td>\n",
              "      <td>47</td>\n",
              "      <td>60</td>\n",
              "      <td>64</td>\n",
              "      <td>39</td>\n",
              "      <td>32</td>\n",
              "      <td>28</td>\n",
              "      <td>38</td>\n",
              "      <td>63</td>\n",
              "      <td>42</td>\n",
              "      <td>46</td>\n",
              "      <td>57</td>\n",
              "      <td>62</td>\n",
              "      <td>41</td>\n",
              "      <td>36</td>\n",
              "      <td>38</td>\n",
              "      <td>40</td>\n",
              "      <td>64</td>\n",
              "      <td>36</td>\n",
              "      <td>48</td>\n",
              "      <td>44</td>\n",
              "      <td>30</td>\n",
              "      <td>...</td>\n",
              "      <td>40</td>\n",
              "      <td>47</td>\n",
              "      <td>31</td>\n",
              "      <td>29</td>\n",
              "      <td>36</td>\n",
              "      <td>42</td>\n",
              "      <td>53</td>\n",
              "      <td>61</td>\n",
              "      <td>34</td>\n",
              "      <td>48</td>\n",
              "      <td>33</td>\n",
              "      <td>47</td>\n",
              "      <td>38</td>\n",
              "      <td>31</td>\n",
              "      <td>51</td>\n",
              "      <td>64</td>\n",
              "      <td>41</td>\n",
              "      <td>27</td>\n",
              "      <td>46</td>\n",
              "      <td>33</td>\n",
              "      <td>28</td>\n",
              "      <td>43</td>\n",
              "      <td>43</td>\n",
              "      <td>40</td>\n",
              "      <td>48</td>\n",
              "      <td>51</td>\n",
              "      <td>43</td>\n",
              "      <td>39</td>\n",
              "      <td>51</td>\n",
              "      <td>30</td>\n",
              "      <td>27</td>\n",
              "      <td>43</td>\n",
              "      <td>30</td>\n",
              "      <td>58</td>\n",
              "      <td>58</td>\n",
              "      <td>43</td>\n",
              "      <td>62</td>\n",
              "      <td>42</td>\n",
              "      <td>41</td>\n",
              "      <td>63</td>\n",
              "    </tr>\n",
              "    <tr>\n",
              "      <th>4</th>\n",
              "      <td>63</td>\n",
              "      <td>57</td>\n",
              "      <td>35</td>\n",
              "      <td>27</td>\n",
              "      <td>18</td>\n",
              "      <td>29</td>\n",
              "      <td>44</td>\n",
              "      <td>32</td>\n",
              "      <td>48</td>\n",
              "      <td>35</td>\n",
              "      <td>35</td>\n",
              "      <td>30</td>\n",
              "      <td>45</td>\n",
              "      <td>45</td>\n",
              "      <td>30</td>\n",
              "      <td>24</td>\n",
              "      <td>42</td>\n",
              "      <td>20</td>\n",
              "      <td>39</td>\n",
              "      <td>34</td>\n",
              "      <td>62</td>\n",
              "      <td>53</td>\n",
              "      <td>53</td>\n",
              "      <td>53</td>\n",
              "      <td>39</td>\n",
              "      <td>37</td>\n",
              "      <td>61</td>\n",
              "      <td>81</td>\n",
              "      <td>36</td>\n",
              "      <td>60</td>\n",
              "      <td>36</td>\n",
              "      <td>60</td>\n",
              "      <td>77</td>\n",
              "      <td>35</td>\n",
              "      <td>47</td>\n",
              "      <td>43</td>\n",
              "      <td>54</td>\n",
              "      <td>37</td>\n",
              "      <td>32</td>\n",
              "      <td>36</td>\n",
              "      <td>...</td>\n",
              "      <td>72</td>\n",
              "      <td>36</td>\n",
              "      <td>39</td>\n",
              "      <td>47</td>\n",
              "      <td>41</td>\n",
              "      <td>35</td>\n",
              "      <td>56</td>\n",
              "      <td>44</td>\n",
              "      <td>61</td>\n",
              "      <td>40</td>\n",
              "      <td>37</td>\n",
              "      <td>44</td>\n",
              "      <td>51</td>\n",
              "      <td>57</td>\n",
              "      <td>38</td>\n",
              "      <td>58</td>\n",
              "      <td>33</td>\n",
              "      <td>66</td>\n",
              "      <td>50</td>\n",
              "      <td>24</td>\n",
              "      <td>55</td>\n",
              "      <td>52</td>\n",
              "      <td>65</td>\n",
              "      <td>31</td>\n",
              "      <td>39</td>\n",
              "      <td>36</td>\n",
              "      <td>79</td>\n",
              "      <td>40</td>\n",
              "      <td>54</td>\n",
              "      <td>50</td>\n",
              "      <td>63</td>\n",
              "      <td>23</td>\n",
              "      <td>43</td>\n",
              "      <td>47</td>\n",
              "      <td>67</td>\n",
              "      <td>34</td>\n",
              "      <td>20</td>\n",
              "      <td>50</td>\n",
              "      <td>48</td>\n",
              "      <td>81</td>\n",
              "    </tr>\n",
              "    <tr>\n",
              "      <th>...</th>\n",
              "      <td>...</td>\n",
              "      <td>...</td>\n",
              "      <td>...</td>\n",
              "      <td>...</td>\n",
              "      <td>...</td>\n",
              "      <td>...</td>\n",
              "      <td>...</td>\n",
              "      <td>...</td>\n",
              "      <td>...</td>\n",
              "      <td>...</td>\n",
              "      <td>...</td>\n",
              "      <td>...</td>\n",
              "      <td>...</td>\n",
              "      <td>...</td>\n",
              "      <td>...</td>\n",
              "      <td>...</td>\n",
              "      <td>...</td>\n",
              "      <td>...</td>\n",
              "      <td>...</td>\n",
              "      <td>...</td>\n",
              "      <td>...</td>\n",
              "      <td>...</td>\n",
              "      <td>...</td>\n",
              "      <td>...</td>\n",
              "      <td>...</td>\n",
              "      <td>...</td>\n",
              "      <td>...</td>\n",
              "      <td>...</td>\n",
              "      <td>...</td>\n",
              "      <td>...</td>\n",
              "      <td>...</td>\n",
              "      <td>...</td>\n",
              "      <td>...</td>\n",
              "      <td>...</td>\n",
              "      <td>...</td>\n",
              "      <td>...</td>\n",
              "      <td>...</td>\n",
              "      <td>...</td>\n",
              "      <td>...</td>\n",
              "      <td>...</td>\n",
              "      <td>...</td>\n",
              "      <td>...</td>\n",
              "      <td>...</td>\n",
              "      <td>...</td>\n",
              "      <td>...</td>\n",
              "      <td>...</td>\n",
              "      <td>...</td>\n",
              "      <td>...</td>\n",
              "      <td>...</td>\n",
              "      <td>...</td>\n",
              "      <td>...</td>\n",
              "      <td>...</td>\n",
              "      <td>...</td>\n",
              "      <td>...</td>\n",
              "      <td>...</td>\n",
              "      <td>...</td>\n",
              "      <td>...</td>\n",
              "      <td>...</td>\n",
              "      <td>...</td>\n",
              "      <td>...</td>\n",
              "      <td>...</td>\n",
              "      <td>...</td>\n",
              "      <td>...</td>\n",
              "      <td>...</td>\n",
              "      <td>...</td>\n",
              "      <td>...</td>\n",
              "      <td>...</td>\n",
              "      <td>...</td>\n",
              "      <td>...</td>\n",
              "      <td>...</td>\n",
              "      <td>...</td>\n",
              "      <td>...</td>\n",
              "      <td>...</td>\n",
              "      <td>...</td>\n",
              "      <td>...</td>\n",
              "      <td>...</td>\n",
              "      <td>...</td>\n",
              "      <td>...</td>\n",
              "      <td>...</td>\n",
              "      <td>...</td>\n",
              "      <td>...</td>\n",
              "    </tr>\n",
              "    <tr>\n",
              "      <th>1995</th>\n",
              "      <td>58</td>\n",
              "      <td>45</td>\n",
              "      <td>64</td>\n",
              "      <td>61</td>\n",
              "      <td>52</td>\n",
              "      <td>27</td>\n",
              "      <td>43</td>\n",
              "      <td>52</td>\n",
              "      <td>30</td>\n",
              "      <td>69</td>\n",
              "      <td>34</td>\n",
              "      <td>40</td>\n",
              "      <td>40</td>\n",
              "      <td>60</td>\n",
              "      <td>60</td>\n",
              "      <td>49</td>\n",
              "      <td>63</td>\n",
              "      <td>46</td>\n",
              "      <td>35</td>\n",
              "      <td>36</td>\n",
              "      <td>50</td>\n",
              "      <td>31</td>\n",
              "      <td>35</td>\n",
              "      <td>33</td>\n",
              "      <td>45</td>\n",
              "      <td>60</td>\n",
              "      <td>50</td>\n",
              "      <td>51</td>\n",
              "      <td>74</td>\n",
              "      <td>45</td>\n",
              "      <td>47</td>\n",
              "      <td>23</td>\n",
              "      <td>65</td>\n",
              "      <td>48</td>\n",
              "      <td>33</td>\n",
              "      <td>27</td>\n",
              "      <td>23</td>\n",
              "      <td>53</td>\n",
              "      <td>51</td>\n",
              "      <td>24</td>\n",
              "      <td>...</td>\n",
              "      <td>32</td>\n",
              "      <td>66</td>\n",
              "      <td>70</td>\n",
              "      <td>24</td>\n",
              "      <td>41</td>\n",
              "      <td>55</td>\n",
              "      <td>24</td>\n",
              "      <td>31</td>\n",
              "      <td>55</td>\n",
              "      <td>71</td>\n",
              "      <td>73</td>\n",
              "      <td>43</td>\n",
              "      <td>41</td>\n",
              "      <td>40</td>\n",
              "      <td>41</td>\n",
              "      <td>29</td>\n",
              "      <td>61</td>\n",
              "      <td>63</td>\n",
              "      <td>65</td>\n",
              "      <td>25</td>\n",
              "      <td>24</td>\n",
              "      <td>54</td>\n",
              "      <td>30</td>\n",
              "      <td>47</td>\n",
              "      <td>49</td>\n",
              "      <td>21</td>\n",
              "      <td>58</td>\n",
              "      <td>53</td>\n",
              "      <td>54</td>\n",
              "      <td>39</td>\n",
              "      <td>49</td>\n",
              "      <td>35</td>\n",
              "      <td>33</td>\n",
              "      <td>34</td>\n",
              "      <td>31</td>\n",
              "      <td>54</td>\n",
              "      <td>61</td>\n",
              "      <td>37</td>\n",
              "      <td>53</td>\n",
              "      <td>40</td>\n",
              "    </tr>\n",
              "    <tr>\n",
              "      <th>1996</th>\n",
              "      <td>46</td>\n",
              "      <td>46</td>\n",
              "      <td>30</td>\n",
              "      <td>40</td>\n",
              "      <td>32</td>\n",
              "      <td>49</td>\n",
              "      <td>26</td>\n",
              "      <td>65</td>\n",
              "      <td>58</td>\n",
              "      <td>25</td>\n",
              "      <td>57</td>\n",
              "      <td>39</td>\n",
              "      <td>50</td>\n",
              "      <td>69</td>\n",
              "      <td>69</td>\n",
              "      <td>56</td>\n",
              "      <td>51</td>\n",
              "      <td>37</td>\n",
              "      <td>46</td>\n",
              "      <td>45</td>\n",
              "      <td>48</td>\n",
              "      <td>45</td>\n",
              "      <td>41</td>\n",
              "      <td>52</td>\n",
              "      <td>52</td>\n",
              "      <td>43</td>\n",
              "      <td>41</td>\n",
              "      <td>55</td>\n",
              "      <td>50</td>\n",
              "      <td>44</td>\n",
              "      <td>50</td>\n",
              "      <td>71</td>\n",
              "      <td>35</td>\n",
              "      <td>76</td>\n",
              "      <td>43</td>\n",
              "      <td>25</td>\n",
              "      <td>62</td>\n",
              "      <td>40</td>\n",
              "      <td>54</td>\n",
              "      <td>49</td>\n",
              "      <td>...</td>\n",
              "      <td>45</td>\n",
              "      <td>55</td>\n",
              "      <td>38</td>\n",
              "      <td>53</td>\n",
              "      <td>53</td>\n",
              "      <td>21</td>\n",
              "      <td>31</td>\n",
              "      <td>28</td>\n",
              "      <td>34</td>\n",
              "      <td>47</td>\n",
              "      <td>41</td>\n",
              "      <td>27</td>\n",
              "      <td>32</td>\n",
              "      <td>57</td>\n",
              "      <td>31</td>\n",
              "      <td>41</td>\n",
              "      <td>77</td>\n",
              "      <td>60</td>\n",
              "      <td>66</td>\n",
              "      <td>63</td>\n",
              "      <td>39</td>\n",
              "      <td>47</td>\n",
              "      <td>55</td>\n",
              "      <td>24</td>\n",
              "      <td>39</td>\n",
              "      <td>40</td>\n",
              "      <td>40</td>\n",
              "      <td>30</td>\n",
              "      <td>26</td>\n",
              "      <td>50</td>\n",
              "      <td>53</td>\n",
              "      <td>30</td>\n",
              "      <td>62</td>\n",
              "      <td>47</td>\n",
              "      <td>34</td>\n",
              "      <td>38</td>\n",
              "      <td>54</td>\n",
              "      <td>40</td>\n",
              "      <td>34</td>\n",
              "      <td>54</td>\n",
              "    </tr>\n",
              "    <tr>\n",
              "      <th>1997</th>\n",
              "      <td>58</td>\n",
              "      <td>36</td>\n",
              "      <td>47</td>\n",
              "      <td>39</td>\n",
              "      <td>36</td>\n",
              "      <td>59</td>\n",
              "      <td>38</td>\n",
              "      <td>24</td>\n",
              "      <td>28</td>\n",
              "      <td>36</td>\n",
              "      <td>26</td>\n",
              "      <td>60</td>\n",
              "      <td>50</td>\n",
              "      <td>29</td>\n",
              "      <td>32</td>\n",
              "      <td>35</td>\n",
              "      <td>59</td>\n",
              "      <td>66</td>\n",
              "      <td>53</td>\n",
              "      <td>45</td>\n",
              "      <td>25</td>\n",
              "      <td>32</td>\n",
              "      <td>49</td>\n",
              "      <td>54</td>\n",
              "      <td>54</td>\n",
              "      <td>24</td>\n",
              "      <td>35</td>\n",
              "      <td>54</td>\n",
              "      <td>40</td>\n",
              "      <td>39</td>\n",
              "      <td>34</td>\n",
              "      <td>41</td>\n",
              "      <td>58</td>\n",
              "      <td>38</td>\n",
              "      <td>29</td>\n",
              "      <td>46</td>\n",
              "      <td>38</td>\n",
              "      <td>53</td>\n",
              "      <td>41</td>\n",
              "      <td>49</td>\n",
              "      <td>...</td>\n",
              "      <td>26</td>\n",
              "      <td>33</td>\n",
              "      <td>63</td>\n",
              "      <td>29</td>\n",
              "      <td>56</td>\n",
              "      <td>28</td>\n",
              "      <td>32</td>\n",
              "      <td>60</td>\n",
              "      <td>48</td>\n",
              "      <td>74</td>\n",
              "      <td>52</td>\n",
              "      <td>32</td>\n",
              "      <td>32</td>\n",
              "      <td>38</td>\n",
              "      <td>53</td>\n",
              "      <td>37</td>\n",
              "      <td>63</td>\n",
              "      <td>36</td>\n",
              "      <td>48</td>\n",
              "      <td>20</td>\n",
              "      <td>69</td>\n",
              "      <td>34</td>\n",
              "      <td>54</td>\n",
              "      <td>46</td>\n",
              "      <td>52</td>\n",
              "      <td>50</td>\n",
              "      <td>23</td>\n",
              "      <td>44</td>\n",
              "      <td>58</td>\n",
              "      <td>57</td>\n",
              "      <td>48</td>\n",
              "      <td>57</td>\n",
              "      <td>60</td>\n",
              "      <td>46</td>\n",
              "      <td>27</td>\n",
              "      <td>34</td>\n",
              "      <td>64</td>\n",
              "      <td>25</td>\n",
              "      <td>33</td>\n",
              "      <td>54</td>\n",
              "    </tr>\n",
              "    <tr>\n",
              "      <th>1998</th>\n",
              "      <td>37</td>\n",
              "      <td>67</td>\n",
              "      <td>55</td>\n",
              "      <td>41</td>\n",
              "      <td>36</td>\n",
              "      <td>37</td>\n",
              "      <td>29</td>\n",
              "      <td>31</td>\n",
              "      <td>34</td>\n",
              "      <td>24</td>\n",
              "      <td>63</td>\n",
              "      <td>53</td>\n",
              "      <td>28</td>\n",
              "      <td>49</td>\n",
              "      <td>63</td>\n",
              "      <td>75</td>\n",
              "      <td>38</td>\n",
              "      <td>32</td>\n",
              "      <td>68</td>\n",
              "      <td>39</td>\n",
              "      <td>36</td>\n",
              "      <td>68</td>\n",
              "      <td>65</td>\n",
              "      <td>70</td>\n",
              "      <td>44</td>\n",
              "      <td>35</td>\n",
              "      <td>47</td>\n",
              "      <td>37</td>\n",
              "      <td>36</td>\n",
              "      <td>67</td>\n",
              "      <td>17</td>\n",
              "      <td>28</td>\n",
              "      <td>43</td>\n",
              "      <td>60</td>\n",
              "      <td>42</td>\n",
              "      <td>36</td>\n",
              "      <td>55</td>\n",
              "      <td>38</td>\n",
              "      <td>56</td>\n",
              "      <td>47</td>\n",
              "      <td>...</td>\n",
              "      <td>47</td>\n",
              "      <td>47</td>\n",
              "      <td>39</td>\n",
              "      <td>41</td>\n",
              "      <td>57</td>\n",
              "      <td>31</td>\n",
              "      <td>22</td>\n",
              "      <td>35</td>\n",
              "      <td>54</td>\n",
              "      <td>47</td>\n",
              "      <td>58</td>\n",
              "      <td>23</td>\n",
              "      <td>45</td>\n",
              "      <td>37</td>\n",
              "      <td>57</td>\n",
              "      <td>37</td>\n",
              "      <td>71</td>\n",
              "      <td>35</td>\n",
              "      <td>45</td>\n",
              "      <td>59</td>\n",
              "      <td>54</td>\n",
              "      <td>36</td>\n",
              "      <td>27</td>\n",
              "      <td>59</td>\n",
              "      <td>30</td>\n",
              "      <td>62</td>\n",
              "      <td>20</td>\n",
              "      <td>45</td>\n",
              "      <td>35</td>\n",
              "      <td>41</td>\n",
              "      <td>54</td>\n",
              "      <td>32</td>\n",
              "      <td>39</td>\n",
              "      <td>45</td>\n",
              "      <td>53</td>\n",
              "      <td>50</td>\n",
              "      <td>29</td>\n",
              "      <td>60</td>\n",
              "      <td>48</td>\n",
              "      <td>39</td>\n",
              "    </tr>\n",
              "    <tr>\n",
              "      <th>1999</th>\n",
              "      <td>38</td>\n",
              "      <td>46</td>\n",
              "      <td>37</td>\n",
              "      <td>62</td>\n",
              "      <td>42</td>\n",
              "      <td>48</td>\n",
              "      <td>39</td>\n",
              "      <td>42</td>\n",
              "      <td>32</td>\n",
              "      <td>69</td>\n",
              "      <td>35</td>\n",
              "      <td>45</td>\n",
              "      <td>21</td>\n",
              "      <td>75</td>\n",
              "      <td>45</td>\n",
              "      <td>32</td>\n",
              "      <td>58</td>\n",
              "      <td>40</td>\n",
              "      <td>41</td>\n",
              "      <td>33</td>\n",
              "      <td>29</td>\n",
              "      <td>49</td>\n",
              "      <td>43</td>\n",
              "      <td>21</td>\n",
              "      <td>60</td>\n",
              "      <td>43</td>\n",
              "      <td>36</td>\n",
              "      <td>51</td>\n",
              "      <td>47</td>\n",
              "      <td>39</td>\n",
              "      <td>26</td>\n",
              "      <td>39</td>\n",
              "      <td>51</td>\n",
              "      <td>38</td>\n",
              "      <td>51</td>\n",
              "      <td>30</td>\n",
              "      <td>43</td>\n",
              "      <td>40</td>\n",
              "      <td>39</td>\n",
              "      <td>33</td>\n",
              "      <td>...</td>\n",
              "      <td>56</td>\n",
              "      <td>23</td>\n",
              "      <td>50</td>\n",
              "      <td>40</td>\n",
              "      <td>34</td>\n",
              "      <td>40</td>\n",
              "      <td>60</td>\n",
              "      <td>64</td>\n",
              "      <td>68</td>\n",
              "      <td>47</td>\n",
              "      <td>63</td>\n",
              "      <td>49</td>\n",
              "      <td>33</td>\n",
              "      <td>47</td>\n",
              "      <td>37</td>\n",
              "      <td>31</td>\n",
              "      <td>23</td>\n",
              "      <td>36</td>\n",
              "      <td>31</td>\n",
              "      <td>50</td>\n",
              "      <td>51</td>\n",
              "      <td>63</td>\n",
              "      <td>33</td>\n",
              "      <td>21</td>\n",
              "      <td>56</td>\n",
              "      <td>56</td>\n",
              "      <td>33</td>\n",
              "      <td>23</td>\n",
              "      <td>46</td>\n",
              "      <td>57</td>\n",
              "      <td>56</td>\n",
              "      <td>31</td>\n",
              "      <td>43</td>\n",
              "      <td>48</td>\n",
              "      <td>51</td>\n",
              "      <td>29</td>\n",
              "      <td>29</td>\n",
              "      <td>31</td>\n",
              "      <td>24</td>\n",
              "      <td>58</td>\n",
              "    </tr>\n",
              "  </tbody>\n",
              "</table>\n",
              "<p>2000 rows × 1500 columns</p>\n",
              "</div>"
            ],
            "text/plain": [
              "      Amostra_0  Amostra_1  Amostra_2  ...  Amostra_1497  Amostra_1498  Amostra_1499\n",
              "0            41         33         42  ...            34            35            31\n",
              "1            39         44         52  ...            91            59            33\n",
              "2            52         55         49  ...            61            39            35\n",
              "3            46         18         23  ...            42            41            63\n",
              "4            63         57         35  ...            50            48            81\n",
              "...         ...        ...        ...  ...           ...           ...           ...\n",
              "1995         58         45         64  ...            37            53            40\n",
              "1996         46         46         30  ...            40            34            54\n",
              "1997         58         36         47  ...            25            33            54\n",
              "1998         37         67         55  ...            60            48            39\n",
              "1999         38         46         37  ...            31            24            58\n",
              "\n",
              "[2000 rows x 1500 columns]"
            ]
          },
          "metadata": {
            "tags": []
          },
          "execution_count": 67
        }
      ]
    },
    {
      "cell_type": "code",
      "metadata": {
        "colab": {
          "base_uri": "https://localhost:8080/"
        },
        "id": "9QtOjq3LkBqm",
        "outputId": "e9298834-ae28-4978-e742-57d9e4759d09"
      },
      "source": [
        "amostras.mean()"
      ],
      "execution_count": 68,
      "outputs": [
        {
          "output_type": "execute_result",
          "data": {
            "text/plain": [
              "Amostra_0       44.1460\n",
              "Amostra_1       44.2860\n",
              "Amostra_2       43.8895\n",
              "Amostra_3       43.8750\n",
              "Amostra_4       43.8240\n",
              "                 ...   \n",
              "Amostra_1495    44.1845\n",
              "Amostra_1496    44.4680\n",
              "Amostra_1497    44.1350\n",
              "Amostra_1498    44.1080\n",
              "Amostra_1499    44.5600\n",
              "Length: 1500, dtype: float64"
            ]
          },
          "metadata": {
            "tags": []
          },
          "execution_count": 68
        }
      ]
    },
    {
      "cell_type": "code",
      "metadata": {
        "colab": {
          "base_uri": "https://localhost:8080/",
          "height": 0
        },
        "id": "LYQGMsowmyux",
        "outputId": "fd2a6d6d-5019-4740-f103-bb4d2196a6c4"
      },
      "source": [
        "amostras.mean().hist()"
      ],
      "execution_count": 69,
      "outputs": [
        {
          "output_type": "execute_result",
          "data": {
            "text/plain": [
              "<matplotlib.axes._subplots.AxesSubplot at 0x7f62d3c93fd0>"
            ]
          },
          "metadata": {
            "tags": []
          },
          "execution_count": 69
        },
        {
          "output_type": "display_data",
          "data": {
            "image/png": "[encoded data removed]",
            "text/plain": [
              "<Figure size 432x288 with 1 Axes>"
            ]
          },
          "metadata": {
            "tags": [],
            "needs_background": "light"
          }
        }
      ]
    },
    {
      "cell_type": "code",
      "metadata": {
        "colab": {
          "base_uri": "https://localhost:8080/"
        },
        "id": "2F1iYeGhm63a",
        "outputId": "87cf2a37-8afc-4f51-e018-7efdaf7f5340"
      },
      "source": [
        "dados.Idade.mean()"
      ],
      "execution_count": 70,
      "outputs": [
        {
          "output_type": "execute_result",
          "data": {
            "text/plain": [
              "44.07142113482561"
            ]
          },
          "metadata": {
            "tags": []
          },
          "execution_count": 70
        }
      ]
    },
    {
      "cell_type": "code",
      "metadata": {
        "colab": {
          "base_uri": "https://localhost:8080/"
        },
        "id": "HDm2p2k5m-Y6",
        "outputId": "01bcff7a-8242-4af7-a96b-1d382addf339"
      },
      "source": [
        "amostras.mean().mean()"
      ],
      "execution_count": 71,
      "outputs": [
        {
          "output_type": "execute_result",
          "data": {
            "text/plain": [
              "44.08178566666664"
            ]
          },
          "metadata": {
            "tags": []
          },
          "execution_count": 71
        }
      ]
    },
    {
      "cell_type": "code",
      "metadata": {
        "colab": {
          "base_uri": "https://localhost:8080/"
        },
        "id": "s-6jx5mmnCrO",
        "outputId": "78ffa3e1-2069-40d0-83bd-19043afa7964"
      },
      "source": [
        "amostras.mean().std()"
      ],
      "execution_count": 72,
      "outputs": [
        {
          "output_type": "execute_result",
          "data": {
            "text/plain": [
              "0.2735100468447898"
            ]
          },
          "metadata": {
            "tags": []
          },
          "execution_count": 72
        }
      ]
    },
    {
      "cell_type": "code",
      "metadata": {
        "colab": {
          "base_uri": "https://localhost:8080/"
        },
        "id": "YGWXpqWfnJEO",
        "outputId": "917ffe57-f891-46fd-92e4-4391089c4511"
      },
      "source": [
        "dados.Idade.std()"
      ],
      "execution_count": 73,
      "outputs": [
        {
          "output_type": "execute_result",
          "data": {
            "text/plain": [
              "12.480583465360187"
            ]
          },
          "metadata": {
            "tags": []
          },
          "execution_count": 73
        }
      ]
    },
    {
      "cell_type": "code",
      "metadata": {
        "colab": {
          "base_uri": "https://localhost:8080/"
        },
        "id": "5M59BfMrnQXA",
        "outputId": "96705507-8f73-488a-cc7d-7b33bf6b99d8"
      },
      "source": [
        "dados.Idade.std()/np.sqrt(n)"
      ],
      "execution_count": 74,
      "outputs": [
        {
          "output_type": "execute_result",
          "data": {
            "text/plain": [
              "0.2790743302740527"
            ]
          },
          "metadata": {
            "tags": []
          },
          "execution_count": 74
        }
      ]
    },
    {
      "cell_type": "markdown",
      "metadata": {
        "id": "5F5rRjpnBZ_b"
      },
      "source": [
        "##Intervalo de confiança"
      ]
    },
    {
      "cell_type": "code",
      "metadata": {
        "id": "RczjjEMpnVhU"
      },
      "source": [
        "media_amostral = 5050\n",
        "significancia = 0.05\n",
        "confiança = (1-significancia)\n",
        "alpha = confiança/2+0.5\n",
        "dp = 150\n",
        "n=20\n",
        "raiz_n = np.sqrt(n)"
      ],
      "execution_count": 75,
      "outputs": []
    },
    {
      "cell_type": "code",
      "metadata": {
        "colab": {
          "base_uri": "https://localhost:8080/"
        },
        "id": "AWPcSZzBDCqf",
        "outputId": "299bc89b-5516-4a6d-f9cc-9c90840c2d85"
      },
      "source": [
        "z = norm.ppf(alpha)\n",
        "round(z, 4)"
      ],
      "execution_count": 76,
      "outputs": [
        {
          "output_type": "execute_result",
          "data": {
            "text/plain": [
              "1.96"
            ]
          },
          "metadata": {
            "tags": []
          },
          "execution_count": 76
        }
      ]
    },
    {
      "cell_type": "code",
      "metadata": {
        "id": "ZGSxuXhuDxKz"
      },
      "source": [
        "#calculo do erro amostras\n",
        "sigma = dp/raiz_n"
      ],
      "execution_count": 77,
      "outputs": []
    },
    {
      "cell_type": "code",
      "metadata": {
        "colab": {
          "base_uri": "https://localhost:8080/"
        },
        "id": "99JB4YvsD4B9",
        "outputId": "0887f189-48ba-47c2-d4a6-d5e26715c9f3"
      },
      "source": [
        "e = z * sigma\n",
        "e"
      ],
      "execution_count": 78,
      "outputs": [
        {
          "output_type": "execute_result",
          "data": {
            "text/plain": [
              "65.73919054324361"
            ]
          },
          "metadata": {
            "tags": []
          },
          "execution_count": 78
        }
      ]
    },
    {
      "cell_type": "code",
      "metadata": {
        "colab": {
          "base_uri": "https://localhost:8080/"
        },
        "id": "4QHcgtuAD-oA",
        "outputId": "6091397e-02e0-4d52-80c0-b0e4a099a0c0"
      },
      "source": [
        " e = norm.ppf((1-0.05)/2+0.5)*dp/np.sqrt(n)\n",
        " round(e, 2) #gramas"
      ],
      "execution_count": 79,
      "outputs": [
        {
          "output_type": "execute_result",
          "data": {
            "text/plain": [
              "65.74"
            ]
          },
          "metadata": {
            "tags": []
          },
          "execution_count": 79
        }
      ]
    },
    {
      "cell_type": "code",
      "metadata": {
        "colab": {
          "base_uri": "https://localhost:8080/"
        },
        "id": "X-9LKab7EoZx",
        "outputId": "84daad32-f49e-488b-af2a-3f11ace601bf"
      },
      "source": [
        "#Intervalo de confiança\n",
        "intervalo = (\n",
        "    media_amostral - e,\n",
        "    media_amostral + e\n",
        ")\n",
        "intervalo"
      ],
      "execution_count": 80,
      "outputs": [
        {
          "output_type": "execute_result",
          "data": {
            "text/plain": [
              "(4984.260809456757, 5115.739190543243)"
            ]
          },
          "metadata": {
            "tags": []
          },
          "execution_count": 80
        }
      ]
    },
    {
      "cell_type": "code",
      "metadata": {
        "colab": {
          "base_uri": "https://localhost:8080/"
        },
        "id": "NHfMfgRxFiUf",
        "outputId": "880787e8-e9af-429b-8e90-fcb828cecdc0"
      },
      "source": [
        "intervalo = norm.interval(alpha = confiança, loc = media_amostral, scale = sigma)\n",
        "intervalo"
      ],
      "execution_count": 81,
      "outputs": [
        {
          "output_type": "execute_result",
          "data": {
            "text/plain": [
              "(4984.260809456757, 5115.739190543243)"
            ]
          },
          "metadata": {
            "tags": []
          },
          "execution_count": 81
        }
      ]
    },
    {
      "cell_type": "code",
      "metadata": {
        "id": "YhX4A-axGJ_l"
      },
      "source": [
        "#exercício\n",
        "media_amostral = ''\n",
        "significancia = 0.05\n",
        "confiança = (1-significancia)\n",
        "alpha = confiança/2+0.5\n",
        "dp = 6\n",
        "n=50\n",
        "raiz_n = np.sqrt(n)"
      ],
      "execution_count": 82,
      "outputs": []
    },
    {
      "cell_type": "code",
      "metadata": {
        "colab": {
          "base_uri": "https://localhost:8080/"
        },
        "id": "aqDB7ktmG3sX",
        "outputId": "fa6aacd9-1e2c-4861-e695-468bf3c4058f"
      },
      "source": [
        " e = norm.ppf(alpha)*dp/np.sqrt(n)\n",
        " round(e, 2) #gramas"
      ],
      "execution_count": 83,
      "outputs": [
        {
          "output_type": "execute_result",
          "data": {
            "text/plain": [
              "1.66"
            ]
          },
          "metadata": {
            "tags": []
          },
          "execution_count": 83
        }
      ]
    },
    {
      "cell_type": "code",
      "metadata": {
        "id": "vERiGQOFJoKR"
      },
      "source": [
        "#exercício\n",
        "media_amostral = 28\n",
        "significancia = 1 - confiança\n",
        "confiança = 0.9\n",
        "alpha = confiança/2+0.5\n",
        "dp = 11\n",
        "n = 1976\n",
        "raiz_n = np.sqrt(n)\n",
        "sigma = dp/raiz_n"
      ],
      "execution_count": 84,
      "outputs": []
    },
    {
      "cell_type": "code",
      "metadata": {
        "colab": {
          "base_uri": "https://localhost:8080/"
        },
        "id": "AnmwxmS5KFn1",
        "outputId": "8392dcd8-8173-4104-ad2a-e0318606b429"
      },
      "source": [
        "intervalo = norm.interval(alpha = confiança, loc = media_amostral, scale = sigma)\n",
        "intervalo"
      ],
      "execution_count": 85,
      "outputs": [
        {
          "output_type": "execute_result",
          "data": {
            "text/plain": [
              "(27.592969951356466, 28.407030048643534)"
            ]
          },
          "metadata": {
            "tags": []
          },
          "execution_count": 85
        }
      ]
    },
    {
      "cell_type": "markdown",
      "metadata": {
        "id": "AmCqEq2BNGWK"
      },
      "source": [
        "##Calculo do tamanho de amostra"
      ]
    },
    {
      "cell_type": "code",
      "metadata": {
        "id": "6Y1EIfevNzYa"
      },
      "source": [
        "confiança = 0.95\n",
        "alpha = confiança/2+0.5\n",
        "sigma = 3323.29 #desvio padrão populacional\n",
        "e = 100"
      ],
      "execution_count": 86,
      "outputs": []
    },
    {
      "cell_type": "code",
      "metadata": {
        "colab": {
          "base_uri": "https://localhost:8080/"
        },
        "id": "HAD4yZsdKQFa",
        "outputId": "814eee0a-5714-4ef1-c494-3fb2368e2b78"
      },
      "source": [
        "z = norm.ppf(alpha)\n",
        "z"
      ],
      "execution_count": 87,
      "outputs": [
        {
          "output_type": "execute_result",
          "data": {
            "text/plain": [
              "1.959963984540054"
            ]
          },
          "metadata": {
            "tags": []
          },
          "execution_count": 87
        }
      ]
    },
    {
      "cell_type": "code",
      "metadata": {
        "colab": {
          "base_uri": "https://localhost:8080/"
        },
        "id": "QGCjW5NFOB7l",
        "outputId": "6a5b545a-96bb-492f-968e-59c59a34865d"
      },
      "source": [
        "n = (norm.ppf(alpha)*((sigma)/(e)))**2\n",
        "int(round(n))"
      ],
      "execution_count": 88,
      "outputs": [
        {
          "output_type": "execute_result",
          "data": {
            "text/plain": [
              "4243"
            ]
          },
          "metadata": {
            "tags": []
          },
          "execution_count": 88
        }
      ]
    },
    {
      "cell_type": "code",
      "metadata": {
        "id": "dP3OnEdFOzcu"
      },
      "source": [
        "#exercício\n",
        "media_amostral = 45.50\n",
        "significancia = 0.1\n",
        "confianca = 1 - significancia\n",
        "alpha = confianca/2+0.5\n",
        "dp = 15 #pq é sigma? \n",
        "n = ''\n",
        "erro = 0.1\n",
        "e= media_amostral * erro #erro diferencial\n",
        "#raiz_n = np.sqrt(n)\n",
        "#sigma = dp/raiz_n"
      ],
      "execution_count": 89,
      "outputs": []
    },
    {
      "cell_type": "code",
      "metadata": {
        "colab": {
          "base_uri": "https://localhost:8080/"
        },
        "id": "hdxr-WbyP16v",
        "outputId": "6efaff20-2f31-4a8f-9997-87d7a7007147"
      },
      "source": [
        "n = (norm.ppf(alpha)*((dp)/(e)))**2\n",
        "int(round(n))"
      ],
      "execution_count": 90,
      "outputs": [
        {
          "output_type": "execute_result",
          "data": {
            "text/plain": [
              "29"
            ]
          },
          "metadata": {
            "tags": []
          },
          "execution_count": 90
        }
      ]
    },
    {
      "cell_type": "code",
      "metadata": {
        "colab": {
          "base_uri": "https://localhost:8080/"
        },
        "id": "StEUtYPxRwd9",
        "outputId": "dfa45cd4-ef47-4988-d09e-082c3ebabb40"
      },
      "source": [
        " media = 45.5\n",
        "sigma = 15\n",
        "significancia = 0.10\n",
        "confianca = 1 - significancia\n",
        "\n",
        "z = norm.ppf(0.5 + (confianca / 2))\n",
        "erro_percentual = 0.10\n",
        "e = media * erro_percentual\n",
        "\n",
        "n = (z * (sigma / e)) ** 2\n",
        "n.round()"
      ],
      "execution_count": 91,
      "outputs": [
        {
          "output_type": "execute_result",
          "data": {
            "text/plain": [
              "29.0"
            ]
          },
          "metadata": {
            "tags": []
          },
          "execution_count": 91
        }
      ]
    },
    {
      "cell_type": "markdown",
      "metadata": {
        "id": "bz_WH1s2V9n0"
      },
      "source": [
        "##Calculo da amostra para população finita"
      ]
    },
    {
      "cell_type": "code",
      "metadata": {
        "id": "O5m49lJ1RttD"
      },
      "source": [
        "N = 10000 #tamanho da população\n",
        "significancia = 1 - confianca\n",
        "confianca = 0.95\n",
        "alpha = alpha = confianca/2+0.5\n",
        "z = norm.ppf(alpha) #variavel normal padronizada\n",
        "sigma = '' #desvio padrão populacional\n",
        "s = 12 #desvio padrão amostral\n",
        "e = 5 #erro diferencial\n"
      ],
      "execution_count": 92,
      "outputs": []
    },
    {
      "cell_type": "code",
      "metadata": {
        "colab": {
          "base_uri": "https://localhost:8080/"
        },
        "id": "Es5a5muGWy8R",
        "outputId": "1de13d85-3f34-4014-c69d-5a711de64eaf"
      },
      "source": [
        "n = ((z**2)*(s**2)*(N)) / (((z**2)*(s**2))+((e**2)*(N-1)))\n",
        "int(n.round())"
      ],
      "execution_count": 93,
      "outputs": [
        {
          "output_type": "execute_result",
          "data": {
            "text/plain": [
              "22"
            ]
          },
          "metadata": {
            "tags": []
          },
          "execution_count": 93
        }
      ]
    },
    {
      "cell_type": "code",
      "metadata": {
        "id": "xZeTljUXXjrJ"
      },
      "source": [
        " N = 2000 #tamanho da população\n",
        "significancia = 1 - confianca\n",
        "confianca = 0.95\n",
        "alpha = alpha = confianca/2+0.5\n",
        "z = norm.ppf(alpha) #variavel normal padronizada\n",
        "sigma = '' #desvio padrão populacional\n",
        "s = 0.480 #desvio padrão amostral\n",
        "e = 0.3 #erro diferencial"
      ],
      "execution_count": 94,
      "outputs": []
    },
    {
      "cell_type": "code",
      "metadata": {
        "colab": {
          "base_uri": "https://localhost:8080/"
        },
        "id": "R1nAziZ0Yh4M",
        "outputId": "1753f488-1b13-4e96-a7a4-1efeea5a0a1c"
      },
      "source": [
        "n = ((z**2)*(s**2)*(N)) / (((z**2)*(s**2))+((e**2)*(N-1)))\n",
        "int(n.round())"
      ],
      "execution_count": 95,
      "outputs": [
        {
          "output_type": "execute_result",
          "data": {
            "text/plain": [
              "10"
            ]
          },
          "metadata": {
            "tags": []
          },
          "execution_count": 95
        }
      ]
    },
    {
      "cell_type": "code",
      "metadata": {
        "id": "sbqtJkppYiNx"
      },
      "source": [
        "renda_5mil = dados.query('Renda <=5000').Renda"
      ],
      "execution_count": 96,
      "outputs": []
    },
    {
      "cell_type": "code",
      "metadata": {
        "id": "09a0BcvGZpEm"
      },
      "source": [
        " N = '' #tamanho da população\n",
        "significancia = 1 - confianca\n",
        "confianca = 0.95\n",
        "alpha = alpha = confianca/2+0.5\n",
        "z = norm.ppf(alpha) #variavel normal padronizada\n",
        "sigma = renda_5mil.std() #desvio padrão populacional\n",
        "media = renda_5mil.mean()\n",
        "s = '' #desvio padrão amostral\n",
        "e = 10 #erro diferencial"
      ],
      "execution_count": 97,
      "outputs": []
    },
    {
      "cell_type": "code",
      "metadata": {
        "colab": {
          "base_uri": "https://localhost:8080/"
        },
        "id": "eYY1OovIaROk",
        "outputId": "feff32b3-1177-43ba-ba69-ae4fcaf3c59a"
      },
      "source": [
        "n = int((z * (sigma / e)) ** 2)\n",
        "n"
      ],
      "execution_count": 98,
      "outputs": [
        {
          "output_type": "execute_result",
          "data": {
            "text/plain": [
              "45038"
            ]
          },
          "metadata": {
            "tags": []
          },
          "execution_count": 98
        }
      ]
    },
    {
      "cell_type": "code",
      "metadata": {
        "colab": {
          "base_uri": "https://localhost:8080/"
        },
        "id": "O1CjcguPaR9Z",
        "outputId": "3d9c737d-7e2a-4bf8-d5ab-c7968e9b8ed7"
      },
      "source": [
        "intervalo = norm.interval(alpha = confianca, loc = media, scale = sigma/np.sqrt(n))\n",
        "intervalo"
      ],
      "execution_count": 99,
      "outputs": [
        {
          "output_type": "execute_result",
          "data": {
            "text/plain": [
              "(1416.537108494133, 1436.5373204953135)"
            ]
          },
          "metadata": {
            "tags": []
          },
          "execution_count": 99
        }
      ]
    },
    {
      "cell_type": "code",
      "metadata": {
        "id": "wg4S8owbazKl"
      },
      "source": [
        "import matplotlib.pyplot as plt"
      ],
      "execution_count": 100,
      "outputs": []
    },
    {
      "cell_type": "code",
      "metadata": {
        "id": "rEBzQnu2bN3K"
      },
      "source": [
        "tamanho_simulacao = 1000\n",
        "\n",
        "medias = [renda_5mil.sample(n = n).mean() for i in range(1 , tamanho_simulacao)]\n",
        "medias = pd.DataFrame(medias)"
      ],
      "execution_count": 101,
      "outputs": []
    },
    {
      "cell_type": "code",
      "metadata": {
        "colab": {
          "base_uri": "https://localhost:8080/",
          "height": 391
        },
        "id": "csV69Czebkwv",
        "outputId": "729db28f-9ead-4e6c-cf33-d072375f952e"
      },
      "source": [
        "ax = medias.plot(style = '.')\n",
        "ax.figure.set_size_inches(12,6)\n",
        "ax.hlines(y= media, xmin=0, xmax=tamanho_simulacao, color='black', linestyles='dashed')\n",
        "ax.hlines(y= intervalo[0], xmin=0, xmax=tamanho_simulacao, color='red', linestyles='dashed')\n",
        "ax.hlines(y= intervalo[1], xmin=0, xmax=tamanho_simulacao, color='red', linestyles='dashed')\n",
        "ax"
      ],
      "execution_count": 102,
      "outputs": [
        {
          "output_type": "execute_result",
          "data": {
            "text/plain": [
              "<matplotlib.axes._subplots.AxesSubplot at 0x7f62d452e990>"
            ]
          },
          "metadata": {
            "tags": []
          },
          "execution_count": 102
        },
        {
          "output_type": "display_data",
          "data": {
            "image/png": "[encoded data removed]",
            "text/plain": [
              "<Figure size 864x432 with 1 Axes>"
            ]
          },
          "metadata": {
            "tags": [],
            "needs_background": "light"
          }
        }
      ]
    },
    {
      "cell_type": "markdown",
      "metadata": {
        "id": "z4gDB_uFfTy0"
      },
      "source": [
        "##Desafio"
      ]
    },
    {
      "cell_type": "code",
      "metadata": {
        "colab": {
          "base_uri": "https://localhost:8080/",
          "height": 204
        },
        "id": "o5WhkbJxc5e9",
        "outputId": "5eb46b46-1077-4ed3-e45d-018be8460917"
      },
      "source": [
        "dados.head()"
      ],
      "execution_count": 103,
      "outputs": [
        {
          "output_type": "execute_result",
          "data": {
            "text/html": [
              "<div>\n",
              "<style scoped>\n",
              "    .dataframe tbody tr th:only-of-type {\n",
              "        vertical-align: middle;\n",
              "    }\n",
              "\n",
              "    .dataframe tbody tr th {\n",
              "        vertical-align: top;\n",
              "    }\n",
              "\n",
              "    .dataframe thead th {\n",
              "        text-align: right;\n",
              "    }\n",
              "</style>\n",
              "<table border=\"1\" class=\"dataframe\">\n",
              "  <thead>\n",
              "    <tr style=\"text-align: right;\">\n",
              "      <th></th>\n",
              "      <th>UF</th>\n",
              "      <th>Sexo</th>\n",
              "      <th>Idade</th>\n",
              "      <th>Cor</th>\n",
              "      <th>Anos de Estudo</th>\n",
              "      <th>Renda</th>\n",
              "      <th>Altura</th>\n",
              "    </tr>\n",
              "  </thead>\n",
              "  <tbody>\n",
              "    <tr>\n",
              "      <th>0</th>\n",
              "      <td>11</td>\n",
              "      <td>0</td>\n",
              "      <td>23</td>\n",
              "      <td>8</td>\n",
              "      <td>12</td>\n",
              "      <td>800</td>\n",
              "      <td>1.603808</td>\n",
              "    </tr>\n",
              "    <tr>\n",
              "      <th>1</th>\n",
              "      <td>11</td>\n",
              "      <td>1</td>\n",
              "      <td>23</td>\n",
              "      <td>2</td>\n",
              "      <td>12</td>\n",
              "      <td>1150</td>\n",
              "      <td>1.739790</td>\n",
              "    </tr>\n",
              "    <tr>\n",
              "      <th>2</th>\n",
              "      <td>11</td>\n",
              "      <td>1</td>\n",
              "      <td>35</td>\n",
              "      <td>8</td>\n",
              "      <td>15</td>\n",
              "      <td>880</td>\n",
              "      <td>1.760444</td>\n",
              "    </tr>\n",
              "    <tr>\n",
              "      <th>3</th>\n",
              "      <td>11</td>\n",
              "      <td>0</td>\n",
              "      <td>46</td>\n",
              "      <td>2</td>\n",
              "      <td>6</td>\n",
              "      <td>3500</td>\n",
              "      <td>1.783158</td>\n",
              "    </tr>\n",
              "    <tr>\n",
              "      <th>4</th>\n",
              "      <td>11</td>\n",
              "      <td>1</td>\n",
              "      <td>47</td>\n",
              "      <td>8</td>\n",
              "      <td>9</td>\n",
              "      <td>150</td>\n",
              "      <td>1.690631</td>\n",
              "    </tr>\n",
              "  </tbody>\n",
              "</table>\n",
              "</div>"
            ],
            "text/plain": [
              "   UF  Sexo  Idade  Cor  Anos de Estudo  Renda    Altura\n",
              "0  11     0     23    8              12    800  1.603808\n",
              "1  11     1     23    2              12   1150  1.739790\n",
              "2  11     1     35    8              15    880  1.760444\n",
              "3  11     0     46    2               6   3500  1.783158\n",
              "4  11     1     47    8               9    150  1.690631"
            ]
          },
          "metadata": {
            "tags": []
          },
          "execution_count": 103
        }
      ]
    },
    {
      "cell_type": "code",
      "metadata": {
        "id": "n8Rmc-HSfYDj"
      },
      "source": [
        "k = 7\n",
        "n = 10\n",
        "p = 0.7"
      ],
      "execution_count": 104,
      "outputs": []
    },
    {
      "cell_type": "code",
      "metadata": {
        "colab": {
          "base_uri": "https://localhost:8080/"
        },
        "id": "V8mYqKJnfy4o",
        "outputId": "1cbfc91f-1f56-4469-92d5-ce2e95ee8a0f"
      },
      "source": [
        "prob = binom.pmf(k, n, p)\n",
        "prob"
      ],
      "execution_count": 105,
      "outputs": [
        {
          "output_type": "execute_result",
          "data": {
            "text/plain": [
              "0.26682793200000016"
            ]
          },
          "metadata": {
            "tags": []
          },
          "execution_count": 105
        }
      ]
    },
    {
      "cell_type": "code",
      "metadata": {
        "colab": {
          "base_uri": "https://localhost:8080/"
        },
        "id": "aGn2-8iAgPEW",
        "outputId": "f2e28a6f-9c66-4cc8-9248-760a521c92ac"
      },
      "source": [
        "media = 100\n",
        "#media = n * prob\n",
        "n = media / prob\n",
        "n\n"
      ],
      "execution_count": 106,
      "outputs": [
        {
          "output_type": "execute_result",
          "data": {
            "text/plain": [
              "374.7733576858061"
            ]
          },
          "metadata": {
            "tags": []
          },
          "execution_count": 106
        }
      ]
    },
    {
      "cell_type": "code",
      "metadata": {
        "id": "M3D6eO06g1CT"
      },
      "source": [
        "dataset= dados.Renda.sample(n=200, random_state=101)"
      ],
      "execution_count": 107,
      "outputs": []
    },
    {
      "cell_type": "code",
      "metadata": {
        "colab": {
          "base_uri": "https://localhost:8080/"
        },
        "id": "vMMZcm1zhw27",
        "outputId": "7e6d57d8-ef22-49d1-9bbe-fccb7356fa66"
      },
      "source": [
        "dataset.mean()"
      ],
      "execution_count": 108,
      "outputs": [
        {
          "output_type": "execute_result",
          "data": {
            "text/plain": [
              "1964.205"
            ]
          },
          "metadata": {
            "tags": []
          },
          "execution_count": 108
        }
      ]
    },
    {
      "cell_type": "code",
      "metadata": {
        "colab": {
          "base_uri": "https://localhost:8080/"
        },
        "id": "5vkCLIvvh1c7",
        "outputId": "ff397ca5-f478-4625-8b86-457475d12c8b"
      },
      "source": [
        "dataset.std()"
      ],
      "execution_count": 109,
      "outputs": [
        {
          "output_type": "execute_result",
          "data": {
            "text/plain": [
              "3139.8855167452157"
            ]
          },
          "metadata": {
            "tags": []
          },
          "execution_count": 109
        }
      ]
    },
    {
      "cell_type": "code",
      "metadata": {
        "id": "rrQgHnykh3oU"
      },
      "source": [
        "media_amostra = dataset.mean()\n",
        "desvio_padrao_amostra = dataset.std()\n",
        "recursos = 150000\n",
        "custo_por_entrevista = 100"
      ],
      "execution_count": 133,
      "outputs": []
    },
    {
      "cell_type": "code",
      "metadata": {
        "id": "VK3fQoLSiQYL"
      },
      "source": [
        "e = 0.1*media_amostra"
      ],
      "execution_count": 112,
      "outputs": []
    },
    {
      "cell_type": "code",
      "metadata": {
        "id": "XRtgikWh3ZeK"
      },
      "source": [
        "z = norm.ppf((0.9/2)+0.5)"
      ],
      "execution_count": 113,
      "outputs": []
    },
    {
      "cell_type": "code",
      "metadata": {
        "colab": {
          "base_uri": "https://localhost:8080/"
        },
        "id": "Y0noJ8nl3mwa",
        "outputId": "ff45dfb4-9c97-4538-cc5b-287014ce5421"
      },
      "source": [
        "n_90 = int((z * (desvio_padrao_amostra/ e))**2)\n",
        "n_90"
      ],
      "execution_count": 116,
      "outputs": [
        {
          "output_type": "execute_result",
          "data": {
            "text/plain": [
              "691"
            ]
          },
          "metadata": {
            "tags": []
          },
          "execution_count": 116
        }
      ]
    },
    {
      "cell_type": "code",
      "metadata": {
        "colab": {
          "base_uri": "https://localhost:8080/"
        },
        "id": "BxzPDorL32zv",
        "outputId": "548b6e5f-744f-4f07-f7c7-66006739b186"
      },
      "source": [
        "z = norm.ppf((0.95/2)+0.5)\n",
        "n_95 = int((z * (desvio_padrao_amostra/ e))**2)\n",
        "n_95"
      ],
      "execution_count": 117,
      "outputs": [
        {
          "output_type": "execute_result",
          "data": {
            "text/plain": [
              "981"
            ]
          },
          "metadata": {
            "tags": []
          },
          "execution_count": 117
        }
      ]
    },
    {
      "cell_type": "code",
      "metadata": {
        "colab": {
          "base_uri": "https://localhost:8080/"
        },
        "id": "qDviOZUZ4Dxc",
        "outputId": "5d62d38c-e1e3-4e07-be1b-28217d3a8dbe"
      },
      "source": [
        "z = norm.ppf((0.99/2)+0.5)\n",
        "n_99 = int((z * (desvio_padrao_amostra/ e))**2)\n",
        "n_99"
      ],
      "execution_count": 118,
      "outputs": [
        {
          "output_type": "execute_result",
          "data": {
            "text/plain": [
              "1695"
            ]
          },
          "metadata": {
            "tags": []
          },
          "execution_count": 118
        }
      ]
    },
    {
      "cell_type": "code",
      "metadata": {
        "colab": {
          "base_uri": "https://localhost:8080/"
        },
        "id": "Khq_UWD54HYu",
        "outputId": "623904a3-1403-46f7-a635-8f9921ac03d1"
      },
      "source": [
        "print(f'O custo para a pesquisa com 90% de conficança é R${n_90*custo_por_entrevista:,.2f}')\n",
        "print(f'O custo para a pesquisa com 95% de conficança é R${n_95*custo_por_entrevista:,.2f}')\n",
        "print(f'O custo para a pesquisa com 99% de conficança é R${n_99*custo_por_entrevista:,.2f}')"
      ],
      "execution_count": 121,
      "outputs": [
        {
          "output_type": "stream",
          "text": [
            "O custo para a pesquisa com 90% de conficança é R$69,100.00\n",
            "O custo para a pesquisa com 95% de conficança é R$98,100.00\n",
            "O custo para a pesquisa com 99% de conficança é R$169,500.00\n"
          ],
          "name": "stdout"
        }
      ]
    },
    {
      "cell_type": "code",
      "metadata": {
        "colab": {
          "base_uri": "https://localhost:8080/"
        },
        "id": "je_vO8Ws4bPg",
        "outputId": "f5624be6-5d7b-47b2-ea1a-9b419e87c12e"
      },
      "source": [
        "intervalo = norm.interval(alpha = 0.95, loc = media_amostra, scale = desvio_padrao_amostra/np.sqrt(n_95))\n",
        "intervalo"
      ],
      "execution_count": 122,
      "outputs": [
        {
          "output_type": "execute_result",
          "data": {
            "text/plain": [
              "(1767.7209049801454, 2160.6890950198544)"
            ]
          },
          "metadata": {
            "tags": []
          },
          "execution_count": 122
        }
      ]
    },
    {
      "cell_type": "code",
      "metadata": {
        "colab": {
          "base_uri": "https://localhost:8080/"
        },
        "id": "FVRxRXYz47v5",
        "outputId": "2963181c-6ef5-4169-824a-f51152e6ac51"
      },
      "source": [
        "n = recursos/custo_por_entrevista\n",
        "n"
      ],
      "execution_count": 124,
      "outputs": [
        {
          "output_type": "execute_result",
          "data": {
            "text/plain": [
              "1500.0"
            ]
          },
          "metadata": {
            "tags": []
          },
          "execution_count": 124
        }
      ]
    },
    {
      "cell_type": "code",
      "metadata": {
        "colab": {
          "base_uri": "https://localhost:8080/"
        },
        "id": "zkV1_3c05X3e",
        "outputId": "2cfe4e48-eb1d-474c-a914-f55b07e5bf01"
      },
      "source": [
        " e = norm.ppf((1-0.05)/2+0.5)*desvio_padrao_amostra/np.sqrt(n)\n",
        " round(e, 2)"
      ],
      "execution_count": 126,
      "outputs": [
        {
          "output_type": "execute_result",
          "data": {
            "text/plain": [
              "158.9"
            ]
          },
          "metadata": {
            "tags": []
          },
          "execution_count": 126
        }
      ]
    },
    {
      "cell_type": "code",
      "metadata": {
        "colab": {
          "base_uri": "https://localhost:8080/"
        },
        "id": "pGkoYT9H5y6k",
        "outputId": "168937be-50ca-425b-f7ee-827e0a1c48e0"
      },
      "source": [
        "e_percentual = (e / media_amostra )*100\n",
        "e_percentual"
      ],
      "execution_count": 128,
      "outputs": [
        {
          "output_type": "execute_result",
          "data": {
            "text/plain": [
              "8.089644982409542"
            ]
          },
          "metadata": {
            "tags": []
          },
          "execution_count": 128
        }
      ]
    },
    {
      "cell_type": "code",
      "metadata": {
        "id": "doYtDpgG6L2M"
      },
      "source": [
        "e = 0.05*media_amostra"
      ],
      "execution_count": 136,
      "outputs": []
    },
    {
      "cell_type": "code",
      "metadata": {
        "colab": {
          "base_uri": "https://localhost:8080/"
        },
        "id": "dxCgVX8r6mn8",
        "outputId": "4a198412-801d-4195-ec2f-318e4cd5cf07"
      },
      "source": [
        "z = norm.ppf((0.95/2)+0.5)\n",
        "n_95 = int((z * (desvio_padrao_amostra/ e))**2)\n",
        "n_95"
      ],
      "execution_count": 137,
      "outputs": [
        {
          "output_type": "execute_result",
          "data": {
            "text/plain": [
              "3926"
            ]
          },
          "metadata": {
            "tags": []
          },
          "execution_count": 137
        }
      ]
    },
    {
      "cell_type": "code",
      "metadata": {
        "colab": {
          "base_uri": "https://localhost:8080/"
        },
        "id": "5kcThSVw6w71",
        "outputId": "a886e15b-2efc-469f-ae44-7da02d3f84ca"
      },
      "source": [
        "custo = n_95*custo_por_entrevista\n",
        "custo"
      ],
      "execution_count": 139,
      "outputs": [
        {
          "output_type": "execute_result",
          "data": {
            "text/plain": [
              "392600"
            ]
          },
          "metadata": {
            "tags": []
          },
          "execution_count": 139
        }
      ]
    },
    {
      "cell_type": "code",
      "metadata": {
        "id": "MkaUh06b7Z8n"
      },
      "source": [
        ""
      ],
      "execution_count": null,
      "outputs": []
    }
  ]
}