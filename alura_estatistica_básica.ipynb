{
  "nbformat": 4,
  "nbformat_minor": 0,
  "metadata": {
    "colab": {
      "name": "alura_estatistica_básica.ipynb",
      "provenance": [],
      "toc_visible": true,
      "authorship_tag": "ABX9TyPuFo4RkXlGfupdVzsjOqdz"
    },
    "kernelspec": {
      "name": "python3",
      "display_name": "Python 3"
    },
    "language_info": {
      "name": "python"
    }
  },
  "cells": [
    {
      "cell_type": "markdown",
      "metadata": {
        "id": "eEiBnwius7n6"
      },
      "source": [
        "#Estatísitica básica com Pandas"
      ]
    },
    {
      "cell_type": "markdown",
      "metadata": {
        "id": "e0VdbThJtD8L"
      },
      "source": [
        "#importando bibliotecas"
      ]
    },
    {
      "cell_type": "code",
      "metadata": {
        "id": "aeISSygHqEAo"
      },
      "source": [
        "import pandas as pd\n",
        "import numpy as np\n",
        "import seaborn as sns\n",
        "import scipy as sp"
      ],
      "execution_count": 4,
      "outputs": []
    },
    {
      "cell_type": "code",
      "metadata": {
        "colab": {
          "base_uri": "https://localhost:8080/"
        },
        "id": "75ZEZjkXr49k",
        "outputId": "8c7bb9b4-bab1-49b7-d7f8-d858a8c4fca1"
      },
      "source": [
        "print(f'Versão do Pandas -> {pd.__version__}')\n",
        "print(f'Versão do Numpy -> {np.__version__}')\n",
        "print(f'Versão do seaborn -> {sns.__version__}')\n",
        "print(f'Versão do scipy -> {sp.__version__}')"
      ],
      "execution_count": 5,
      "outputs": [
        {
          "output_type": "stream",
          "text": [
            "Versão do Pandas -> 1.1.5\n",
            "Versão do Numpy -> 1.19.5\n",
            "Versão do seaborn -> 0.11.1\n",
            "Versão do scipy -> 1.4.1\n"
          ],
          "name": "stdout"
        }
      ]
    },
    {
      "cell_type": "markdown",
      "metadata": {
        "id": "dxBCnQ5tsgQ0"
      },
      "source": [
        "Versão que foi utilizada pelo professor\n",
        "Versão do Pandas -> 0.22.0\n",
        "Versão do Numpy -> 1.14.6\n",
        "Versão do seaborn -> 0.7.1\n",
        "Versão do scipy -> 1.1.0\n",
        "se precisar retornar para as versões antigas:\n",
        "ex: !pip install pandas == '0.22.0'"
      ]
    },
    {
      "cell_type": "code",
      "metadata": {
        "colab": {
          "base_uri": "https://localhost:8080/",
          "height": 204
        },
        "id": "6j-7BGe0r25U",
        "outputId": "574306c7-6bbf-4e97-ecfb-d653715ebb3f"
      },
      "source": [
        "dados = pd.read_csv('dados.csv')\n",
        "dados.head()"
      ],
      "execution_count": 6,
      "outputs": [
        {
          "output_type": "execute_result",
          "data": {
            "text/html": [
              "<div>\n",
              "<style scoped>\n",
              "    .dataframe tbody tr th:only-of-type {\n",
              "        vertical-align: middle;\n",
              "    }\n",
              "\n",
              "    .dataframe tbody tr th {\n",
              "        vertical-align: top;\n",
              "    }\n",
              "\n",
              "    .dataframe thead th {\n",
              "        text-align: right;\n",
              "    }\n",
              "</style>\n",
              "<table border=\"1\" class=\"dataframe\">\n",
              "  <thead>\n",
              "    <tr style=\"text-align: right;\">\n",
              "      <th></th>\n",
              "      <th>UF</th>\n",
              "      <th>Sexo</th>\n",
              "      <th>Idade</th>\n",
              "      <th>Cor</th>\n",
              "      <th>Anos de Estudo</th>\n",
              "      <th>Renda</th>\n",
              "      <th>Altura</th>\n",
              "    </tr>\n",
              "  </thead>\n",
              "  <tbody>\n",
              "    <tr>\n",
              "      <th>0</th>\n",
              "      <td>11</td>\n",
              "      <td>0</td>\n",
              "      <td>23</td>\n",
              "      <td>8</td>\n",
              "      <td>12</td>\n",
              "      <td>800</td>\n",
              "      <td>1.603808</td>\n",
              "    </tr>\n",
              "    <tr>\n",
              "      <th>1</th>\n",
              "      <td>11</td>\n",
              "      <td>1</td>\n",
              "      <td>23</td>\n",
              "      <td>2</td>\n",
              "      <td>12</td>\n",
              "      <td>1150</td>\n",
              "      <td>1.739790</td>\n",
              "    </tr>\n",
              "    <tr>\n",
              "      <th>2</th>\n",
              "      <td>11</td>\n",
              "      <td>1</td>\n",
              "      <td>35</td>\n",
              "      <td>8</td>\n",
              "      <td>15</td>\n",
              "      <td>880</td>\n",
              "      <td>1.760444</td>\n",
              "    </tr>\n",
              "    <tr>\n",
              "      <th>3</th>\n",
              "      <td>11</td>\n",
              "      <td>0</td>\n",
              "      <td>46</td>\n",
              "      <td>2</td>\n",
              "      <td>6</td>\n",
              "      <td>3500</td>\n",
              "      <td>1.783158</td>\n",
              "    </tr>\n",
              "    <tr>\n",
              "      <th>4</th>\n",
              "      <td>11</td>\n",
              "      <td>1</td>\n",
              "      <td>47</td>\n",
              "      <td>8</td>\n",
              "      <td>9</td>\n",
              "      <td>150</td>\n",
              "      <td>1.690631</td>\n",
              "    </tr>\n",
              "  </tbody>\n",
              "</table>\n",
              "</div>"
            ],
            "text/plain": [
              "   UF  Sexo  Idade  Cor  Anos de Estudo  Renda    Altura\n",
              "0  11     0     23    8              12    800  1.603808\n",
              "1  11     1     23    2              12   1150  1.739790\n",
              "2  11     1     35    8              15    880  1.760444\n",
              "3  11     0     46    2               6   3500  1.783158\n",
              "4  11     1     47    8               9    150  1.690631"
            ]
          },
          "metadata": {
            "tags": []
          },
          "execution_count": 6
        }
      ]
    },
    {
      "cell_type": "markdown",
      "metadata": {
        "id": "_jBV-vtVwZVE"
      },
      "source": [
        "Dado qualitativo e quantitativo.\n",
        "Uf, Sexo, cor -> qualitativo.\n",
        "Idade, Anos de estudo, renda e altura -> Quantitativos\n",
        "\n",
        "Qualitativo: ordinais e nonimais\n",
        "Quantitativo: discreto e contínuo"
      ]
    },
    {
      "cell_type": "markdown",
      "metadata": {
        "id": "54RrmRDuxQQ4"
      },
      "source": [
        "#Dado qualitativo ordinal"
      ]
    },
    {
      "cell_type": "code",
      "metadata": {
        "colab": {
          "base_uri": "https://localhost:8080/"
        },
        "id": "SNuZaDHZv1jU",
        "outputId": "cf24c715-382e-4398-f18d-825405689ab4"
      },
      "source": [
        "sorted(dados['Anos de Estudo'].unique())"
      ],
      "execution_count": 9,
      "outputs": [
        {
          "output_type": "execute_result",
          "data": {
            "text/plain": [
              "[1, 2, 3, 4, 5, 6, 7, 8, 9, 10, 11, 12, 13, 14, 15, 16, 17]"
            ]
          },
          "metadata": {
            "tags": []
          },
          "execution_count": 9
        }
      ]
    },
    {
      "cell_type": "markdown",
      "metadata": {
        "id": "wW1qXnajxsW5"
      },
      "source": [
        "#Dado qualitativo nonimal"
      ]
    },
    {
      "cell_type": "code",
      "metadata": {
        "colab": {
          "base_uri": "https://localhost:8080/"
        },
        "id": "kOMp6z9WxhqV",
        "outputId": "97703cbf-9cc8-4033-a6bd-3a6e746b9cb8"
      },
      "source": [
        "sorted(dados['UF'].unique())"
      ],
      "execution_count": 10,
      "outputs": [
        {
          "output_type": "execute_result",
          "data": {
            "text/plain": [
              "[11, 12, 13, 14, 15, 16, 17, 21, 22, 23, 24, 25, 26, 27, 28, 29, 31]"
            ]
          },
          "metadata": {
            "tags": []
          },
          "execution_count": 10
        }
      ]
    },
    {
      "cell_type": "code",
      "metadata": {
        "colab": {
          "base_uri": "https://localhost:8080/"
        },
        "id": "FYMVWqYtx2Vi",
        "outputId": "2c567a95-d7cc-474e-ed43-a3a9ca0a7abc"
      },
      "source": [
        "sorted(dados['Sexo'].unique())"
      ],
      "execution_count": 11,
      "outputs": [
        {
          "output_type": "execute_result",
          "data": {
            "text/plain": [
              "[0, 1]"
            ]
          },
          "metadata": {
            "tags": []
          },
          "execution_count": 11
        }
      ]
    },
    {
      "cell_type": "code",
      "metadata": {
        "colab": {
          "base_uri": "https://localhost:8080/"
        },
        "id": "_z47GYamyD_o",
        "outputId": "d81a4336-41f7-43a0-e8a2-a77f4badc2a0"
      },
      "source": [
        "sorted(dados['Cor'].unique())"
      ],
      "execution_count": 12,
      "outputs": [
        {
          "output_type": "execute_result",
          "data": {
            "text/plain": [
              "[0, 2, 4, 6, 8]"
            ]
          },
          "metadata": {
            "tags": []
          },
          "execution_count": 12
        }
      ]
    },
    {
      "cell_type": "markdown",
      "metadata": {
        "id": "w61PNnOMyQPH"
      },
      "source": [
        "#Dado quantitativo discreto"
      ]
    },
    {
      "cell_type": "code",
      "metadata": {
        "colab": {
          "base_uri": "https://localhost:8080/"
        },
        "id": "ecUu6FP7yIPd",
        "outputId": "3a79cb04-20e9-4313-8c71-6c0822822ebd"
      },
      "source": [
        "dados.Idade.min()"
      ],
      "execution_count": 13,
      "outputs": [
        {
          "output_type": "execute_result",
          "data": {
            "text/plain": [
              "13"
            ]
          },
          "metadata": {
            "tags": []
          },
          "execution_count": 13
        }
      ]
    },
    {
      "cell_type": "code",
      "metadata": {
        "colab": {
          "base_uri": "https://localhost:8080/"
        },
        "id": "B-icjf92y2SJ",
        "outputId": "a5fc9596-ec16-42de-9417-7731bf760b5e"
      },
      "source": [
        "dados.Idade.max()"
      ],
      "execution_count": 14,
      "outputs": [
        {
          "output_type": "execute_result",
          "data": {
            "text/plain": [
              "97"
            ]
          },
          "metadata": {
            "tags": []
          },
          "execution_count": 14
        }
      ]
    },
    {
      "cell_type": "code",
      "metadata": {
        "colab": {
          "base_uri": "https://localhost:8080/"
        },
        "id": "LbzDt3IkyzZ0",
        "outputId": "683a84b9-cfb6-443b-eeb1-c3b17544ba7b"
      },
      "source": [
        "print(f'O conjunto idade tem valores entre {dados.Idade.min()} e {dados.Idade.max()}.')"
      ],
      "execution_count": 15,
      "outputs": [
        {
          "output_type": "stream",
          "text": [
            "O conjunto idade tem valores entre 13 e 97.\n"
          ],
          "name": "stdout"
        }
      ]
    },
    {
      "cell_type": "markdown",
      "metadata": {
        "id": "StieSZpEzVwl"
      },
      "source": [
        "#Dado quantitativo contínuo"
      ]
    },
    {
      "cell_type": "code",
      "metadata": {
        "colab": {
          "base_uri": "https://localhost:8080/"
        },
        "id": "5Nxz81ibzMTF",
        "outputId": "667b77c0-49c1-447e-b17e-b8302ad73315"
      },
      "source": [
        "print(f'O conjunto altura tem valores entre {dados.Altura.min()} e {dados.Altura.max()}.')"
      ],
      "execution_count": 16,
      "outputs": [
        {
          "output_type": "stream",
          "text": [
            "O conjunto altura tem valores entre 1.369493509 e 2.015829582.\n"
          ],
          "name": "stdout"
        }
      ]
    },
    {
      "cell_type": "markdown",
      "metadata": {
        "id": "IgsKLFNZ1hoe"
      },
      "source": [
        "#Distribuição de frequência"
      ]
    },
    {
      "cell_type": "code",
      "metadata": {
        "colab": {
          "base_uri": "https://localhost:8080/"
        },
        "id": "mVJ_wOiXztyO",
        "outputId": "da8336fb-7b54-4ddd-89e3-71e225c82c24"
      },
      "source": [
        "dados['Sexo'].value_counts()"
      ],
      "execution_count": 17,
      "outputs": [
        {
          "output_type": "execute_result",
          "data": {
            "text/plain": [
              "0    24376\n",
              "1    10922\n",
              "Name: Sexo, dtype: int64"
            ]
          },
          "metadata": {
            "tags": []
          },
          "execution_count": 17
        }
      ]
    },
    {
      "cell_type": "code",
      "metadata": {
        "colab": {
          "base_uri": "https://localhost:8080/"
        },
        "id": "MIAjWk-_1r94",
        "outputId": "83493d3e-307e-4b8e-dcfb-58ba2c122037"
      },
      "source": [
        "dados['Sexo'].value_counts(normalize=True)*100"
      ],
      "execution_count": 20,
      "outputs": [
        {
          "output_type": "execute_result",
          "data": {
            "text/plain": [
              "0    69.057737\n",
              "1    30.942263\n",
              "Name: Sexo, dtype: float64"
            ]
          },
          "metadata": {
            "tags": []
          },
          "execution_count": 20
        }
      ]
    },
    {
      "cell_type": "code",
      "metadata": {
        "id": "Z0mrohpI18DH"
      },
      "source": [
        "frequencia = dados['Sexo'].value_counts()\n",
        "percentual =dados['Sexo'].value_counts(normalize=True)*100"
      ],
      "execution_count": null,
      "outputs": []
    }
  ]
}