{
  "nbformat": 4,
  "nbformat_minor": 0,
  "metadata": {
    "colab": {
      "name": "alura_analise_experimentos.ipynb",
      "provenance": [],
      "authorship_tag": "ABX9TyPMFemBGXCkmzQq0B2G4xGi"
    },
    "kernelspec": {
      "name": "python3",
      "display_name": "Python 3"
    },
    "language_info": {
      "name": "python"
    }
  },
  "cells": [
    {
      "cell_type": "markdown",
      "metadata": {
        "id": "WTgSdPiTc_gz"
      },
      "source": [
        "#Análise de experimentos"
      ]
    },
    {
      "cell_type": "code",
      "metadata": {
        "id": "5CpuffFKcVBS"
      },
      "source": [
        "import pandas as pd\n",
        "import numpy as np\n",
        "import seaborn as sns"
      ],
      "execution_count": 11,
      "outputs": []
    },
    {
      "cell_type": "code",
      "metadata": {
        "colab": {
          "base_uri": "https://localhost:8080/"
        },
        "id": "hT43mmA2cbk8",
        "outputId": "77a28d4a-6f11-42b9-fd9d-f71a774a3c29"
      },
      "source": [
        "ensaios = np.array([[-1, -1], [1, -1], [-1, 1], [1, 1]])\n",
        "ensaios"
      ],
      "execution_count": 7,
      "outputs": [
        {
          "output_type": "execute_result",
          "data": {
            "text/plain": [
              "array([[-1, -1],\n",
              "       [ 1, -1],\n",
              "       [-1,  1],\n",
              "       [ 1,  1]])"
            ]
          },
          "metadata": {
            "tags": []
          },
          "execution_count": 7
        }
      ]
    },
    {
      "cell_type": "markdown",
      "metadata": {
        "id": "Rw37KKl6dPYz"
      },
      "source": [
        "##pyDOE2"
      ]
    },
    {
      "cell_type": "code",
      "metadata": {
        "colab": {
          "base_uri": "https://localhost:8080/"
        },
        "id": "aANUtagBc88c",
        "outputId": "a502693e-a07a-465d-c3de-2c28e15bf59a"
      },
      "source": [
        "!pip install pyDOE2\n",
        "import pyDOE2 as doe"
      ],
      "execution_count": 4,
      "outputs": [
        {
          "output_type": "stream",
          "text": [
            "Collecting pyDOE2\n",
            "  Downloading https://files.pythonhosted.org/packages/70/1f/8a2e1b57f6dd22cd2002e4332e229e87a3858d560c516b50ab7fe5bb075c/pyDOE2-1.3.0.tar.gz\n",
            "Requirement already satisfied: numpy in /usr/local/lib/python3.7/dist-packages (from pyDOE2) (1.19.5)\n",
            "Requirement already satisfied: scipy in /usr/local/lib/python3.7/dist-packages (from pyDOE2) (1.4.1)\n",
            "Building wheels for collected packages: pyDOE2\n",
            "  Building wheel for pyDOE2 (setup.py) ... \u001b[?25l\u001b[?25hdone\n",
            "  Created wheel for pyDOE2: filename=pyDOE2-1.3.0-cp37-none-any.whl size=25519 sha256=48a90adce2aa39747f2fc1fd858d3d504f50e7743dd4fcdb3d94edb9a26c07db\n",
            "  Stored in directory: /root/.cache/pip/wheels/60/88/1d/b334ee00dd83e82d111ec56c3be91573d335c93870698037f1\n",
            "Successfully built pyDOE2\n",
            "Installing collected packages: pyDOE2\n",
            "Successfully installed pyDOE2-1.3.0\n"
          ],
          "name": "stdout"
        }
      ]
    },
    {
      "cell_type": "code",
      "metadata": {
        "colab": {
          "base_uri": "https://localhost:8080/"
        },
        "id": "z6Jk2LQwdWS_",
        "outputId": "e7a0050b-3e14-46e1-fbdc-5b1dbb70e633"
      },
      "source": [
        "ensaios = doe.ff2n(2)\n",
        "ensaios"
      ],
      "execution_count": 6,
      "outputs": [
        {
          "output_type": "execute_result",
          "data": {
            "text/plain": [
              "array([[-1., -1.],\n",
              "       [ 1., -1.],\n",
              "       [-1.,  1.],\n",
              "       [ 1.,  1.]])"
            ]
          },
          "metadata": {
            "tags": []
          },
          "execution_count": 6
        }
      ]
    },
    {
      "cell_type": "code",
      "metadata": {
        "colab": {
          "base_uri": "https://localhost:8080/",
          "height": 173
        },
        "id": "IK5MabEUdpf9",
        "outputId": "a72a58db-00e1-4a2f-a72d-dc2c1622cd79"
      },
      "source": [
        "experimento = pd.DataFrame(ensaios, columns=['farinha', 'chocolate'])\n",
        "experimento"
      ],
      "execution_count": 14,
      "outputs": [
        {
          "output_type": "execute_result",
          "data": {
            "text/html": [
              "<div>\n",
              "<style scoped>\n",
              "    .dataframe tbody tr th:only-of-type {\n",
              "        vertical-align: middle;\n",
              "    }\n",
              "\n",
              "    .dataframe tbody tr th {\n",
              "        vertical-align: top;\n",
              "    }\n",
              "\n",
              "    .dataframe thead th {\n",
              "        text-align: right;\n",
              "    }\n",
              "</style>\n",
              "<table border=\"1\" class=\"dataframe\">\n",
              "  <thead>\n",
              "    <tr style=\"text-align: right;\">\n",
              "      <th></th>\n",
              "      <th>farinha</th>\n",
              "      <th>chocolate</th>\n",
              "    </tr>\n",
              "  </thead>\n",
              "  <tbody>\n",
              "    <tr>\n",
              "      <th>0</th>\n",
              "      <td>-1</td>\n",
              "      <td>-1</td>\n",
              "    </tr>\n",
              "    <tr>\n",
              "      <th>1</th>\n",
              "      <td>1</td>\n",
              "      <td>-1</td>\n",
              "    </tr>\n",
              "    <tr>\n",
              "      <th>2</th>\n",
              "      <td>-1</td>\n",
              "      <td>1</td>\n",
              "    </tr>\n",
              "    <tr>\n",
              "      <th>3</th>\n",
              "      <td>1</td>\n",
              "      <td>1</td>\n",
              "    </tr>\n",
              "  </tbody>\n",
              "</table>\n",
              "</div>"
            ],
            "text/plain": [
              "   farinha  chocolate\n",
              "0       -1         -1\n",
              "1        1         -1\n",
              "2       -1          1\n",
              "3        1          1"
            ]
          },
          "metadata": {
            "tags": []
          },
          "execution_count": 14
        }
      ]
    },
    {
      "cell_type": "code",
      "metadata": {
        "colab": {
          "base_uri": "https://localhost:8080/",
          "height": 173
        },
        "id": "dP-QwIdgeCLu",
        "outputId": "27b7633f-6f9c-4e37-badc-077d8363c89b"
      },
      "source": [
        "experimento['porcoes'] = [19, 37, 24, 49]\n",
        "experimento"
      ],
      "execution_count": 15,
      "outputs": [
        {
          "output_type": "execute_result",
          "data": {
            "text/html": [
              "<div>\n",
              "<style scoped>\n",
              "    .dataframe tbody tr th:only-of-type {\n",
              "        vertical-align: middle;\n",
              "    }\n",
              "\n",
              "    .dataframe tbody tr th {\n",
              "        vertical-align: top;\n",
              "    }\n",
              "\n",
              "    .dataframe thead th {\n",
              "        text-align: right;\n",
              "    }\n",
              "</style>\n",
              "<table border=\"1\" class=\"dataframe\">\n",
              "  <thead>\n",
              "    <tr style=\"text-align: right;\">\n",
              "      <th></th>\n",
              "      <th>farinha</th>\n",
              "      <th>chocolate</th>\n",
              "      <th>porcoes</th>\n",
              "    </tr>\n",
              "  </thead>\n",
              "  <tbody>\n",
              "    <tr>\n",
              "      <th>0</th>\n",
              "      <td>-1</td>\n",
              "      <td>-1</td>\n",
              "      <td>19</td>\n",
              "    </tr>\n",
              "    <tr>\n",
              "      <th>1</th>\n",
              "      <td>1</td>\n",
              "      <td>-1</td>\n",
              "      <td>37</td>\n",
              "    </tr>\n",
              "    <tr>\n",
              "      <th>2</th>\n",
              "      <td>-1</td>\n",
              "      <td>1</td>\n",
              "      <td>24</td>\n",
              "    </tr>\n",
              "    <tr>\n",
              "      <th>3</th>\n",
              "      <td>1</td>\n",
              "      <td>1</td>\n",
              "      <td>49</td>\n",
              "    </tr>\n",
              "  </tbody>\n",
              "</table>\n",
              "</div>"
            ],
            "text/plain": [
              "   farinha  chocolate  porcoes\n",
              "0       -1         -1       19\n",
              "1        1         -1       37\n",
              "2       -1          1       24\n",
              "3        1          1       49"
            ]
          },
          "metadata": {
            "tags": []
          },
          "execution_count": 15
        }
      ]
    },
    {
      "cell_type": "markdown",
      "metadata": {
        "id": "zqJdtUyWjKp4"
      },
      "source": [
        "##Vizualização gráfica"
      ]
    },
    {
      "cell_type": "code",
      "metadata": {
        "id": "bYb8J-ZceVoz"
      },
      "source": [
        "sns.set_palette('terrain')\n",
        "sns.set_style('darkgrid')"
      ],
      "execution_count": 12,
      "outputs": []
    },
    {
      "cell_type": "code",
      "metadata": {
        "colab": {
          "base_uri": "https://localhost:8080/",
          "height": 400
        },
        "id": "aMSvIThUexND",
        "outputId": "94691f41-5c4f-4f9d-d4cf-51313cf97100"
      },
      "source": [
        "ax1 = sns.lmplot(data=experimento, x='farinha', y='porcoes', hue='chocolate', ci=None)\n",
        "ax1.set(xticks = (-1,1))"
      ],
      "execution_count": 20,
      "outputs": [
        {
          "output_type": "execute_result",
          "data": {
            "text/plain": [
              "<seaborn.axisgrid.FacetGrid at 0x7f940b245c90>"
            ]
          },
          "metadata": {
            "tags": []
          },
          "execution_count": 20
        },
        {
          "output_type": "display_data",
          "data": {
            "image/png": "[encoded data removed]",
            "text/plain": [
              "<Figure size 416.375x360 with 1 Axes>"
            ]
          },
          "metadata": {
            "tags": []
          }
        }
      ]
    },
    {
      "cell_type": "code",
      "metadata": {
        "colab": {
          "base_uri": "https://localhost:8080/",
          "height": 400
        },
        "id": "GvYOEbjpfbGm",
        "outputId": "5e51c34b-ea24-4d3e-92ae-b1add48db90d"
      },
      "source": [
        "ax2 = sns.lmplot(data=experimento, x='chocolate', y='porcoes', hue='farinha', ci=None) \n",
        "ax2.set(xticks = (-1,1))"
      ],
      "execution_count": 26,
      "outputs": [
        {
          "output_type": "execute_result",
          "data": {
            "text/plain": [
              "<seaborn.axisgrid.FacetGrid at 0x7f940b2b7910>"
            ]
          },
          "metadata": {
            "tags": []
          },
          "execution_count": 26
        },
        {
          "output_type": "display_data",
          "data": {
            "image/png": "[encoded data removed]",
            "text/plain": [
              "<Figure size 406x360 with 1 Axes>"
            ]
          },
          "metadata": {
            "tags": []
          }
        }
      ]
    },
    {
      "cell_type": "markdown",
      "metadata": {
        "id": "4VnrPTZQjNnT"
      },
      "source": [
        "##Modelo estatístico"
      ]
    },
    {
      "cell_type": "code",
      "metadata": {
        "id": "WoR8erljg-zS"
      },
      "source": [
        "import statsmodels.api as sm\n",
        "import statsmodels.formula.api as smf"
      ],
      "execution_count": 29,
      "outputs": []
    },
    {
      "cell_type": "code",
      "metadata": {
        "id": "tEgijzFfjWGP"
      },
      "source": [
        "modelo = smf.ols(data=experimento, formula='porcoes ~ farinha + chocolate + farinha:chocolate')"
      ],
      "execution_count": 30,
      "outputs": []
    },
    {
      "cell_type": "code",
      "metadata": {
        "id": "TUBWs_1jkIWJ"
      },
      "source": [
        "modelo_ajustado = modelo.fit()"
      ],
      "execution_count": 31,
      "outputs": []
    },
    {
      "cell_type": "code",
      "metadata": {
        "colab": {
          "base_uri": "https://localhost:8080/"
        },
        "id": "Vk__KhYQkOb8",
        "outputId": "fa6e52a9-0513-4014-85a9-286a2102868c"
      },
      "source": [
        "print(modelo_ajustado.summary())"
      ],
      "execution_count": 34,
      "outputs": [
        {
          "output_type": "stream",
          "text": [
            "                            OLS Regression Results                            \n",
            "==============================================================================\n",
            "Dep. Variable:                porcoes   R-squared:                       1.000\n",
            "Model:                            OLS   Adj. R-squared:                    nan\n",
            "Method:                 Least Squares   F-statistic:                     0.000\n",
            "Date:                Fri, 02 Apr 2021   Prob (F-statistic):                nan\n",
            "Time:                        21:51:05   Log-Likelihood:                 127.41\n",
            "No. Observations:                   4   AIC:                            -246.8\n",
            "Df Residuals:                       0   BIC:                            -249.3\n",
            "Df Model:                           3                                         \n",
            "Covariance Type:            nonrobust                                         \n",
            "=====================================================================================\n",
            "                        coef    std err          t      P>|t|      [0.025      0.975]\n",
            "-------------------------------------------------------------------------------------\n",
            "Intercept            32.2500        inf          0        nan         nan         nan\n",
            "farinha              10.7500        inf          0        nan         nan         nan\n",
            "chocolate             4.2500        inf          0        nan         nan         nan\n",
            "farinha:chocolate     1.7500        inf          0        nan         nan         nan\n",
            "==============================================================================\n",
            "Omnibus:                          nan   Durbin-Watson:                   2.000\n",
            "Prob(Omnibus):                    nan   Jarque-Bera (JB):                0.963\n",
            "Skew:                           1.155   Prob(JB):                        0.618\n",
            "Kurtosis:                       2.333   Cond. No.                         1.00\n",
            "==============================================================================\n",
            "\n",
            "Warnings:\n",
            "[1] Standard Errors assume that the covariance matrix of the errors is correctly specified.\n"
          ],
          "name": "stdout"
        },
        {
          "output_type": "stream",
          "text": [
            "/usr/local/lib/python3.7/dist-packages/statsmodels/stats/stattools.py:71: ValueWarning: omni_normtest is not valid with less than 8 observations; 4 samples were given.\n",
            "  \"samples were given.\" % int(n), ValueWarning)\n"
          ],
          "name": "stderr"
        }
      ]
    },
    {
      "cell_type": "code",
      "metadata": {
        "id": "X0CczUdOkSxW"
      },
      "source": [
        ""
      ],
      "execution_count": null,
      "outputs": []
    },
    {
      "cell_type": "markdown",
      "metadata": {
        "id": "Awvzl7rmlJpr"
      },
      "source": [
        "##Análise de significancia estatítica"
      ]
    },
    {
      "cell_type": "code",
      "metadata": {
        "id": "DM_8hoDrm9mn"
      },
      "source": [
        "centro = np.array([[0, 0, 29],\n",
        "                   [0, 0, 30],\n",
        "                   [0, 0, 29],\n",
        "                   [0, 0, 30]])"
      ],
      "execution_count": 35,
      "outputs": []
    },
    {
      "cell_type": "code",
      "metadata": {
        "colab": {
          "base_uri": "https://localhost:8080/",
          "height": 173
        },
        "id": "g4CJ--VnnUZz",
        "outputId": "31c65a05-510e-4830-8671-f214a399836e"
      },
      "source": [
        "centro_df = pd.DataFrame(centro, columns=['farinha', 'chocolate', 'porcoes'], index=[4, 5, 6, 7])\n",
        "centro_df"
      ],
      "execution_count": 37,
      "outputs": [
        {
          "output_type": "execute_result",
          "data": {
            "text/html": [
              "<div>\n",
              "<style scoped>\n",
              "    .dataframe tbody tr th:only-of-type {\n",
              "        vertical-align: middle;\n",
              "    }\n",
              "\n",
              "    .dataframe tbody tr th {\n",
              "        vertical-align: top;\n",
              "    }\n",
              "\n",
              "    .dataframe thead th {\n",
              "        text-align: right;\n",
              "    }\n",
              "</style>\n",
              "<table border=\"1\" class=\"dataframe\">\n",
              "  <thead>\n",
              "    <tr style=\"text-align: right;\">\n",
              "      <th></th>\n",
              "      <th>farinha</th>\n",
              "      <th>chocolate</th>\n",
              "      <th>porcoes</th>\n",
              "    </tr>\n",
              "  </thead>\n",
              "  <tbody>\n",
              "    <tr>\n",
              "      <th>4</th>\n",
              "      <td>0</td>\n",
              "      <td>0</td>\n",
              "      <td>29</td>\n",
              "    </tr>\n",
              "    <tr>\n",
              "      <th>5</th>\n",
              "      <td>0</td>\n",
              "      <td>0</td>\n",
              "      <td>30</td>\n",
              "    </tr>\n",
              "    <tr>\n",
              "      <th>6</th>\n",
              "      <td>0</td>\n",
              "      <td>0</td>\n",
              "      <td>29</td>\n",
              "    </tr>\n",
              "    <tr>\n",
              "      <th>7</th>\n",
              "      <td>0</td>\n",
              "      <td>0</td>\n",
              "      <td>30</td>\n",
              "    </tr>\n",
              "  </tbody>\n",
              "</table>\n",
              "</div>"
            ],
            "text/plain": [
              "   farinha  chocolate  porcoes\n",
              "4        0          0       29\n",
              "5        0          0       30\n",
              "6        0          0       29\n",
              "7        0          0       30"
            ]
          },
          "metadata": {
            "tags": []
          },
          "execution_count": 37
        }
      ]
    },
    {
      "cell_type": "code",
      "metadata": {
        "id": "EWvDmyLfnZ1U"
      },
      "source": [
        "experimento = experimento.append(centro_df)"
      ],
      "execution_count": 38,
      "outputs": []
    },
    {
      "cell_type": "code",
      "metadata": {
        "colab": {
          "base_uri": "https://localhost:8080/",
          "height": 297
        },
        "id": "D-LrmsUyn3JQ",
        "outputId": "877aef33-f074-496d-8c00-99b99636040e"
      },
      "source": [
        "experimento"
      ],
      "execution_count": 39,
      "outputs": [
        {
          "output_type": "execute_result",
          "data": {
            "text/html": [
              "<div>\n",
              "<style scoped>\n",
              "    .dataframe tbody tr th:only-of-type {\n",
              "        vertical-align: middle;\n",
              "    }\n",
              "\n",
              "    .dataframe tbody tr th {\n",
              "        vertical-align: top;\n",
              "    }\n",
              "\n",
              "    .dataframe thead th {\n",
              "        text-align: right;\n",
              "    }\n",
              "</style>\n",
              "<table border=\"1\" class=\"dataframe\">\n",
              "  <thead>\n",
              "    <tr style=\"text-align: right;\">\n",
              "      <th></th>\n",
              "      <th>farinha</th>\n",
              "      <th>chocolate</th>\n",
              "      <th>porcoes</th>\n",
              "    </tr>\n",
              "  </thead>\n",
              "  <tbody>\n",
              "    <tr>\n",
              "      <th>0</th>\n",
              "      <td>-1</td>\n",
              "      <td>-1</td>\n",
              "      <td>19</td>\n",
              "    </tr>\n",
              "    <tr>\n",
              "      <th>1</th>\n",
              "      <td>1</td>\n",
              "      <td>-1</td>\n",
              "      <td>37</td>\n",
              "    </tr>\n",
              "    <tr>\n",
              "      <th>2</th>\n",
              "      <td>-1</td>\n",
              "      <td>1</td>\n",
              "      <td>24</td>\n",
              "    </tr>\n",
              "    <tr>\n",
              "      <th>3</th>\n",
              "      <td>1</td>\n",
              "      <td>1</td>\n",
              "      <td>49</td>\n",
              "    </tr>\n",
              "    <tr>\n",
              "      <th>4</th>\n",
              "      <td>0</td>\n",
              "      <td>0</td>\n",
              "      <td>29</td>\n",
              "    </tr>\n",
              "    <tr>\n",
              "      <th>5</th>\n",
              "      <td>0</td>\n",
              "      <td>0</td>\n",
              "      <td>30</td>\n",
              "    </tr>\n",
              "    <tr>\n",
              "      <th>6</th>\n",
              "      <td>0</td>\n",
              "      <td>0</td>\n",
              "      <td>29</td>\n",
              "    </tr>\n",
              "    <tr>\n",
              "      <th>7</th>\n",
              "      <td>0</td>\n",
              "      <td>0</td>\n",
              "      <td>30</td>\n",
              "    </tr>\n",
              "  </tbody>\n",
              "</table>\n",
              "</div>"
            ],
            "text/plain": [
              "   farinha  chocolate  porcoes\n",
              "0       -1         -1       19\n",
              "1        1         -1       37\n",
              "2       -1          1       24\n",
              "3        1          1       49\n",
              "4        0          0       29\n",
              "5        0          0       30\n",
              "6        0          0       29\n",
              "7        0          0       30"
            ]
          },
          "metadata": {
            "tags": []
          },
          "execution_count": 39
        }
      ]
    },
    {
      "cell_type": "code",
      "metadata": {
        "id": "Y7Wwul3Sn4U9"
      },
      "source": [
        "modelo = smf.ols(data=experimento, formula=('porcoes ~ farinha + chocolate + farinha:chocolate'))"
      ],
      "execution_count": 40,
      "outputs": []
    },
    {
      "cell_type": "code",
      "metadata": {
        "id": "Y-TFtyADodLI"
      },
      "source": [
        "modelo_ajustado = modelo.fit()"
      ],
      "execution_count": 41,
      "outputs": []
    },
    {
      "cell_type": "code",
      "metadata": {
        "colab": {
          "base_uri": "https://localhost:8080/"
        },
        "id": "ERNEr42zolk4",
        "outputId": "50f0148e-971e-4758-dd0b-d620e263a7b2"
      },
      "source": [
        "print(modelo_ajustado.summary()) # se valor de p>|t| < 0.05 parâmetro é significativo caso contrário o parâmetro pode ser descartado"
      ],
      "execution_count": 45,
      "outputs": [
        {
          "output_type": "stream",
          "text": [
            "                            OLS Regression Results                            \n",
            "==============================================================================\n",
            "Dep. Variable:                porcoes   R-squared:                       0.971\n",
            "Model:                            OLS   Adj. R-squared:                  0.950\n",
            "Method:                 Least Squares   F-statistic:                     45.21\n",
            "Date:                Fri, 02 Apr 2021   Prob (F-statistic):            0.00152\n",
            "Time:                        22:10:11   Log-Likelihood:                -14.155\n",
            "No. Observations:                   8   AIC:                             36.31\n",
            "Df Residuals:                       4   BIC:                             36.63\n",
            "Df Model:                           3                                         \n",
            "Covariance Type:            nonrobust                                         \n",
            "=====================================================================================\n",
            "                        coef    std err          t      P>|t|      [0.025      0.975]\n",
            "-------------------------------------------------------------------------------------\n",
            "Intercept            30.8750      0.710     43.494      0.000      28.904      32.846\n",
            "farinha              10.7500      1.004     10.708      0.000       7.963      13.537\n",
            "chocolate             4.2500      1.004      4.233      0.013       1.463       7.037\n",
            "farinha:chocolate     1.7500      1.004      1.743      0.156      -1.037       4.537\n",
            "==============================================================================\n",
            "Omnibus:                        4.655   Durbin-Watson:                   0.841\n",
            "Prob(Omnibus):                  0.098   Jarque-Bera (JB):                1.080\n",
            "Skew:                          -0.180   Prob(JB):                        0.583\n",
            "Kurtosis:                       1.237   Cond. No.                         1.41\n",
            "==============================================================================\n",
            "\n",
            "Warnings:\n",
            "[1] Standard Errors assume that the covariance matrix of the errors is correctly specified.\n"
          ],
          "name": "stdout"
        },
        {
          "output_type": "stream",
          "text": [
            "/usr/local/lib/python3.7/dist-packages/scipy/stats/stats.py:1535: UserWarning: kurtosistest only valid for n>=20 ... continuing anyway, n=8\n",
            "  \"anyway, n=%i\" % int(n))\n"
          ],
          "name": "stderr"
        }
      ]
    },
    {
      "cell_type": "code",
      "metadata": {
        "colab": {
          "base_uri": "https://localhost:8080/"
        },
        "id": "Xadtjh_AonoY",
        "outputId": "5ad65ae0-c0da-4e19-d6ce-96177127c521"
      },
      "source": [
        "t_valores = modelo_ajustado.tvalues\n",
        "t_valores"
      ],
      "execution_count": 47,
      "outputs": [
        {
          "output_type": "execute_result",
          "data": {
            "text/plain": [
              "Intercept            43.494275\n",
              "farinha              10.708252\n",
              "chocolate             4.233495\n",
              "farinha:chocolate     1.743204\n",
              "dtype: float64"
            ]
          },
          "metadata": {
            "tags": []
          },
          "execution_count": 47
        }
      ]
    },
    {
      "cell_type": "code",
      "metadata": {
        "colab": {
          "base_uri": "https://localhost:8080/"
        },
        "id": "kJrKjQFhslDY",
        "outputId": "9fe28871-5cf0-49f1-ac32-1fb8ea6d4a1d"
      },
      "source": [
        "nome = t_valores.index.tolist()\n",
        "nome "
      ],
      "execution_count": 48,
      "outputs": [
        {
          "output_type": "execute_result",
          "data": {
            "text/plain": [
              "['Intercept', 'farinha', 'chocolate', 'farinha:chocolate']"
            ]
          },
          "metadata": {
            "tags": []
          },
          "execution_count": 48
        }
      ]
    },
    {
      "cell_type": "code",
      "metadata": {
        "id": "XPokP13Ctcqy"
      },
      "source": [
        "from scipy import stats"
      ],
      "execution_count": 53,
      "outputs": []
    },
    {
      "cell_type": "code",
      "metadata": {
        "colab": {
          "base_uri": "https://localhost:8080/"
        },
        "id": "qlmNIUUsth1v",
        "outputId": "7f5923ca-b4b7-4aa0-a206-17b42a867a5a"
      },
      "source": [
        "distribuicao = stats.t(df=4)\n",
        "distribuicao.ppf(q=1-0.025)"
      ],
      "execution_count": 55,
      "outputs": [
        {
          "output_type": "execute_result",
          "data": {
            "text/plain": [
              "2.7764451051977987"
            ]
          },
          "metadata": {
            "tags": []
          },
          "execution_count": 55
        }
      ]
    },
    {
      "cell_type": "code",
      "metadata": {
        "id": "LgmfIt8_tg83"
      },
      "source": [
        "limite = [distribuicao.ppf(q=1-0.025)]*len(nome)"
      ],
      "execution_count": 56,
      "outputs": []
    },
    {
      "cell_type": "code",
      "metadata": {
        "colab": {
          "base_uri": "https://localhost:8080/"
        },
        "id": "hdamZ8uNtg0r",
        "outputId": "e1b43d8b-879d-4417-c8ad-18615e787168"
      },
      "source": [
        "limite"
      ],
      "execution_count": 57,
      "outputs": [
        {
          "output_type": "execute_result",
          "data": {
            "text/plain": [
              "[2.7764451051977987,\n",
              " 2.7764451051977987,\n",
              " 2.7764451051977987,\n",
              " 2.7764451051977987]"
            ]
          },
          "metadata": {
            "tags": []
          },
          "execution_count": 57
        }
      ]
    },
    {
      "cell_type": "code",
      "metadata": {
        "id": "iquvBhyCtgtY"
      },
      "source": [
        ""
      ],
      "execution_count": null,
      "outputs": []
    },
    {
      "cell_type": "code",
      "metadata": {
        "colab": {
          "base_uri": "https://localhost:8080/",
          "height": 444
        },
        "id": "pgOrXbOUsvg-",
        "outputId": "43944656-e10d-4aa2-e731-2fd2974bcb64"
      },
      "source": [
        "pareto = sns.barplot(x=t_valores, y=nome)\n",
        "pareto.plot(limite, nome, 'r') #para valores menores que o t-cal o parâmetro não é significativo\n",
        "pareto.figure.set_size_inches(12,6)\n",
        "pareto.tick_params(labelsize=20)\n",
        "pareto.set_title('Gráfico Pareto',  fontsize=20)\n",
        "pareto.set_xlabel('t-values', fontsize=20)"
      ],
      "execution_count": 58,
      "outputs": [
        {
          "output_type": "execute_result",
          "data": {
            "text/plain": [
              "Text(0.5, 0, 't-values')"
            ]
          },
          "metadata": {
            "tags": []
          },
          "execution_count": 58
        },
        {
          "output_type": "display_data",
          "data": {
            "image/png": "[encoded data removed]",
            "text/plain": [
              "<Figure size 864x432 with 1 Axes>"
            ]
          },
          "metadata": {
            "tags": []
          }
        }
      ]
    },
    {
      "cell_type": "markdown",
      "metadata": {
        "id": "_-6AhQIJvmQB"
      },
      "source": [
        "##Novo modelo estatístico"
      ]
    },
    {
      "cell_type": "code",
      "metadata": {
        "colab": {
          "base_uri": "https://localhost:8080/"
        },
        "id": "U8t_5WYNs79-",
        "outputId": "bffa928a-8966-4b24-8575-6deb83a8b8ac"
      },
      "source": [
        "modelo = smf.ols(data=experimento, formula=('porcoes ~ farinha + chocolate'))\n",
        "modelo_ajustado = modelo.fit()\n",
        "print(modelo_ajustado.summary())"
      ],
      "execution_count": 59,
      "outputs": [
        {
          "output_type": "stream",
          "text": [
            "                            OLS Regression Results                            \n",
            "==============================================================================\n",
            "Dep. Variable:                porcoes   R-squared:                       0.950\n",
            "Model:                            OLS   Adj. R-squared:                  0.929\n",
            "Method:                 Least Squares   F-statistic:                     47.09\n",
            "Date:                Fri, 02 Apr 2021   Prob (F-statistic):           0.000571\n",
            "Time:                        22:40:42   Log-Likelihood:                -16.416\n",
            "No. Observations:                   8   AIC:                             38.83\n",
            "Df Residuals:                       5   BIC:                             39.07\n",
            "Df Model:                           2                                         \n",
            "Covariance Type:            nonrobust                                         \n",
            "==============================================================================\n",
            "                 coef    std err          t      P>|t|      [0.025      0.975]\n",
            "------------------------------------------------------------------------------\n",
            "Intercept     30.8750      0.842     36.658      0.000      28.710      33.040\n",
            "farinha       10.7500      1.191      9.025      0.000       7.688      13.812\n",
            "chocolate      4.2500      1.191      3.568      0.016       1.188       7.312\n",
            "==============================================================================\n",
            "Omnibus:                        2.106   Durbin-Watson:                   1.850\n",
            "Prob(Omnibus):                  0.349   Jarque-Bera (JB):                1.245\n",
            "Skew:                           0.868   Prob(JB):                        0.537\n",
            "Kurtosis:                       2.153   Cond. No.                         1.41\n",
            "==============================================================================\n",
            "\n",
            "Warnings:\n",
            "[1] Standard Errors assume that the covariance matrix of the errors is correctly specified.\n"
          ],
          "name": "stdout"
        },
        {
          "output_type": "stream",
          "text": [
            "/usr/local/lib/python3.7/dist-packages/scipy/stats/stats.py:1535: UserWarning: kurtosistest only valid for n>=20 ... continuing anyway, n=8\n",
            "  \"anyway, n=%i\" % int(n))\n"
          ],
          "name": "stderr"
        }
      ]
    },
    {
      "cell_type": "code",
      "metadata": {
        "id": "ZNlH0GQivui6"
      },
      "source": [
        "t_valores = modelo_ajustado.tvalues\n",
        "nome = t_valores.index.tolist()\n",
        "distribuicao = stats.t(df=5)\n",
        "distribuicao.ppf(q=1-0.025)\n",
        "limite = [distribuicao.ppf(q=1-0.025)]*len(nome)"
      ],
      "execution_count": 60,
      "outputs": []
    },
    {
      "cell_type": "code",
      "metadata": {
        "colab": {
          "base_uri": "https://localhost:8080/",
          "height": 444
        },
        "id": "xDIDTbJAwiFT",
        "outputId": "cce1e9cd-9db5-408b-a5c9-4d09779836ee"
      },
      "source": [
        "pareto = sns.barplot(x=t_valores, y=nome)\n",
        "pareto.plot(limite, nome, 'r') #para valores menores que o t-cal o parâmetro não é significativo\n",
        "pareto.figure.set_size_inches(12,6)\n",
        "pareto.tick_params(labelsize=20)\n",
        "pareto.set_title('Gráfico Pareto',  fontsize=20)\n",
        "pareto.set_xlabel('t-values', fontsize=20)\n",
        "pareto.set_ylabel('Parâmetro', fontsize=20)"
      ],
      "execution_count": 63,
      "outputs": [
        {
          "output_type": "execute_result",
          "data": {
            "text/plain": [
              "Text(0, 0.5, 'Parâmetro')"
            ]
          },
          "metadata": {
            "tags": []
          },
          "execution_count": 63
        },
        {
          "output_type": "display_data",
          "data": {
            "image/png": "[encoded data removed]",
            "text/plain": [
              "<Figure size 864x432 with 1 Axes>"
            ]
          },
          "metadata": {
            "tags": []
          }
        }
      ]
    },
    {
      "cell_type": "markdown",
      "metadata": {
        "id": "GDJetvLCxtLk"
      },
      "source": [
        "##previsões dos modelos"
      ]
    },
    {
      "cell_type": "code",
      "metadata": {
        "colab": {
          "base_uri": "https://localhost:8080/"
        },
        "id": "xl3jj4KSwjF6",
        "outputId": "b1061de2-c403-49cc-d578-271c8206a03a"
      },
      "source": [
        "observados = experimento['porcoes']\n",
        "observados"
      ],
      "execution_count": 64,
      "outputs": [
        {
          "output_type": "execute_result",
          "data": {
            "text/plain": [
              "0    19\n",
              "1    37\n",
              "2    24\n",
              "3    49\n",
              "4    29\n",
              "5    30\n",
              "6    29\n",
              "7    30\n",
              "Name: porcoes, dtype: int64"
            ]
          },
          "metadata": {
            "tags": []
          },
          "execution_count": 64
        }
      ]
    },
    {
      "cell_type": "code",
      "metadata": {
        "colab": {
          "base_uri": "https://localhost:8080/"
        },
        "id": "_drQt98lx-jJ",
        "outputId": "7bf757e1-c583-4835-f7fc-65a25860838a"
      },
      "source": [
        "preditos = modelo_ajustado.predict()\n",
        "preditos"
      ],
      "execution_count": 66,
      "outputs": [
        {
          "output_type": "execute_result",
          "data": {
            "text/plain": [
              "array([15.875, 37.375, 24.375, 45.875, 30.875, 30.875, 30.875, 30.875])"
            ]
          },
          "metadata": {
            "tags": []
          },
          "execution_count": 66
        }
      ]
    },
    {
      "cell_type": "code",
      "metadata": {
        "id": "V7C-Qm6tyIK2"
      },
      "source": [
        "import matplotlib.pyplot as plt"
      ],
      "execution_count": 67,
      "outputs": []
    },
    {
      "cell_type": "code",
      "metadata": {
        "colab": {
          "base_uri": "https://localhost:8080/",
          "height": 414
        },
        "id": "hcCyikPpyL33",
        "outputId": "09be5b73-2888-4d7e-ee70-62de0b88adda"
      },
      "source": [
        "plt.figure(figsize=(12,6))\n",
        "plt.xlabel('Valores Preditos', fontsize=16)\n",
        "plt.ylabel('Valores Observados', fontsize=16)\n",
        "plt.scatter(preditos, observados)\n",
        "x=np.linspace(start=10, stop=55, num=10)\n",
        "y=np.linspace(start=10, stop=55, num=10)\n",
        "plt.plot(x, y, 'r-', )\n",
        "plt.xlim((15,50))\n",
        "plt.ylim((15,50))"
      ],
      "execution_count": 69,
      "outputs": [
        {
          "output_type": "execute_result",
          "data": {
            "text/plain": [
              "(15.0, 50.0)"
            ]
          },
          "metadata": {
            "tags": []
          },
          "execution_count": 69
        },
        {
          "output_type": "display_data",
          "data": {
            "image/png": "[encoded data removed]",
            "text/plain": [
              "<Figure size 864x432 with 1 Axes>"
            ]
          },
          "metadata": {
            "tags": []
          }
        }
      ]
    },
    {
      "cell_type": "code",
      "metadata": {
        "id": "qN9LB8JVzksA"
      },
      "source": [
        ""
      ],
      "execution_count": null,
      "outputs": []
    }
  ]
}