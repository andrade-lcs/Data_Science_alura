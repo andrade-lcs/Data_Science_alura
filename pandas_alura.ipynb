{
  "nbformat": 4,
  "nbformat_minor": 0,
  "metadata": {
    "colab": {
      "name": "pandas_alura.ipynb",
      "provenance": [],
      "authorship_tag": "ABX9TyPud6RTmrQl0aETRbw3onhB"
    },
    "kernelspec": {
      "name": "python3",
      "display_name": "Python 3"
    },
    "language_info": {
      "name": "python"
    }
  },
  "cells": [
    {
      "cell_type": "markdown",
      "metadata": {
        "id": "rRYBhrIlhA5_"
      },
      "source": [
        "#Relatório de análise"
      ]
    },
    {
      "cell_type": "code",
      "metadata": {
        "id": "9QDc2UCPTy0M"
      },
      "source": [
        "import pandas as pd"
      ],
      "execution_count": 1,
      "outputs": []
    },
    {
      "cell_type": "markdown",
      "metadata": {
        "id": "KonKyM-AhPKC"
      },
      "source": [
        "## importando a Base de Dados"
      ]
    },
    {
      "cell_type": "code",
      "metadata": {
        "id": "UujmxzZGf1sP"
      },
      "source": [
        "dados = pd.read_csv('aluguel.csv', sep=';')"
      ],
      "execution_count": 2,
      "outputs": []
    },
    {
      "cell_type": "code",
      "metadata": {
        "colab": {
          "base_uri": "https://localhost:8080/",
          "height": 419
        },
        "id": "dOCNLJZVf839",
        "outputId": "4d7010e5-e7cb-4146-f317-eb27e01dc744"
      },
      "source": [
        "dados"
      ],
      "execution_count": 3,
      "outputs": [
        {
          "output_type": "execute_result",
          "data": {
            "text/html": [
              "<div>\n",
              "<style scoped>\n",
              "    .dataframe tbody tr th:only-of-type {\n",
              "        vertical-align: middle;\n",
              "    }\n",
              "\n",
              "    .dataframe tbody tr th {\n",
              "        vertical-align: top;\n",
              "    }\n",
              "\n",
              "    .dataframe thead th {\n",
              "        text-align: right;\n",
              "    }\n",
              "</style>\n",
              "<table border=\"1\" class=\"dataframe\">\n",
              "  <thead>\n",
              "    <tr style=\"text-align: right;\">\n",
              "      <th></th>\n",
              "      <th>Tipo</th>\n",
              "      <th>Bairro</th>\n",
              "      <th>Quartos</th>\n",
              "      <th>Vagas</th>\n",
              "      <th>Suites</th>\n",
              "      <th>Area</th>\n",
              "      <th>Valor</th>\n",
              "      <th>Condominio</th>\n",
              "      <th>IPTU</th>\n",
              "    </tr>\n",
              "  </thead>\n",
              "  <tbody>\n",
              "    <tr>\n",
              "      <th>0</th>\n",
              "      <td>Quitinete</td>\n",
              "      <td>Copacabana</td>\n",
              "      <td>1</td>\n",
              "      <td>0</td>\n",
              "      <td>0</td>\n",
              "      <td>40</td>\n",
              "      <td>1700.0</td>\n",
              "      <td>500.0</td>\n",
              "      <td>60.0</td>\n",
              "    </tr>\n",
              "    <tr>\n",
              "      <th>1</th>\n",
              "      <td>Casa</td>\n",
              "      <td>Jardim Botânico</td>\n",
              "      <td>2</td>\n",
              "      <td>0</td>\n",
              "      <td>1</td>\n",
              "      <td>100</td>\n",
              "      <td>7000.0</td>\n",
              "      <td>NaN</td>\n",
              "      <td>NaN</td>\n",
              "    </tr>\n",
              "    <tr>\n",
              "      <th>2</th>\n",
              "      <td>Conjunto Comercial/Sala</td>\n",
              "      <td>Barra da Tijuca</td>\n",
              "      <td>0</td>\n",
              "      <td>4</td>\n",
              "      <td>0</td>\n",
              "      <td>150</td>\n",
              "      <td>5200.0</td>\n",
              "      <td>4020.0</td>\n",
              "      <td>1111.0</td>\n",
              "    </tr>\n",
              "    <tr>\n",
              "      <th>3</th>\n",
              "      <td>Apartamento</td>\n",
              "      <td>Centro</td>\n",
              "      <td>1</td>\n",
              "      <td>0</td>\n",
              "      <td>0</td>\n",
              "      <td>15</td>\n",
              "      <td>800.0</td>\n",
              "      <td>390.0</td>\n",
              "      <td>20.0</td>\n",
              "    </tr>\n",
              "    <tr>\n",
              "      <th>4</th>\n",
              "      <td>Apartamento</td>\n",
              "      <td>Higienópolis</td>\n",
              "      <td>1</td>\n",
              "      <td>0</td>\n",
              "      <td>0</td>\n",
              "      <td>48</td>\n",
              "      <td>800.0</td>\n",
              "      <td>230.0</td>\n",
              "      <td>NaN</td>\n",
              "    </tr>\n",
              "    <tr>\n",
              "      <th>...</th>\n",
              "      <td>...</td>\n",
              "      <td>...</td>\n",
              "      <td>...</td>\n",
              "      <td>...</td>\n",
              "      <td>...</td>\n",
              "      <td>...</td>\n",
              "      <td>...</td>\n",
              "      <td>...</td>\n",
              "      <td>...</td>\n",
              "    </tr>\n",
              "    <tr>\n",
              "      <th>32955</th>\n",
              "      <td>Quitinete</td>\n",
              "      <td>Centro</td>\n",
              "      <td>0</td>\n",
              "      <td>0</td>\n",
              "      <td>0</td>\n",
              "      <td>27</td>\n",
              "      <td>800.0</td>\n",
              "      <td>350.0</td>\n",
              "      <td>25.0</td>\n",
              "    </tr>\n",
              "    <tr>\n",
              "      <th>32956</th>\n",
              "      <td>Apartamento</td>\n",
              "      <td>Jacarepaguá</td>\n",
              "      <td>3</td>\n",
              "      <td>1</td>\n",
              "      <td>2</td>\n",
              "      <td>78</td>\n",
              "      <td>1800.0</td>\n",
              "      <td>800.0</td>\n",
              "      <td>40.0</td>\n",
              "    </tr>\n",
              "    <tr>\n",
              "      <th>32957</th>\n",
              "      <td>Apartamento</td>\n",
              "      <td>São Francisco Xavier</td>\n",
              "      <td>2</td>\n",
              "      <td>1</td>\n",
              "      <td>0</td>\n",
              "      <td>48</td>\n",
              "      <td>1400.0</td>\n",
              "      <td>509.0</td>\n",
              "      <td>37.0</td>\n",
              "    </tr>\n",
              "    <tr>\n",
              "      <th>32958</th>\n",
              "      <td>Apartamento</td>\n",
              "      <td>Leblon</td>\n",
              "      <td>2</td>\n",
              "      <td>0</td>\n",
              "      <td>0</td>\n",
              "      <td>70</td>\n",
              "      <td>3000.0</td>\n",
              "      <td>760.0</td>\n",
              "      <td>NaN</td>\n",
              "    </tr>\n",
              "    <tr>\n",
              "      <th>32959</th>\n",
              "      <td>Conjunto Comercial/Sala</td>\n",
              "      <td>Centro</td>\n",
              "      <td>0</td>\n",
              "      <td>0</td>\n",
              "      <td>0</td>\n",
              "      <td>250</td>\n",
              "      <td>6500.0</td>\n",
              "      <td>4206.0</td>\n",
              "      <td>1109.0</td>\n",
              "    </tr>\n",
              "  </tbody>\n",
              "</table>\n",
              "<p>32960 rows × 9 columns</p>\n",
              "</div>"
            ],
            "text/plain": [
              "                          Tipo                Bairro  ...  Condominio    IPTU\n",
              "0                    Quitinete            Copacabana  ...       500.0    60.0\n",
              "1                         Casa       Jardim Botânico  ...         NaN     NaN\n",
              "2      Conjunto Comercial/Sala       Barra da Tijuca  ...      4020.0  1111.0\n",
              "3                  Apartamento                Centro  ...       390.0    20.0\n",
              "4                  Apartamento          Higienópolis  ...       230.0     NaN\n",
              "...                        ...                   ...  ...         ...     ...\n",
              "32955                Quitinete                Centro  ...       350.0    25.0\n",
              "32956              Apartamento           Jacarepaguá  ...       800.0    40.0\n",
              "32957              Apartamento  São Francisco Xavier  ...       509.0    37.0\n",
              "32958              Apartamento                Leblon  ...       760.0     NaN\n",
              "32959  Conjunto Comercial/Sala                Centro  ...      4206.0  1109.0\n",
              "\n",
              "[32960 rows x 9 columns]"
            ]
          },
          "metadata": {
            "tags": []
          },
          "execution_count": 3
        }
      ]
    },
    {
      "cell_type": "code",
      "metadata": {
        "colab": {
          "base_uri": "https://localhost:8080/"
        },
        "id": "0KvRjujJf-3h",
        "outputId": "227e5aa2-9367-4678-aba7-caa0d7317e4a"
      },
      "source": [
        "type(dados)"
      ],
      "execution_count": 4,
      "outputs": [
        {
          "output_type": "execute_result",
          "data": {
            "text/plain": [
              "pandas.core.frame.DataFrame"
            ]
          },
          "metadata": {
            "tags": []
          },
          "execution_count": 4
        }
      ]
    },
    {
      "cell_type": "markdown",
      "metadata": {
        "id": "KGrWgv5rhqc2"
      },
      "source": [
        "##Informações gerais sobre a base de dados"
      ]
    },
    {
      "cell_type": "code",
      "metadata": {
        "colab": {
          "base_uri": "https://localhost:8080/"
        },
        "id": "9ovQ7dOngnJB",
        "outputId": "6e5f6b60-fd01-4693-d821-082c541913ac"
      },
      "source": [
        "dados.info()"
      ],
      "execution_count": 5,
      "outputs": [
        {
          "output_type": "stream",
          "text": [
            "<class 'pandas.core.frame.DataFrame'>\n",
            "RangeIndex: 32960 entries, 0 to 32959\n",
            "Data columns (total 9 columns):\n",
            " #   Column      Non-Null Count  Dtype  \n",
            "---  ------      --------------  -----  \n",
            " 0   Tipo        32960 non-null  object \n",
            " 1   Bairro      32960 non-null  object \n",
            " 2   Quartos     32960 non-null  int64  \n",
            " 3   Vagas       32960 non-null  int64  \n",
            " 4   Suites      32960 non-null  int64  \n",
            " 5   Area        32960 non-null  int64  \n",
            " 6   Valor       32943 non-null  float64\n",
            " 7   Condominio  28867 non-null  float64\n",
            " 8   IPTU        22723 non-null  float64\n",
            "dtypes: float64(3), int64(4), object(2)\n",
            "memory usage: 2.3+ MB\n"
          ],
          "name": "stdout"
        }
      ]
    },
    {
      "cell_type": "code",
      "metadata": {
        "colab": {
          "base_uri": "https://localhost:8080/"
        },
        "id": "r6eJ1iazigFU",
        "outputId": "7596483a-72c6-475d-86f6-2e6d2fd52406"
      },
      "source": [
        "dados.dtypes"
      ],
      "execution_count": 6,
      "outputs": [
        {
          "output_type": "execute_result",
          "data": {
            "text/plain": [
              "Tipo           object\n",
              "Bairro         object\n",
              "Quartos         int64\n",
              "Vagas           int64\n",
              "Suites          int64\n",
              "Area            int64\n",
              "Valor         float64\n",
              "Condominio    float64\n",
              "IPTU          float64\n",
              "dtype: object"
            ]
          },
          "metadata": {
            "tags": []
          },
          "execution_count": 6
        }
      ]
    },
    {
      "cell_type": "code",
      "metadata": {
        "id": "ZGhwSWCFgrPC"
      },
      "source": [
        "tipos_dados = pd.DataFrame(dados.dtypes, columns= ['Tipos de dados'])\n",
        "tipos_dados.columns.name = 'Variaveis'"
      ],
      "execution_count": 7,
      "outputs": []
    },
    {
      "cell_type": "code",
      "metadata": {
        "colab": {
          "base_uri": "https://localhost:8080/",
          "height": 328
        },
        "id": "ZCbGl6uqiBPA",
        "outputId": "92c3a53f-68eb-49e8-90a0-a03253423975"
      },
      "source": [
        "tipos_dados"
      ],
      "execution_count": 8,
      "outputs": [
        {
          "output_type": "execute_result",
          "data": {
            "text/html": [
              "<div>\n",
              "<style scoped>\n",
              "    .dataframe tbody tr th:only-of-type {\n",
              "        vertical-align: middle;\n",
              "    }\n",
              "\n",
              "    .dataframe tbody tr th {\n",
              "        vertical-align: top;\n",
              "    }\n",
              "\n",
              "    .dataframe thead th {\n",
              "        text-align: right;\n",
              "    }\n",
              "</style>\n",
              "<table border=\"1\" class=\"dataframe\">\n",
              "  <thead>\n",
              "    <tr style=\"text-align: right;\">\n",
              "      <th>Variaveis</th>\n",
              "      <th>Tipos de dados</th>\n",
              "    </tr>\n",
              "  </thead>\n",
              "  <tbody>\n",
              "    <tr>\n",
              "      <th>Tipo</th>\n",
              "      <td>object</td>\n",
              "    </tr>\n",
              "    <tr>\n",
              "      <th>Bairro</th>\n",
              "      <td>object</td>\n",
              "    </tr>\n",
              "    <tr>\n",
              "      <th>Quartos</th>\n",
              "      <td>int64</td>\n",
              "    </tr>\n",
              "    <tr>\n",
              "      <th>Vagas</th>\n",
              "      <td>int64</td>\n",
              "    </tr>\n",
              "    <tr>\n",
              "      <th>Suites</th>\n",
              "      <td>int64</td>\n",
              "    </tr>\n",
              "    <tr>\n",
              "      <th>Area</th>\n",
              "      <td>int64</td>\n",
              "    </tr>\n",
              "    <tr>\n",
              "      <th>Valor</th>\n",
              "      <td>float64</td>\n",
              "    </tr>\n",
              "    <tr>\n",
              "      <th>Condominio</th>\n",
              "      <td>float64</td>\n",
              "    </tr>\n",
              "    <tr>\n",
              "      <th>IPTU</th>\n",
              "      <td>float64</td>\n",
              "    </tr>\n",
              "  </tbody>\n",
              "</table>\n",
              "</div>"
            ],
            "text/plain": [
              "Variaveis  Tipos de dados\n",
              "Tipo               object\n",
              "Bairro             object\n",
              "Quartos             int64\n",
              "Vagas               int64\n",
              "Suites              int64\n",
              "Area                int64\n",
              "Valor             float64\n",
              "Condominio        float64\n",
              "IPTU              float64"
            ]
          },
          "metadata": {
            "tags": []
          },
          "execution_count": 8
        }
      ]
    },
    {
      "cell_type": "code",
      "metadata": {
        "colab": {
          "base_uri": "https://localhost:8080/"
        },
        "id": "qBwYt6zJiczn",
        "outputId": "6882a199-c7d4-4417-df88-bd94b765354d"
      },
      "source": [
        "dados.shape"
      ],
      "execution_count": 9,
      "outputs": [
        {
          "output_type": "execute_result",
          "data": {
            "text/plain": [
              "(32960, 9)"
            ]
          },
          "metadata": {
            "tags": []
          },
          "execution_count": 9
        }
      ]
    },
    {
      "cell_type": "code",
      "metadata": {
        "colab": {
          "base_uri": "https://localhost:8080/"
        },
        "id": "7QbSOMAdikXB",
        "outputId": "60850c7d-ae88-449f-82bc-615f5e3a55e5"
      },
      "source": [
        "print(f'A base de dados apresenta {dados.shape[0]} registros imóveis em {dados.shape[1]} variáveis.')"
      ],
      "execution_count": 10,
      "outputs": [
        {
          "output_type": "stream",
          "text": [
            "A base de dados apresenta 32960 registros imóveis em 9 variáveis.\n"
          ],
          "name": "stdout"
        }
      ]
    },
    {
      "cell_type": "markdown",
      "metadata": {
        "id": "KIqh9Dy2mkyf"
      },
      "source": [
        "##Tipos de imóveis"
      ]
    },
    {
      "cell_type": "code",
      "metadata": {
        "colab": {
          "base_uri": "https://localhost:8080/"
        },
        "id": "aFSd8kdVi9tw",
        "outputId": "e7d1afbd-d55d-43a3-a836-b5adbe3e3cb6"
      },
      "source": [
        "dados['Tipo']"
      ],
      "execution_count": 11,
      "outputs": [
        {
          "output_type": "execute_result",
          "data": {
            "text/plain": [
              "0                      Quitinete\n",
              "1                           Casa\n",
              "2        Conjunto Comercial/Sala\n",
              "3                    Apartamento\n",
              "4                    Apartamento\n",
              "                  ...           \n",
              "32955                  Quitinete\n",
              "32956                Apartamento\n",
              "32957                Apartamento\n",
              "32958                Apartamento\n",
              "32959    Conjunto Comercial/Sala\n",
              "Name: Tipo, Length: 32960, dtype: object"
            ]
          },
          "metadata": {
            "tags": []
          },
          "execution_count": 11
        }
      ]
    },
    {
      "cell_type": "code",
      "metadata": {
        "colab": {
          "base_uri": "https://localhost:8080/"
        },
        "id": "_zRFewfHnAjX",
        "outputId": "11009b1c-3804-4f04-d652-f506adf8c230"
      },
      "source": [
        "dados.Tipo"
      ],
      "execution_count": 12,
      "outputs": [
        {
          "output_type": "execute_result",
          "data": {
            "text/plain": [
              "0                      Quitinete\n",
              "1                           Casa\n",
              "2        Conjunto Comercial/Sala\n",
              "3                    Apartamento\n",
              "4                    Apartamento\n",
              "                  ...           \n",
              "32955                  Quitinete\n",
              "32956                Apartamento\n",
              "32957                Apartamento\n",
              "32958                Apartamento\n",
              "32959    Conjunto Comercial/Sala\n",
              "Name: Tipo, Length: 32960, dtype: object"
            ]
          },
          "metadata": {
            "tags": []
          },
          "execution_count": 12
        }
      ]
    },
    {
      "cell_type": "code",
      "metadata": {
        "colab": {
          "base_uri": "https://localhost:8080/"
        },
        "id": "MoYCbBVgnFFo",
        "outputId": "d6272a25-6af2-4c3f-d2ad-44febb3938a2"
      },
      "source": [
        "tipo_imovel = dados['Tipo']\n",
        "type(tipo_imovel)"
      ],
      "execution_count": 13,
      "outputs": [
        {
          "output_type": "execute_result",
          "data": {
            "text/plain": [
              "pandas.core.series.Series"
            ]
          },
          "metadata": {
            "tags": []
          },
          "execution_count": 13
        }
      ]
    },
    {
      "cell_type": "code",
      "metadata": {
        "colab": {
          "base_uri": "https://localhost:8080/"
        },
        "id": "iMT8IQtRnQs_",
        "outputId": "a628e2c5-880e-4874-bee4-047bad193768"
      },
      "source": [
        "tipo_imovel.drop_duplicates()"
      ],
      "execution_count": 14,
      "outputs": [
        {
          "output_type": "execute_result",
          "data": {
            "text/plain": [
              "0                          Quitinete\n",
              "1                               Casa\n",
              "2            Conjunto Comercial/Sala\n",
              "3                        Apartamento\n",
              "7                 Casa de Condomínio\n",
              "16                    Prédio Inteiro\n",
              "17                              Flat\n",
              "29                        Loja/Salão\n",
              "80           Galpão/Depósito/Armazém\n",
              "83                    Casa Comercial\n",
              "117                     Casa de Vila\n",
              "159                   Terreno Padrão\n",
              "207                      Box/Garagem\n",
              "347                             Loft\n",
              "589      Loja Shopping/ Ct Comercial\n",
              "2157                         Chácara\n",
              "3354           Loteamento/Condomínio\n",
              "4379                           Sítio\n",
              "4721                   Pousada/Chalé\n",
              "6983                          Studio\n",
              "9687                           Hotel\n",
              "23614                      Indústria\n",
              "Name: Tipo, dtype: object"
            ]
          },
          "metadata": {
            "tags": []
          },
          "execution_count": 14
        }
      ]
    },
    {
      "cell_type": "code",
      "metadata": {
        "colab": {
          "base_uri": "https://localhost:8080/"
        },
        "id": "sREIFgYsncb_",
        "outputId": "f5f7ec5b-5b31-45c4-f553-e971c06acd7f"
      },
      "source": [
        "for i in tipo_imovel.drop_duplicates():\n",
        "    print(i)"
      ],
      "execution_count": 15,
      "outputs": [
        {
          "output_type": "stream",
          "text": [
            "Quitinete\n",
            "Casa\n",
            "Conjunto Comercial/Sala\n",
            "Apartamento\n",
            "Casa de Condomínio\n",
            "Prédio Inteiro\n",
            "Flat\n",
            "Loja/Salão\n",
            "Galpão/Depósito/Armazém\n",
            "Casa Comercial\n",
            "Casa de Vila\n",
            "Terreno Padrão\n",
            "Box/Garagem\n",
            "Loft\n",
            "Loja Shopping/ Ct Comercial\n",
            "Chácara\n",
            "Loteamento/Condomínio\n",
            "Sítio\n",
            "Pousada/Chalé\n",
            "Studio\n",
            "Hotel\n",
            "Indústria\n"
          ],
          "name": "stdout"
        }
      ]
    },
    {
      "cell_type": "code",
      "metadata": {
        "id": "vICwbEN5ng43"
      },
      "source": [
        "tipo_imovel.drop_duplicates(inplace=True)"
      ],
      "execution_count": 16,
      "outputs": []
    },
    {
      "cell_type": "code",
      "metadata": {
        "colab": {
          "base_uri": "https://localhost:8080/"
        },
        "id": "9fcKTRpOnxyO",
        "outputId": "9112e054-5a1a-4b09-ee27-b3767e5e3382"
      },
      "source": [
        "tipo_imovel"
      ],
      "execution_count": 17,
      "outputs": [
        {
          "output_type": "execute_result",
          "data": {
            "text/plain": [
              "0                          Quitinete\n",
              "1                               Casa\n",
              "2            Conjunto Comercial/Sala\n",
              "3                        Apartamento\n",
              "7                 Casa de Condomínio\n",
              "16                    Prédio Inteiro\n",
              "17                              Flat\n",
              "29                        Loja/Salão\n",
              "80           Galpão/Depósito/Armazém\n",
              "83                    Casa Comercial\n",
              "117                     Casa de Vila\n",
              "159                   Terreno Padrão\n",
              "207                      Box/Garagem\n",
              "347                             Loft\n",
              "589      Loja Shopping/ Ct Comercial\n",
              "2157                         Chácara\n",
              "3354           Loteamento/Condomínio\n",
              "4379                           Sítio\n",
              "4721                   Pousada/Chalé\n",
              "6983                          Studio\n",
              "9687                           Hotel\n",
              "23614                      Indústria\n",
              "Name: Tipo, dtype: object"
            ]
          },
          "metadata": {
            "tags": []
          },
          "execution_count": 17
        }
      ]
    },
    {
      "cell_type": "markdown",
      "metadata": {
        "id": "bpqX92ajoRyX"
      },
      "source": [
        "## Organizando a vizualização"
      ]
    },
    {
      "cell_type": "code",
      "metadata": {
        "colab": {
          "base_uri": "https://localhost:8080/",
          "height": 0
        },
        "id": "bO_vKW3gn6KJ",
        "outputId": "f9b0d871-4341-400c-aee3-9fdca2e963d5"
      },
      "source": [
        "tipo_imovel = pd.DataFrame(tipo_imovel)\n",
        "tipo_imovel"
      ],
      "execution_count": 18,
      "outputs": [
        {
          "output_type": "execute_result",
          "data": {
            "text/html": [
              "<div>\n",
              "<style scoped>\n",
              "    .dataframe tbody tr th:only-of-type {\n",
              "        vertical-align: middle;\n",
              "    }\n",
              "\n",
              "    .dataframe tbody tr th {\n",
              "        vertical-align: top;\n",
              "    }\n",
              "\n",
              "    .dataframe thead th {\n",
              "        text-align: right;\n",
              "    }\n",
              "</style>\n",
              "<table border=\"1\" class=\"dataframe\">\n",
              "  <thead>\n",
              "    <tr style=\"text-align: right;\">\n",
              "      <th></th>\n",
              "      <th>Tipo</th>\n",
              "    </tr>\n",
              "  </thead>\n",
              "  <tbody>\n",
              "    <tr>\n",
              "      <th>0</th>\n",
              "      <td>Quitinete</td>\n",
              "    </tr>\n",
              "    <tr>\n",
              "      <th>1</th>\n",
              "      <td>Casa</td>\n",
              "    </tr>\n",
              "    <tr>\n",
              "      <th>2</th>\n",
              "      <td>Conjunto Comercial/Sala</td>\n",
              "    </tr>\n",
              "    <tr>\n",
              "      <th>3</th>\n",
              "      <td>Apartamento</td>\n",
              "    </tr>\n",
              "    <tr>\n",
              "      <th>7</th>\n",
              "      <td>Casa de Condomínio</td>\n",
              "    </tr>\n",
              "    <tr>\n",
              "      <th>16</th>\n",
              "      <td>Prédio Inteiro</td>\n",
              "    </tr>\n",
              "    <tr>\n",
              "      <th>17</th>\n",
              "      <td>Flat</td>\n",
              "    </tr>\n",
              "    <tr>\n",
              "      <th>29</th>\n",
              "      <td>Loja/Salão</td>\n",
              "    </tr>\n",
              "    <tr>\n",
              "      <th>80</th>\n",
              "      <td>Galpão/Depósito/Armazém</td>\n",
              "    </tr>\n",
              "    <tr>\n",
              "      <th>83</th>\n",
              "      <td>Casa Comercial</td>\n",
              "    </tr>\n",
              "    <tr>\n",
              "      <th>117</th>\n",
              "      <td>Casa de Vila</td>\n",
              "    </tr>\n",
              "    <tr>\n",
              "      <th>159</th>\n",
              "      <td>Terreno Padrão</td>\n",
              "    </tr>\n",
              "    <tr>\n",
              "      <th>207</th>\n",
              "      <td>Box/Garagem</td>\n",
              "    </tr>\n",
              "    <tr>\n",
              "      <th>347</th>\n",
              "      <td>Loft</td>\n",
              "    </tr>\n",
              "    <tr>\n",
              "      <th>589</th>\n",
              "      <td>Loja Shopping/ Ct Comercial</td>\n",
              "    </tr>\n",
              "    <tr>\n",
              "      <th>2157</th>\n",
              "      <td>Chácara</td>\n",
              "    </tr>\n",
              "    <tr>\n",
              "      <th>3354</th>\n",
              "      <td>Loteamento/Condomínio</td>\n",
              "    </tr>\n",
              "    <tr>\n",
              "      <th>4379</th>\n",
              "      <td>Sítio</td>\n",
              "    </tr>\n",
              "    <tr>\n",
              "      <th>4721</th>\n",
              "      <td>Pousada/Chalé</td>\n",
              "    </tr>\n",
              "    <tr>\n",
              "      <th>6983</th>\n",
              "      <td>Studio</td>\n",
              "    </tr>\n",
              "    <tr>\n",
              "      <th>9687</th>\n",
              "      <td>Hotel</td>\n",
              "    </tr>\n",
              "    <tr>\n",
              "      <th>23614</th>\n",
              "      <td>Indústria</td>\n",
              "    </tr>\n",
              "  </tbody>\n",
              "</table>\n",
              "</div>"
            ],
            "text/plain": [
              "                              Tipo\n",
              "0                        Quitinete\n",
              "1                             Casa\n",
              "2          Conjunto Comercial/Sala\n",
              "3                      Apartamento\n",
              "7               Casa de Condomínio\n",
              "16                  Prédio Inteiro\n",
              "17                            Flat\n",
              "29                      Loja/Salão\n",
              "80         Galpão/Depósito/Armazém\n",
              "83                  Casa Comercial\n",
              "117                   Casa de Vila\n",
              "159                 Terreno Padrão\n",
              "207                    Box/Garagem\n",
              "347                           Loft\n",
              "589    Loja Shopping/ Ct Comercial\n",
              "2157                       Chácara\n",
              "3354         Loteamento/Condomínio\n",
              "4379                         Sítio\n",
              "4721                 Pousada/Chalé\n",
              "6983                        Studio\n",
              "9687                         Hotel\n",
              "23614                    Indústria"
            ]
          },
          "metadata": {
            "tags": []
          },
          "execution_count": 18
        }
      ]
    },
    {
      "cell_type": "code",
      "metadata": {
        "colab": {
          "base_uri": "https://localhost:8080/"
        },
        "id": "I-BNWEevofoS",
        "outputId": "5a542f79-1f82-4b32-a2e9-49a342805e1c"
      },
      "source": [
        "tipo_imovel.index"
      ],
      "execution_count": 19,
      "outputs": [
        {
          "output_type": "execute_result",
          "data": {
            "text/plain": [
              "Int64Index([    0,     1,     2,     3,     7,    16,    17,    29,    80,\n",
              "               83,   117,   159,   207,   347,   589,  2157,  3354,  4379,\n",
              "             4721,  6983,  9687, 23614],\n",
              "           dtype='int64')"
            ]
          },
          "metadata": {
            "tags": []
          },
          "execution_count": 19
        }
      ]
    },
    {
      "cell_type": "code",
      "metadata": {
        "colab": {
          "base_uri": "https://localhost:8080/"
        },
        "id": "_JbBjkMpop4v",
        "outputId": "75641aa5-f0b8-4eb5-81d3-01ebdf6c38d8"
      },
      "source": [
        "tipo_imovel.index = range(tipo_imovel.shape[0])\n",
        "tipo_imovel.index"
      ],
      "execution_count": 20,
      "outputs": [
        {
          "output_type": "execute_result",
          "data": {
            "text/plain": [
              "RangeIndex(start=0, stop=22, step=1)"
            ]
          },
          "metadata": {
            "tags": []
          },
          "execution_count": 20
        }
      ]
    },
    {
      "cell_type": "code",
      "metadata": {
        "colab": {
          "base_uri": "https://localhost:8080/",
          "height": 0
        },
        "id": "wKLbQsempzO_",
        "outputId": "cb6cd185-2bf6-4bbf-e0c2-572cc577e9b8"
      },
      "source": [
        "tipo_imovel"
      ],
      "execution_count": 21,
      "outputs": [
        {
          "output_type": "execute_result",
          "data": {
            "text/html": [
              "<div>\n",
              "<style scoped>\n",
              "    .dataframe tbody tr th:only-of-type {\n",
              "        vertical-align: middle;\n",
              "    }\n",
              "\n",
              "    .dataframe tbody tr th {\n",
              "        vertical-align: top;\n",
              "    }\n",
              "\n",
              "    .dataframe thead th {\n",
              "        text-align: right;\n",
              "    }\n",
              "</style>\n",
              "<table border=\"1\" class=\"dataframe\">\n",
              "  <thead>\n",
              "    <tr style=\"text-align: right;\">\n",
              "      <th></th>\n",
              "      <th>Tipo</th>\n",
              "    </tr>\n",
              "  </thead>\n",
              "  <tbody>\n",
              "    <tr>\n",
              "      <th>0</th>\n",
              "      <td>Quitinete</td>\n",
              "    </tr>\n",
              "    <tr>\n",
              "      <th>1</th>\n",
              "      <td>Casa</td>\n",
              "    </tr>\n",
              "    <tr>\n",
              "      <th>2</th>\n",
              "      <td>Conjunto Comercial/Sala</td>\n",
              "    </tr>\n",
              "    <tr>\n",
              "      <th>3</th>\n",
              "      <td>Apartamento</td>\n",
              "    </tr>\n",
              "    <tr>\n",
              "      <th>4</th>\n",
              "      <td>Casa de Condomínio</td>\n",
              "    </tr>\n",
              "    <tr>\n",
              "      <th>5</th>\n",
              "      <td>Prédio Inteiro</td>\n",
              "    </tr>\n",
              "    <tr>\n",
              "      <th>6</th>\n",
              "      <td>Flat</td>\n",
              "    </tr>\n",
              "    <tr>\n",
              "      <th>7</th>\n",
              "      <td>Loja/Salão</td>\n",
              "    </tr>\n",
              "    <tr>\n",
              "      <th>8</th>\n",
              "      <td>Galpão/Depósito/Armazém</td>\n",
              "    </tr>\n",
              "    <tr>\n",
              "      <th>9</th>\n",
              "      <td>Casa Comercial</td>\n",
              "    </tr>\n",
              "    <tr>\n",
              "      <th>10</th>\n",
              "      <td>Casa de Vila</td>\n",
              "    </tr>\n",
              "    <tr>\n",
              "      <th>11</th>\n",
              "      <td>Terreno Padrão</td>\n",
              "    </tr>\n",
              "    <tr>\n",
              "      <th>12</th>\n",
              "      <td>Box/Garagem</td>\n",
              "    </tr>\n",
              "    <tr>\n",
              "      <th>13</th>\n",
              "      <td>Loft</td>\n",
              "    </tr>\n",
              "    <tr>\n",
              "      <th>14</th>\n",
              "      <td>Loja Shopping/ Ct Comercial</td>\n",
              "    </tr>\n",
              "    <tr>\n",
              "      <th>15</th>\n",
              "      <td>Chácara</td>\n",
              "    </tr>\n",
              "    <tr>\n",
              "      <th>16</th>\n",
              "      <td>Loteamento/Condomínio</td>\n",
              "    </tr>\n",
              "    <tr>\n",
              "      <th>17</th>\n",
              "      <td>Sítio</td>\n",
              "    </tr>\n",
              "    <tr>\n",
              "      <th>18</th>\n",
              "      <td>Pousada/Chalé</td>\n",
              "    </tr>\n",
              "    <tr>\n",
              "      <th>19</th>\n",
              "      <td>Studio</td>\n",
              "    </tr>\n",
              "    <tr>\n",
              "      <th>20</th>\n",
              "      <td>Hotel</td>\n",
              "    </tr>\n",
              "    <tr>\n",
              "      <th>21</th>\n",
              "      <td>Indústria</td>\n",
              "    </tr>\n",
              "  </tbody>\n",
              "</table>\n",
              "</div>"
            ],
            "text/plain": [
              "                           Tipo\n",
              "0                     Quitinete\n",
              "1                          Casa\n",
              "2       Conjunto Comercial/Sala\n",
              "3                   Apartamento\n",
              "4            Casa de Condomínio\n",
              "5                Prédio Inteiro\n",
              "6                          Flat\n",
              "7                    Loja/Salão\n",
              "8       Galpão/Depósito/Armazém\n",
              "9                Casa Comercial\n",
              "10                 Casa de Vila\n",
              "11               Terreno Padrão\n",
              "12                  Box/Garagem\n",
              "13                         Loft\n",
              "14  Loja Shopping/ Ct Comercial\n",
              "15                      Chácara\n",
              "16        Loteamento/Condomínio\n",
              "17                        Sítio\n",
              "18                Pousada/Chalé\n",
              "19                       Studio\n",
              "20                        Hotel\n",
              "21                    Indústria"
            ]
          },
          "metadata": {
            "tags": []
          },
          "execution_count": 21
        }
      ]
    },
    {
      "cell_type": "code",
      "metadata": {
        "id": "L8cpJL1Ap2mW"
      },
      "source": [
        "tipo_imovel.columns.name = 'Id'"
      ],
      "execution_count": 22,
      "outputs": []
    },
    {
      "cell_type": "code",
      "metadata": {
        "colab": {
          "base_uri": "https://localhost:8080/",
          "height": 0
        },
        "id": "4kAzJDdIqBWD",
        "outputId": "875c0ceb-e99a-4856-ec3b-aeac503de381"
      },
      "source": [
        "tipo_imovel"
      ],
      "execution_count": 23,
      "outputs": [
        {
          "output_type": "execute_result",
          "data": {
            "text/html": [
              "<div>\n",
              "<style scoped>\n",
              "    .dataframe tbody tr th:only-of-type {\n",
              "        vertical-align: middle;\n",
              "    }\n",
              "\n",
              "    .dataframe tbody tr th {\n",
              "        vertical-align: top;\n",
              "    }\n",
              "\n",
              "    .dataframe thead th {\n",
              "        text-align: right;\n",
              "    }\n",
              "</style>\n",
              "<table border=\"1\" class=\"dataframe\">\n",
              "  <thead>\n",
              "    <tr style=\"text-align: right;\">\n",
              "      <th>Id</th>\n",
              "      <th>Tipo</th>\n",
              "    </tr>\n",
              "  </thead>\n",
              "  <tbody>\n",
              "    <tr>\n",
              "      <th>0</th>\n",
              "      <td>Quitinete</td>\n",
              "    </tr>\n",
              "    <tr>\n",
              "      <th>1</th>\n",
              "      <td>Casa</td>\n",
              "    </tr>\n",
              "    <tr>\n",
              "      <th>2</th>\n",
              "      <td>Conjunto Comercial/Sala</td>\n",
              "    </tr>\n",
              "    <tr>\n",
              "      <th>3</th>\n",
              "      <td>Apartamento</td>\n",
              "    </tr>\n",
              "    <tr>\n",
              "      <th>4</th>\n",
              "      <td>Casa de Condomínio</td>\n",
              "    </tr>\n",
              "    <tr>\n",
              "      <th>5</th>\n",
              "      <td>Prédio Inteiro</td>\n",
              "    </tr>\n",
              "    <tr>\n",
              "      <th>6</th>\n",
              "      <td>Flat</td>\n",
              "    </tr>\n",
              "    <tr>\n",
              "      <th>7</th>\n",
              "      <td>Loja/Salão</td>\n",
              "    </tr>\n",
              "    <tr>\n",
              "      <th>8</th>\n",
              "      <td>Galpão/Depósito/Armazém</td>\n",
              "    </tr>\n",
              "    <tr>\n",
              "      <th>9</th>\n",
              "      <td>Casa Comercial</td>\n",
              "    </tr>\n",
              "    <tr>\n",
              "      <th>10</th>\n",
              "      <td>Casa de Vila</td>\n",
              "    </tr>\n",
              "    <tr>\n",
              "      <th>11</th>\n",
              "      <td>Terreno Padrão</td>\n",
              "    </tr>\n",
              "    <tr>\n",
              "      <th>12</th>\n",
              "      <td>Box/Garagem</td>\n",
              "    </tr>\n",
              "    <tr>\n",
              "      <th>13</th>\n",
              "      <td>Loft</td>\n",
              "    </tr>\n",
              "    <tr>\n",
              "      <th>14</th>\n",
              "      <td>Loja Shopping/ Ct Comercial</td>\n",
              "    </tr>\n",
              "    <tr>\n",
              "      <th>15</th>\n",
              "      <td>Chácara</td>\n",
              "    </tr>\n",
              "    <tr>\n",
              "      <th>16</th>\n",
              "      <td>Loteamento/Condomínio</td>\n",
              "    </tr>\n",
              "    <tr>\n",
              "      <th>17</th>\n",
              "      <td>Sítio</td>\n",
              "    </tr>\n",
              "    <tr>\n",
              "      <th>18</th>\n",
              "      <td>Pousada/Chalé</td>\n",
              "    </tr>\n",
              "    <tr>\n",
              "      <th>19</th>\n",
              "      <td>Studio</td>\n",
              "    </tr>\n",
              "    <tr>\n",
              "      <th>20</th>\n",
              "      <td>Hotel</td>\n",
              "    </tr>\n",
              "    <tr>\n",
              "      <th>21</th>\n",
              "      <td>Indústria</td>\n",
              "    </tr>\n",
              "  </tbody>\n",
              "</table>\n",
              "</div>"
            ],
            "text/plain": [
              "Id                         Tipo\n",
              "0                     Quitinete\n",
              "1                          Casa\n",
              "2       Conjunto Comercial/Sala\n",
              "3                   Apartamento\n",
              "4            Casa de Condomínio\n",
              "5                Prédio Inteiro\n",
              "6                          Flat\n",
              "7                    Loja/Salão\n",
              "8       Galpão/Depósito/Armazém\n",
              "9                Casa Comercial\n",
              "10                 Casa de Vila\n",
              "11               Terreno Padrão\n",
              "12                  Box/Garagem\n",
              "13                         Loft\n",
              "14  Loja Shopping/ Ct Comercial\n",
              "15                      Chácara\n",
              "16        Loteamento/Condomínio\n",
              "17                        Sítio\n",
              "18                Pousada/Chalé\n",
              "19                       Studio\n",
              "20                        Hotel\n",
              "21                    Indústria"
            ]
          },
          "metadata": {
            "tags": []
          },
          "execution_count": 23
        }
      ]
    },
    {
      "cell_type": "markdown",
      "metadata": {
        "id": "WZBDDOQBUZXf"
      },
      "source": [
        "##Imóveis residenciais"
      ]
    },
    {
      "cell_type": "code",
      "metadata": {
        "id": "157LHg-rqK-F",
        "colab": {
          "base_uri": "https://localhost:8080/"
        },
        "outputId": "327b067c-86bf-4173-d486-9caacb7e3e7f"
      },
      "source": [
        "list(dados['Tipo'].drop_duplicates())"
      ],
      "execution_count": 24,
      "outputs": [
        {
          "output_type": "execute_result",
          "data": {
            "text/plain": [
              "['Quitinete',\n",
              " 'Casa',\n",
              " 'Conjunto Comercial/Sala',\n",
              " 'Apartamento',\n",
              " 'Casa de Condomínio',\n",
              " 'Prédio Inteiro',\n",
              " 'Flat',\n",
              " 'Loja/Salão',\n",
              " 'Galpão/Depósito/Armazém',\n",
              " 'Casa Comercial',\n",
              " 'Casa de Vila',\n",
              " 'Terreno Padrão',\n",
              " 'Box/Garagem',\n",
              " 'Loft',\n",
              " 'Loja Shopping/ Ct Comercial',\n",
              " 'Chácara',\n",
              " 'Loteamento/Condomínio',\n",
              " 'Sítio',\n",
              " 'Pousada/Chalé',\n",
              " 'Studio',\n",
              " 'Hotel',\n",
              " 'Indústria']"
            ]
          },
          "metadata": {
            "tags": []
          },
          "execution_count": 24
        }
      ]
    },
    {
      "cell_type": "code",
      "metadata": {
        "id": "aHiN-bZkUPz0"
      },
      "source": [
        "residencial = ['Quitinete',\n",
        " 'Casa',\n",
        " 'Apartamento',\n",
        " 'Casa de Condomínio',\n",
        " 'Casa de Vila']"
      ],
      "execution_count": 25,
      "outputs": []
    },
    {
      "cell_type": "code",
      "metadata": {
        "colab": {
          "base_uri": "https://localhost:8080/"
        },
        "id": "jlmGCNK3Ufbw",
        "outputId": "36585eea-1b3c-4bb0-e0fb-ceab5890bca8"
      },
      "source": [
        "residencial"
      ],
      "execution_count": 26,
      "outputs": [
        {
          "output_type": "execute_result",
          "data": {
            "text/plain": [
              "['Quitinete', 'Casa', 'Apartamento', 'Casa de Condomínio', 'Casa de Vila']"
            ]
          },
          "metadata": {
            "tags": []
          },
          "execution_count": 26
        }
      ]
    },
    {
      "cell_type": "code",
      "metadata": {
        "colab": {
          "base_uri": "https://localhost:8080/",
          "height": 0
        },
        "id": "pphFaj_9U_ey",
        "outputId": "e06491a4-340c-4bf1-fcc5-da84f5cfa051"
      },
      "source": [
        "dados.head(10)"
      ],
      "execution_count": 27,
      "outputs": [
        {
          "output_type": "execute_result",
          "data": {
            "text/html": [
              "<div>\n",
              "<style scoped>\n",
              "    .dataframe tbody tr th:only-of-type {\n",
              "        vertical-align: middle;\n",
              "    }\n",
              "\n",
              "    .dataframe tbody tr th {\n",
              "        vertical-align: top;\n",
              "    }\n",
              "\n",
              "    .dataframe thead th {\n",
              "        text-align: right;\n",
              "    }\n",
              "</style>\n",
              "<table border=\"1\" class=\"dataframe\">\n",
              "  <thead>\n",
              "    <tr style=\"text-align: right;\">\n",
              "      <th></th>\n",
              "      <th>Tipo</th>\n",
              "      <th>Bairro</th>\n",
              "      <th>Quartos</th>\n",
              "      <th>Vagas</th>\n",
              "      <th>Suites</th>\n",
              "      <th>Area</th>\n",
              "      <th>Valor</th>\n",
              "      <th>Condominio</th>\n",
              "      <th>IPTU</th>\n",
              "    </tr>\n",
              "  </thead>\n",
              "  <tbody>\n",
              "    <tr>\n",
              "      <th>0</th>\n",
              "      <td>Quitinete</td>\n",
              "      <td>Copacabana</td>\n",
              "      <td>1</td>\n",
              "      <td>0</td>\n",
              "      <td>0</td>\n",
              "      <td>40</td>\n",
              "      <td>1700.0</td>\n",
              "      <td>500.0</td>\n",
              "      <td>60.0</td>\n",
              "    </tr>\n",
              "    <tr>\n",
              "      <th>1</th>\n",
              "      <td>Casa</td>\n",
              "      <td>Jardim Botânico</td>\n",
              "      <td>2</td>\n",
              "      <td>0</td>\n",
              "      <td>1</td>\n",
              "      <td>100</td>\n",
              "      <td>7000.0</td>\n",
              "      <td>NaN</td>\n",
              "      <td>NaN</td>\n",
              "    </tr>\n",
              "    <tr>\n",
              "      <th>2</th>\n",
              "      <td>Conjunto Comercial/Sala</td>\n",
              "      <td>Barra da Tijuca</td>\n",
              "      <td>0</td>\n",
              "      <td>4</td>\n",
              "      <td>0</td>\n",
              "      <td>150</td>\n",
              "      <td>5200.0</td>\n",
              "      <td>4020.0</td>\n",
              "      <td>1111.0</td>\n",
              "    </tr>\n",
              "    <tr>\n",
              "      <th>3</th>\n",
              "      <td>Apartamento</td>\n",
              "      <td>Centro</td>\n",
              "      <td>1</td>\n",
              "      <td>0</td>\n",
              "      <td>0</td>\n",
              "      <td>15</td>\n",
              "      <td>800.0</td>\n",
              "      <td>390.0</td>\n",
              "      <td>20.0</td>\n",
              "    </tr>\n",
              "    <tr>\n",
              "      <th>4</th>\n",
              "      <td>Apartamento</td>\n",
              "      <td>Higienópolis</td>\n",
              "      <td>1</td>\n",
              "      <td>0</td>\n",
              "      <td>0</td>\n",
              "      <td>48</td>\n",
              "      <td>800.0</td>\n",
              "      <td>230.0</td>\n",
              "      <td>NaN</td>\n",
              "    </tr>\n",
              "    <tr>\n",
              "      <th>5</th>\n",
              "      <td>Apartamento</td>\n",
              "      <td>Vista Alegre</td>\n",
              "      <td>3</td>\n",
              "      <td>1</td>\n",
              "      <td>0</td>\n",
              "      <td>70</td>\n",
              "      <td>1200.0</td>\n",
              "      <td>NaN</td>\n",
              "      <td>NaN</td>\n",
              "    </tr>\n",
              "    <tr>\n",
              "      <th>6</th>\n",
              "      <td>Apartamento</td>\n",
              "      <td>Cachambi</td>\n",
              "      <td>2</td>\n",
              "      <td>0</td>\n",
              "      <td>0</td>\n",
              "      <td>50</td>\n",
              "      <td>1300.0</td>\n",
              "      <td>301.0</td>\n",
              "      <td>17.0</td>\n",
              "    </tr>\n",
              "    <tr>\n",
              "      <th>7</th>\n",
              "      <td>Casa de Condomínio</td>\n",
              "      <td>Barra da Tijuca</td>\n",
              "      <td>5</td>\n",
              "      <td>4</td>\n",
              "      <td>5</td>\n",
              "      <td>750</td>\n",
              "      <td>22000.0</td>\n",
              "      <td>NaN</td>\n",
              "      <td>NaN</td>\n",
              "    </tr>\n",
              "    <tr>\n",
              "      <th>8</th>\n",
              "      <td>Casa de Condomínio</td>\n",
              "      <td>Ramos</td>\n",
              "      <td>2</td>\n",
              "      <td>2</td>\n",
              "      <td>0</td>\n",
              "      <td>65</td>\n",
              "      <td>1000.0</td>\n",
              "      <td>NaN</td>\n",
              "      <td>NaN</td>\n",
              "    </tr>\n",
              "    <tr>\n",
              "      <th>9</th>\n",
              "      <td>Conjunto Comercial/Sala</td>\n",
              "      <td>Centro</td>\n",
              "      <td>0</td>\n",
              "      <td>3</td>\n",
              "      <td>0</td>\n",
              "      <td>695</td>\n",
              "      <td>35000.0</td>\n",
              "      <td>19193.0</td>\n",
              "      <td>3030.0</td>\n",
              "    </tr>\n",
              "  </tbody>\n",
              "</table>\n",
              "</div>"
            ],
            "text/plain": [
              "                      Tipo           Bairro  ...  Condominio    IPTU\n",
              "0                Quitinete       Copacabana  ...       500.0    60.0\n",
              "1                     Casa  Jardim Botânico  ...         NaN     NaN\n",
              "2  Conjunto Comercial/Sala  Barra da Tijuca  ...      4020.0  1111.0\n",
              "3              Apartamento           Centro  ...       390.0    20.0\n",
              "4              Apartamento     Higienópolis  ...       230.0     NaN\n",
              "5              Apartamento     Vista Alegre  ...         NaN     NaN\n",
              "6              Apartamento         Cachambi  ...       301.0    17.0\n",
              "7       Casa de Condomínio  Barra da Tijuca  ...         NaN     NaN\n",
              "8       Casa de Condomínio            Ramos  ...         NaN     NaN\n",
              "9  Conjunto Comercial/Sala           Centro  ...     19193.0  3030.0\n",
              "\n",
              "[10 rows x 9 columns]"
            ]
          },
          "metadata": {
            "tags": []
          },
          "execution_count": 27
        }
      ]
    },
    {
      "cell_type": "code",
      "metadata": {
        "colab": {
          "base_uri": "https://localhost:8080/"
        },
        "id": "hPuIyun3Uute",
        "outputId": "a141644e-399c-491d-99a7-c7bc22643c12"
      },
      "source": [
        "selecao = dados['Tipo'].isin(residencial)\n",
        "selecao"
      ],
      "execution_count": 28,
      "outputs": [
        {
          "output_type": "execute_result",
          "data": {
            "text/plain": [
              "0         True\n",
              "1         True\n",
              "2        False\n",
              "3         True\n",
              "4         True\n",
              "         ...  \n",
              "32955     True\n",
              "32956     True\n",
              "32957     True\n",
              "32958     True\n",
              "32959    False\n",
              "Name: Tipo, Length: 32960, dtype: bool"
            ]
          },
          "metadata": {
            "tags": []
          },
          "execution_count": 28
        }
      ]
    },
    {
      "cell_type": "code",
      "metadata": {
        "colab": {
          "base_uri": "https://localhost:8080/",
          "height": 0
        },
        "id": "ZYvIj6hHU-jb",
        "outputId": "4d3eef93-910c-4aa4-95fd-ddb7f2e07b1c"
      },
      "source": [
        "dados_residencial = dados[selecao]\n",
        "dados_residencial"
      ],
      "execution_count": 29,
      "outputs": [
        {
          "output_type": "execute_result",
          "data": {
            "text/html": [
              "<div>\n",
              "<style scoped>\n",
              "    .dataframe tbody tr th:only-of-type {\n",
              "        vertical-align: middle;\n",
              "    }\n",
              "\n",
              "    .dataframe tbody tr th {\n",
              "        vertical-align: top;\n",
              "    }\n",
              "\n",
              "    .dataframe thead th {\n",
              "        text-align: right;\n",
              "    }\n",
              "</style>\n",
              "<table border=\"1\" class=\"dataframe\">\n",
              "  <thead>\n",
              "    <tr style=\"text-align: right;\">\n",
              "      <th></th>\n",
              "      <th>Tipo</th>\n",
              "      <th>Bairro</th>\n",
              "      <th>Quartos</th>\n",
              "      <th>Vagas</th>\n",
              "      <th>Suites</th>\n",
              "      <th>Area</th>\n",
              "      <th>Valor</th>\n",
              "      <th>Condominio</th>\n",
              "      <th>IPTU</th>\n",
              "    </tr>\n",
              "  </thead>\n",
              "  <tbody>\n",
              "    <tr>\n",
              "      <th>0</th>\n",
              "      <td>Quitinete</td>\n",
              "      <td>Copacabana</td>\n",
              "      <td>1</td>\n",
              "      <td>0</td>\n",
              "      <td>0</td>\n",
              "      <td>40</td>\n",
              "      <td>1700.0</td>\n",
              "      <td>500.0</td>\n",
              "      <td>60.0</td>\n",
              "    </tr>\n",
              "    <tr>\n",
              "      <th>1</th>\n",
              "      <td>Casa</td>\n",
              "      <td>Jardim Botânico</td>\n",
              "      <td>2</td>\n",
              "      <td>0</td>\n",
              "      <td>1</td>\n",
              "      <td>100</td>\n",
              "      <td>7000.0</td>\n",
              "      <td>NaN</td>\n",
              "      <td>NaN</td>\n",
              "    </tr>\n",
              "    <tr>\n",
              "      <th>3</th>\n",
              "      <td>Apartamento</td>\n",
              "      <td>Centro</td>\n",
              "      <td>1</td>\n",
              "      <td>0</td>\n",
              "      <td>0</td>\n",
              "      <td>15</td>\n",
              "      <td>800.0</td>\n",
              "      <td>390.0</td>\n",
              "      <td>20.0</td>\n",
              "    </tr>\n",
              "    <tr>\n",
              "      <th>4</th>\n",
              "      <td>Apartamento</td>\n",
              "      <td>Higienópolis</td>\n",
              "      <td>1</td>\n",
              "      <td>0</td>\n",
              "      <td>0</td>\n",
              "      <td>48</td>\n",
              "      <td>800.0</td>\n",
              "      <td>230.0</td>\n",
              "      <td>NaN</td>\n",
              "    </tr>\n",
              "    <tr>\n",
              "      <th>5</th>\n",
              "      <td>Apartamento</td>\n",
              "      <td>Vista Alegre</td>\n",
              "      <td>3</td>\n",
              "      <td>1</td>\n",
              "      <td>0</td>\n",
              "      <td>70</td>\n",
              "      <td>1200.0</td>\n",
              "      <td>NaN</td>\n",
              "      <td>NaN</td>\n",
              "    </tr>\n",
              "    <tr>\n",
              "      <th>...</th>\n",
              "      <td>...</td>\n",
              "      <td>...</td>\n",
              "      <td>...</td>\n",
              "      <td>...</td>\n",
              "      <td>...</td>\n",
              "      <td>...</td>\n",
              "      <td>...</td>\n",
              "      <td>...</td>\n",
              "      <td>...</td>\n",
              "    </tr>\n",
              "    <tr>\n",
              "      <th>32953</th>\n",
              "      <td>Apartamento</td>\n",
              "      <td>Méier</td>\n",
              "      <td>2</td>\n",
              "      <td>0</td>\n",
              "      <td>0</td>\n",
              "      <td>70</td>\n",
              "      <td>900.0</td>\n",
              "      <td>490.0</td>\n",
              "      <td>48.0</td>\n",
              "    </tr>\n",
              "    <tr>\n",
              "      <th>32955</th>\n",
              "      <td>Quitinete</td>\n",
              "      <td>Centro</td>\n",
              "      <td>0</td>\n",
              "      <td>0</td>\n",
              "      <td>0</td>\n",
              "      <td>27</td>\n",
              "      <td>800.0</td>\n",
              "      <td>350.0</td>\n",
              "      <td>25.0</td>\n",
              "    </tr>\n",
              "    <tr>\n",
              "      <th>32956</th>\n",
              "      <td>Apartamento</td>\n",
              "      <td>Jacarepaguá</td>\n",
              "      <td>3</td>\n",
              "      <td>1</td>\n",
              "      <td>2</td>\n",
              "      <td>78</td>\n",
              "      <td>1800.0</td>\n",
              "      <td>800.0</td>\n",
              "      <td>40.0</td>\n",
              "    </tr>\n",
              "    <tr>\n",
              "      <th>32957</th>\n",
              "      <td>Apartamento</td>\n",
              "      <td>São Francisco Xavier</td>\n",
              "      <td>2</td>\n",
              "      <td>1</td>\n",
              "      <td>0</td>\n",
              "      <td>48</td>\n",
              "      <td>1400.0</td>\n",
              "      <td>509.0</td>\n",
              "      <td>37.0</td>\n",
              "    </tr>\n",
              "    <tr>\n",
              "      <th>32958</th>\n",
              "      <td>Apartamento</td>\n",
              "      <td>Leblon</td>\n",
              "      <td>2</td>\n",
              "      <td>0</td>\n",
              "      <td>0</td>\n",
              "      <td>70</td>\n",
              "      <td>3000.0</td>\n",
              "      <td>760.0</td>\n",
              "      <td>NaN</td>\n",
              "    </tr>\n",
              "  </tbody>\n",
              "</table>\n",
              "<p>22580 rows × 9 columns</p>\n",
              "</div>"
            ],
            "text/plain": [
              "              Tipo                Bairro  Quartos  ...   Valor  Condominio  IPTU\n",
              "0        Quitinete            Copacabana        1  ...  1700.0       500.0  60.0\n",
              "1             Casa       Jardim Botânico        2  ...  7000.0         NaN   NaN\n",
              "3      Apartamento                Centro        1  ...   800.0       390.0  20.0\n",
              "4      Apartamento          Higienópolis        1  ...   800.0       230.0   NaN\n",
              "5      Apartamento          Vista Alegre        3  ...  1200.0         NaN   NaN\n",
              "...            ...                   ...      ...  ...     ...         ...   ...\n",
              "32953  Apartamento                 Méier        2  ...   900.0       490.0  48.0\n",
              "32955    Quitinete                Centro        0  ...   800.0       350.0  25.0\n",
              "32956  Apartamento           Jacarepaguá        3  ...  1800.0       800.0  40.0\n",
              "32957  Apartamento  São Francisco Xavier        2  ...  1400.0       509.0  37.0\n",
              "32958  Apartamento                Leblon        2  ...  3000.0       760.0   NaN\n",
              "\n",
              "[22580 rows x 9 columns]"
            ]
          },
          "metadata": {
            "tags": []
          },
          "execution_count": 29
        }
      ]
    },
    {
      "cell_type": "code",
      "metadata": {
        "colab": {
          "base_uri": "https://localhost:8080/"
        },
        "id": "lNrAIH1SVQpA",
        "outputId": "9a632ae1-b289-4853-c5c6-3e4761c0c623"
      },
      "source": [
        "list(dados_residencial['Tipo'].drop_duplicates())"
      ],
      "execution_count": 30,
      "outputs": [
        {
          "output_type": "execute_result",
          "data": {
            "text/plain": [
              "['Quitinete', 'Casa', 'Apartamento', 'Casa de Condomínio', 'Casa de Vila']"
            ]
          },
          "metadata": {
            "tags": []
          },
          "execution_count": 30
        }
      ]
    },
    {
      "cell_type": "code",
      "metadata": {
        "colab": {
          "base_uri": "https://localhost:8080/"
        },
        "id": "eMVWxyWZXEC1",
        "outputId": "81e3b004-531c-4f1d-a265-ecab0ba1d817"
      },
      "source": [
        "dados_residencial.shape"
      ],
      "execution_count": 31,
      "outputs": [
        {
          "output_type": "execute_result",
          "data": {
            "text/plain": [
              "(22580, 9)"
            ]
          },
          "metadata": {
            "tags": []
          },
          "execution_count": 31
        }
      ]
    },
    {
      "cell_type": "code",
      "metadata": {
        "colab": {
          "base_uri": "https://localhost:8080/"
        },
        "id": "IA4ndivCXIcu",
        "outputId": "a531b7c3-1147-472a-ebe4-d734b4646d7c"
      },
      "source": [
        "dados.shape"
      ],
      "execution_count": 32,
      "outputs": [
        {
          "output_type": "execute_result",
          "data": {
            "text/plain": [
              "(32960, 9)"
            ]
          },
          "metadata": {
            "tags": []
          },
          "execution_count": 32
        }
      ]
    },
    {
      "cell_type": "code",
      "metadata": {
        "colab": {
          "base_uri": "https://localhost:8080/",
          "height": 0
        },
        "id": "2oMltvPjXKRh",
        "outputId": "2b32ab5a-0c1b-4217-f5bc-c83e495edccc"
      },
      "source": [
        "dados_residencial.index = range(dados_residencial.shape[0])\n",
        "dados_residencial"
      ],
      "execution_count": 33,
      "outputs": [
        {
          "output_type": "execute_result",
          "data": {
            "text/html": [
              "<div>\n",
              "<style scoped>\n",
              "    .dataframe tbody tr th:only-of-type {\n",
              "        vertical-align: middle;\n",
              "    }\n",
              "\n",
              "    .dataframe tbody tr th {\n",
              "        vertical-align: top;\n",
              "    }\n",
              "\n",
              "    .dataframe thead th {\n",
              "        text-align: right;\n",
              "    }\n",
              "</style>\n",
              "<table border=\"1\" class=\"dataframe\">\n",
              "  <thead>\n",
              "    <tr style=\"text-align: right;\">\n",
              "      <th></th>\n",
              "      <th>Tipo</th>\n",
              "      <th>Bairro</th>\n",
              "      <th>Quartos</th>\n",
              "      <th>Vagas</th>\n",
              "      <th>Suites</th>\n",
              "      <th>Area</th>\n",
              "      <th>Valor</th>\n",
              "      <th>Condominio</th>\n",
              "      <th>IPTU</th>\n",
              "    </tr>\n",
              "  </thead>\n",
              "  <tbody>\n",
              "    <tr>\n",
              "      <th>0</th>\n",
              "      <td>Quitinete</td>\n",
              "      <td>Copacabana</td>\n",
              "      <td>1</td>\n",
              "      <td>0</td>\n",
              "      <td>0</td>\n",
              "      <td>40</td>\n",
              "      <td>1700.0</td>\n",
              "      <td>500.0</td>\n",
              "      <td>60.0</td>\n",
              "    </tr>\n",
              "    <tr>\n",
              "      <th>1</th>\n",
              "      <td>Casa</td>\n",
              "      <td>Jardim Botânico</td>\n",
              "      <td>2</td>\n",
              "      <td>0</td>\n",
              "      <td>1</td>\n",
              "      <td>100</td>\n",
              "      <td>7000.0</td>\n",
              "      <td>NaN</td>\n",
              "      <td>NaN</td>\n",
              "    </tr>\n",
              "    <tr>\n",
              "      <th>2</th>\n",
              "      <td>Apartamento</td>\n",
              "      <td>Centro</td>\n",
              "      <td>1</td>\n",
              "      <td>0</td>\n",
              "      <td>0</td>\n",
              "      <td>15</td>\n",
              "      <td>800.0</td>\n",
              "      <td>390.0</td>\n",
              "      <td>20.0</td>\n",
              "    </tr>\n",
              "    <tr>\n",
              "      <th>3</th>\n",
              "      <td>Apartamento</td>\n",
              "      <td>Higienópolis</td>\n",
              "      <td>1</td>\n",
              "      <td>0</td>\n",
              "      <td>0</td>\n",
              "      <td>48</td>\n",
              "      <td>800.0</td>\n",
              "      <td>230.0</td>\n",
              "      <td>NaN</td>\n",
              "    </tr>\n",
              "    <tr>\n",
              "      <th>4</th>\n",
              "      <td>Apartamento</td>\n",
              "      <td>Vista Alegre</td>\n",
              "      <td>3</td>\n",
              "      <td>1</td>\n",
              "      <td>0</td>\n",
              "      <td>70</td>\n",
              "      <td>1200.0</td>\n",
              "      <td>NaN</td>\n",
              "      <td>NaN</td>\n",
              "    </tr>\n",
              "    <tr>\n",
              "      <th>...</th>\n",
              "      <td>...</td>\n",
              "      <td>...</td>\n",
              "      <td>...</td>\n",
              "      <td>...</td>\n",
              "      <td>...</td>\n",
              "      <td>...</td>\n",
              "      <td>...</td>\n",
              "      <td>...</td>\n",
              "      <td>...</td>\n",
              "    </tr>\n",
              "    <tr>\n",
              "      <th>22575</th>\n",
              "      <td>Apartamento</td>\n",
              "      <td>Méier</td>\n",
              "      <td>2</td>\n",
              "      <td>0</td>\n",
              "      <td>0</td>\n",
              "      <td>70</td>\n",
              "      <td>900.0</td>\n",
              "      <td>490.0</td>\n",
              "      <td>48.0</td>\n",
              "    </tr>\n",
              "    <tr>\n",
              "      <th>22576</th>\n",
              "      <td>Quitinete</td>\n",
              "      <td>Centro</td>\n",
              "      <td>0</td>\n",
              "      <td>0</td>\n",
              "      <td>0</td>\n",
              "      <td>27</td>\n",
              "      <td>800.0</td>\n",
              "      <td>350.0</td>\n",
              "      <td>25.0</td>\n",
              "    </tr>\n",
              "    <tr>\n",
              "      <th>22577</th>\n",
              "      <td>Apartamento</td>\n",
              "      <td>Jacarepaguá</td>\n",
              "      <td>3</td>\n",
              "      <td>1</td>\n",
              "      <td>2</td>\n",
              "      <td>78</td>\n",
              "      <td>1800.0</td>\n",
              "      <td>800.0</td>\n",
              "      <td>40.0</td>\n",
              "    </tr>\n",
              "    <tr>\n",
              "      <th>22578</th>\n",
              "      <td>Apartamento</td>\n",
              "      <td>São Francisco Xavier</td>\n",
              "      <td>2</td>\n",
              "      <td>1</td>\n",
              "      <td>0</td>\n",
              "      <td>48</td>\n",
              "      <td>1400.0</td>\n",
              "      <td>509.0</td>\n",
              "      <td>37.0</td>\n",
              "    </tr>\n",
              "    <tr>\n",
              "      <th>22579</th>\n",
              "      <td>Apartamento</td>\n",
              "      <td>Leblon</td>\n",
              "      <td>2</td>\n",
              "      <td>0</td>\n",
              "      <td>0</td>\n",
              "      <td>70</td>\n",
              "      <td>3000.0</td>\n",
              "      <td>760.0</td>\n",
              "      <td>NaN</td>\n",
              "    </tr>\n",
              "  </tbody>\n",
              "</table>\n",
              "<p>22580 rows × 9 columns</p>\n",
              "</div>"
            ],
            "text/plain": [
              "              Tipo                Bairro  Quartos  ...   Valor  Condominio  IPTU\n",
              "0        Quitinete            Copacabana        1  ...  1700.0       500.0  60.0\n",
              "1             Casa       Jardim Botânico        2  ...  7000.0         NaN   NaN\n",
              "2      Apartamento                Centro        1  ...   800.0       390.0  20.0\n",
              "3      Apartamento          Higienópolis        1  ...   800.0       230.0   NaN\n",
              "4      Apartamento          Vista Alegre        3  ...  1200.0         NaN   NaN\n",
              "...            ...                   ...      ...  ...     ...         ...   ...\n",
              "22575  Apartamento                 Méier        2  ...   900.0       490.0  48.0\n",
              "22576    Quitinete                Centro        0  ...   800.0       350.0  25.0\n",
              "22577  Apartamento           Jacarepaguá        3  ...  1800.0       800.0  40.0\n",
              "22578  Apartamento  São Francisco Xavier        2  ...  1400.0       509.0  37.0\n",
              "22579  Apartamento                Leblon        2  ...  3000.0       760.0   NaN\n",
              "\n",
              "[22580 rows x 9 columns]"
            ]
          },
          "metadata": {
            "tags": []
          },
          "execution_count": 33
        }
      ]
    },
    {
      "cell_type": "markdown",
      "metadata": {
        "id": "nCMlOy0iYTb2"
      },
      "source": [
        "##Exportando dados"
      ]
    },
    {
      "cell_type": "code",
      "metadata": {
        "id": "A-PskAK_XYTH"
      },
      "source": [
        "dados_residencial.to_csv('aluguel_residencial.csv', sep=';', index=False)"
      ],
      "execution_count": 34,
      "outputs": []
    },
    {
      "cell_type": "code",
      "metadata": {
        "colab": {
          "base_uri": "https://localhost:8080/",
          "height": 0
        },
        "id": "VkUvIYGvYgMX",
        "outputId": "ef141574-8ecc-43a5-9cfb-1d9769535e39"
      },
      "source": [
        "dados_2 = pd.read_csv('aluguel_residencial.csv', sep=';')\n",
        "dados_2"
      ],
      "execution_count": 35,
      "outputs": [
        {
          "output_type": "execute_result",
          "data": {
            "text/html": [
              "<div>\n",
              "<style scoped>\n",
              "    .dataframe tbody tr th:only-of-type {\n",
              "        vertical-align: middle;\n",
              "    }\n",
              "\n",
              "    .dataframe tbody tr th {\n",
              "        vertical-align: top;\n",
              "    }\n",
              "\n",
              "    .dataframe thead th {\n",
              "        text-align: right;\n",
              "    }\n",
              "</style>\n",
              "<table border=\"1\" class=\"dataframe\">\n",
              "  <thead>\n",
              "    <tr style=\"text-align: right;\">\n",
              "      <th></th>\n",
              "      <th>Tipo</th>\n",
              "      <th>Bairro</th>\n",
              "      <th>Quartos</th>\n",
              "      <th>Vagas</th>\n",
              "      <th>Suites</th>\n",
              "      <th>Area</th>\n",
              "      <th>Valor</th>\n",
              "      <th>Condominio</th>\n",
              "      <th>IPTU</th>\n",
              "    </tr>\n",
              "  </thead>\n",
              "  <tbody>\n",
              "    <tr>\n",
              "      <th>0</th>\n",
              "      <td>Quitinete</td>\n",
              "      <td>Copacabana</td>\n",
              "      <td>1</td>\n",
              "      <td>0</td>\n",
              "      <td>0</td>\n",
              "      <td>40</td>\n",
              "      <td>1700.0</td>\n",
              "      <td>500.0</td>\n",
              "      <td>60.0</td>\n",
              "    </tr>\n",
              "    <tr>\n",
              "      <th>1</th>\n",
              "      <td>Casa</td>\n",
              "      <td>Jardim Botânico</td>\n",
              "      <td>2</td>\n",
              "      <td>0</td>\n",
              "      <td>1</td>\n",
              "      <td>100</td>\n",
              "      <td>7000.0</td>\n",
              "      <td>NaN</td>\n",
              "      <td>NaN</td>\n",
              "    </tr>\n",
              "    <tr>\n",
              "      <th>2</th>\n",
              "      <td>Apartamento</td>\n",
              "      <td>Centro</td>\n",
              "      <td>1</td>\n",
              "      <td>0</td>\n",
              "      <td>0</td>\n",
              "      <td>15</td>\n",
              "      <td>800.0</td>\n",
              "      <td>390.0</td>\n",
              "      <td>20.0</td>\n",
              "    </tr>\n",
              "    <tr>\n",
              "      <th>3</th>\n",
              "      <td>Apartamento</td>\n",
              "      <td>Higienópolis</td>\n",
              "      <td>1</td>\n",
              "      <td>0</td>\n",
              "      <td>0</td>\n",
              "      <td>48</td>\n",
              "      <td>800.0</td>\n",
              "      <td>230.0</td>\n",
              "      <td>NaN</td>\n",
              "    </tr>\n",
              "    <tr>\n",
              "      <th>4</th>\n",
              "      <td>Apartamento</td>\n",
              "      <td>Vista Alegre</td>\n",
              "      <td>3</td>\n",
              "      <td>1</td>\n",
              "      <td>0</td>\n",
              "      <td>70</td>\n",
              "      <td>1200.0</td>\n",
              "      <td>NaN</td>\n",
              "      <td>NaN</td>\n",
              "    </tr>\n",
              "    <tr>\n",
              "      <th>...</th>\n",
              "      <td>...</td>\n",
              "      <td>...</td>\n",
              "      <td>...</td>\n",
              "      <td>...</td>\n",
              "      <td>...</td>\n",
              "      <td>...</td>\n",
              "      <td>...</td>\n",
              "      <td>...</td>\n",
              "      <td>...</td>\n",
              "    </tr>\n",
              "    <tr>\n",
              "      <th>22575</th>\n",
              "      <td>Apartamento</td>\n",
              "      <td>Méier</td>\n",
              "      <td>2</td>\n",
              "      <td>0</td>\n",
              "      <td>0</td>\n",
              "      <td>70</td>\n",
              "      <td>900.0</td>\n",
              "      <td>490.0</td>\n",
              "      <td>48.0</td>\n",
              "    </tr>\n",
              "    <tr>\n",
              "      <th>22576</th>\n",
              "      <td>Quitinete</td>\n",
              "      <td>Centro</td>\n",
              "      <td>0</td>\n",
              "      <td>0</td>\n",
              "      <td>0</td>\n",
              "      <td>27</td>\n",
              "      <td>800.0</td>\n",
              "      <td>350.0</td>\n",
              "      <td>25.0</td>\n",
              "    </tr>\n",
              "    <tr>\n",
              "      <th>22577</th>\n",
              "      <td>Apartamento</td>\n",
              "      <td>Jacarepaguá</td>\n",
              "      <td>3</td>\n",
              "      <td>1</td>\n",
              "      <td>2</td>\n",
              "      <td>78</td>\n",
              "      <td>1800.0</td>\n",
              "      <td>800.0</td>\n",
              "      <td>40.0</td>\n",
              "    </tr>\n",
              "    <tr>\n",
              "      <th>22578</th>\n",
              "      <td>Apartamento</td>\n",
              "      <td>São Francisco Xavier</td>\n",
              "      <td>2</td>\n",
              "      <td>1</td>\n",
              "      <td>0</td>\n",
              "      <td>48</td>\n",
              "      <td>1400.0</td>\n",
              "      <td>509.0</td>\n",
              "      <td>37.0</td>\n",
              "    </tr>\n",
              "    <tr>\n",
              "      <th>22579</th>\n",
              "      <td>Apartamento</td>\n",
              "      <td>Leblon</td>\n",
              "      <td>2</td>\n",
              "      <td>0</td>\n",
              "      <td>0</td>\n",
              "      <td>70</td>\n",
              "      <td>3000.0</td>\n",
              "      <td>760.0</td>\n",
              "      <td>NaN</td>\n",
              "    </tr>\n",
              "  </tbody>\n",
              "</table>\n",
              "<p>22580 rows × 9 columns</p>\n",
              "</div>"
            ],
            "text/plain": [
              "              Tipo                Bairro  Quartos  ...   Valor  Condominio  IPTU\n",
              "0        Quitinete            Copacabana        1  ...  1700.0       500.0  60.0\n",
              "1             Casa       Jardim Botânico        2  ...  7000.0         NaN   NaN\n",
              "2      Apartamento                Centro        1  ...   800.0       390.0  20.0\n",
              "3      Apartamento          Higienópolis        1  ...   800.0       230.0   NaN\n",
              "4      Apartamento          Vista Alegre        3  ...  1200.0         NaN   NaN\n",
              "...            ...                   ...      ...  ...     ...         ...   ...\n",
              "22575  Apartamento                 Méier        2  ...   900.0       490.0  48.0\n",
              "22576    Quitinete                Centro        0  ...   800.0       350.0  25.0\n",
              "22577  Apartamento           Jacarepaguá        3  ...  1800.0       800.0  40.0\n",
              "22578  Apartamento  São Francisco Xavier        2  ...  1400.0       509.0  37.0\n",
              "22579  Apartamento                Leblon        2  ...  3000.0       760.0   NaN\n",
              "\n",
              "[22580 rows x 9 columns]"
            ]
          },
          "metadata": {
            "tags": []
          },
          "execution_count": 35
        }
      ]
    },
    {
      "cell_type": "markdown",
      "metadata": {
        "id": "sOJzOwVff_eW"
      },
      "source": [
        "##Seleções de frequencias"
      ]
    },
    {
      "cell_type": "code",
      "metadata": {
        "colab": {
          "base_uri": "https://localhost:8080/",
          "height": 0
        },
        "id": "F8VxwngDZRCy",
        "outputId": "898cfaad-f6cc-4cf4-c781-ac42dba81306"
      },
      "source": [
        "dados_2.head()"
      ],
      "execution_count": 36,
      "outputs": [
        {
          "output_type": "execute_result",
          "data": {
            "text/html": [
              "<div>\n",
              "<style scoped>\n",
              "    .dataframe tbody tr th:only-of-type {\n",
              "        vertical-align: middle;\n",
              "    }\n",
              "\n",
              "    .dataframe tbody tr th {\n",
              "        vertical-align: top;\n",
              "    }\n",
              "\n",
              "    .dataframe thead th {\n",
              "        text-align: right;\n",
              "    }\n",
              "</style>\n",
              "<table border=\"1\" class=\"dataframe\">\n",
              "  <thead>\n",
              "    <tr style=\"text-align: right;\">\n",
              "      <th></th>\n",
              "      <th>Tipo</th>\n",
              "      <th>Bairro</th>\n",
              "      <th>Quartos</th>\n",
              "      <th>Vagas</th>\n",
              "      <th>Suites</th>\n",
              "      <th>Area</th>\n",
              "      <th>Valor</th>\n",
              "      <th>Condominio</th>\n",
              "      <th>IPTU</th>\n",
              "    </tr>\n",
              "  </thead>\n",
              "  <tbody>\n",
              "    <tr>\n",
              "      <th>0</th>\n",
              "      <td>Quitinete</td>\n",
              "      <td>Copacabana</td>\n",
              "      <td>1</td>\n",
              "      <td>0</td>\n",
              "      <td>0</td>\n",
              "      <td>40</td>\n",
              "      <td>1700.0</td>\n",
              "      <td>500.0</td>\n",
              "      <td>60.0</td>\n",
              "    </tr>\n",
              "    <tr>\n",
              "      <th>1</th>\n",
              "      <td>Casa</td>\n",
              "      <td>Jardim Botânico</td>\n",
              "      <td>2</td>\n",
              "      <td>0</td>\n",
              "      <td>1</td>\n",
              "      <td>100</td>\n",
              "      <td>7000.0</td>\n",
              "      <td>NaN</td>\n",
              "      <td>NaN</td>\n",
              "    </tr>\n",
              "    <tr>\n",
              "      <th>2</th>\n",
              "      <td>Apartamento</td>\n",
              "      <td>Centro</td>\n",
              "      <td>1</td>\n",
              "      <td>0</td>\n",
              "      <td>0</td>\n",
              "      <td>15</td>\n",
              "      <td>800.0</td>\n",
              "      <td>390.0</td>\n",
              "      <td>20.0</td>\n",
              "    </tr>\n",
              "    <tr>\n",
              "      <th>3</th>\n",
              "      <td>Apartamento</td>\n",
              "      <td>Higienópolis</td>\n",
              "      <td>1</td>\n",
              "      <td>0</td>\n",
              "      <td>0</td>\n",
              "      <td>48</td>\n",
              "      <td>800.0</td>\n",
              "      <td>230.0</td>\n",
              "      <td>NaN</td>\n",
              "    </tr>\n",
              "    <tr>\n",
              "      <th>4</th>\n",
              "      <td>Apartamento</td>\n",
              "      <td>Vista Alegre</td>\n",
              "      <td>3</td>\n",
              "      <td>1</td>\n",
              "      <td>0</td>\n",
              "      <td>70</td>\n",
              "      <td>1200.0</td>\n",
              "      <td>NaN</td>\n",
              "      <td>NaN</td>\n",
              "    </tr>\n",
              "  </tbody>\n",
              "</table>\n",
              "</div>"
            ],
            "text/plain": [
              "          Tipo           Bairro  Quartos  Vagas  ...  Area   Valor  Condominio  IPTU\n",
              "0    Quitinete       Copacabana        1      0  ...    40  1700.0       500.0  60.0\n",
              "1         Casa  Jardim Botânico        2      0  ...   100  7000.0         NaN   NaN\n",
              "2  Apartamento           Centro        1      0  ...    15   800.0       390.0  20.0\n",
              "3  Apartamento     Higienópolis        1      0  ...    48   800.0       230.0   NaN\n",
              "4  Apartamento     Vista Alegre        3      1  ...    70  1200.0         NaN   NaN\n",
              "\n",
              "[5 rows x 9 columns]"
            ]
          },
          "metadata": {
            "tags": []
          },
          "execution_count": 36
        }
      ]
    },
    {
      "cell_type": "code",
      "metadata": {
        "colab": {
          "base_uri": "https://localhost:8080/",
          "height": 0
        },
        "id": "B_Uxc68bgLTV",
        "outputId": "5968d73e-24dd-4241-b095-29f02483719b"
      },
      "source": [
        "selecao = dados_2['Tipo'] == 'Apartamento'\n",
        "n_1 = dados_2[selecao]\n",
        "n_1"
      ],
      "execution_count": 37,
      "outputs": [
        {
          "output_type": "execute_result",
          "data": {
            "text/html": [
              "<div>\n",
              "<style scoped>\n",
              "    .dataframe tbody tr th:only-of-type {\n",
              "        vertical-align: middle;\n",
              "    }\n",
              "\n",
              "    .dataframe tbody tr th {\n",
              "        vertical-align: top;\n",
              "    }\n",
              "\n",
              "    .dataframe thead th {\n",
              "        text-align: right;\n",
              "    }\n",
              "</style>\n",
              "<table border=\"1\" class=\"dataframe\">\n",
              "  <thead>\n",
              "    <tr style=\"text-align: right;\">\n",
              "      <th></th>\n",
              "      <th>Tipo</th>\n",
              "      <th>Bairro</th>\n",
              "      <th>Quartos</th>\n",
              "      <th>Vagas</th>\n",
              "      <th>Suites</th>\n",
              "      <th>Area</th>\n",
              "      <th>Valor</th>\n",
              "      <th>Condominio</th>\n",
              "      <th>IPTU</th>\n",
              "    </tr>\n",
              "  </thead>\n",
              "  <tbody>\n",
              "    <tr>\n",
              "      <th>2</th>\n",
              "      <td>Apartamento</td>\n",
              "      <td>Centro</td>\n",
              "      <td>1</td>\n",
              "      <td>0</td>\n",
              "      <td>0</td>\n",
              "      <td>15</td>\n",
              "      <td>800.0</td>\n",
              "      <td>390.0</td>\n",
              "      <td>20.0</td>\n",
              "    </tr>\n",
              "    <tr>\n",
              "      <th>3</th>\n",
              "      <td>Apartamento</td>\n",
              "      <td>Higienópolis</td>\n",
              "      <td>1</td>\n",
              "      <td>0</td>\n",
              "      <td>0</td>\n",
              "      <td>48</td>\n",
              "      <td>800.0</td>\n",
              "      <td>230.0</td>\n",
              "      <td>NaN</td>\n",
              "    </tr>\n",
              "    <tr>\n",
              "      <th>4</th>\n",
              "      <td>Apartamento</td>\n",
              "      <td>Vista Alegre</td>\n",
              "      <td>3</td>\n",
              "      <td>1</td>\n",
              "      <td>0</td>\n",
              "      <td>70</td>\n",
              "      <td>1200.0</td>\n",
              "      <td>NaN</td>\n",
              "      <td>NaN</td>\n",
              "    </tr>\n",
              "    <tr>\n",
              "      <th>5</th>\n",
              "      <td>Apartamento</td>\n",
              "      <td>Cachambi</td>\n",
              "      <td>2</td>\n",
              "      <td>0</td>\n",
              "      <td>0</td>\n",
              "      <td>50</td>\n",
              "      <td>1300.0</td>\n",
              "      <td>301.0</td>\n",
              "      <td>17.0</td>\n",
              "    </tr>\n",
              "    <tr>\n",
              "      <th>8</th>\n",
              "      <td>Apartamento</td>\n",
              "      <td>Centro</td>\n",
              "      <td>1</td>\n",
              "      <td>0</td>\n",
              "      <td>0</td>\n",
              "      <td>36</td>\n",
              "      <td>1200.0</td>\n",
              "      <td>NaN</td>\n",
              "      <td>NaN</td>\n",
              "    </tr>\n",
              "    <tr>\n",
              "      <th>...</th>\n",
              "      <td>...</td>\n",
              "      <td>...</td>\n",
              "      <td>...</td>\n",
              "      <td>...</td>\n",
              "      <td>...</td>\n",
              "      <td>...</td>\n",
              "      <td>...</td>\n",
              "      <td>...</td>\n",
              "      <td>...</td>\n",
              "    </tr>\n",
              "    <tr>\n",
              "      <th>22573</th>\n",
              "      <td>Apartamento</td>\n",
              "      <td>Vila Valqueire</td>\n",
              "      <td>2</td>\n",
              "      <td>0</td>\n",
              "      <td>0</td>\n",
              "      <td>52</td>\n",
              "      <td>1000.0</td>\n",
              "      <td>550.0</td>\n",
              "      <td>NaN</td>\n",
              "    </tr>\n",
              "    <tr>\n",
              "      <th>22575</th>\n",
              "      <td>Apartamento</td>\n",
              "      <td>Méier</td>\n",
              "      <td>2</td>\n",
              "      <td>0</td>\n",
              "      <td>0</td>\n",
              "      <td>70</td>\n",
              "      <td>900.0</td>\n",
              "      <td>490.0</td>\n",
              "      <td>48.0</td>\n",
              "    </tr>\n",
              "    <tr>\n",
              "      <th>22577</th>\n",
              "      <td>Apartamento</td>\n",
              "      <td>Jacarepaguá</td>\n",
              "      <td>3</td>\n",
              "      <td>1</td>\n",
              "      <td>2</td>\n",
              "      <td>78</td>\n",
              "      <td>1800.0</td>\n",
              "      <td>800.0</td>\n",
              "      <td>40.0</td>\n",
              "    </tr>\n",
              "    <tr>\n",
              "      <th>22578</th>\n",
              "      <td>Apartamento</td>\n",
              "      <td>São Francisco Xavier</td>\n",
              "      <td>2</td>\n",
              "      <td>1</td>\n",
              "      <td>0</td>\n",
              "      <td>48</td>\n",
              "      <td>1400.0</td>\n",
              "      <td>509.0</td>\n",
              "      <td>37.0</td>\n",
              "    </tr>\n",
              "    <tr>\n",
              "      <th>22579</th>\n",
              "      <td>Apartamento</td>\n",
              "      <td>Leblon</td>\n",
              "      <td>2</td>\n",
              "      <td>0</td>\n",
              "      <td>0</td>\n",
              "      <td>70</td>\n",
              "      <td>3000.0</td>\n",
              "      <td>760.0</td>\n",
              "      <td>NaN</td>\n",
              "    </tr>\n",
              "  </tbody>\n",
              "</table>\n",
              "<p>19532 rows × 9 columns</p>\n",
              "</div>"
            ],
            "text/plain": [
              "              Tipo                Bairro  Quartos  ...   Valor  Condominio  IPTU\n",
              "2      Apartamento                Centro        1  ...   800.0       390.0  20.0\n",
              "3      Apartamento          Higienópolis        1  ...   800.0       230.0   NaN\n",
              "4      Apartamento          Vista Alegre        3  ...  1200.0         NaN   NaN\n",
              "5      Apartamento              Cachambi        2  ...  1300.0       301.0  17.0\n",
              "8      Apartamento                Centro        1  ...  1200.0         NaN   NaN\n",
              "...            ...                   ...      ...  ...     ...         ...   ...\n",
              "22573  Apartamento        Vila Valqueire        2  ...  1000.0       550.0   NaN\n",
              "22575  Apartamento                 Méier        2  ...   900.0       490.0  48.0\n",
              "22577  Apartamento           Jacarepaguá        3  ...  1800.0       800.0  40.0\n",
              "22578  Apartamento  São Francisco Xavier        2  ...  1400.0       509.0  37.0\n",
              "22579  Apartamento                Leblon        2  ...  3000.0       760.0   NaN\n",
              "\n",
              "[19532 rows x 9 columns]"
            ]
          },
          "metadata": {
            "tags": []
          },
          "execution_count": 37
        }
      ]
    },
    {
      "cell_type": "code",
      "metadata": {
        "colab": {
          "base_uri": "https://localhost:8080/",
          "height": 0
        },
        "id": "ukq5p5Y5j843",
        "outputId": "f6d508d4-d95e-4fcd-c9b7-248b7f832062"
      },
      "source": [
        "selecao = (dados_2['Tipo'] == 'Casa') | (dados_2['Tipo'] == 'Casa de Condomínio') |(dados_2['Tipo'] == 'Casa de Vila')\n",
        "n_2 = dados_2[selecao]\n",
        "n_2"
      ],
      "execution_count": 38,
      "outputs": [
        {
          "output_type": "execute_result",
          "data": {
            "text/html": [
              "<div>\n",
              "<style scoped>\n",
              "    .dataframe tbody tr th:only-of-type {\n",
              "        vertical-align: middle;\n",
              "    }\n",
              "\n",
              "    .dataframe tbody tr th {\n",
              "        vertical-align: top;\n",
              "    }\n",
              "\n",
              "    .dataframe thead th {\n",
              "        text-align: right;\n",
              "    }\n",
              "</style>\n",
              "<table border=\"1\" class=\"dataframe\">\n",
              "  <thead>\n",
              "    <tr style=\"text-align: right;\">\n",
              "      <th></th>\n",
              "      <th>Tipo</th>\n",
              "      <th>Bairro</th>\n",
              "      <th>Quartos</th>\n",
              "      <th>Vagas</th>\n",
              "      <th>Suites</th>\n",
              "      <th>Area</th>\n",
              "      <th>Valor</th>\n",
              "      <th>Condominio</th>\n",
              "      <th>IPTU</th>\n",
              "    </tr>\n",
              "  </thead>\n",
              "  <tbody>\n",
              "    <tr>\n",
              "      <th>1</th>\n",
              "      <td>Casa</td>\n",
              "      <td>Jardim Botânico</td>\n",
              "      <td>2</td>\n",
              "      <td>0</td>\n",
              "      <td>1</td>\n",
              "      <td>100</td>\n",
              "      <td>7000.0</td>\n",
              "      <td>NaN</td>\n",
              "      <td>NaN</td>\n",
              "    </tr>\n",
              "    <tr>\n",
              "      <th>6</th>\n",
              "      <td>Casa de Condomínio</td>\n",
              "      <td>Barra da Tijuca</td>\n",
              "      <td>5</td>\n",
              "      <td>4</td>\n",
              "      <td>5</td>\n",
              "      <td>750</td>\n",
              "      <td>22000.0</td>\n",
              "      <td>NaN</td>\n",
              "      <td>NaN</td>\n",
              "    </tr>\n",
              "    <tr>\n",
              "      <th>7</th>\n",
              "      <td>Casa de Condomínio</td>\n",
              "      <td>Ramos</td>\n",
              "      <td>2</td>\n",
              "      <td>2</td>\n",
              "      <td>0</td>\n",
              "      <td>65</td>\n",
              "      <td>1000.0</td>\n",
              "      <td>NaN</td>\n",
              "      <td>NaN</td>\n",
              "    </tr>\n",
              "    <tr>\n",
              "      <th>14</th>\n",
              "      <td>Casa de Condomínio</td>\n",
              "      <td>Taquara</td>\n",
              "      <td>3</td>\n",
              "      <td>1</td>\n",
              "      <td>1</td>\n",
              "      <td>115</td>\n",
              "      <td>2000.0</td>\n",
              "      <td>NaN</td>\n",
              "      <td>NaN</td>\n",
              "    </tr>\n",
              "    <tr>\n",
              "      <th>18</th>\n",
              "      <td>Casa de Condomínio</td>\n",
              "      <td>Barra da Tijuca</td>\n",
              "      <td>4</td>\n",
              "      <td>3</td>\n",
              "      <td>2</td>\n",
              "      <td>466</td>\n",
              "      <td>7500.0</td>\n",
              "      <td>2695.0</td>\n",
              "      <td>NaN</td>\n",
              "    </tr>\n",
              "    <tr>\n",
              "      <th>...</th>\n",
              "      <td>...</td>\n",
              "      <td>...</td>\n",
              "      <td>...</td>\n",
              "      <td>...</td>\n",
              "      <td>...</td>\n",
              "      <td>...</td>\n",
              "      <td>...</td>\n",
              "      <td>...</td>\n",
              "      <td>...</td>\n",
              "    </tr>\n",
              "    <tr>\n",
              "      <th>22545</th>\n",
              "      <td>Casa de Condomínio</td>\n",
              "      <td>Freguesia (Jacarepaguá)</td>\n",
              "      <td>3</td>\n",
              "      <td>3</td>\n",
              "      <td>1</td>\n",
              "      <td>155</td>\n",
              "      <td>2000.0</td>\n",
              "      <td>530.0</td>\n",
              "      <td>1250.0</td>\n",
              "    </tr>\n",
              "    <tr>\n",
              "      <th>22547</th>\n",
              "      <td>Casa</td>\n",
              "      <td>Bento Ribeiro</td>\n",
              "      <td>2</td>\n",
              "      <td>1</td>\n",
              "      <td>0</td>\n",
              "      <td>60</td>\n",
              "      <td>1400.0</td>\n",
              "      <td>NaN</td>\n",
              "      <td>NaN</td>\n",
              "    </tr>\n",
              "    <tr>\n",
              "      <th>22555</th>\n",
              "      <td>Casa de Condomínio</td>\n",
              "      <td>Barra da Tijuca</td>\n",
              "      <td>3</td>\n",
              "      <td>5</td>\n",
              "      <td>3</td>\n",
              "      <td>1000</td>\n",
              "      <td>20000.0</td>\n",
              "      <td>3000.0</td>\n",
              "      <td>NaN</td>\n",
              "    </tr>\n",
              "    <tr>\n",
              "      <th>22558</th>\n",
              "      <td>Casa</td>\n",
              "      <td>Centro</td>\n",
              "      <td>5</td>\n",
              "      <td>0</td>\n",
              "      <td>1</td>\n",
              "      <td>160</td>\n",
              "      <td>5000.0</td>\n",
              "      <td>NaN</td>\n",
              "      <td>80.0</td>\n",
              "    </tr>\n",
              "    <tr>\n",
              "      <th>22574</th>\n",
              "      <td>Casa de Condomínio</td>\n",
              "      <td>Barra da Tijuca</td>\n",
              "      <td>5</td>\n",
              "      <td>3</td>\n",
              "      <td>4</td>\n",
              "      <td>450</td>\n",
              "      <td>15000.0</td>\n",
              "      <td>1711.0</td>\n",
              "      <td>2332.0</td>\n",
              "    </tr>\n",
              "  </tbody>\n",
              "</table>\n",
              "<p>2212 rows × 9 columns</p>\n",
              "</div>"
            ],
            "text/plain": [
              "                     Tipo                   Bairro  ...  Condominio    IPTU\n",
              "1                    Casa          Jardim Botânico  ...         NaN     NaN\n",
              "6      Casa de Condomínio          Barra da Tijuca  ...         NaN     NaN\n",
              "7      Casa de Condomínio                    Ramos  ...         NaN     NaN\n",
              "14     Casa de Condomínio                  Taquara  ...         NaN     NaN\n",
              "18     Casa de Condomínio          Barra da Tijuca  ...      2695.0     NaN\n",
              "...                   ...                      ...  ...         ...     ...\n",
              "22545  Casa de Condomínio  Freguesia (Jacarepaguá)  ...       530.0  1250.0\n",
              "22547                Casa            Bento Ribeiro  ...         NaN     NaN\n",
              "22555  Casa de Condomínio          Barra da Tijuca  ...      3000.0     NaN\n",
              "22558                Casa                   Centro  ...         NaN    80.0\n",
              "22574  Casa de Condomínio          Barra da Tijuca  ...      1711.0  2332.0\n",
              "\n",
              "[2212 rows x 9 columns]"
            ]
          },
          "metadata": {
            "tags": []
          },
          "execution_count": 38
        }
      ]
    },
    {
      "cell_type": "code",
      "metadata": {
        "colab": {
          "base_uri": "https://localhost:8080/",
          "height": 0
        },
        "id": "oa-FvWV5k4cb",
        "outputId": "a77b607e-d264-4afa-8cfd-aad2d6db8031"
      },
      "source": [
        "selecao = (dados_2['Area'] >= 60) & (dados_2['Area'] <= 100)\n",
        "n_3 = dados_2[selecao]\n",
        "n_3"
      ],
      "execution_count": 39,
      "outputs": [
        {
          "output_type": "execute_result",
          "data": {
            "text/html": [
              "<div>\n",
              "<style scoped>\n",
              "    .dataframe tbody tr th:only-of-type {\n",
              "        vertical-align: middle;\n",
              "    }\n",
              "\n",
              "    .dataframe tbody tr th {\n",
              "        vertical-align: top;\n",
              "    }\n",
              "\n",
              "    .dataframe thead th {\n",
              "        text-align: right;\n",
              "    }\n",
              "</style>\n",
              "<table border=\"1\" class=\"dataframe\">\n",
              "  <thead>\n",
              "    <tr style=\"text-align: right;\">\n",
              "      <th></th>\n",
              "      <th>Tipo</th>\n",
              "      <th>Bairro</th>\n",
              "      <th>Quartos</th>\n",
              "      <th>Vagas</th>\n",
              "      <th>Suites</th>\n",
              "      <th>Area</th>\n",
              "      <th>Valor</th>\n",
              "      <th>Condominio</th>\n",
              "      <th>IPTU</th>\n",
              "    </tr>\n",
              "  </thead>\n",
              "  <tbody>\n",
              "    <tr>\n",
              "      <th>1</th>\n",
              "      <td>Casa</td>\n",
              "      <td>Jardim Botânico</td>\n",
              "      <td>2</td>\n",
              "      <td>0</td>\n",
              "      <td>1</td>\n",
              "      <td>100</td>\n",
              "      <td>7000.0</td>\n",
              "      <td>NaN</td>\n",
              "      <td>NaN</td>\n",
              "    </tr>\n",
              "    <tr>\n",
              "      <th>4</th>\n",
              "      <td>Apartamento</td>\n",
              "      <td>Vista Alegre</td>\n",
              "      <td>3</td>\n",
              "      <td>1</td>\n",
              "      <td>0</td>\n",
              "      <td>70</td>\n",
              "      <td>1200.0</td>\n",
              "      <td>NaN</td>\n",
              "      <td>NaN</td>\n",
              "    </tr>\n",
              "    <tr>\n",
              "      <th>7</th>\n",
              "      <td>Casa de Condomínio</td>\n",
              "      <td>Ramos</td>\n",
              "      <td>2</td>\n",
              "      <td>2</td>\n",
              "      <td>0</td>\n",
              "      <td>65</td>\n",
              "      <td>1000.0</td>\n",
              "      <td>NaN</td>\n",
              "      <td>NaN</td>\n",
              "    </tr>\n",
              "    <tr>\n",
              "      <th>9</th>\n",
              "      <td>Apartamento</td>\n",
              "      <td>Grajaú</td>\n",
              "      <td>2</td>\n",
              "      <td>1</td>\n",
              "      <td>0</td>\n",
              "      <td>70</td>\n",
              "      <td>1500.0</td>\n",
              "      <td>642.0</td>\n",
              "      <td>74.0</td>\n",
              "    </tr>\n",
              "    <tr>\n",
              "      <th>10</th>\n",
              "      <td>Apartamento</td>\n",
              "      <td>Lins de Vasconcelos</td>\n",
              "      <td>3</td>\n",
              "      <td>1</td>\n",
              "      <td>1</td>\n",
              "      <td>90</td>\n",
              "      <td>1500.0</td>\n",
              "      <td>455.0</td>\n",
              "      <td>14.0</td>\n",
              "    </tr>\n",
              "    <tr>\n",
              "      <th>...</th>\n",
              "      <td>...</td>\n",
              "      <td>...</td>\n",
              "      <td>...</td>\n",
              "      <td>...</td>\n",
              "      <td>...</td>\n",
              "      <td>...</td>\n",
              "      <td>...</td>\n",
              "      <td>...</td>\n",
              "      <td>...</td>\n",
              "    </tr>\n",
              "    <tr>\n",
              "      <th>22568</th>\n",
              "      <td>Apartamento</td>\n",
              "      <td>Recreio dos Bandeirantes</td>\n",
              "      <td>3</td>\n",
              "      <td>2</td>\n",
              "      <td>1</td>\n",
              "      <td>88</td>\n",
              "      <td>1550.0</td>\n",
              "      <td>790.0</td>\n",
              "      <td>NaN</td>\n",
              "    </tr>\n",
              "    <tr>\n",
              "      <th>22570</th>\n",
              "      <td>Apartamento</td>\n",
              "      <td>Leblon</td>\n",
              "      <td>3</td>\n",
              "      <td>0</td>\n",
              "      <td>1</td>\n",
              "      <td>80</td>\n",
              "      <td>3000.0</td>\n",
              "      <td>1010.0</td>\n",
              "      <td>249.0</td>\n",
              "    </tr>\n",
              "    <tr>\n",
              "      <th>22575</th>\n",
              "      <td>Apartamento</td>\n",
              "      <td>Méier</td>\n",
              "      <td>2</td>\n",
              "      <td>0</td>\n",
              "      <td>0</td>\n",
              "      <td>70</td>\n",
              "      <td>900.0</td>\n",
              "      <td>490.0</td>\n",
              "      <td>48.0</td>\n",
              "    </tr>\n",
              "    <tr>\n",
              "      <th>22577</th>\n",
              "      <td>Apartamento</td>\n",
              "      <td>Jacarepaguá</td>\n",
              "      <td>3</td>\n",
              "      <td>1</td>\n",
              "      <td>2</td>\n",
              "      <td>78</td>\n",
              "      <td>1800.0</td>\n",
              "      <td>800.0</td>\n",
              "      <td>40.0</td>\n",
              "    </tr>\n",
              "    <tr>\n",
              "      <th>22579</th>\n",
              "      <td>Apartamento</td>\n",
              "      <td>Leblon</td>\n",
              "      <td>2</td>\n",
              "      <td>0</td>\n",
              "      <td>0</td>\n",
              "      <td>70</td>\n",
              "      <td>3000.0</td>\n",
              "      <td>760.0</td>\n",
              "      <td>NaN</td>\n",
              "    </tr>\n",
              "  </tbody>\n",
              "</table>\n",
              "<p>8719 rows × 9 columns</p>\n",
              "</div>"
            ],
            "text/plain": [
              "                     Tipo                    Bairro  ...  Condominio   IPTU\n",
              "1                    Casa           Jardim Botânico  ...         NaN    NaN\n",
              "4             Apartamento              Vista Alegre  ...         NaN    NaN\n",
              "7      Casa de Condomínio                     Ramos  ...         NaN    NaN\n",
              "9             Apartamento                    Grajaú  ...       642.0   74.0\n",
              "10            Apartamento       Lins de Vasconcelos  ...       455.0   14.0\n",
              "...                   ...                       ...  ...         ...    ...\n",
              "22568         Apartamento  Recreio dos Bandeirantes  ...       790.0    NaN\n",
              "22570         Apartamento                    Leblon  ...      1010.0  249.0\n",
              "22575         Apartamento                     Méier  ...       490.0   48.0\n",
              "22577         Apartamento               Jacarepaguá  ...       800.0   40.0\n",
              "22579         Apartamento                    Leblon  ...       760.0    NaN\n",
              "\n",
              "[8719 rows x 9 columns]"
            ]
          },
          "metadata": {
            "tags": []
          },
          "execution_count": 39
        }
      ]
    },
    {
      "cell_type": "code",
      "metadata": {
        "colab": {
          "base_uri": "https://localhost:8080/",
          "height": 0
        },
        "id": "H0hZUUDElWjm",
        "outputId": "62f3ec9c-63d9-4bd7-b33e-de75018ffc76"
      },
      "source": [
        "selecao = (dados_2['Quartos'] >= 4) & (dados_2['Valor'] < 2000)\n",
        "n_4 = dados_2[selecao]\n",
        "n_4"
      ],
      "execution_count": 40,
      "outputs": [
        {
          "output_type": "execute_result",
          "data": {
            "text/html": [
              "<div>\n",
              "<style scoped>\n",
              "    .dataframe tbody tr th:only-of-type {\n",
              "        vertical-align: middle;\n",
              "    }\n",
              "\n",
              "    .dataframe tbody tr th {\n",
              "        vertical-align: top;\n",
              "    }\n",
              "\n",
              "    .dataframe thead th {\n",
              "        text-align: right;\n",
              "    }\n",
              "</style>\n",
              "<table border=\"1\" class=\"dataframe\">\n",
              "  <thead>\n",
              "    <tr style=\"text-align: right;\">\n",
              "      <th></th>\n",
              "      <th>Tipo</th>\n",
              "      <th>Bairro</th>\n",
              "      <th>Quartos</th>\n",
              "      <th>Vagas</th>\n",
              "      <th>Suites</th>\n",
              "      <th>Area</th>\n",
              "      <th>Valor</th>\n",
              "      <th>Condominio</th>\n",
              "      <th>IPTU</th>\n",
              "    </tr>\n",
              "  </thead>\n",
              "  <tbody>\n",
              "    <tr>\n",
              "      <th>484</th>\n",
              "      <td>Apartamento</td>\n",
              "      <td>Recreio dos Bandeirantes</td>\n",
              "      <td>4</td>\n",
              "      <td>2</td>\n",
              "      <td>2</td>\n",
              "      <td>160</td>\n",
              "      <td>1900.0</td>\n",
              "      <td>830.0</td>\n",
              "      <td>NaN</td>\n",
              "    </tr>\n",
              "    <tr>\n",
              "      <th>1003</th>\n",
              "      <td>Apartamento</td>\n",
              "      <td>Taquara</td>\n",
              "      <td>4</td>\n",
              "      <td>1</td>\n",
              "      <td>1</td>\n",
              "      <td>110</td>\n",
              "      <td>1900.0</td>\n",
              "      <td>NaN</td>\n",
              "      <td>NaN</td>\n",
              "    </tr>\n",
              "    <tr>\n",
              "      <th>1961</th>\n",
              "      <td>Casa</td>\n",
              "      <td>Campo Grande</td>\n",
              "      <td>4</td>\n",
              "      <td>1</td>\n",
              "      <td>4</td>\n",
              "      <td>100</td>\n",
              "      <td>1600.0</td>\n",
              "      <td>NaN</td>\n",
              "      <td>NaN</td>\n",
              "    </tr>\n",
              "    <tr>\n",
              "      <th>2102</th>\n",
              "      <td>Casa</td>\n",
              "      <td>Engenho de Dentro</td>\n",
              "      <td>4</td>\n",
              "      <td>3</td>\n",
              "      <td>0</td>\n",
              "      <td>120</td>\n",
              "      <td>1500.0</td>\n",
              "      <td>NaN</td>\n",
              "      <td>NaN</td>\n",
              "    </tr>\n",
              "    <tr>\n",
              "      <th>2200</th>\n",
              "      <td>Apartamento</td>\n",
              "      <td>Recreio dos Bandeirantes</td>\n",
              "      <td>4</td>\n",
              "      <td>2</td>\n",
              "      <td>2</td>\n",
              "      <td>125</td>\n",
              "      <td>1700.0</td>\n",
              "      <td>NaN</td>\n",
              "      <td>90.0</td>\n",
              "    </tr>\n",
              "    <tr>\n",
              "      <th>2338</th>\n",
              "      <td>Casa de Vila</td>\n",
              "      <td>Méier</td>\n",
              "      <td>4</td>\n",
              "      <td>0</td>\n",
              "      <td>1</td>\n",
              "      <td>85</td>\n",
              "      <td>1600.0</td>\n",
              "      <td>NaN</td>\n",
              "      <td>NaN</td>\n",
              "    </tr>\n",
              "    <tr>\n",
              "      <th>3943</th>\n",
              "      <td>Casa</td>\n",
              "      <td>Campo Grande</td>\n",
              "      <td>4</td>\n",
              "      <td>1</td>\n",
              "      <td>0</td>\n",
              "      <td>140</td>\n",
              "      <td>1700.0</td>\n",
              "      <td>NaN</td>\n",
              "      <td>NaN</td>\n",
              "    </tr>\n",
              "    <tr>\n",
              "      <th>3944</th>\n",
              "      <td>Apartamento</td>\n",
              "      <td>Campo Grande</td>\n",
              "      <td>4</td>\n",
              "      <td>2</td>\n",
              "      <td>1</td>\n",
              "      <td>115</td>\n",
              "      <td>1900.0</td>\n",
              "      <td>500.0</td>\n",
              "      <td>NaN</td>\n",
              "    </tr>\n",
              "    <tr>\n",
              "      <th>4349</th>\n",
              "      <td>Apartamento</td>\n",
              "      <td>Recreio dos Bandeirantes</td>\n",
              "      <td>4</td>\n",
              "      <td>2</td>\n",
              "      <td>1</td>\n",
              "      <td>105</td>\n",
              "      <td>1900.0</td>\n",
              "      <td>1492.0</td>\n",
              "      <td>205.0</td>\n",
              "    </tr>\n",
              "    <tr>\n",
              "      <th>5081</th>\n",
              "      <td>Apartamento</td>\n",
              "      <td>Cidade Nova</td>\n",
              "      <td>4</td>\n",
              "      <td>0</td>\n",
              "      <td>0</td>\n",
              "      <td>110</td>\n",
              "      <td>1300.0</td>\n",
              "      <td>NaN</td>\n",
              "      <td>NaN</td>\n",
              "    </tr>\n",
              "    <tr>\n",
              "      <th>6524</th>\n",
              "      <td>Apartamento</td>\n",
              "      <td>Pechincha</td>\n",
              "      <td>4</td>\n",
              "      <td>1</td>\n",
              "      <td>2</td>\n",
              "      <td>178</td>\n",
              "      <td>1900.0</td>\n",
              "      <td>1100.0</td>\n",
              "      <td>270.0</td>\n",
              "    </tr>\n",
              "    <tr>\n",
              "      <th>6800</th>\n",
              "      <td>Casa</td>\n",
              "      <td>Riachuelo</td>\n",
              "      <td>4</td>\n",
              "      <td>0</td>\n",
              "      <td>1</td>\n",
              "      <td>100</td>\n",
              "      <td>1800.0</td>\n",
              "      <td>NaN</td>\n",
              "      <td>40.0</td>\n",
              "    </tr>\n",
              "    <tr>\n",
              "      <th>6811</th>\n",
              "      <td>Casa</td>\n",
              "      <td>Méier</td>\n",
              "      <td>4</td>\n",
              "      <td>1</td>\n",
              "      <td>1</td>\n",
              "      <td>125</td>\n",
              "      <td>1900.0</td>\n",
              "      <td>NaN</td>\n",
              "      <td>NaN</td>\n",
              "    </tr>\n",
              "    <tr>\n",
              "      <th>7624</th>\n",
              "      <td>Apartamento</td>\n",
              "      <td>Recreio dos Bandeirantes</td>\n",
              "      <td>4</td>\n",
              "      <td>2</td>\n",
              "      <td>3</td>\n",
              "      <td>280</td>\n",
              "      <td>1800.0</td>\n",
              "      <td>1400.0</td>\n",
              "      <td>580.0</td>\n",
              "    </tr>\n",
              "    <tr>\n",
              "      <th>7651</th>\n",
              "      <td>Apartamento</td>\n",
              "      <td>Recreio dos Bandeirantes</td>\n",
              "      <td>4</td>\n",
              "      <td>3</td>\n",
              "      <td>2</td>\n",
              "      <td>250</td>\n",
              "      <td>1500.0</td>\n",
              "      <td>1380.0</td>\n",
              "      <td>700.0</td>\n",
              "    </tr>\n",
              "    <tr>\n",
              "      <th>7867</th>\n",
              "      <td>Apartamento</td>\n",
              "      <td>Recreio dos Bandeirantes</td>\n",
              "      <td>4</td>\n",
              "      <td>2</td>\n",
              "      <td>1</td>\n",
              "      <td>160</td>\n",
              "      <td>1900.0</td>\n",
              "      <td>1093.0</td>\n",
              "      <td>183.0</td>\n",
              "    </tr>\n",
              "    <tr>\n",
              "      <th>10111</th>\n",
              "      <td>Apartamento</td>\n",
              "      <td>Recreio dos Bandeirantes</td>\n",
              "      <td>4</td>\n",
              "      <td>2</td>\n",
              "      <td>1</td>\n",
              "      <td>160</td>\n",
              "      <td>1900.0</td>\n",
              "      <td>1038.0</td>\n",
              "      <td>158.0</td>\n",
              "    </tr>\n",
              "    <tr>\n",
              "      <th>10929</th>\n",
              "      <td>Casa de Condomínio</td>\n",
              "      <td>Taquara</td>\n",
              "      <td>4</td>\n",
              "      <td>1</td>\n",
              "      <td>0</td>\n",
              "      <td>110</td>\n",
              "      <td>1750.0</td>\n",
              "      <td>550.0</td>\n",
              "      <td>993.0</td>\n",
              "    </tr>\n",
              "    <tr>\n",
              "      <th>11308</th>\n",
              "      <td>Casa</td>\n",
              "      <td>Santo Cristo</td>\n",
              "      <td>5</td>\n",
              "      <td>0</td>\n",
              "      <td>0</td>\n",
              "      <td>85</td>\n",
              "      <td>1200.0</td>\n",
              "      <td>NaN</td>\n",
              "      <td>NaN</td>\n",
              "    </tr>\n",
              "    <tr>\n",
              "      <th>11977</th>\n",
              "      <td>Apartamento</td>\n",
              "      <td>Leme</td>\n",
              "      <td>4</td>\n",
              "      <td>0</td>\n",
              "      <td>1</td>\n",
              "      <td>185</td>\n",
              "      <td>1800.0</td>\n",
              "      <td>2000.0</td>\n",
              "      <td>270.0</td>\n",
              "    </tr>\n",
              "    <tr>\n",
              "      <th>12525</th>\n",
              "      <td>Apartamento</td>\n",
              "      <td>Recreio dos Bandeirantes</td>\n",
              "      <td>4</td>\n",
              "      <td>2</td>\n",
              "      <td>1</td>\n",
              "      <td>160</td>\n",
              "      <td>1900.0</td>\n",
              "      <td>930.0</td>\n",
              "      <td>150.0</td>\n",
              "    </tr>\n",
              "    <tr>\n",
              "      <th>13307</th>\n",
              "      <td>Apartamento</td>\n",
              "      <td>Camorim</td>\n",
              "      <td>4</td>\n",
              "      <td>1</td>\n",
              "      <td>1</td>\n",
              "      <td>96</td>\n",
              "      <td>1350.0</td>\n",
              "      <td>747.0</td>\n",
              "      <td>NaN</td>\n",
              "    </tr>\n",
              "    <tr>\n",
              "      <th>13659</th>\n",
              "      <td>Apartamento</td>\n",
              "      <td>Barra da Tijuca</td>\n",
              "      <td>4</td>\n",
              "      <td>3</td>\n",
              "      <td>4</td>\n",
              "      <td>148</td>\n",
              "      <td>1600.0</td>\n",
              "      <td>1766.0</td>\n",
              "      <td>NaN</td>\n",
              "    </tr>\n",
              "    <tr>\n",
              "      <th>14034</th>\n",
              "      <td>Casa</td>\n",
              "      <td>Praça Seca</td>\n",
              "      <td>4</td>\n",
              "      <td>1</td>\n",
              "      <td>1</td>\n",
              "      <td>128</td>\n",
              "      <td>1600.0</td>\n",
              "      <td>NaN</td>\n",
              "      <td>228.0</td>\n",
              "    </tr>\n",
              "    <tr>\n",
              "      <th>14987</th>\n",
              "      <td>Casa de Condomínio</td>\n",
              "      <td>Freguesia (Jacarepaguá)</td>\n",
              "      <td>4</td>\n",
              "      <td>2</td>\n",
              "      <td>1</td>\n",
              "      <td>120</td>\n",
              "      <td>1800.0</td>\n",
              "      <td>195.0</td>\n",
              "      <td>30.0</td>\n",
              "    </tr>\n",
              "    <tr>\n",
              "      <th>15010</th>\n",
              "      <td>Casa</td>\n",
              "      <td>Pedra de Guaratiba</td>\n",
              "      <td>4</td>\n",
              "      <td>1</td>\n",
              "      <td>0</td>\n",
              "      <td>100</td>\n",
              "      <td>1300.0</td>\n",
              "      <td>NaN</td>\n",
              "      <td>NaN</td>\n",
              "    </tr>\n",
              "    <tr>\n",
              "      <th>15912</th>\n",
              "      <td>Apartamento</td>\n",
              "      <td>Campo Grande</td>\n",
              "      <td>4</td>\n",
              "      <td>2</td>\n",
              "      <td>2</td>\n",
              "      <td>160</td>\n",
              "      <td>1900.0</td>\n",
              "      <td>880.0</td>\n",
              "      <td>NaN</td>\n",
              "    </tr>\n",
              "    <tr>\n",
              "      <th>16031</th>\n",
              "      <td>Apartamento</td>\n",
              "      <td>Recreio dos Bandeirantes</td>\n",
              "      <td>4</td>\n",
              "      <td>2</td>\n",
              "      <td>2</td>\n",
              "      <td>160</td>\n",
              "      <td>1900.0</td>\n",
              "      <td>912.0</td>\n",
              "      <td>160.0</td>\n",
              "    </tr>\n",
              "    <tr>\n",
              "      <th>16137</th>\n",
              "      <td>Apartamento</td>\n",
              "      <td>Rio Comprido</td>\n",
              "      <td>4</td>\n",
              "      <td>1</td>\n",
              "      <td>0</td>\n",
              "      <td>110</td>\n",
              "      <td>1650.0</td>\n",
              "      <td>500.0</td>\n",
              "      <td>NaN</td>\n",
              "    </tr>\n",
              "    <tr>\n",
              "      <th>16791</th>\n",
              "      <td>Casa</td>\n",
              "      <td>Campo Grande</td>\n",
              "      <td>4</td>\n",
              "      <td>3</td>\n",
              "      <td>0</td>\n",
              "      <td>120</td>\n",
              "      <td>1700.0</td>\n",
              "      <td>NaN</td>\n",
              "      <td>NaN</td>\n",
              "    </tr>\n",
              "    <tr>\n",
              "      <th>17764</th>\n",
              "      <td>Apartamento</td>\n",
              "      <td>Taquara</td>\n",
              "      <td>4</td>\n",
              "      <td>3</td>\n",
              "      <td>1</td>\n",
              "      <td>190</td>\n",
              "      <td>1200.0</td>\n",
              "      <td>NaN</td>\n",
              "      <td>NaN</td>\n",
              "    </tr>\n",
              "    <tr>\n",
              "      <th>17884</th>\n",
              "      <td>Casa</td>\n",
              "      <td>Campo Grande</td>\n",
              "      <td>4</td>\n",
              "      <td>0</td>\n",
              "      <td>1</td>\n",
              "      <td>366</td>\n",
              "      <td>1890.0</td>\n",
              "      <td>NaN</td>\n",
              "      <td>208.0</td>\n",
              "    </tr>\n",
              "    <tr>\n",
              "      <th>18140</th>\n",
              "      <td>Casa</td>\n",
              "      <td>Campo Grande</td>\n",
              "      <td>4</td>\n",
              "      <td>0</td>\n",
              "      <td>0</td>\n",
              "      <td>159</td>\n",
              "      <td>1800.0</td>\n",
              "      <td>NaN</td>\n",
              "      <td>NaN</td>\n",
              "    </tr>\n",
              "    <tr>\n",
              "      <th>18274</th>\n",
              "      <td>Casa</td>\n",
              "      <td>Braz de Pina</td>\n",
              "      <td>4</td>\n",
              "      <td>1</td>\n",
              "      <td>0</td>\n",
              "      <td>99</td>\n",
              "      <td>1800.0</td>\n",
              "      <td>NaN</td>\n",
              "      <td>NaN</td>\n",
              "    </tr>\n",
              "    <tr>\n",
              "      <th>18453</th>\n",
              "      <td>Casa</td>\n",
              "      <td>Campo Grande</td>\n",
              "      <td>4</td>\n",
              "      <td>1</td>\n",
              "      <td>3</td>\n",
              "      <td>100</td>\n",
              "      <td>1600.0</td>\n",
              "      <td>NaN</td>\n",
              "      <td>NaN</td>\n",
              "    </tr>\n",
              "    <tr>\n",
              "      <th>19403</th>\n",
              "      <td>Casa</td>\n",
              "      <td>Campo Grande</td>\n",
              "      <td>4</td>\n",
              "      <td>1</td>\n",
              "      <td>2</td>\n",
              "      <td>180</td>\n",
              "      <td>1850.0</td>\n",
              "      <td>300.0</td>\n",
              "      <td>NaN</td>\n",
              "    </tr>\n",
              "    <tr>\n",
              "      <th>20178</th>\n",
              "      <td>Apartamento</td>\n",
              "      <td>Campo Grande</td>\n",
              "      <td>4</td>\n",
              "      <td>1</td>\n",
              "      <td>1</td>\n",
              "      <td>80</td>\n",
              "      <td>1600.0</td>\n",
              "      <td>950.0</td>\n",
              "      <td>NaN</td>\n",
              "    </tr>\n",
              "    <tr>\n",
              "      <th>20974</th>\n",
              "      <td>Apartamento</td>\n",
              "      <td>Barra da Tijuca</td>\n",
              "      <td>4</td>\n",
              "      <td>3</td>\n",
              "      <td>4</td>\n",
              "      <td>148</td>\n",
              "      <td>1500.0</td>\n",
              "      <td>1600.0</td>\n",
              "      <td>196.0</td>\n",
              "    </tr>\n",
              "    <tr>\n",
              "      <th>21475</th>\n",
              "      <td>Apartamento</td>\n",
              "      <td>Vargem Grande</td>\n",
              "      <td>4</td>\n",
              "      <td>0</td>\n",
              "      <td>1</td>\n",
              "      <td>180</td>\n",
              "      <td>1900.0</td>\n",
              "      <td>NaN</td>\n",
              "      <td>176.0</td>\n",
              "    </tr>\n",
              "    <tr>\n",
              "      <th>21783</th>\n",
              "      <td>Apartamento</td>\n",
              "      <td>Recreio dos Bandeirantes</td>\n",
              "      <td>4</td>\n",
              "      <td>2</td>\n",
              "      <td>2</td>\n",
              "      <td>160</td>\n",
              "      <td>1900.0</td>\n",
              "      <td>1038.0</td>\n",
              "      <td>NaN</td>\n",
              "    </tr>\n",
              "    <tr>\n",
              "      <th>21938</th>\n",
              "      <td>Casa</td>\n",
              "      <td>Campo Grande</td>\n",
              "      <td>4</td>\n",
              "      <td>2</td>\n",
              "      <td>0</td>\n",
              "      <td>120</td>\n",
              "      <td>1600.0</td>\n",
              "      <td>NaN</td>\n",
              "      <td>NaN</td>\n",
              "    </tr>\n",
              "  </tbody>\n",
              "</table>\n",
              "</div>"
            ],
            "text/plain": [
              "                     Tipo                    Bairro  ...  Condominio   IPTU\n",
              "484           Apartamento  Recreio dos Bandeirantes  ...       830.0    NaN\n",
              "1003          Apartamento                   Taquara  ...         NaN    NaN\n",
              "1961                 Casa              Campo Grande  ...         NaN    NaN\n",
              "2102                 Casa         Engenho de Dentro  ...         NaN    NaN\n",
              "2200          Apartamento  Recreio dos Bandeirantes  ...         NaN   90.0\n",
              "2338         Casa de Vila                     Méier  ...         NaN    NaN\n",
              "3943                 Casa              Campo Grande  ...         NaN    NaN\n",
              "3944          Apartamento              Campo Grande  ...       500.0    NaN\n",
              "4349          Apartamento  Recreio dos Bandeirantes  ...      1492.0  205.0\n",
              "5081          Apartamento               Cidade Nova  ...         NaN    NaN\n",
              "6524          Apartamento                 Pechincha  ...      1100.0  270.0\n",
              "6800                 Casa                 Riachuelo  ...         NaN   40.0\n",
              "6811                 Casa                     Méier  ...         NaN    NaN\n",
              "7624          Apartamento  Recreio dos Bandeirantes  ...      1400.0  580.0\n",
              "7651          Apartamento  Recreio dos Bandeirantes  ...      1380.0  700.0\n",
              "7867          Apartamento  Recreio dos Bandeirantes  ...      1093.0  183.0\n",
              "10111         Apartamento  Recreio dos Bandeirantes  ...      1038.0  158.0\n",
              "10929  Casa de Condomínio                   Taquara  ...       550.0  993.0\n",
              "11308                Casa              Santo Cristo  ...         NaN    NaN\n",
              "11977         Apartamento                      Leme  ...      2000.0  270.0\n",
              "12525         Apartamento  Recreio dos Bandeirantes  ...       930.0  150.0\n",
              "13307         Apartamento                   Camorim  ...       747.0    NaN\n",
              "13659         Apartamento           Barra da Tijuca  ...      1766.0    NaN\n",
              "14034                Casa                Praça Seca  ...         NaN  228.0\n",
              "14987  Casa de Condomínio   Freguesia (Jacarepaguá)  ...       195.0   30.0\n",
              "15010                Casa        Pedra de Guaratiba  ...         NaN    NaN\n",
              "15912         Apartamento              Campo Grande  ...       880.0    NaN\n",
              "16031         Apartamento  Recreio dos Bandeirantes  ...       912.0  160.0\n",
              "16137         Apartamento              Rio Comprido  ...       500.0    NaN\n",
              "16791                Casa              Campo Grande  ...         NaN    NaN\n",
              "17764         Apartamento                   Taquara  ...         NaN    NaN\n",
              "17884                Casa              Campo Grande  ...         NaN  208.0\n",
              "18140                Casa              Campo Grande  ...         NaN    NaN\n",
              "18274                Casa              Braz de Pina  ...         NaN    NaN\n",
              "18453                Casa              Campo Grande  ...         NaN    NaN\n",
              "19403                Casa              Campo Grande  ...       300.0    NaN\n",
              "20178         Apartamento              Campo Grande  ...       950.0    NaN\n",
              "20974         Apartamento           Barra da Tijuca  ...      1600.0  196.0\n",
              "21475         Apartamento             Vargem Grande  ...         NaN  176.0\n",
              "21783         Apartamento  Recreio dos Bandeirantes  ...      1038.0    NaN\n",
              "21938                Casa              Campo Grande  ...         NaN    NaN\n",
              "\n",
              "[41 rows x 9 columns]"
            ]
          },
          "metadata": {
            "tags": []
          },
          "execution_count": 40
        }
      ]
    },
    {
      "cell_type": "markdown",
      "metadata": {
        "id": "vq6Qr_IVzpsW"
      },
      "source": [
        "##Dados faltantes"
      ]
    },
    {
      "cell_type": "code",
      "metadata": {
        "colab": {
          "base_uri": "https://localhost:8080/",
          "height": 0
        },
        "id": "iP6vRtTyl5Ed",
        "outputId": "260776d4-3f5b-41bf-a672-b59b0c237c47"
      },
      "source": [
        "dados_2.isnull()"
      ],
      "execution_count": 41,
      "outputs": [
        {
          "output_type": "execute_result",
          "data": {
            "text/html": [
              "<div>\n",
              "<style scoped>\n",
              "    .dataframe tbody tr th:only-of-type {\n",
              "        vertical-align: middle;\n",
              "    }\n",
              "\n",
              "    .dataframe tbody tr th {\n",
              "        vertical-align: top;\n",
              "    }\n",
              "\n",
              "    .dataframe thead th {\n",
              "        text-align: right;\n",
              "    }\n",
              "</style>\n",
              "<table border=\"1\" class=\"dataframe\">\n",
              "  <thead>\n",
              "    <tr style=\"text-align: right;\">\n",
              "      <th></th>\n",
              "      <th>Tipo</th>\n",
              "      <th>Bairro</th>\n",
              "      <th>Quartos</th>\n",
              "      <th>Vagas</th>\n",
              "      <th>Suites</th>\n",
              "      <th>Area</th>\n",
              "      <th>Valor</th>\n",
              "      <th>Condominio</th>\n",
              "      <th>IPTU</th>\n",
              "    </tr>\n",
              "  </thead>\n",
              "  <tbody>\n",
              "    <tr>\n",
              "      <th>0</th>\n",
              "      <td>False</td>\n",
              "      <td>False</td>\n",
              "      <td>False</td>\n",
              "      <td>False</td>\n",
              "      <td>False</td>\n",
              "      <td>False</td>\n",
              "      <td>False</td>\n",
              "      <td>False</td>\n",
              "      <td>False</td>\n",
              "    </tr>\n",
              "    <tr>\n",
              "      <th>1</th>\n",
              "      <td>False</td>\n",
              "      <td>False</td>\n",
              "      <td>False</td>\n",
              "      <td>False</td>\n",
              "      <td>False</td>\n",
              "      <td>False</td>\n",
              "      <td>False</td>\n",
              "      <td>True</td>\n",
              "      <td>True</td>\n",
              "    </tr>\n",
              "    <tr>\n",
              "      <th>2</th>\n",
              "      <td>False</td>\n",
              "      <td>False</td>\n",
              "      <td>False</td>\n",
              "      <td>False</td>\n",
              "      <td>False</td>\n",
              "      <td>False</td>\n",
              "      <td>False</td>\n",
              "      <td>False</td>\n",
              "      <td>False</td>\n",
              "    </tr>\n",
              "    <tr>\n",
              "      <th>3</th>\n",
              "      <td>False</td>\n",
              "      <td>False</td>\n",
              "      <td>False</td>\n",
              "      <td>False</td>\n",
              "      <td>False</td>\n",
              "      <td>False</td>\n",
              "      <td>False</td>\n",
              "      <td>False</td>\n",
              "      <td>True</td>\n",
              "    </tr>\n",
              "    <tr>\n",
              "      <th>4</th>\n",
              "      <td>False</td>\n",
              "      <td>False</td>\n",
              "      <td>False</td>\n",
              "      <td>False</td>\n",
              "      <td>False</td>\n",
              "      <td>False</td>\n",
              "      <td>False</td>\n",
              "      <td>True</td>\n",
              "      <td>True</td>\n",
              "    </tr>\n",
              "    <tr>\n",
              "      <th>...</th>\n",
              "      <td>...</td>\n",
              "      <td>...</td>\n",
              "      <td>...</td>\n",
              "      <td>...</td>\n",
              "      <td>...</td>\n",
              "      <td>...</td>\n",
              "      <td>...</td>\n",
              "      <td>...</td>\n",
              "      <td>...</td>\n",
              "    </tr>\n",
              "    <tr>\n",
              "      <th>22575</th>\n",
              "      <td>False</td>\n",
              "      <td>False</td>\n",
              "      <td>False</td>\n",
              "      <td>False</td>\n",
              "      <td>False</td>\n",
              "      <td>False</td>\n",
              "      <td>False</td>\n",
              "      <td>False</td>\n",
              "      <td>False</td>\n",
              "    </tr>\n",
              "    <tr>\n",
              "      <th>22576</th>\n",
              "      <td>False</td>\n",
              "      <td>False</td>\n",
              "      <td>False</td>\n",
              "      <td>False</td>\n",
              "      <td>False</td>\n",
              "      <td>False</td>\n",
              "      <td>False</td>\n",
              "      <td>False</td>\n",
              "      <td>False</td>\n",
              "    </tr>\n",
              "    <tr>\n",
              "      <th>22577</th>\n",
              "      <td>False</td>\n",
              "      <td>False</td>\n",
              "      <td>False</td>\n",
              "      <td>False</td>\n",
              "      <td>False</td>\n",
              "      <td>False</td>\n",
              "      <td>False</td>\n",
              "      <td>False</td>\n",
              "      <td>False</td>\n",
              "    </tr>\n",
              "    <tr>\n",
              "      <th>22578</th>\n",
              "      <td>False</td>\n",
              "      <td>False</td>\n",
              "      <td>False</td>\n",
              "      <td>False</td>\n",
              "      <td>False</td>\n",
              "      <td>False</td>\n",
              "      <td>False</td>\n",
              "      <td>False</td>\n",
              "      <td>False</td>\n",
              "    </tr>\n",
              "    <tr>\n",
              "      <th>22579</th>\n",
              "      <td>False</td>\n",
              "      <td>False</td>\n",
              "      <td>False</td>\n",
              "      <td>False</td>\n",
              "      <td>False</td>\n",
              "      <td>False</td>\n",
              "      <td>False</td>\n",
              "      <td>False</td>\n",
              "      <td>True</td>\n",
              "    </tr>\n",
              "  </tbody>\n",
              "</table>\n",
              "<p>22580 rows × 9 columns</p>\n",
              "</div>"
            ],
            "text/plain": [
              "        Tipo  Bairro  Quartos  Vagas  Suites   Area  Valor  Condominio   IPTU\n",
              "0      False   False    False  False   False  False  False       False  False\n",
              "1      False   False    False  False   False  False  False        True   True\n",
              "2      False   False    False  False   False  False  False       False  False\n",
              "3      False   False    False  False   False  False  False       False   True\n",
              "4      False   False    False  False   False  False  False        True   True\n",
              "...      ...     ...      ...    ...     ...    ...    ...         ...    ...\n",
              "22575  False   False    False  False   False  False  False       False  False\n",
              "22576  False   False    False  False   False  False  False       False  False\n",
              "22577  False   False    False  False   False  False  False       False  False\n",
              "22578  False   False    False  False   False  False  False       False  False\n",
              "22579  False   False    False  False   False  False  False       False   True\n",
              "\n",
              "[22580 rows x 9 columns]"
            ]
          },
          "metadata": {
            "tags": []
          },
          "execution_count": 41
        }
      ]
    },
    {
      "cell_type": "code",
      "metadata": {
        "colab": {
          "base_uri": "https://localhost:8080/",
          "height": 0
        },
        "id": "fGp5-37qz65s",
        "outputId": "6823095b-107e-4271-ad3f-717832f91666"
      },
      "source": [
        "dados_2.notnull()"
      ],
      "execution_count": 42,
      "outputs": [
        {
          "output_type": "execute_result",
          "data": {
            "text/html": [
              "<div>\n",
              "<style scoped>\n",
              "    .dataframe tbody tr th:only-of-type {\n",
              "        vertical-align: middle;\n",
              "    }\n",
              "\n",
              "    .dataframe tbody tr th {\n",
              "        vertical-align: top;\n",
              "    }\n",
              "\n",
              "    .dataframe thead th {\n",
              "        text-align: right;\n",
              "    }\n",
              "</style>\n",
              "<table border=\"1\" class=\"dataframe\">\n",
              "  <thead>\n",
              "    <tr style=\"text-align: right;\">\n",
              "      <th></th>\n",
              "      <th>Tipo</th>\n",
              "      <th>Bairro</th>\n",
              "      <th>Quartos</th>\n",
              "      <th>Vagas</th>\n",
              "      <th>Suites</th>\n",
              "      <th>Area</th>\n",
              "      <th>Valor</th>\n",
              "      <th>Condominio</th>\n",
              "      <th>IPTU</th>\n",
              "    </tr>\n",
              "  </thead>\n",
              "  <tbody>\n",
              "    <tr>\n",
              "      <th>0</th>\n",
              "      <td>True</td>\n",
              "      <td>True</td>\n",
              "      <td>True</td>\n",
              "      <td>True</td>\n",
              "      <td>True</td>\n",
              "      <td>True</td>\n",
              "      <td>True</td>\n",
              "      <td>True</td>\n",
              "      <td>True</td>\n",
              "    </tr>\n",
              "    <tr>\n",
              "      <th>1</th>\n",
              "      <td>True</td>\n",
              "      <td>True</td>\n",
              "      <td>True</td>\n",
              "      <td>True</td>\n",
              "      <td>True</td>\n",
              "      <td>True</td>\n",
              "      <td>True</td>\n",
              "      <td>False</td>\n",
              "      <td>False</td>\n",
              "    </tr>\n",
              "    <tr>\n",
              "      <th>2</th>\n",
              "      <td>True</td>\n",
              "      <td>True</td>\n",
              "      <td>True</td>\n",
              "      <td>True</td>\n",
              "      <td>True</td>\n",
              "      <td>True</td>\n",
              "      <td>True</td>\n",
              "      <td>True</td>\n",
              "      <td>True</td>\n",
              "    </tr>\n",
              "    <tr>\n",
              "      <th>3</th>\n",
              "      <td>True</td>\n",
              "      <td>True</td>\n",
              "      <td>True</td>\n",
              "      <td>True</td>\n",
              "      <td>True</td>\n",
              "      <td>True</td>\n",
              "      <td>True</td>\n",
              "      <td>True</td>\n",
              "      <td>False</td>\n",
              "    </tr>\n",
              "    <tr>\n",
              "      <th>4</th>\n",
              "      <td>True</td>\n",
              "      <td>True</td>\n",
              "      <td>True</td>\n",
              "      <td>True</td>\n",
              "      <td>True</td>\n",
              "      <td>True</td>\n",
              "      <td>True</td>\n",
              "      <td>False</td>\n",
              "      <td>False</td>\n",
              "    </tr>\n",
              "    <tr>\n",
              "      <th>...</th>\n",
              "      <td>...</td>\n",
              "      <td>...</td>\n",
              "      <td>...</td>\n",
              "      <td>...</td>\n",
              "      <td>...</td>\n",
              "      <td>...</td>\n",
              "      <td>...</td>\n",
              "      <td>...</td>\n",
              "      <td>...</td>\n",
              "    </tr>\n",
              "    <tr>\n",
              "      <th>22575</th>\n",
              "      <td>True</td>\n",
              "      <td>True</td>\n",
              "      <td>True</td>\n",
              "      <td>True</td>\n",
              "      <td>True</td>\n",
              "      <td>True</td>\n",
              "      <td>True</td>\n",
              "      <td>True</td>\n",
              "      <td>True</td>\n",
              "    </tr>\n",
              "    <tr>\n",
              "      <th>22576</th>\n",
              "      <td>True</td>\n",
              "      <td>True</td>\n",
              "      <td>True</td>\n",
              "      <td>True</td>\n",
              "      <td>True</td>\n",
              "      <td>True</td>\n",
              "      <td>True</td>\n",
              "      <td>True</td>\n",
              "      <td>True</td>\n",
              "    </tr>\n",
              "    <tr>\n",
              "      <th>22577</th>\n",
              "      <td>True</td>\n",
              "      <td>True</td>\n",
              "      <td>True</td>\n",
              "      <td>True</td>\n",
              "      <td>True</td>\n",
              "      <td>True</td>\n",
              "      <td>True</td>\n",
              "      <td>True</td>\n",
              "      <td>True</td>\n",
              "    </tr>\n",
              "    <tr>\n",
              "      <th>22578</th>\n",
              "      <td>True</td>\n",
              "      <td>True</td>\n",
              "      <td>True</td>\n",
              "      <td>True</td>\n",
              "      <td>True</td>\n",
              "      <td>True</td>\n",
              "      <td>True</td>\n",
              "      <td>True</td>\n",
              "      <td>True</td>\n",
              "    </tr>\n",
              "    <tr>\n",
              "      <th>22579</th>\n",
              "      <td>True</td>\n",
              "      <td>True</td>\n",
              "      <td>True</td>\n",
              "      <td>True</td>\n",
              "      <td>True</td>\n",
              "      <td>True</td>\n",
              "      <td>True</td>\n",
              "      <td>True</td>\n",
              "      <td>False</td>\n",
              "    </tr>\n",
              "  </tbody>\n",
              "</table>\n",
              "<p>22580 rows × 9 columns</p>\n",
              "</div>"
            ],
            "text/plain": [
              "       Tipo  Bairro  Quartos  Vagas  Suites  Area  Valor  Condominio   IPTU\n",
              "0      True    True     True   True    True  True   True        True   True\n",
              "1      True    True     True   True    True  True   True       False  False\n",
              "2      True    True     True   True    True  True   True        True   True\n",
              "3      True    True     True   True    True  True   True        True  False\n",
              "4      True    True     True   True    True  True   True       False  False\n",
              "...     ...     ...      ...    ...     ...   ...    ...         ...    ...\n",
              "22575  True    True     True   True    True  True   True        True   True\n",
              "22576  True    True     True   True    True  True   True        True   True\n",
              "22577  True    True     True   True    True  True   True        True   True\n",
              "22578  True    True     True   True    True  True   True        True   True\n",
              "22579  True    True     True   True    True  True   True        True  False\n",
              "\n",
              "[22580 rows x 9 columns]"
            ]
          },
          "metadata": {
            "tags": []
          },
          "execution_count": 42
        }
      ]
    },
    {
      "cell_type": "code",
      "metadata": {
        "colab": {
          "base_uri": "https://localhost:8080/",
          "height": 0
        },
        "id": "s8vnitq60GiQ",
        "outputId": "f311208f-cc05-4bbf-bc9f-af10a02b95ce"
      },
      "source": [
        "dados_2[dados_2['Valor'].isnull()]"
      ],
      "execution_count": 43,
      "outputs": [
        {
          "output_type": "execute_result",
          "data": {
            "text/html": [
              "<div>\n",
              "<style scoped>\n",
              "    .dataframe tbody tr th:only-of-type {\n",
              "        vertical-align: middle;\n",
              "    }\n",
              "\n",
              "    .dataframe tbody tr th {\n",
              "        vertical-align: top;\n",
              "    }\n",
              "\n",
              "    .dataframe thead th {\n",
              "        text-align: right;\n",
              "    }\n",
              "</style>\n",
              "<table border=\"1\" class=\"dataframe\">\n",
              "  <thead>\n",
              "    <tr style=\"text-align: right;\">\n",
              "      <th></th>\n",
              "      <th>Tipo</th>\n",
              "      <th>Bairro</th>\n",
              "      <th>Quartos</th>\n",
              "      <th>Vagas</th>\n",
              "      <th>Suites</th>\n",
              "      <th>Area</th>\n",
              "      <th>Valor</th>\n",
              "      <th>Condominio</th>\n",
              "      <th>IPTU</th>\n",
              "    </tr>\n",
              "  </thead>\n",
              "  <tbody>\n",
              "    <tr>\n",
              "      <th>58</th>\n",
              "      <td>Apartamento</td>\n",
              "      <td>Barra da Tijuca</td>\n",
              "      <td>2</td>\n",
              "      <td>1</td>\n",
              "      <td>1</td>\n",
              "      <td>70</td>\n",
              "      <td>NaN</td>\n",
              "      <td>970.0</td>\n",
              "      <td>68.0</td>\n",
              "    </tr>\n",
              "    <tr>\n",
              "      <th>1492</th>\n",
              "      <td>Apartamento</td>\n",
              "      <td>Leme</td>\n",
              "      <td>2</td>\n",
              "      <td>0</td>\n",
              "      <td>0</td>\n",
              "      <td>75</td>\n",
              "      <td>NaN</td>\n",
              "      <td>878.0</td>\n",
              "      <td>NaN</td>\n",
              "    </tr>\n",
              "    <tr>\n",
              "      <th>1683</th>\n",
              "      <td>Casa</td>\n",
              "      <td>Campo Grande</td>\n",
              "      <td>3</td>\n",
              "      <td>4</td>\n",
              "      <td>3</td>\n",
              "      <td>363</td>\n",
              "      <td>NaN</td>\n",
              "      <td>NaN</td>\n",
              "      <td>NaN</td>\n",
              "    </tr>\n",
              "    <tr>\n",
              "      <th>2012</th>\n",
              "      <td>Apartamento</td>\n",
              "      <td>Botafogo</td>\n",
              "      <td>2</td>\n",
              "      <td>0</td>\n",
              "      <td>0</td>\n",
              "      <td>95</td>\n",
              "      <td>NaN</td>\n",
              "      <td>1010.0</td>\n",
              "      <td>170.0</td>\n",
              "    </tr>\n",
              "    <tr>\n",
              "      <th>2034</th>\n",
              "      <td>Apartamento</td>\n",
              "      <td>Copacabana</td>\n",
              "      <td>2</td>\n",
              "      <td>0</td>\n",
              "      <td>0</td>\n",
              "      <td>72</td>\n",
              "      <td>NaN</td>\n",
              "      <td>850.0</td>\n",
              "      <td>NaN</td>\n",
              "    </tr>\n",
              "    <tr>\n",
              "      <th>4941</th>\n",
              "      <td>Casa</td>\n",
              "      <td>Campo Grande</td>\n",
              "      <td>3</td>\n",
              "      <td>2</td>\n",
              "      <td>1</td>\n",
              "      <td>100</td>\n",
              "      <td>NaN</td>\n",
              "      <td>NaN</td>\n",
              "      <td>NaN</td>\n",
              "    </tr>\n",
              "    <tr>\n",
              "      <th>8568</th>\n",
              "      <td>Apartamento</td>\n",
              "      <td>Leme</td>\n",
              "      <td>2</td>\n",
              "      <td>0</td>\n",
              "      <td>1</td>\n",
              "      <td>75</td>\n",
              "      <td>NaN</td>\n",
              "      <td>878.0</td>\n",
              "      <td>NaN</td>\n",
              "    </tr>\n",
              "    <tr>\n",
              "      <th>8947</th>\n",
              "      <td>Apartamento</td>\n",
              "      <td>Glória</td>\n",
              "      <td>3</td>\n",
              "      <td>0</td>\n",
              "      <td>1</td>\n",
              "      <td>135</td>\n",
              "      <td>NaN</td>\n",
              "      <td>910.0</td>\n",
              "      <td>228.0</td>\n",
              "    </tr>\n",
              "    <tr>\n",
              "      <th>9149</th>\n",
              "      <td>Apartamento</td>\n",
              "      <td>Gávea</td>\n",
              "      <td>3</td>\n",
              "      <td>1</td>\n",
              "      <td>1</td>\n",
              "      <td>105</td>\n",
              "      <td>NaN</td>\n",
              "      <td>880.0</td>\n",
              "      <td>221.0</td>\n",
              "    </tr>\n",
              "  </tbody>\n",
              "</table>\n",
              "</div>"
            ],
            "text/plain": [
              "             Tipo           Bairro  Quartos  ...  Valor  Condominio   IPTU\n",
              "58    Apartamento  Barra da Tijuca        2  ...    NaN       970.0   68.0\n",
              "1492  Apartamento             Leme        2  ...    NaN       878.0    NaN\n",
              "1683         Casa     Campo Grande        3  ...    NaN         NaN    NaN\n",
              "2012  Apartamento         Botafogo        2  ...    NaN      1010.0  170.0\n",
              "2034  Apartamento       Copacabana        2  ...    NaN       850.0    NaN\n",
              "4941         Casa     Campo Grande        3  ...    NaN         NaN    NaN\n",
              "8568  Apartamento             Leme        2  ...    NaN       878.0    NaN\n",
              "8947  Apartamento           Glória        3  ...    NaN       910.0  228.0\n",
              "9149  Apartamento            Gávea        3  ...    NaN       880.0  221.0\n",
              "\n",
              "[9 rows x 9 columns]"
            ]
          },
          "metadata": {
            "tags": []
          },
          "execution_count": 43
        }
      ]
    },
    {
      "cell_type": "code",
      "metadata": {
        "colab": {
          "base_uri": "https://localhost:8080/"
        },
        "id": "bRoDceoe0XDg",
        "outputId": "1ee93dad-51bb-4e33-d393-a4712cbf1cbc"
      },
      "source": [
        "a = dados_2.shape[0]\n",
        "dados_2.dropna(subset= ['Valor'], inplace=True)\n",
        "b = dados_2.shape[0]\n",
        "print(a-b)"
      ],
      "execution_count": 44,
      "outputs": [
        {
          "output_type": "stream",
          "text": [
            "9\n"
          ],
          "name": "stdout"
        }
      ]
    },
    {
      "cell_type": "code",
      "metadata": {
        "colab": {
          "base_uri": "https://localhost:8080/",
          "height": 0
        },
        "id": "kkeN9QaM3jMi",
        "outputId": "dbcbfc5a-b8d7-42e1-a963-c7b99cf8e417"
      },
      "source": [
        "dados_2[dados_2['Valor'].isnull()]"
      ],
      "execution_count": 45,
      "outputs": [
        {
          "output_type": "execute_result",
          "data": {
            "text/html": [
              "<div>\n",
              "<style scoped>\n",
              "    .dataframe tbody tr th:only-of-type {\n",
              "        vertical-align: middle;\n",
              "    }\n",
              "\n",
              "    .dataframe tbody tr th {\n",
              "        vertical-align: top;\n",
              "    }\n",
              "\n",
              "    .dataframe thead th {\n",
              "        text-align: right;\n",
              "    }\n",
              "</style>\n",
              "<table border=\"1\" class=\"dataframe\">\n",
              "  <thead>\n",
              "    <tr style=\"text-align: right;\">\n",
              "      <th></th>\n",
              "      <th>Tipo</th>\n",
              "      <th>Bairro</th>\n",
              "      <th>Quartos</th>\n",
              "      <th>Vagas</th>\n",
              "      <th>Suites</th>\n",
              "      <th>Area</th>\n",
              "      <th>Valor</th>\n",
              "      <th>Condominio</th>\n",
              "      <th>IPTU</th>\n",
              "    </tr>\n",
              "  </thead>\n",
              "  <tbody>\n",
              "  </tbody>\n",
              "</table>\n",
              "</div>"
            ],
            "text/plain": [
              "Empty DataFrame\n",
              "Columns: [Tipo, Bairro, Quartos, Vagas, Suites, Area, Valor, Condominio, IPTU]\n",
              "Index: []"
            ]
          },
          "metadata": {
            "tags": []
          },
          "execution_count": 45
        }
      ]
    },
    {
      "cell_type": "markdown",
      "metadata": {
        "id": "MBa8yI0546Nb"
      },
      "source": [
        "##tratamento de dados faltantes"
      ]
    },
    {
      "cell_type": "code",
      "metadata": {
        "colab": {
          "base_uri": "https://localhost:8080/"
        },
        "id": "rH6DLHlQ4Top",
        "outputId": "8247e0f2-5a3d-490e-8353-b95dc823fc89"
      },
      "source": [
        "dados_2[dados_2['Condominio'].isnull()].shape[0]"
      ],
      "execution_count": 46,
      "outputs": [
        {
          "output_type": "execute_result",
          "data": {
            "text/plain": [
              "1813"
            ]
          },
          "metadata": {
            "tags": []
          },
          "execution_count": 46
        }
      ]
    },
    {
      "cell_type": "code",
      "metadata": {
        "colab": {
          "base_uri": "https://localhost:8080/"
        },
        "id": "-HY1HY_I5NIT",
        "outputId": "0bbb9e06-14b2-429e-a818-035ca7f9d3fb"
      },
      "source": [
        "#eliminando apartamentos que não tem informção sobre o valor do condomínio\n",
        "selecao = (dados_2['Tipo'] == 'Apartamento') & (dados_2['Condominio'].isnull())\n",
        "selecao"
      ],
      "execution_count": 47,
      "outputs": [
        {
          "output_type": "execute_result",
          "data": {
            "text/plain": [
              "0        False\n",
              "1        False\n",
              "2        False\n",
              "3        False\n",
              "4         True\n",
              "         ...  \n",
              "22575    False\n",
              "22576    False\n",
              "22577    False\n",
              "22578    False\n",
              "22579    False\n",
              "Length: 22571, dtype: bool"
            ]
          },
          "metadata": {
            "tags": []
          },
          "execution_count": 47
        }
      ]
    },
    {
      "cell_type": "code",
      "metadata": {
        "colab": {
          "base_uri": "https://localhost:8080/"
        },
        "id": "-KF5ynzd5kiF",
        "outputId": "9b84445a-6d8c-4995-abbb-2db4ce59760a"
      },
      "source": [
        "a = dados_2.shape[0]\n",
        "dados_2 = dados_2[~selecao]\n",
        "b = dados_2.shape[0]\n",
        "print(a - b)"
      ],
      "execution_count": 48,
      "outputs": [
        {
          "output_type": "stream",
          "text": [
            "745\n"
          ],
          "name": "stdout"
        }
      ]
    },
    {
      "cell_type": "code",
      "metadata": {
        "colab": {
          "base_uri": "https://localhost:8080/"
        },
        "id": "5ucW3_PO6A9o",
        "outputId": "9b638a72-f023-41f8-bbe7-b268a0eb334c"
      },
      "source": [
        "dados_2[dados_2['Condominio'].isnull()].shape[0]"
      ],
      "execution_count": 49,
      "outputs": [
        {
          "output_type": "execute_result",
          "data": {
            "text/plain": [
              "1068"
            ]
          },
          "metadata": {
            "tags": []
          },
          "execution_count": 49
        }
      ]
    },
    {
      "cell_type": "code",
      "metadata": {
        "colab": {
          "base_uri": "https://localhost:8080/"
        },
        "id": "58_wj1lN6FR-",
        "outputId": "9cf52d70-a0e6-468e-cc84-dfa4f7b7b9a7"
      },
      "source": [
        "#atribuindo valor 0 aos demais registros que não tem informações sobre o condomício\n",
        "dados_2.fillna(0, inplace=True)"
      ],
      "execution_count": 50,
      "outputs": [
        {
          "output_type": "stream",
          "text": [
            "/usr/local/lib/python3.7/dist-packages/pandas/core/frame.py:4327: SettingWithCopyWarning: \n",
            "A value is trying to be set on a copy of a slice from a DataFrame\n",
            "\n",
            "See the caveats in the documentation: https://pandas.pydata.org/pandas-docs/stable/user_guide/indexing.html#returning-a-view-versus-a-copy\n",
            "  downcast=downcast,\n"
          ],
          "name": "stderr"
        }
      ]
    },
    {
      "cell_type": "code",
      "metadata": {
        "colab": {
          "base_uri": "https://localhost:8080/",
          "height": 419
        },
        "id": "koYcQ18Z6fL1",
        "outputId": "b514e8b1-d3ef-4693-b181-800e27ee8469"
      },
      "source": [
        "dados_2"
      ],
      "execution_count": 51,
      "outputs": [
        {
          "output_type": "execute_result",
          "data": {
            "text/html": [
              "<div>\n",
              "<style scoped>\n",
              "    .dataframe tbody tr th:only-of-type {\n",
              "        vertical-align: middle;\n",
              "    }\n",
              "\n",
              "    .dataframe tbody tr th {\n",
              "        vertical-align: top;\n",
              "    }\n",
              "\n",
              "    .dataframe thead th {\n",
              "        text-align: right;\n",
              "    }\n",
              "</style>\n",
              "<table border=\"1\" class=\"dataframe\">\n",
              "  <thead>\n",
              "    <tr style=\"text-align: right;\">\n",
              "      <th></th>\n",
              "      <th>Tipo</th>\n",
              "      <th>Bairro</th>\n",
              "      <th>Quartos</th>\n",
              "      <th>Vagas</th>\n",
              "      <th>Suites</th>\n",
              "      <th>Area</th>\n",
              "      <th>Valor</th>\n",
              "      <th>Condominio</th>\n",
              "      <th>IPTU</th>\n",
              "    </tr>\n",
              "  </thead>\n",
              "  <tbody>\n",
              "    <tr>\n",
              "      <th>0</th>\n",
              "      <td>Quitinete</td>\n",
              "      <td>Copacabana</td>\n",
              "      <td>1</td>\n",
              "      <td>0</td>\n",
              "      <td>0</td>\n",
              "      <td>40</td>\n",
              "      <td>1700.0</td>\n",
              "      <td>500.0</td>\n",
              "      <td>60.0</td>\n",
              "    </tr>\n",
              "    <tr>\n",
              "      <th>1</th>\n",
              "      <td>Casa</td>\n",
              "      <td>Jardim Botânico</td>\n",
              "      <td>2</td>\n",
              "      <td>0</td>\n",
              "      <td>1</td>\n",
              "      <td>100</td>\n",
              "      <td>7000.0</td>\n",
              "      <td>0.0</td>\n",
              "      <td>0.0</td>\n",
              "    </tr>\n",
              "    <tr>\n",
              "      <th>2</th>\n",
              "      <td>Apartamento</td>\n",
              "      <td>Centro</td>\n",
              "      <td>1</td>\n",
              "      <td>0</td>\n",
              "      <td>0</td>\n",
              "      <td>15</td>\n",
              "      <td>800.0</td>\n",
              "      <td>390.0</td>\n",
              "      <td>20.0</td>\n",
              "    </tr>\n",
              "    <tr>\n",
              "      <th>3</th>\n",
              "      <td>Apartamento</td>\n",
              "      <td>Higienópolis</td>\n",
              "      <td>1</td>\n",
              "      <td>0</td>\n",
              "      <td>0</td>\n",
              "      <td>48</td>\n",
              "      <td>800.0</td>\n",
              "      <td>230.0</td>\n",
              "      <td>0.0</td>\n",
              "    </tr>\n",
              "    <tr>\n",
              "      <th>5</th>\n",
              "      <td>Apartamento</td>\n",
              "      <td>Cachambi</td>\n",
              "      <td>2</td>\n",
              "      <td>0</td>\n",
              "      <td>0</td>\n",
              "      <td>50</td>\n",
              "      <td>1300.0</td>\n",
              "      <td>301.0</td>\n",
              "      <td>17.0</td>\n",
              "    </tr>\n",
              "    <tr>\n",
              "      <th>...</th>\n",
              "      <td>...</td>\n",
              "      <td>...</td>\n",
              "      <td>...</td>\n",
              "      <td>...</td>\n",
              "      <td>...</td>\n",
              "      <td>...</td>\n",
              "      <td>...</td>\n",
              "      <td>...</td>\n",
              "      <td>...</td>\n",
              "    </tr>\n",
              "    <tr>\n",
              "      <th>22575</th>\n",
              "      <td>Apartamento</td>\n",
              "      <td>Méier</td>\n",
              "      <td>2</td>\n",
              "      <td>0</td>\n",
              "      <td>0</td>\n",
              "      <td>70</td>\n",
              "      <td>900.0</td>\n",
              "      <td>490.0</td>\n",
              "      <td>48.0</td>\n",
              "    </tr>\n",
              "    <tr>\n",
              "      <th>22576</th>\n",
              "      <td>Quitinete</td>\n",
              "      <td>Centro</td>\n",
              "      <td>0</td>\n",
              "      <td>0</td>\n",
              "      <td>0</td>\n",
              "      <td>27</td>\n",
              "      <td>800.0</td>\n",
              "      <td>350.0</td>\n",
              "      <td>25.0</td>\n",
              "    </tr>\n",
              "    <tr>\n",
              "      <th>22577</th>\n",
              "      <td>Apartamento</td>\n",
              "      <td>Jacarepaguá</td>\n",
              "      <td>3</td>\n",
              "      <td>1</td>\n",
              "      <td>2</td>\n",
              "      <td>78</td>\n",
              "      <td>1800.0</td>\n",
              "      <td>800.0</td>\n",
              "      <td>40.0</td>\n",
              "    </tr>\n",
              "    <tr>\n",
              "      <th>22578</th>\n",
              "      <td>Apartamento</td>\n",
              "      <td>São Francisco Xavier</td>\n",
              "      <td>2</td>\n",
              "      <td>1</td>\n",
              "      <td>0</td>\n",
              "      <td>48</td>\n",
              "      <td>1400.0</td>\n",
              "      <td>509.0</td>\n",
              "      <td>37.0</td>\n",
              "    </tr>\n",
              "    <tr>\n",
              "      <th>22579</th>\n",
              "      <td>Apartamento</td>\n",
              "      <td>Leblon</td>\n",
              "      <td>2</td>\n",
              "      <td>0</td>\n",
              "      <td>0</td>\n",
              "      <td>70</td>\n",
              "      <td>3000.0</td>\n",
              "      <td>760.0</td>\n",
              "      <td>0.0</td>\n",
              "    </tr>\n",
              "  </tbody>\n",
              "</table>\n",
              "<p>21826 rows × 9 columns</p>\n",
              "</div>"
            ],
            "text/plain": [
              "              Tipo                Bairro  Quartos  ...   Valor  Condominio  IPTU\n",
              "0        Quitinete            Copacabana        1  ...  1700.0       500.0  60.0\n",
              "1             Casa       Jardim Botânico        2  ...  7000.0         0.0   0.0\n",
              "2      Apartamento                Centro        1  ...   800.0       390.0  20.0\n",
              "3      Apartamento          Higienópolis        1  ...   800.0       230.0   0.0\n",
              "5      Apartamento              Cachambi        2  ...  1300.0       301.0  17.0\n",
              "...            ...                   ...      ...  ...     ...         ...   ...\n",
              "22575  Apartamento                 Méier        2  ...   900.0       490.0  48.0\n",
              "22576    Quitinete                Centro        0  ...   800.0       350.0  25.0\n",
              "22577  Apartamento           Jacarepaguá        3  ...  1800.0       800.0  40.0\n",
              "22578  Apartamento  São Francisco Xavier        2  ...  1400.0       509.0  37.0\n",
              "22579  Apartamento                Leblon        2  ...  3000.0       760.0   0.0\n",
              "\n",
              "[21826 rows x 9 columns]"
            ]
          },
          "metadata": {
            "tags": []
          },
          "execution_count": 51
        }
      ]
    },
    {
      "cell_type": "code",
      "metadata": {
        "id": "3w9q0EZX7VlZ"
      },
      "source": [
        "dados = dados.fillna({'Condominio':0, 'IPTU':0})"
      ],
      "execution_count": 52,
      "outputs": []
    },
    {
      "cell_type": "code",
      "metadata": {
        "colab": {
          "base_uri": "https://localhost:8080/"
        },
        "id": "rjO2lunh7raw",
        "outputId": "3ce22733-6283-4f5e-a53c-418c44e2e32e"
      },
      "source": [
        "dados_2[dados_2['Condominio'].isnull()].shape[0]"
      ],
      "execution_count": 53,
      "outputs": [
        {
          "output_type": "execute_result",
          "data": {
            "text/plain": [
              "0"
            ]
          },
          "metadata": {
            "tags": []
          },
          "execution_count": 53
        }
      ]
    },
    {
      "cell_type": "code",
      "metadata": {
        "id": "PRt1_NwT8BPq"
      },
      "source": [
        "dados_2.to_csv('aluguel_residencial_tratado.csv', sep=';', index=False)"
      ],
      "execution_count": 54,
      "outputs": []
    },
    {
      "cell_type": "markdown",
      "metadata": {
        "id": "RQ7xPEw1s9CD"
      },
      "source": [
        "##Novas variáveis"
      ]
    },
    {
      "cell_type": "code",
      "metadata": {
        "id": "e6w_9bMJ8QzR",
        "colab": {
          "base_uri": "https://localhost:8080/",
          "height": 204
        },
        "outputId": "7cf7c670-2190-4d7a-b262-419824fbf870"
      },
      "source": [
        "dados_3 = pd.read_csv('aluguel_residencial_tratado.csv', sep=';')\n",
        "dados_3.head()"
      ],
      "execution_count": 55,
      "outputs": [
        {
          "output_type": "execute_result",
          "data": {
            "text/html": [
              "<div>\n",
              "<style scoped>\n",
              "    .dataframe tbody tr th:only-of-type {\n",
              "        vertical-align: middle;\n",
              "    }\n",
              "\n",
              "    .dataframe tbody tr th {\n",
              "        vertical-align: top;\n",
              "    }\n",
              "\n",
              "    .dataframe thead th {\n",
              "        text-align: right;\n",
              "    }\n",
              "</style>\n",
              "<table border=\"1\" class=\"dataframe\">\n",
              "  <thead>\n",
              "    <tr style=\"text-align: right;\">\n",
              "      <th></th>\n",
              "      <th>Tipo</th>\n",
              "      <th>Bairro</th>\n",
              "      <th>Quartos</th>\n",
              "      <th>Vagas</th>\n",
              "      <th>Suites</th>\n",
              "      <th>Area</th>\n",
              "      <th>Valor</th>\n",
              "      <th>Condominio</th>\n",
              "      <th>IPTU</th>\n",
              "    </tr>\n",
              "  </thead>\n",
              "  <tbody>\n",
              "    <tr>\n",
              "      <th>0</th>\n",
              "      <td>Quitinete</td>\n",
              "      <td>Copacabana</td>\n",
              "      <td>1</td>\n",
              "      <td>0</td>\n",
              "      <td>0</td>\n",
              "      <td>40</td>\n",
              "      <td>1700.0</td>\n",
              "      <td>500.0</td>\n",
              "      <td>60.0</td>\n",
              "    </tr>\n",
              "    <tr>\n",
              "      <th>1</th>\n",
              "      <td>Casa</td>\n",
              "      <td>Jardim Botânico</td>\n",
              "      <td>2</td>\n",
              "      <td>0</td>\n",
              "      <td>1</td>\n",
              "      <td>100</td>\n",
              "      <td>7000.0</td>\n",
              "      <td>0.0</td>\n",
              "      <td>0.0</td>\n",
              "    </tr>\n",
              "    <tr>\n",
              "      <th>2</th>\n",
              "      <td>Apartamento</td>\n",
              "      <td>Centro</td>\n",
              "      <td>1</td>\n",
              "      <td>0</td>\n",
              "      <td>0</td>\n",
              "      <td>15</td>\n",
              "      <td>800.0</td>\n",
              "      <td>390.0</td>\n",
              "      <td>20.0</td>\n",
              "    </tr>\n",
              "    <tr>\n",
              "      <th>3</th>\n",
              "      <td>Apartamento</td>\n",
              "      <td>Higienópolis</td>\n",
              "      <td>1</td>\n",
              "      <td>0</td>\n",
              "      <td>0</td>\n",
              "      <td>48</td>\n",
              "      <td>800.0</td>\n",
              "      <td>230.0</td>\n",
              "      <td>0.0</td>\n",
              "    </tr>\n",
              "    <tr>\n",
              "      <th>4</th>\n",
              "      <td>Apartamento</td>\n",
              "      <td>Cachambi</td>\n",
              "      <td>2</td>\n",
              "      <td>0</td>\n",
              "      <td>0</td>\n",
              "      <td>50</td>\n",
              "      <td>1300.0</td>\n",
              "      <td>301.0</td>\n",
              "      <td>17.0</td>\n",
              "    </tr>\n",
              "  </tbody>\n",
              "</table>\n",
              "</div>"
            ],
            "text/plain": [
              "          Tipo           Bairro  Quartos  Vagas  ...  Area   Valor  Condominio  IPTU\n",
              "0    Quitinete       Copacabana        1      0  ...    40  1700.0       500.0  60.0\n",
              "1         Casa  Jardim Botânico        2      0  ...   100  7000.0         0.0   0.0\n",
              "2  Apartamento           Centro        1      0  ...    15   800.0       390.0  20.0\n",
              "3  Apartamento     Higienópolis        1      0  ...    48   800.0       230.0   0.0\n",
              "4  Apartamento         Cachambi        2      0  ...    50  1300.0       301.0  17.0\n",
              "\n",
              "[5 rows x 9 columns]"
            ]
          },
          "metadata": {
            "tags": []
          },
          "execution_count": 55
        }
      ]
    },
    {
      "cell_type": "code",
      "metadata": {
        "id": "yfZXyKS4s6oa"
      },
      "source": [
        "dados_3['Valor Bruto'] = dados_3['Valor']+dados_3['Condominio']+dados_3['IPTU']"
      ],
      "execution_count": 56,
      "outputs": []
    },
    {
      "cell_type": "code",
      "metadata": {
        "colab": {
          "base_uri": "https://localhost:8080/",
          "height": 204
        },
        "id": "Sqdf_zQet47z",
        "outputId": "b2407cd9-1bd8-480e-87c7-b1c2627c908f"
      },
      "source": [
        "dados_3.head()"
      ],
      "execution_count": 57,
      "outputs": [
        {
          "output_type": "execute_result",
          "data": {
            "text/html": [
              "<div>\n",
              "<style scoped>\n",
              "    .dataframe tbody tr th:only-of-type {\n",
              "        vertical-align: middle;\n",
              "    }\n",
              "\n",
              "    .dataframe tbody tr th {\n",
              "        vertical-align: top;\n",
              "    }\n",
              "\n",
              "    .dataframe thead th {\n",
              "        text-align: right;\n",
              "    }\n",
              "</style>\n",
              "<table border=\"1\" class=\"dataframe\">\n",
              "  <thead>\n",
              "    <tr style=\"text-align: right;\">\n",
              "      <th></th>\n",
              "      <th>Tipo</th>\n",
              "      <th>Bairro</th>\n",
              "      <th>Quartos</th>\n",
              "      <th>Vagas</th>\n",
              "      <th>Suites</th>\n",
              "      <th>Area</th>\n",
              "      <th>Valor</th>\n",
              "      <th>Condominio</th>\n",
              "      <th>IPTU</th>\n",
              "      <th>Valor Bruto</th>\n",
              "    </tr>\n",
              "  </thead>\n",
              "  <tbody>\n",
              "    <tr>\n",
              "      <th>0</th>\n",
              "      <td>Quitinete</td>\n",
              "      <td>Copacabana</td>\n",
              "      <td>1</td>\n",
              "      <td>0</td>\n",
              "      <td>0</td>\n",
              "      <td>40</td>\n",
              "      <td>1700.0</td>\n",
              "      <td>500.0</td>\n",
              "      <td>60.0</td>\n",
              "      <td>2260.0</td>\n",
              "    </tr>\n",
              "    <tr>\n",
              "      <th>1</th>\n",
              "      <td>Casa</td>\n",
              "      <td>Jardim Botânico</td>\n",
              "      <td>2</td>\n",
              "      <td>0</td>\n",
              "      <td>1</td>\n",
              "      <td>100</td>\n",
              "      <td>7000.0</td>\n",
              "      <td>0.0</td>\n",
              "      <td>0.0</td>\n",
              "      <td>7000.0</td>\n",
              "    </tr>\n",
              "    <tr>\n",
              "      <th>2</th>\n",
              "      <td>Apartamento</td>\n",
              "      <td>Centro</td>\n",
              "      <td>1</td>\n",
              "      <td>0</td>\n",
              "      <td>0</td>\n",
              "      <td>15</td>\n",
              "      <td>800.0</td>\n",
              "      <td>390.0</td>\n",
              "      <td>20.0</td>\n",
              "      <td>1210.0</td>\n",
              "    </tr>\n",
              "    <tr>\n",
              "      <th>3</th>\n",
              "      <td>Apartamento</td>\n",
              "      <td>Higienópolis</td>\n",
              "      <td>1</td>\n",
              "      <td>0</td>\n",
              "      <td>0</td>\n",
              "      <td>48</td>\n",
              "      <td>800.0</td>\n",
              "      <td>230.0</td>\n",
              "      <td>0.0</td>\n",
              "      <td>1030.0</td>\n",
              "    </tr>\n",
              "    <tr>\n",
              "      <th>4</th>\n",
              "      <td>Apartamento</td>\n",
              "      <td>Cachambi</td>\n",
              "      <td>2</td>\n",
              "      <td>0</td>\n",
              "      <td>0</td>\n",
              "      <td>50</td>\n",
              "      <td>1300.0</td>\n",
              "      <td>301.0</td>\n",
              "      <td>17.0</td>\n",
              "      <td>1618.0</td>\n",
              "    </tr>\n",
              "  </tbody>\n",
              "</table>\n",
              "</div>"
            ],
            "text/plain": [
              "          Tipo           Bairro  Quartos  ...  Condominio  IPTU  Valor Bruto\n",
              "0    Quitinete       Copacabana        1  ...       500.0  60.0       2260.0\n",
              "1         Casa  Jardim Botânico        2  ...         0.0   0.0       7000.0\n",
              "2  Apartamento           Centro        1  ...       390.0  20.0       1210.0\n",
              "3  Apartamento     Higienópolis        1  ...       230.0   0.0       1030.0\n",
              "4  Apartamento         Cachambi        2  ...       301.0  17.0       1618.0\n",
              "\n",
              "[5 rows x 10 columns]"
            ]
          },
          "metadata": {
            "tags": []
          },
          "execution_count": 57
        }
      ]
    },
    {
      "cell_type": "code",
      "metadata": {
        "id": "0CbLKH0gt6zA"
      },
      "source": [
        "dados_3['Valor m2'] = dados_3['Valor']/dados_3['Area']"
      ],
      "execution_count": 58,
      "outputs": []
    },
    {
      "cell_type": "code",
      "metadata": {
        "colab": {
          "base_uri": "https://localhost:8080/",
          "height": 419
        },
        "id": "TnMCu-FDuI1S",
        "outputId": "02cc9cfc-abdd-4097-d10b-def8ceda3027"
      },
      "source": [
        "dados_3"
      ],
      "execution_count": 59,
      "outputs": [
        {
          "output_type": "execute_result",
          "data": {
            "text/html": [
              "<div>\n",
              "<style scoped>\n",
              "    .dataframe tbody tr th:only-of-type {\n",
              "        vertical-align: middle;\n",
              "    }\n",
              "\n",
              "    .dataframe tbody tr th {\n",
              "        vertical-align: top;\n",
              "    }\n",
              "\n",
              "    .dataframe thead th {\n",
              "        text-align: right;\n",
              "    }\n",
              "</style>\n",
              "<table border=\"1\" class=\"dataframe\">\n",
              "  <thead>\n",
              "    <tr style=\"text-align: right;\">\n",
              "      <th></th>\n",
              "      <th>Tipo</th>\n",
              "      <th>Bairro</th>\n",
              "      <th>Quartos</th>\n",
              "      <th>Vagas</th>\n",
              "      <th>Suites</th>\n",
              "      <th>Area</th>\n",
              "      <th>Valor</th>\n",
              "      <th>Condominio</th>\n",
              "      <th>IPTU</th>\n",
              "      <th>Valor Bruto</th>\n",
              "      <th>Valor m2</th>\n",
              "    </tr>\n",
              "  </thead>\n",
              "  <tbody>\n",
              "    <tr>\n",
              "      <th>0</th>\n",
              "      <td>Quitinete</td>\n",
              "      <td>Copacabana</td>\n",
              "      <td>1</td>\n",
              "      <td>0</td>\n",
              "      <td>0</td>\n",
              "      <td>40</td>\n",
              "      <td>1700.0</td>\n",
              "      <td>500.0</td>\n",
              "      <td>60.0</td>\n",
              "      <td>2260.0</td>\n",
              "      <td>42.500000</td>\n",
              "    </tr>\n",
              "    <tr>\n",
              "      <th>1</th>\n",
              "      <td>Casa</td>\n",
              "      <td>Jardim Botânico</td>\n",
              "      <td>2</td>\n",
              "      <td>0</td>\n",
              "      <td>1</td>\n",
              "      <td>100</td>\n",
              "      <td>7000.0</td>\n",
              "      <td>0.0</td>\n",
              "      <td>0.0</td>\n",
              "      <td>7000.0</td>\n",
              "      <td>70.000000</td>\n",
              "    </tr>\n",
              "    <tr>\n",
              "      <th>2</th>\n",
              "      <td>Apartamento</td>\n",
              "      <td>Centro</td>\n",
              "      <td>1</td>\n",
              "      <td>0</td>\n",
              "      <td>0</td>\n",
              "      <td>15</td>\n",
              "      <td>800.0</td>\n",
              "      <td>390.0</td>\n",
              "      <td>20.0</td>\n",
              "      <td>1210.0</td>\n",
              "      <td>53.333333</td>\n",
              "    </tr>\n",
              "    <tr>\n",
              "      <th>3</th>\n",
              "      <td>Apartamento</td>\n",
              "      <td>Higienópolis</td>\n",
              "      <td>1</td>\n",
              "      <td>0</td>\n",
              "      <td>0</td>\n",
              "      <td>48</td>\n",
              "      <td>800.0</td>\n",
              "      <td>230.0</td>\n",
              "      <td>0.0</td>\n",
              "      <td>1030.0</td>\n",
              "      <td>16.666667</td>\n",
              "    </tr>\n",
              "    <tr>\n",
              "      <th>4</th>\n",
              "      <td>Apartamento</td>\n",
              "      <td>Cachambi</td>\n",
              "      <td>2</td>\n",
              "      <td>0</td>\n",
              "      <td>0</td>\n",
              "      <td>50</td>\n",
              "      <td>1300.0</td>\n",
              "      <td>301.0</td>\n",
              "      <td>17.0</td>\n",
              "      <td>1618.0</td>\n",
              "      <td>26.000000</td>\n",
              "    </tr>\n",
              "    <tr>\n",
              "      <th>...</th>\n",
              "      <td>...</td>\n",
              "      <td>...</td>\n",
              "      <td>...</td>\n",
              "      <td>...</td>\n",
              "      <td>...</td>\n",
              "      <td>...</td>\n",
              "      <td>...</td>\n",
              "      <td>...</td>\n",
              "      <td>...</td>\n",
              "      <td>...</td>\n",
              "      <td>...</td>\n",
              "    </tr>\n",
              "    <tr>\n",
              "      <th>21821</th>\n",
              "      <td>Apartamento</td>\n",
              "      <td>Méier</td>\n",
              "      <td>2</td>\n",
              "      <td>0</td>\n",
              "      <td>0</td>\n",
              "      <td>70</td>\n",
              "      <td>900.0</td>\n",
              "      <td>490.0</td>\n",
              "      <td>48.0</td>\n",
              "      <td>1438.0</td>\n",
              "      <td>12.857143</td>\n",
              "    </tr>\n",
              "    <tr>\n",
              "      <th>21822</th>\n",
              "      <td>Quitinete</td>\n",
              "      <td>Centro</td>\n",
              "      <td>0</td>\n",
              "      <td>0</td>\n",
              "      <td>0</td>\n",
              "      <td>27</td>\n",
              "      <td>800.0</td>\n",
              "      <td>350.0</td>\n",
              "      <td>25.0</td>\n",
              "      <td>1175.0</td>\n",
              "      <td>29.629630</td>\n",
              "    </tr>\n",
              "    <tr>\n",
              "      <th>21823</th>\n",
              "      <td>Apartamento</td>\n",
              "      <td>Jacarepaguá</td>\n",
              "      <td>3</td>\n",
              "      <td>1</td>\n",
              "      <td>2</td>\n",
              "      <td>78</td>\n",
              "      <td>1800.0</td>\n",
              "      <td>800.0</td>\n",
              "      <td>40.0</td>\n",
              "      <td>2640.0</td>\n",
              "      <td>23.076923</td>\n",
              "    </tr>\n",
              "    <tr>\n",
              "      <th>21824</th>\n",
              "      <td>Apartamento</td>\n",
              "      <td>São Francisco Xavier</td>\n",
              "      <td>2</td>\n",
              "      <td>1</td>\n",
              "      <td>0</td>\n",
              "      <td>48</td>\n",
              "      <td>1400.0</td>\n",
              "      <td>509.0</td>\n",
              "      <td>37.0</td>\n",
              "      <td>1946.0</td>\n",
              "      <td>29.166667</td>\n",
              "    </tr>\n",
              "    <tr>\n",
              "      <th>21825</th>\n",
              "      <td>Apartamento</td>\n",
              "      <td>Leblon</td>\n",
              "      <td>2</td>\n",
              "      <td>0</td>\n",
              "      <td>0</td>\n",
              "      <td>70</td>\n",
              "      <td>3000.0</td>\n",
              "      <td>760.0</td>\n",
              "      <td>0.0</td>\n",
              "      <td>3760.0</td>\n",
              "      <td>42.857143</td>\n",
              "    </tr>\n",
              "  </tbody>\n",
              "</table>\n",
              "<p>21826 rows × 11 columns</p>\n",
              "</div>"
            ],
            "text/plain": [
              "              Tipo                Bairro  Quartos  ...  IPTU  Valor Bruto   Valor m2\n",
              "0        Quitinete            Copacabana        1  ...  60.0       2260.0  42.500000\n",
              "1             Casa       Jardim Botânico        2  ...   0.0       7000.0  70.000000\n",
              "2      Apartamento                Centro        1  ...  20.0       1210.0  53.333333\n",
              "3      Apartamento          Higienópolis        1  ...   0.0       1030.0  16.666667\n",
              "4      Apartamento              Cachambi        2  ...  17.0       1618.0  26.000000\n",
              "...            ...                   ...      ...  ...   ...          ...        ...\n",
              "21821  Apartamento                 Méier        2  ...  48.0       1438.0  12.857143\n",
              "21822    Quitinete                Centro        0  ...  25.0       1175.0  29.629630\n",
              "21823  Apartamento           Jacarepaguá        3  ...  40.0       2640.0  23.076923\n",
              "21824  Apartamento  São Francisco Xavier        2  ...  37.0       1946.0  29.166667\n",
              "21825  Apartamento                Leblon        2  ...   0.0       3760.0  42.857143\n",
              "\n",
              "[21826 rows x 11 columns]"
            ]
          },
          "metadata": {
            "tags": []
          },
          "execution_count": 59
        }
      ]
    },
    {
      "cell_type": "code",
      "metadata": {
        "id": "S4R6-NuPuJyt"
      },
      "source": [
        "dados_3['Valor m2'] = dados_3['Valor m2'].round(2)"
      ],
      "execution_count": 60,
      "outputs": []
    },
    {
      "cell_type": "code",
      "metadata": {
        "colab": {
          "base_uri": "https://localhost:8080/",
          "height": 419
        },
        "id": "ovC1pjxautLd",
        "outputId": "b9f07050-2f6d-4e7b-cee0-b443717d3273"
      },
      "source": [
        "dados_3"
      ],
      "execution_count": 61,
      "outputs": [
        {
          "output_type": "execute_result",
          "data": {
            "text/html": [
              "<div>\n",
              "<style scoped>\n",
              "    .dataframe tbody tr th:only-of-type {\n",
              "        vertical-align: middle;\n",
              "    }\n",
              "\n",
              "    .dataframe tbody tr th {\n",
              "        vertical-align: top;\n",
              "    }\n",
              "\n",
              "    .dataframe thead th {\n",
              "        text-align: right;\n",
              "    }\n",
              "</style>\n",
              "<table border=\"1\" class=\"dataframe\">\n",
              "  <thead>\n",
              "    <tr style=\"text-align: right;\">\n",
              "      <th></th>\n",
              "      <th>Tipo</th>\n",
              "      <th>Bairro</th>\n",
              "      <th>Quartos</th>\n",
              "      <th>Vagas</th>\n",
              "      <th>Suites</th>\n",
              "      <th>Area</th>\n",
              "      <th>Valor</th>\n",
              "      <th>Condominio</th>\n",
              "      <th>IPTU</th>\n",
              "      <th>Valor Bruto</th>\n",
              "      <th>Valor m2</th>\n",
              "    </tr>\n",
              "  </thead>\n",
              "  <tbody>\n",
              "    <tr>\n",
              "      <th>0</th>\n",
              "      <td>Quitinete</td>\n",
              "      <td>Copacabana</td>\n",
              "      <td>1</td>\n",
              "      <td>0</td>\n",
              "      <td>0</td>\n",
              "      <td>40</td>\n",
              "      <td>1700.0</td>\n",
              "      <td>500.0</td>\n",
              "      <td>60.0</td>\n",
              "      <td>2260.0</td>\n",
              "      <td>42.50</td>\n",
              "    </tr>\n",
              "    <tr>\n",
              "      <th>1</th>\n",
              "      <td>Casa</td>\n",
              "      <td>Jardim Botânico</td>\n",
              "      <td>2</td>\n",
              "      <td>0</td>\n",
              "      <td>1</td>\n",
              "      <td>100</td>\n",
              "      <td>7000.0</td>\n",
              "      <td>0.0</td>\n",
              "      <td>0.0</td>\n",
              "      <td>7000.0</td>\n",
              "      <td>70.00</td>\n",
              "    </tr>\n",
              "    <tr>\n",
              "      <th>2</th>\n",
              "      <td>Apartamento</td>\n",
              "      <td>Centro</td>\n",
              "      <td>1</td>\n",
              "      <td>0</td>\n",
              "      <td>0</td>\n",
              "      <td>15</td>\n",
              "      <td>800.0</td>\n",
              "      <td>390.0</td>\n",
              "      <td>20.0</td>\n",
              "      <td>1210.0</td>\n",
              "      <td>53.33</td>\n",
              "    </tr>\n",
              "    <tr>\n",
              "      <th>3</th>\n",
              "      <td>Apartamento</td>\n",
              "      <td>Higienópolis</td>\n",
              "      <td>1</td>\n",
              "      <td>0</td>\n",
              "      <td>0</td>\n",
              "      <td>48</td>\n",
              "      <td>800.0</td>\n",
              "      <td>230.0</td>\n",
              "      <td>0.0</td>\n",
              "      <td>1030.0</td>\n",
              "      <td>16.67</td>\n",
              "    </tr>\n",
              "    <tr>\n",
              "      <th>4</th>\n",
              "      <td>Apartamento</td>\n",
              "      <td>Cachambi</td>\n",
              "      <td>2</td>\n",
              "      <td>0</td>\n",
              "      <td>0</td>\n",
              "      <td>50</td>\n",
              "      <td>1300.0</td>\n",
              "      <td>301.0</td>\n",
              "      <td>17.0</td>\n",
              "      <td>1618.0</td>\n",
              "      <td>26.00</td>\n",
              "    </tr>\n",
              "    <tr>\n",
              "      <th>...</th>\n",
              "      <td>...</td>\n",
              "      <td>...</td>\n",
              "      <td>...</td>\n",
              "      <td>...</td>\n",
              "      <td>...</td>\n",
              "      <td>...</td>\n",
              "      <td>...</td>\n",
              "      <td>...</td>\n",
              "      <td>...</td>\n",
              "      <td>...</td>\n",
              "      <td>...</td>\n",
              "    </tr>\n",
              "    <tr>\n",
              "      <th>21821</th>\n",
              "      <td>Apartamento</td>\n",
              "      <td>Méier</td>\n",
              "      <td>2</td>\n",
              "      <td>0</td>\n",
              "      <td>0</td>\n",
              "      <td>70</td>\n",
              "      <td>900.0</td>\n",
              "      <td>490.0</td>\n",
              "      <td>48.0</td>\n",
              "      <td>1438.0</td>\n",
              "      <td>12.86</td>\n",
              "    </tr>\n",
              "    <tr>\n",
              "      <th>21822</th>\n",
              "      <td>Quitinete</td>\n",
              "      <td>Centro</td>\n",
              "      <td>0</td>\n",
              "      <td>0</td>\n",
              "      <td>0</td>\n",
              "      <td>27</td>\n",
              "      <td>800.0</td>\n",
              "      <td>350.0</td>\n",
              "      <td>25.0</td>\n",
              "      <td>1175.0</td>\n",
              "      <td>29.63</td>\n",
              "    </tr>\n",
              "    <tr>\n",
              "      <th>21823</th>\n",
              "      <td>Apartamento</td>\n",
              "      <td>Jacarepaguá</td>\n",
              "      <td>3</td>\n",
              "      <td>1</td>\n",
              "      <td>2</td>\n",
              "      <td>78</td>\n",
              "      <td>1800.0</td>\n",
              "      <td>800.0</td>\n",
              "      <td>40.0</td>\n",
              "      <td>2640.0</td>\n",
              "      <td>23.08</td>\n",
              "    </tr>\n",
              "    <tr>\n",
              "      <th>21824</th>\n",
              "      <td>Apartamento</td>\n",
              "      <td>São Francisco Xavier</td>\n",
              "      <td>2</td>\n",
              "      <td>1</td>\n",
              "      <td>0</td>\n",
              "      <td>48</td>\n",
              "      <td>1400.0</td>\n",
              "      <td>509.0</td>\n",
              "      <td>37.0</td>\n",
              "      <td>1946.0</td>\n",
              "      <td>29.17</td>\n",
              "    </tr>\n",
              "    <tr>\n",
              "      <th>21825</th>\n",
              "      <td>Apartamento</td>\n",
              "      <td>Leblon</td>\n",
              "      <td>2</td>\n",
              "      <td>0</td>\n",
              "      <td>0</td>\n",
              "      <td>70</td>\n",
              "      <td>3000.0</td>\n",
              "      <td>760.0</td>\n",
              "      <td>0.0</td>\n",
              "      <td>3760.0</td>\n",
              "      <td>42.86</td>\n",
              "    </tr>\n",
              "  </tbody>\n",
              "</table>\n",
              "<p>21826 rows × 11 columns</p>\n",
              "</div>"
            ],
            "text/plain": [
              "              Tipo                Bairro  Quartos  ...  IPTU  Valor Bruto  Valor m2\n",
              "0        Quitinete            Copacabana        1  ...  60.0       2260.0     42.50\n",
              "1             Casa       Jardim Botânico        2  ...   0.0       7000.0     70.00\n",
              "2      Apartamento                Centro        1  ...  20.0       1210.0     53.33\n",
              "3      Apartamento          Higienópolis        1  ...   0.0       1030.0     16.67\n",
              "4      Apartamento              Cachambi        2  ...  17.0       1618.0     26.00\n",
              "...            ...                   ...      ...  ...   ...          ...       ...\n",
              "21821  Apartamento                 Méier        2  ...  48.0       1438.0     12.86\n",
              "21822    Quitinete                Centro        0  ...  25.0       1175.0     29.63\n",
              "21823  Apartamento           Jacarepaguá        3  ...  40.0       2640.0     23.08\n",
              "21824  Apartamento  São Francisco Xavier        2  ...  37.0       1946.0     29.17\n",
              "21825  Apartamento                Leblon        2  ...   0.0       3760.0     42.86\n",
              "\n",
              "[21826 rows x 11 columns]"
            ]
          },
          "metadata": {
            "tags": []
          },
          "execution_count": 61
        }
      ]
    },
    {
      "cell_type": "code",
      "metadata": {
        "id": "zlW8VgNyu0Vz"
      },
      "source": [
        "dados_3['Valor Bruto m2'] = (dados_3['Valor Bruto']/dados_3['Area']).round(2)"
      ],
      "execution_count": 62,
      "outputs": []
    },
    {
      "cell_type": "code",
      "metadata": {
        "colab": {
          "base_uri": "https://localhost:8080/",
          "height": 453
        },
        "id": "nydemyc_vKmU",
        "outputId": "996cf3c8-ba97-431a-f251-c9fd26207030"
      },
      "source": [
        "dados_3"
      ],
      "execution_count": 63,
      "outputs": [
        {
          "output_type": "execute_result",
          "data": {
            "text/html": [
              "<div>\n",
              "<style scoped>\n",
              "    .dataframe tbody tr th:only-of-type {\n",
              "        vertical-align: middle;\n",
              "    }\n",
              "\n",
              "    .dataframe tbody tr th {\n",
              "        vertical-align: top;\n",
              "    }\n",
              "\n",
              "    .dataframe thead th {\n",
              "        text-align: right;\n",
              "    }\n",
              "</style>\n",
              "<table border=\"1\" class=\"dataframe\">\n",
              "  <thead>\n",
              "    <tr style=\"text-align: right;\">\n",
              "      <th></th>\n",
              "      <th>Tipo</th>\n",
              "      <th>Bairro</th>\n",
              "      <th>Quartos</th>\n",
              "      <th>Vagas</th>\n",
              "      <th>Suites</th>\n",
              "      <th>Area</th>\n",
              "      <th>Valor</th>\n",
              "      <th>Condominio</th>\n",
              "      <th>IPTU</th>\n",
              "      <th>Valor Bruto</th>\n",
              "      <th>Valor m2</th>\n",
              "      <th>Valor Bruto m2</th>\n",
              "    </tr>\n",
              "  </thead>\n",
              "  <tbody>\n",
              "    <tr>\n",
              "      <th>0</th>\n",
              "      <td>Quitinete</td>\n",
              "      <td>Copacabana</td>\n",
              "      <td>1</td>\n",
              "      <td>0</td>\n",
              "      <td>0</td>\n",
              "      <td>40</td>\n",
              "      <td>1700.0</td>\n",
              "      <td>500.0</td>\n",
              "      <td>60.0</td>\n",
              "      <td>2260.0</td>\n",
              "      <td>42.50</td>\n",
              "      <td>56.50</td>\n",
              "    </tr>\n",
              "    <tr>\n",
              "      <th>1</th>\n",
              "      <td>Casa</td>\n",
              "      <td>Jardim Botânico</td>\n",
              "      <td>2</td>\n",
              "      <td>0</td>\n",
              "      <td>1</td>\n",
              "      <td>100</td>\n",
              "      <td>7000.0</td>\n",
              "      <td>0.0</td>\n",
              "      <td>0.0</td>\n",
              "      <td>7000.0</td>\n",
              "      <td>70.00</td>\n",
              "      <td>70.00</td>\n",
              "    </tr>\n",
              "    <tr>\n",
              "      <th>2</th>\n",
              "      <td>Apartamento</td>\n",
              "      <td>Centro</td>\n",
              "      <td>1</td>\n",
              "      <td>0</td>\n",
              "      <td>0</td>\n",
              "      <td>15</td>\n",
              "      <td>800.0</td>\n",
              "      <td>390.0</td>\n",
              "      <td>20.0</td>\n",
              "      <td>1210.0</td>\n",
              "      <td>53.33</td>\n",
              "      <td>80.67</td>\n",
              "    </tr>\n",
              "    <tr>\n",
              "      <th>3</th>\n",
              "      <td>Apartamento</td>\n",
              "      <td>Higienópolis</td>\n",
              "      <td>1</td>\n",
              "      <td>0</td>\n",
              "      <td>0</td>\n",
              "      <td>48</td>\n",
              "      <td>800.0</td>\n",
              "      <td>230.0</td>\n",
              "      <td>0.0</td>\n",
              "      <td>1030.0</td>\n",
              "      <td>16.67</td>\n",
              "      <td>21.46</td>\n",
              "    </tr>\n",
              "    <tr>\n",
              "      <th>4</th>\n",
              "      <td>Apartamento</td>\n",
              "      <td>Cachambi</td>\n",
              "      <td>2</td>\n",
              "      <td>0</td>\n",
              "      <td>0</td>\n",
              "      <td>50</td>\n",
              "      <td>1300.0</td>\n",
              "      <td>301.0</td>\n",
              "      <td>17.0</td>\n",
              "      <td>1618.0</td>\n",
              "      <td>26.00</td>\n",
              "      <td>32.36</td>\n",
              "    </tr>\n",
              "    <tr>\n",
              "      <th>...</th>\n",
              "      <td>...</td>\n",
              "      <td>...</td>\n",
              "      <td>...</td>\n",
              "      <td>...</td>\n",
              "      <td>...</td>\n",
              "      <td>...</td>\n",
              "      <td>...</td>\n",
              "      <td>...</td>\n",
              "      <td>...</td>\n",
              "      <td>...</td>\n",
              "      <td>...</td>\n",
              "      <td>...</td>\n",
              "    </tr>\n",
              "    <tr>\n",
              "      <th>21821</th>\n",
              "      <td>Apartamento</td>\n",
              "      <td>Méier</td>\n",
              "      <td>2</td>\n",
              "      <td>0</td>\n",
              "      <td>0</td>\n",
              "      <td>70</td>\n",
              "      <td>900.0</td>\n",
              "      <td>490.0</td>\n",
              "      <td>48.0</td>\n",
              "      <td>1438.0</td>\n",
              "      <td>12.86</td>\n",
              "      <td>20.54</td>\n",
              "    </tr>\n",
              "    <tr>\n",
              "      <th>21822</th>\n",
              "      <td>Quitinete</td>\n",
              "      <td>Centro</td>\n",
              "      <td>0</td>\n",
              "      <td>0</td>\n",
              "      <td>0</td>\n",
              "      <td>27</td>\n",
              "      <td>800.0</td>\n",
              "      <td>350.0</td>\n",
              "      <td>25.0</td>\n",
              "      <td>1175.0</td>\n",
              "      <td>29.63</td>\n",
              "      <td>43.52</td>\n",
              "    </tr>\n",
              "    <tr>\n",
              "      <th>21823</th>\n",
              "      <td>Apartamento</td>\n",
              "      <td>Jacarepaguá</td>\n",
              "      <td>3</td>\n",
              "      <td>1</td>\n",
              "      <td>2</td>\n",
              "      <td>78</td>\n",
              "      <td>1800.0</td>\n",
              "      <td>800.0</td>\n",
              "      <td>40.0</td>\n",
              "      <td>2640.0</td>\n",
              "      <td>23.08</td>\n",
              "      <td>33.85</td>\n",
              "    </tr>\n",
              "    <tr>\n",
              "      <th>21824</th>\n",
              "      <td>Apartamento</td>\n",
              "      <td>São Francisco Xavier</td>\n",
              "      <td>2</td>\n",
              "      <td>1</td>\n",
              "      <td>0</td>\n",
              "      <td>48</td>\n",
              "      <td>1400.0</td>\n",
              "      <td>509.0</td>\n",
              "      <td>37.0</td>\n",
              "      <td>1946.0</td>\n",
              "      <td>29.17</td>\n",
              "      <td>40.54</td>\n",
              "    </tr>\n",
              "    <tr>\n",
              "      <th>21825</th>\n",
              "      <td>Apartamento</td>\n",
              "      <td>Leblon</td>\n",
              "      <td>2</td>\n",
              "      <td>0</td>\n",
              "      <td>0</td>\n",
              "      <td>70</td>\n",
              "      <td>3000.0</td>\n",
              "      <td>760.0</td>\n",
              "      <td>0.0</td>\n",
              "      <td>3760.0</td>\n",
              "      <td>42.86</td>\n",
              "      <td>53.71</td>\n",
              "    </tr>\n",
              "  </tbody>\n",
              "</table>\n",
              "<p>21826 rows × 12 columns</p>\n",
              "</div>"
            ],
            "text/plain": [
              "              Tipo                Bairro  ...  Valor m2  Valor Bruto m2\n",
              "0        Quitinete            Copacabana  ...     42.50           56.50\n",
              "1             Casa       Jardim Botânico  ...     70.00           70.00\n",
              "2      Apartamento                Centro  ...     53.33           80.67\n",
              "3      Apartamento          Higienópolis  ...     16.67           21.46\n",
              "4      Apartamento              Cachambi  ...     26.00           32.36\n",
              "...            ...                   ...  ...       ...             ...\n",
              "21821  Apartamento                 Méier  ...     12.86           20.54\n",
              "21822    Quitinete                Centro  ...     29.63           43.52\n",
              "21823  Apartamento           Jacarepaguá  ...     23.08           33.85\n",
              "21824  Apartamento  São Francisco Xavier  ...     29.17           40.54\n",
              "21825  Apartamento                Leblon  ...     42.86           53.71\n",
              "\n",
              "[21826 rows x 12 columns]"
            ]
          },
          "metadata": {
            "tags": []
          },
          "execution_count": 63
        }
      ]
    },
    {
      "cell_type": "code",
      "metadata": {
        "id": "VK_TD0rfvLuA"
      },
      "source": [
        "casa = ['Casa', 'Casa de Condomínio', 'Casa de Vila']"
      ],
      "execution_count": 64,
      "outputs": []
    },
    {
      "cell_type": "code",
      "metadata": {
        "id": "D3h8EKF_vyeI"
      },
      "source": [
        "dados_3['Tipo Agregado'] = dados_3['Tipo'].apply(lambda x: 'Casa' if x in casa else 'Apartamento')"
      ],
      "execution_count": 65,
      "outputs": []
    },
    {
      "cell_type": "code",
      "metadata": {
        "colab": {
          "base_uri": "https://localhost:8080/",
          "height": 650
        },
        "id": "oPVZhh1Pwr5g",
        "outputId": "6a8c1c64-ede6-446f-babb-55d7d4ebf62f"
      },
      "source": [
        "dados_3.head(15)"
      ],
      "execution_count": 66,
      "outputs": [
        {
          "output_type": "execute_result",
          "data": {
            "text/html": [
              "<div>\n",
              "<style scoped>\n",
              "    .dataframe tbody tr th:only-of-type {\n",
              "        vertical-align: middle;\n",
              "    }\n",
              "\n",
              "    .dataframe tbody tr th {\n",
              "        vertical-align: top;\n",
              "    }\n",
              "\n",
              "    .dataframe thead th {\n",
              "        text-align: right;\n",
              "    }\n",
              "</style>\n",
              "<table border=\"1\" class=\"dataframe\">\n",
              "  <thead>\n",
              "    <tr style=\"text-align: right;\">\n",
              "      <th></th>\n",
              "      <th>Tipo</th>\n",
              "      <th>Bairro</th>\n",
              "      <th>Quartos</th>\n",
              "      <th>Vagas</th>\n",
              "      <th>Suites</th>\n",
              "      <th>Area</th>\n",
              "      <th>Valor</th>\n",
              "      <th>Condominio</th>\n",
              "      <th>IPTU</th>\n",
              "      <th>Valor Bruto</th>\n",
              "      <th>Valor m2</th>\n",
              "      <th>Valor Bruto m2</th>\n",
              "      <th>Tipo Agregado</th>\n",
              "    </tr>\n",
              "  </thead>\n",
              "  <tbody>\n",
              "    <tr>\n",
              "      <th>0</th>\n",
              "      <td>Quitinete</td>\n",
              "      <td>Copacabana</td>\n",
              "      <td>1</td>\n",
              "      <td>0</td>\n",
              "      <td>0</td>\n",
              "      <td>40</td>\n",
              "      <td>1700.0</td>\n",
              "      <td>500.0</td>\n",
              "      <td>60.0</td>\n",
              "      <td>2260.0</td>\n",
              "      <td>42.50</td>\n",
              "      <td>56.50</td>\n",
              "      <td>Apartamento</td>\n",
              "    </tr>\n",
              "    <tr>\n",
              "      <th>1</th>\n",
              "      <td>Casa</td>\n",
              "      <td>Jardim Botânico</td>\n",
              "      <td>2</td>\n",
              "      <td>0</td>\n",
              "      <td>1</td>\n",
              "      <td>100</td>\n",
              "      <td>7000.0</td>\n",
              "      <td>0.0</td>\n",
              "      <td>0.0</td>\n",
              "      <td>7000.0</td>\n",
              "      <td>70.00</td>\n",
              "      <td>70.00</td>\n",
              "      <td>Casa</td>\n",
              "    </tr>\n",
              "    <tr>\n",
              "      <th>2</th>\n",
              "      <td>Apartamento</td>\n",
              "      <td>Centro</td>\n",
              "      <td>1</td>\n",
              "      <td>0</td>\n",
              "      <td>0</td>\n",
              "      <td>15</td>\n",
              "      <td>800.0</td>\n",
              "      <td>390.0</td>\n",
              "      <td>20.0</td>\n",
              "      <td>1210.0</td>\n",
              "      <td>53.33</td>\n",
              "      <td>80.67</td>\n",
              "      <td>Apartamento</td>\n",
              "    </tr>\n",
              "    <tr>\n",
              "      <th>3</th>\n",
              "      <td>Apartamento</td>\n",
              "      <td>Higienópolis</td>\n",
              "      <td>1</td>\n",
              "      <td>0</td>\n",
              "      <td>0</td>\n",
              "      <td>48</td>\n",
              "      <td>800.0</td>\n",
              "      <td>230.0</td>\n",
              "      <td>0.0</td>\n",
              "      <td>1030.0</td>\n",
              "      <td>16.67</td>\n",
              "      <td>21.46</td>\n",
              "      <td>Apartamento</td>\n",
              "    </tr>\n",
              "    <tr>\n",
              "      <th>4</th>\n",
              "      <td>Apartamento</td>\n",
              "      <td>Cachambi</td>\n",
              "      <td>2</td>\n",
              "      <td>0</td>\n",
              "      <td>0</td>\n",
              "      <td>50</td>\n",
              "      <td>1300.0</td>\n",
              "      <td>301.0</td>\n",
              "      <td>17.0</td>\n",
              "      <td>1618.0</td>\n",
              "      <td>26.00</td>\n",
              "      <td>32.36</td>\n",
              "      <td>Apartamento</td>\n",
              "    </tr>\n",
              "    <tr>\n",
              "      <th>5</th>\n",
              "      <td>Casa de Condomínio</td>\n",
              "      <td>Barra da Tijuca</td>\n",
              "      <td>5</td>\n",
              "      <td>4</td>\n",
              "      <td>5</td>\n",
              "      <td>750</td>\n",
              "      <td>22000.0</td>\n",
              "      <td>0.0</td>\n",
              "      <td>0.0</td>\n",
              "      <td>22000.0</td>\n",
              "      <td>29.33</td>\n",
              "      <td>29.33</td>\n",
              "      <td>Casa</td>\n",
              "    </tr>\n",
              "    <tr>\n",
              "      <th>6</th>\n",
              "      <td>Casa de Condomínio</td>\n",
              "      <td>Ramos</td>\n",
              "      <td>2</td>\n",
              "      <td>2</td>\n",
              "      <td>0</td>\n",
              "      <td>65</td>\n",
              "      <td>1000.0</td>\n",
              "      <td>0.0</td>\n",
              "      <td>0.0</td>\n",
              "      <td>1000.0</td>\n",
              "      <td>15.38</td>\n",
              "      <td>15.38</td>\n",
              "      <td>Casa</td>\n",
              "    </tr>\n",
              "    <tr>\n",
              "      <th>7</th>\n",
              "      <td>Apartamento</td>\n",
              "      <td>Grajaú</td>\n",
              "      <td>2</td>\n",
              "      <td>1</td>\n",
              "      <td>0</td>\n",
              "      <td>70</td>\n",
              "      <td>1500.0</td>\n",
              "      <td>642.0</td>\n",
              "      <td>74.0</td>\n",
              "      <td>2216.0</td>\n",
              "      <td>21.43</td>\n",
              "      <td>31.66</td>\n",
              "      <td>Apartamento</td>\n",
              "    </tr>\n",
              "    <tr>\n",
              "      <th>8</th>\n",
              "      <td>Apartamento</td>\n",
              "      <td>Lins de Vasconcelos</td>\n",
              "      <td>3</td>\n",
              "      <td>1</td>\n",
              "      <td>1</td>\n",
              "      <td>90</td>\n",
              "      <td>1500.0</td>\n",
              "      <td>455.0</td>\n",
              "      <td>14.0</td>\n",
              "      <td>1969.0</td>\n",
              "      <td>16.67</td>\n",
              "      <td>21.88</td>\n",
              "      <td>Apartamento</td>\n",
              "    </tr>\n",
              "    <tr>\n",
              "      <th>9</th>\n",
              "      <td>Apartamento</td>\n",
              "      <td>Copacabana</td>\n",
              "      <td>1</td>\n",
              "      <td>0</td>\n",
              "      <td>1</td>\n",
              "      <td>40</td>\n",
              "      <td>2000.0</td>\n",
              "      <td>561.0</td>\n",
              "      <td>50.0</td>\n",
              "      <td>2611.0</td>\n",
              "      <td>50.00</td>\n",
              "      <td>65.28</td>\n",
              "      <td>Apartamento</td>\n",
              "    </tr>\n",
              "    <tr>\n",
              "      <th>10</th>\n",
              "      <td>Quitinete</td>\n",
              "      <td>Copacabana</td>\n",
              "      <td>1</td>\n",
              "      <td>0</td>\n",
              "      <td>0</td>\n",
              "      <td>27</td>\n",
              "      <td>1800.0</td>\n",
              "      <td>501.0</td>\n",
              "      <td>0.0</td>\n",
              "      <td>2301.0</td>\n",
              "      <td>66.67</td>\n",
              "      <td>85.22</td>\n",
              "      <td>Apartamento</td>\n",
              "    </tr>\n",
              "    <tr>\n",
              "      <th>11</th>\n",
              "      <td>Apartamento</td>\n",
              "      <td>Copacabana</td>\n",
              "      <td>4</td>\n",
              "      <td>3</td>\n",
              "      <td>1</td>\n",
              "      <td>243</td>\n",
              "      <td>13000.0</td>\n",
              "      <td>2000.0</td>\n",
              "      <td>803.0</td>\n",
              "      <td>15803.0</td>\n",
              "      <td>53.50</td>\n",
              "      <td>65.03</td>\n",
              "      <td>Apartamento</td>\n",
              "    </tr>\n",
              "    <tr>\n",
              "      <th>12</th>\n",
              "      <td>Casa de Condomínio</td>\n",
              "      <td>Taquara</td>\n",
              "      <td>3</td>\n",
              "      <td>1</td>\n",
              "      <td>1</td>\n",
              "      <td>115</td>\n",
              "      <td>2000.0</td>\n",
              "      <td>0.0</td>\n",
              "      <td>0.0</td>\n",
              "      <td>2000.0</td>\n",
              "      <td>17.39</td>\n",
              "      <td>17.39</td>\n",
              "      <td>Casa</td>\n",
              "    </tr>\n",
              "    <tr>\n",
              "      <th>13</th>\n",
              "      <td>Apartamento</td>\n",
              "      <td>Freguesia (Jacarepaguá)</td>\n",
              "      <td>3</td>\n",
              "      <td>0</td>\n",
              "      <td>0</td>\n",
              "      <td>54</td>\n",
              "      <td>950.0</td>\n",
              "      <td>300.0</td>\n",
              "      <td>28.0</td>\n",
              "      <td>1278.0</td>\n",
              "      <td>17.59</td>\n",
              "      <td>23.67</td>\n",
              "      <td>Apartamento</td>\n",
              "    </tr>\n",
              "    <tr>\n",
              "      <th>14</th>\n",
              "      <td>Apartamento</td>\n",
              "      <td>Barra da Tijuca</td>\n",
              "      <td>2</td>\n",
              "      <td>1</td>\n",
              "      <td>1</td>\n",
              "      <td>67</td>\n",
              "      <td>1700.0</td>\n",
              "      <td>589.0</td>\n",
              "      <td>147.0</td>\n",
              "      <td>2436.0</td>\n",
              "      <td>25.37</td>\n",
              "      <td>36.36</td>\n",
              "      <td>Apartamento</td>\n",
              "    </tr>\n",
              "  </tbody>\n",
              "</table>\n",
              "</div>"
            ],
            "text/plain": [
              "                  Tipo                   Bairro  ...  Valor Bruto m2  Tipo Agregado\n",
              "0            Quitinete               Copacabana  ...           56.50    Apartamento\n",
              "1                 Casa          Jardim Botânico  ...           70.00           Casa\n",
              "2          Apartamento                   Centro  ...           80.67    Apartamento\n",
              "3          Apartamento             Higienópolis  ...           21.46    Apartamento\n",
              "4          Apartamento                 Cachambi  ...           32.36    Apartamento\n",
              "5   Casa de Condomínio          Barra da Tijuca  ...           29.33           Casa\n",
              "6   Casa de Condomínio                    Ramos  ...           15.38           Casa\n",
              "7          Apartamento                   Grajaú  ...           31.66    Apartamento\n",
              "8          Apartamento      Lins de Vasconcelos  ...           21.88    Apartamento\n",
              "9          Apartamento               Copacabana  ...           65.28    Apartamento\n",
              "10           Quitinete               Copacabana  ...           85.22    Apartamento\n",
              "11         Apartamento               Copacabana  ...           65.03    Apartamento\n",
              "12  Casa de Condomínio                  Taquara  ...           17.39           Casa\n",
              "13         Apartamento  Freguesia (Jacarepaguá)  ...           23.67    Apartamento\n",
              "14         Apartamento          Barra da Tijuca  ...           36.36    Apartamento\n",
              "\n",
              "[15 rows x 13 columns]"
            ]
          },
          "metadata": {
            "tags": []
          },
          "execution_count": 66
        }
      ]
    },
    {
      "cell_type": "markdown",
      "metadata": {
        "id": "Hum85DU_xuKy"
      },
      "source": [
        "##Excluir variáveis"
      ]
    },
    {
      "cell_type": "code",
      "metadata": {
        "colab": {
          "base_uri": "https://localhost:8080/",
          "height": 359
        },
        "id": "QhToLv2lwtIj",
        "outputId": "1ac87cb2-d5d1-4212-f20a-58d744e8ea32"
      },
      "source": [
        "dados_aux = pd.DataFrame(dados_3[['Tipo Agregado', 'Valor m2', 'Valor Bruto', 'Valor Bruto m2' ]])\n",
        "dados_aux.head(10)"
      ],
      "execution_count": 67,
      "outputs": [
        {
          "output_type": "execute_result",
          "data": {
            "text/html": [
              "<div>\n",
              "<style scoped>\n",
              "    .dataframe tbody tr th:only-of-type {\n",
              "        vertical-align: middle;\n",
              "    }\n",
              "\n",
              "    .dataframe tbody tr th {\n",
              "        vertical-align: top;\n",
              "    }\n",
              "\n",
              "    .dataframe thead th {\n",
              "        text-align: right;\n",
              "    }\n",
              "</style>\n",
              "<table border=\"1\" class=\"dataframe\">\n",
              "  <thead>\n",
              "    <tr style=\"text-align: right;\">\n",
              "      <th></th>\n",
              "      <th>Tipo Agregado</th>\n",
              "      <th>Valor m2</th>\n",
              "      <th>Valor Bruto</th>\n",
              "      <th>Valor Bruto m2</th>\n",
              "    </tr>\n",
              "  </thead>\n",
              "  <tbody>\n",
              "    <tr>\n",
              "      <th>0</th>\n",
              "      <td>Apartamento</td>\n",
              "      <td>42.50</td>\n",
              "      <td>2260.0</td>\n",
              "      <td>56.50</td>\n",
              "    </tr>\n",
              "    <tr>\n",
              "      <th>1</th>\n",
              "      <td>Casa</td>\n",
              "      <td>70.00</td>\n",
              "      <td>7000.0</td>\n",
              "      <td>70.00</td>\n",
              "    </tr>\n",
              "    <tr>\n",
              "      <th>2</th>\n",
              "      <td>Apartamento</td>\n",
              "      <td>53.33</td>\n",
              "      <td>1210.0</td>\n",
              "      <td>80.67</td>\n",
              "    </tr>\n",
              "    <tr>\n",
              "      <th>3</th>\n",
              "      <td>Apartamento</td>\n",
              "      <td>16.67</td>\n",
              "      <td>1030.0</td>\n",
              "      <td>21.46</td>\n",
              "    </tr>\n",
              "    <tr>\n",
              "      <th>4</th>\n",
              "      <td>Apartamento</td>\n",
              "      <td>26.00</td>\n",
              "      <td>1618.0</td>\n",
              "      <td>32.36</td>\n",
              "    </tr>\n",
              "    <tr>\n",
              "      <th>5</th>\n",
              "      <td>Casa</td>\n",
              "      <td>29.33</td>\n",
              "      <td>22000.0</td>\n",
              "      <td>29.33</td>\n",
              "    </tr>\n",
              "    <tr>\n",
              "      <th>6</th>\n",
              "      <td>Casa</td>\n",
              "      <td>15.38</td>\n",
              "      <td>1000.0</td>\n",
              "      <td>15.38</td>\n",
              "    </tr>\n",
              "    <tr>\n",
              "      <th>7</th>\n",
              "      <td>Apartamento</td>\n",
              "      <td>21.43</td>\n",
              "      <td>2216.0</td>\n",
              "      <td>31.66</td>\n",
              "    </tr>\n",
              "    <tr>\n",
              "      <th>8</th>\n",
              "      <td>Apartamento</td>\n",
              "      <td>16.67</td>\n",
              "      <td>1969.0</td>\n",
              "      <td>21.88</td>\n",
              "    </tr>\n",
              "    <tr>\n",
              "      <th>9</th>\n",
              "      <td>Apartamento</td>\n",
              "      <td>50.00</td>\n",
              "      <td>2611.0</td>\n",
              "      <td>65.28</td>\n",
              "    </tr>\n",
              "  </tbody>\n",
              "</table>\n",
              "</div>"
            ],
            "text/plain": [
              "  Tipo Agregado  Valor m2  Valor Bruto  Valor Bruto m2\n",
              "0   Apartamento     42.50       2260.0           56.50\n",
              "1          Casa     70.00       7000.0           70.00\n",
              "2   Apartamento     53.33       1210.0           80.67\n",
              "3   Apartamento     16.67       1030.0           21.46\n",
              "4   Apartamento     26.00       1618.0           32.36\n",
              "5          Casa     29.33      22000.0           29.33\n",
              "6          Casa     15.38       1000.0           15.38\n",
              "7   Apartamento     21.43       2216.0           31.66\n",
              "8   Apartamento     16.67       1969.0           21.88\n",
              "9   Apartamento     50.00       2611.0           65.28"
            ]
          },
          "metadata": {
            "tags": []
          },
          "execution_count": 67
        }
      ]
    },
    {
      "cell_type": "code",
      "metadata": {
        "colab": {
          "base_uri": "https://localhost:8080/",
          "height": 419
        },
        "id": "LKLZTeWlyJ2V",
        "outputId": "0962f434-4f62-4d8d-9ad7-bcb6d04996d4"
      },
      "source": [
        "del dados_aux['Valor Bruto']\n",
        "dados_aux"
      ],
      "execution_count": 68,
      "outputs": [
        {
          "output_type": "execute_result",
          "data": {
            "text/html": [
              "<div>\n",
              "<style scoped>\n",
              "    .dataframe tbody tr th:only-of-type {\n",
              "        vertical-align: middle;\n",
              "    }\n",
              "\n",
              "    .dataframe tbody tr th {\n",
              "        vertical-align: top;\n",
              "    }\n",
              "\n",
              "    .dataframe thead th {\n",
              "        text-align: right;\n",
              "    }\n",
              "</style>\n",
              "<table border=\"1\" class=\"dataframe\">\n",
              "  <thead>\n",
              "    <tr style=\"text-align: right;\">\n",
              "      <th></th>\n",
              "      <th>Tipo Agregado</th>\n",
              "      <th>Valor m2</th>\n",
              "      <th>Valor Bruto m2</th>\n",
              "    </tr>\n",
              "  </thead>\n",
              "  <tbody>\n",
              "    <tr>\n",
              "      <th>0</th>\n",
              "      <td>Apartamento</td>\n",
              "      <td>42.50</td>\n",
              "      <td>56.50</td>\n",
              "    </tr>\n",
              "    <tr>\n",
              "      <th>1</th>\n",
              "      <td>Casa</td>\n",
              "      <td>70.00</td>\n",
              "      <td>70.00</td>\n",
              "    </tr>\n",
              "    <tr>\n",
              "      <th>2</th>\n",
              "      <td>Apartamento</td>\n",
              "      <td>53.33</td>\n",
              "      <td>80.67</td>\n",
              "    </tr>\n",
              "    <tr>\n",
              "      <th>3</th>\n",
              "      <td>Apartamento</td>\n",
              "      <td>16.67</td>\n",
              "      <td>21.46</td>\n",
              "    </tr>\n",
              "    <tr>\n",
              "      <th>4</th>\n",
              "      <td>Apartamento</td>\n",
              "      <td>26.00</td>\n",
              "      <td>32.36</td>\n",
              "    </tr>\n",
              "    <tr>\n",
              "      <th>...</th>\n",
              "      <td>...</td>\n",
              "      <td>...</td>\n",
              "      <td>...</td>\n",
              "    </tr>\n",
              "    <tr>\n",
              "      <th>21821</th>\n",
              "      <td>Apartamento</td>\n",
              "      <td>12.86</td>\n",
              "      <td>20.54</td>\n",
              "    </tr>\n",
              "    <tr>\n",
              "      <th>21822</th>\n",
              "      <td>Apartamento</td>\n",
              "      <td>29.63</td>\n",
              "      <td>43.52</td>\n",
              "    </tr>\n",
              "    <tr>\n",
              "      <th>21823</th>\n",
              "      <td>Apartamento</td>\n",
              "      <td>23.08</td>\n",
              "      <td>33.85</td>\n",
              "    </tr>\n",
              "    <tr>\n",
              "      <th>21824</th>\n",
              "      <td>Apartamento</td>\n",
              "      <td>29.17</td>\n",
              "      <td>40.54</td>\n",
              "    </tr>\n",
              "    <tr>\n",
              "      <th>21825</th>\n",
              "      <td>Apartamento</td>\n",
              "      <td>42.86</td>\n",
              "      <td>53.71</td>\n",
              "    </tr>\n",
              "  </tbody>\n",
              "</table>\n",
              "<p>21826 rows × 3 columns</p>\n",
              "</div>"
            ],
            "text/plain": [
              "      Tipo Agregado  Valor m2  Valor Bruto m2\n",
              "0       Apartamento     42.50           56.50\n",
              "1              Casa     70.00           70.00\n",
              "2       Apartamento     53.33           80.67\n",
              "3       Apartamento     16.67           21.46\n",
              "4       Apartamento     26.00           32.36\n",
              "...             ...       ...             ...\n",
              "21821   Apartamento     12.86           20.54\n",
              "21822   Apartamento     29.63           43.52\n",
              "21823   Apartamento     23.08           33.85\n",
              "21824   Apartamento     29.17           40.54\n",
              "21825   Apartamento     42.86           53.71\n",
              "\n",
              "[21826 rows x 3 columns]"
            ]
          },
          "metadata": {
            "tags": []
          },
          "execution_count": 68
        }
      ]
    },
    {
      "cell_type": "code",
      "metadata": {
        "colab": {
          "base_uri": "https://localhost:8080/"
        },
        "id": "XCCwLDYJyR1L",
        "outputId": "31390048-d6ff-4b08-9b96-9a84041ee2d1"
      },
      "source": [
        "dados_aux.pop('Valor Bruto m2')"
      ],
      "execution_count": 69,
      "outputs": [
        {
          "output_type": "execute_result",
          "data": {
            "text/plain": [
              "0        56.50\n",
              "1        70.00\n",
              "2        80.67\n",
              "3        21.46\n",
              "4        32.36\n",
              "         ...  \n",
              "21821    20.54\n",
              "21822    43.52\n",
              "21823    33.85\n",
              "21824    40.54\n",
              "21825    53.71\n",
              "Name: Valor Bruto m2, Length: 21826, dtype: float64"
            ]
          },
          "metadata": {
            "tags": []
          },
          "execution_count": 69
        }
      ]
    },
    {
      "cell_type": "code",
      "metadata": {
        "colab": {
          "base_uri": "https://localhost:8080/",
          "height": 419
        },
        "id": "__lmVK13ybSU",
        "outputId": "40bd3af5-dce3-4d0c-d886-0002cb7e0a7f"
      },
      "source": [
        "dados_aux"
      ],
      "execution_count": 70,
      "outputs": [
        {
          "output_type": "execute_result",
          "data": {
            "text/html": [
              "<div>\n",
              "<style scoped>\n",
              "    .dataframe tbody tr th:only-of-type {\n",
              "        vertical-align: middle;\n",
              "    }\n",
              "\n",
              "    .dataframe tbody tr th {\n",
              "        vertical-align: top;\n",
              "    }\n",
              "\n",
              "    .dataframe thead th {\n",
              "        text-align: right;\n",
              "    }\n",
              "</style>\n",
              "<table border=\"1\" class=\"dataframe\">\n",
              "  <thead>\n",
              "    <tr style=\"text-align: right;\">\n",
              "      <th></th>\n",
              "      <th>Tipo Agregado</th>\n",
              "      <th>Valor m2</th>\n",
              "    </tr>\n",
              "  </thead>\n",
              "  <tbody>\n",
              "    <tr>\n",
              "      <th>0</th>\n",
              "      <td>Apartamento</td>\n",
              "      <td>42.50</td>\n",
              "    </tr>\n",
              "    <tr>\n",
              "      <th>1</th>\n",
              "      <td>Casa</td>\n",
              "      <td>70.00</td>\n",
              "    </tr>\n",
              "    <tr>\n",
              "      <th>2</th>\n",
              "      <td>Apartamento</td>\n",
              "      <td>53.33</td>\n",
              "    </tr>\n",
              "    <tr>\n",
              "      <th>3</th>\n",
              "      <td>Apartamento</td>\n",
              "      <td>16.67</td>\n",
              "    </tr>\n",
              "    <tr>\n",
              "      <th>4</th>\n",
              "      <td>Apartamento</td>\n",
              "      <td>26.00</td>\n",
              "    </tr>\n",
              "    <tr>\n",
              "      <th>...</th>\n",
              "      <td>...</td>\n",
              "      <td>...</td>\n",
              "    </tr>\n",
              "    <tr>\n",
              "      <th>21821</th>\n",
              "      <td>Apartamento</td>\n",
              "      <td>12.86</td>\n",
              "    </tr>\n",
              "    <tr>\n",
              "      <th>21822</th>\n",
              "      <td>Apartamento</td>\n",
              "      <td>29.63</td>\n",
              "    </tr>\n",
              "    <tr>\n",
              "      <th>21823</th>\n",
              "      <td>Apartamento</td>\n",
              "      <td>23.08</td>\n",
              "    </tr>\n",
              "    <tr>\n",
              "      <th>21824</th>\n",
              "      <td>Apartamento</td>\n",
              "      <td>29.17</td>\n",
              "    </tr>\n",
              "    <tr>\n",
              "      <th>21825</th>\n",
              "      <td>Apartamento</td>\n",
              "      <td>42.86</td>\n",
              "    </tr>\n",
              "  </tbody>\n",
              "</table>\n",
              "<p>21826 rows × 2 columns</p>\n",
              "</div>"
            ],
            "text/plain": [
              "      Tipo Agregado  Valor m2\n",
              "0       Apartamento     42.50\n",
              "1              Casa     70.00\n",
              "2       Apartamento     53.33\n",
              "3       Apartamento     16.67\n",
              "4       Apartamento     26.00\n",
              "...             ...       ...\n",
              "21821   Apartamento     12.86\n",
              "21822   Apartamento     29.63\n",
              "21823   Apartamento     23.08\n",
              "21824   Apartamento     29.17\n",
              "21825   Apartamento     42.86\n",
              "\n",
              "[21826 rows x 2 columns]"
            ]
          },
          "metadata": {
            "tags": []
          },
          "execution_count": 70
        }
      ]
    },
    {
      "cell_type": "code",
      "metadata": {
        "id": "CFZUR1oHygO7"
      },
      "source": [
        "dados_3.drop(['Valor Bruto', 'Valor Bruto m2'], axis=1, inplace=True)"
      ],
      "execution_count": 71,
      "outputs": []
    },
    {
      "cell_type": "code",
      "metadata": {
        "colab": {
          "base_uri": "https://localhost:8080/",
          "height": 419
        },
        "id": "IQgKoN4jysk6",
        "outputId": "ccb3ed9e-b240-44fd-9b9a-35bd5d446e56"
      },
      "source": [
        "dados_3"
      ],
      "execution_count": 72,
      "outputs": [
        {
          "output_type": "execute_result",
          "data": {
            "text/html": [
              "<div>\n",
              "<style scoped>\n",
              "    .dataframe tbody tr th:only-of-type {\n",
              "        vertical-align: middle;\n",
              "    }\n",
              "\n",
              "    .dataframe tbody tr th {\n",
              "        vertical-align: top;\n",
              "    }\n",
              "\n",
              "    .dataframe thead th {\n",
              "        text-align: right;\n",
              "    }\n",
              "</style>\n",
              "<table border=\"1\" class=\"dataframe\">\n",
              "  <thead>\n",
              "    <tr style=\"text-align: right;\">\n",
              "      <th></th>\n",
              "      <th>Tipo</th>\n",
              "      <th>Bairro</th>\n",
              "      <th>Quartos</th>\n",
              "      <th>Vagas</th>\n",
              "      <th>Suites</th>\n",
              "      <th>Area</th>\n",
              "      <th>Valor</th>\n",
              "      <th>Condominio</th>\n",
              "      <th>IPTU</th>\n",
              "      <th>Valor m2</th>\n",
              "      <th>Tipo Agregado</th>\n",
              "    </tr>\n",
              "  </thead>\n",
              "  <tbody>\n",
              "    <tr>\n",
              "      <th>0</th>\n",
              "      <td>Quitinete</td>\n",
              "      <td>Copacabana</td>\n",
              "      <td>1</td>\n",
              "      <td>0</td>\n",
              "      <td>0</td>\n",
              "      <td>40</td>\n",
              "      <td>1700.0</td>\n",
              "      <td>500.0</td>\n",
              "      <td>60.0</td>\n",
              "      <td>42.50</td>\n",
              "      <td>Apartamento</td>\n",
              "    </tr>\n",
              "    <tr>\n",
              "      <th>1</th>\n",
              "      <td>Casa</td>\n",
              "      <td>Jardim Botânico</td>\n",
              "      <td>2</td>\n",
              "      <td>0</td>\n",
              "      <td>1</td>\n",
              "      <td>100</td>\n",
              "      <td>7000.0</td>\n",
              "      <td>0.0</td>\n",
              "      <td>0.0</td>\n",
              "      <td>70.00</td>\n",
              "      <td>Casa</td>\n",
              "    </tr>\n",
              "    <tr>\n",
              "      <th>2</th>\n",
              "      <td>Apartamento</td>\n",
              "      <td>Centro</td>\n",
              "      <td>1</td>\n",
              "      <td>0</td>\n",
              "      <td>0</td>\n",
              "      <td>15</td>\n",
              "      <td>800.0</td>\n",
              "      <td>390.0</td>\n",
              "      <td>20.0</td>\n",
              "      <td>53.33</td>\n",
              "      <td>Apartamento</td>\n",
              "    </tr>\n",
              "    <tr>\n",
              "      <th>3</th>\n",
              "      <td>Apartamento</td>\n",
              "      <td>Higienópolis</td>\n",
              "      <td>1</td>\n",
              "      <td>0</td>\n",
              "      <td>0</td>\n",
              "      <td>48</td>\n",
              "      <td>800.0</td>\n",
              "      <td>230.0</td>\n",
              "      <td>0.0</td>\n",
              "      <td>16.67</td>\n",
              "      <td>Apartamento</td>\n",
              "    </tr>\n",
              "    <tr>\n",
              "      <th>4</th>\n",
              "      <td>Apartamento</td>\n",
              "      <td>Cachambi</td>\n",
              "      <td>2</td>\n",
              "      <td>0</td>\n",
              "      <td>0</td>\n",
              "      <td>50</td>\n",
              "      <td>1300.0</td>\n",
              "      <td>301.0</td>\n",
              "      <td>17.0</td>\n",
              "      <td>26.00</td>\n",
              "      <td>Apartamento</td>\n",
              "    </tr>\n",
              "    <tr>\n",
              "      <th>...</th>\n",
              "      <td>...</td>\n",
              "      <td>...</td>\n",
              "      <td>...</td>\n",
              "      <td>...</td>\n",
              "      <td>...</td>\n",
              "      <td>...</td>\n",
              "      <td>...</td>\n",
              "      <td>...</td>\n",
              "      <td>...</td>\n",
              "      <td>...</td>\n",
              "      <td>...</td>\n",
              "    </tr>\n",
              "    <tr>\n",
              "      <th>21821</th>\n",
              "      <td>Apartamento</td>\n",
              "      <td>Méier</td>\n",
              "      <td>2</td>\n",
              "      <td>0</td>\n",
              "      <td>0</td>\n",
              "      <td>70</td>\n",
              "      <td>900.0</td>\n",
              "      <td>490.0</td>\n",
              "      <td>48.0</td>\n",
              "      <td>12.86</td>\n",
              "      <td>Apartamento</td>\n",
              "    </tr>\n",
              "    <tr>\n",
              "      <th>21822</th>\n",
              "      <td>Quitinete</td>\n",
              "      <td>Centro</td>\n",
              "      <td>0</td>\n",
              "      <td>0</td>\n",
              "      <td>0</td>\n",
              "      <td>27</td>\n",
              "      <td>800.0</td>\n",
              "      <td>350.0</td>\n",
              "      <td>25.0</td>\n",
              "      <td>29.63</td>\n",
              "      <td>Apartamento</td>\n",
              "    </tr>\n",
              "    <tr>\n",
              "      <th>21823</th>\n",
              "      <td>Apartamento</td>\n",
              "      <td>Jacarepaguá</td>\n",
              "      <td>3</td>\n",
              "      <td>1</td>\n",
              "      <td>2</td>\n",
              "      <td>78</td>\n",
              "      <td>1800.0</td>\n",
              "      <td>800.0</td>\n",
              "      <td>40.0</td>\n",
              "      <td>23.08</td>\n",
              "      <td>Apartamento</td>\n",
              "    </tr>\n",
              "    <tr>\n",
              "      <th>21824</th>\n",
              "      <td>Apartamento</td>\n",
              "      <td>São Francisco Xavier</td>\n",
              "      <td>2</td>\n",
              "      <td>1</td>\n",
              "      <td>0</td>\n",
              "      <td>48</td>\n",
              "      <td>1400.0</td>\n",
              "      <td>509.0</td>\n",
              "      <td>37.0</td>\n",
              "      <td>29.17</td>\n",
              "      <td>Apartamento</td>\n",
              "    </tr>\n",
              "    <tr>\n",
              "      <th>21825</th>\n",
              "      <td>Apartamento</td>\n",
              "      <td>Leblon</td>\n",
              "      <td>2</td>\n",
              "      <td>0</td>\n",
              "      <td>0</td>\n",
              "      <td>70</td>\n",
              "      <td>3000.0</td>\n",
              "      <td>760.0</td>\n",
              "      <td>0.0</td>\n",
              "      <td>42.86</td>\n",
              "      <td>Apartamento</td>\n",
              "    </tr>\n",
              "  </tbody>\n",
              "</table>\n",
              "<p>21826 rows × 11 columns</p>\n",
              "</div>"
            ],
            "text/plain": [
              "              Tipo                Bairro  Quartos  ...  IPTU  Valor m2  Tipo Agregado\n",
              "0        Quitinete            Copacabana        1  ...  60.0     42.50    Apartamento\n",
              "1             Casa       Jardim Botânico        2  ...   0.0     70.00           Casa\n",
              "2      Apartamento                Centro        1  ...  20.0     53.33    Apartamento\n",
              "3      Apartamento          Higienópolis        1  ...   0.0     16.67    Apartamento\n",
              "4      Apartamento              Cachambi        2  ...  17.0     26.00    Apartamento\n",
              "...            ...                   ...      ...  ...   ...       ...            ...\n",
              "21821  Apartamento                 Méier        2  ...  48.0     12.86    Apartamento\n",
              "21822    Quitinete                Centro        0  ...  25.0     29.63    Apartamento\n",
              "21823  Apartamento           Jacarepaguá        3  ...  40.0     23.08    Apartamento\n",
              "21824  Apartamento  São Francisco Xavier        2  ...  37.0     29.17    Apartamento\n",
              "21825  Apartamento                Leblon        2  ...   0.0     42.86    Apartamento\n",
              "\n",
              "[21826 rows x 11 columns]"
            ]
          },
          "metadata": {
            "tags": []
          },
          "execution_count": 72
        }
      ]
    },
    {
      "cell_type": "code",
      "metadata": {
        "id": "zxlDl4W3y0g3"
      },
      "source": [
        "dados_3.to_csv('aluguel_residencial_tratado2.csv', sep=';', index=False)"
      ],
      "execution_count": 73,
      "outputs": []
    },
    {
      "cell_type": "markdown",
      "metadata": {
        "id": "WYXB7Ednzenc"
      },
      "source": [
        "##Contadores"
      ]
    },
    {
      "cell_type": "code",
      "metadata": {
        "colab": {
          "base_uri": "https://localhost:8080/"
        },
        "id": "pSqW5t92zFl3",
        "outputId": "7a7df86a-0f7e-4bda-972f-1afc7ead8970"
      },
      "source": [
        "dados.Tipo.unique()"
      ],
      "execution_count": 74,
      "outputs": [
        {
          "output_type": "execute_result",
          "data": {
            "text/plain": [
              "array(['Quitinete', 'Casa', 'Conjunto Comercial/Sala', 'Apartamento',\n",
              "       'Casa de Condomínio', 'Prédio Inteiro', 'Flat', 'Loja/Salão',\n",
              "       'Galpão/Depósito/Armazém', 'Casa Comercial', 'Casa de Vila',\n",
              "       'Terreno Padrão', 'Box/Garagem', 'Loft',\n",
              "       'Loja Shopping/ Ct Comercial', 'Chácara', 'Loteamento/Condomínio',\n",
              "       'Sítio', 'Pousada/Chalé', 'Studio', 'Hotel', 'Indústria'],\n",
              "      dtype=object)"
            ]
          },
          "metadata": {
            "tags": []
          },
          "execution_count": 74
        }
      ]
    },
    {
      "cell_type": "code",
      "metadata": {
        "colab": {
          "base_uri": "https://localhost:8080/"
        },
        "id": "km0-QFWP0Nvi",
        "outputId": "353604c8-4afb-4c0d-d0a7-301b531847be"
      },
      "source": [
        "dados.Tipo.value_counts()"
      ],
      "execution_count": 75,
      "outputs": [
        {
          "output_type": "execute_result",
          "data": {
            "text/plain": [
              "Apartamento                    19532\n",
              "Conjunto Comercial/Sala         6815\n",
              "Loja/Salão                      1426\n",
              "Casa de Condomínio               996\n",
              "Casa                             967\n",
              "Quitinete                        836\n",
              "Galpão/Depósito/Armazém          623\n",
              "Flat                             476\n",
              "Prédio Inteiro                   301\n",
              "Casa Comercial                   265\n",
              "Casa de Vila                     249\n",
              "Loja Shopping/ Ct Comercial      247\n",
              "Box/Garagem                       82\n",
              "Terreno Padrão                    70\n",
              "Loft                              51\n",
              "Sítio                             10\n",
              "Loteamento/Condomínio              5\n",
              "Studio                             4\n",
              "Hotel                              2\n",
              "Pousada/Chalé                      1\n",
              "Chácara                            1\n",
              "Indústria                          1\n",
              "Name: Tipo, dtype: int64"
            ]
          },
          "metadata": {
            "tags": []
          },
          "execution_count": 75
        }
      ]
    },
    {
      "cell_type": "markdown",
      "metadata": {
        "id": "1HnCZziz-HCX"
      },
      "source": [
        "##Criando agrupamentos"
      ]
    },
    {
      "cell_type": "code",
      "metadata": {
        "colab": {
          "base_uri": "https://localhost:8080/",
          "height": 419
        },
        "id": "LI0Zw7yo0Wx3",
        "outputId": "0ab6e89e-bc26-4b61-e7dc-b7cce83c9040"
      },
      "source": [
        "dados_4 = pd.read_csv('aluguel_residencial_tratado2.csv', sep=';')\n",
        "dados_4"
      ],
      "execution_count": 76,
      "outputs": [
        {
          "output_type": "execute_result",
          "data": {
            "text/html": [
              "<div>\n",
              "<style scoped>\n",
              "    .dataframe tbody tr th:only-of-type {\n",
              "        vertical-align: middle;\n",
              "    }\n",
              "\n",
              "    .dataframe tbody tr th {\n",
              "        vertical-align: top;\n",
              "    }\n",
              "\n",
              "    .dataframe thead th {\n",
              "        text-align: right;\n",
              "    }\n",
              "</style>\n",
              "<table border=\"1\" class=\"dataframe\">\n",
              "  <thead>\n",
              "    <tr style=\"text-align: right;\">\n",
              "      <th></th>\n",
              "      <th>Tipo</th>\n",
              "      <th>Bairro</th>\n",
              "      <th>Quartos</th>\n",
              "      <th>Vagas</th>\n",
              "      <th>Suites</th>\n",
              "      <th>Area</th>\n",
              "      <th>Valor</th>\n",
              "      <th>Condominio</th>\n",
              "      <th>IPTU</th>\n",
              "      <th>Valor m2</th>\n",
              "      <th>Tipo Agregado</th>\n",
              "    </tr>\n",
              "  </thead>\n",
              "  <tbody>\n",
              "    <tr>\n",
              "      <th>0</th>\n",
              "      <td>Quitinete</td>\n",
              "      <td>Copacabana</td>\n",
              "      <td>1</td>\n",
              "      <td>0</td>\n",
              "      <td>0</td>\n",
              "      <td>40</td>\n",
              "      <td>1700.0</td>\n",
              "      <td>500.0</td>\n",
              "      <td>60.0</td>\n",
              "      <td>42.50</td>\n",
              "      <td>Apartamento</td>\n",
              "    </tr>\n",
              "    <tr>\n",
              "      <th>1</th>\n",
              "      <td>Casa</td>\n",
              "      <td>Jardim Botânico</td>\n",
              "      <td>2</td>\n",
              "      <td>0</td>\n",
              "      <td>1</td>\n",
              "      <td>100</td>\n",
              "      <td>7000.0</td>\n",
              "      <td>0.0</td>\n",
              "      <td>0.0</td>\n",
              "      <td>70.00</td>\n",
              "      <td>Casa</td>\n",
              "    </tr>\n",
              "    <tr>\n",
              "      <th>2</th>\n",
              "      <td>Apartamento</td>\n",
              "      <td>Centro</td>\n",
              "      <td>1</td>\n",
              "      <td>0</td>\n",
              "      <td>0</td>\n",
              "      <td>15</td>\n",
              "      <td>800.0</td>\n",
              "      <td>390.0</td>\n",
              "      <td>20.0</td>\n",
              "      <td>53.33</td>\n",
              "      <td>Apartamento</td>\n",
              "    </tr>\n",
              "    <tr>\n",
              "      <th>3</th>\n",
              "      <td>Apartamento</td>\n",
              "      <td>Higienópolis</td>\n",
              "      <td>1</td>\n",
              "      <td>0</td>\n",
              "      <td>0</td>\n",
              "      <td>48</td>\n",
              "      <td>800.0</td>\n",
              "      <td>230.0</td>\n",
              "      <td>0.0</td>\n",
              "      <td>16.67</td>\n",
              "      <td>Apartamento</td>\n",
              "    </tr>\n",
              "    <tr>\n",
              "      <th>4</th>\n",
              "      <td>Apartamento</td>\n",
              "      <td>Cachambi</td>\n",
              "      <td>2</td>\n",
              "      <td>0</td>\n",
              "      <td>0</td>\n",
              "      <td>50</td>\n",
              "      <td>1300.0</td>\n",
              "      <td>301.0</td>\n",
              "      <td>17.0</td>\n",
              "      <td>26.00</td>\n",
              "      <td>Apartamento</td>\n",
              "    </tr>\n",
              "    <tr>\n",
              "      <th>...</th>\n",
              "      <td>...</td>\n",
              "      <td>...</td>\n",
              "      <td>...</td>\n",
              "      <td>...</td>\n",
              "      <td>...</td>\n",
              "      <td>...</td>\n",
              "      <td>...</td>\n",
              "      <td>...</td>\n",
              "      <td>...</td>\n",
              "      <td>...</td>\n",
              "      <td>...</td>\n",
              "    </tr>\n",
              "    <tr>\n",
              "      <th>21821</th>\n",
              "      <td>Apartamento</td>\n",
              "      <td>Méier</td>\n",
              "      <td>2</td>\n",
              "      <td>0</td>\n",
              "      <td>0</td>\n",
              "      <td>70</td>\n",
              "      <td>900.0</td>\n",
              "      <td>490.0</td>\n",
              "      <td>48.0</td>\n",
              "      <td>12.86</td>\n",
              "      <td>Apartamento</td>\n",
              "    </tr>\n",
              "    <tr>\n",
              "      <th>21822</th>\n",
              "      <td>Quitinete</td>\n",
              "      <td>Centro</td>\n",
              "      <td>0</td>\n",
              "      <td>0</td>\n",
              "      <td>0</td>\n",
              "      <td>27</td>\n",
              "      <td>800.0</td>\n",
              "      <td>350.0</td>\n",
              "      <td>25.0</td>\n",
              "      <td>29.63</td>\n",
              "      <td>Apartamento</td>\n",
              "    </tr>\n",
              "    <tr>\n",
              "      <th>21823</th>\n",
              "      <td>Apartamento</td>\n",
              "      <td>Jacarepaguá</td>\n",
              "      <td>3</td>\n",
              "      <td>1</td>\n",
              "      <td>2</td>\n",
              "      <td>78</td>\n",
              "      <td>1800.0</td>\n",
              "      <td>800.0</td>\n",
              "      <td>40.0</td>\n",
              "      <td>23.08</td>\n",
              "      <td>Apartamento</td>\n",
              "    </tr>\n",
              "    <tr>\n",
              "      <th>21824</th>\n",
              "      <td>Apartamento</td>\n",
              "      <td>São Francisco Xavier</td>\n",
              "      <td>2</td>\n",
              "      <td>1</td>\n",
              "      <td>0</td>\n",
              "      <td>48</td>\n",
              "      <td>1400.0</td>\n",
              "      <td>509.0</td>\n",
              "      <td>37.0</td>\n",
              "      <td>29.17</td>\n",
              "      <td>Apartamento</td>\n",
              "    </tr>\n",
              "    <tr>\n",
              "      <th>21825</th>\n",
              "      <td>Apartamento</td>\n",
              "      <td>Leblon</td>\n",
              "      <td>2</td>\n",
              "      <td>0</td>\n",
              "      <td>0</td>\n",
              "      <td>70</td>\n",
              "      <td>3000.0</td>\n",
              "      <td>760.0</td>\n",
              "      <td>0.0</td>\n",
              "      <td>42.86</td>\n",
              "      <td>Apartamento</td>\n",
              "    </tr>\n",
              "  </tbody>\n",
              "</table>\n",
              "<p>21826 rows × 11 columns</p>\n",
              "</div>"
            ],
            "text/plain": [
              "              Tipo                Bairro  Quartos  ...  IPTU  Valor m2  Tipo Agregado\n",
              "0        Quitinete            Copacabana        1  ...  60.0     42.50    Apartamento\n",
              "1             Casa       Jardim Botânico        2  ...   0.0     70.00           Casa\n",
              "2      Apartamento                Centro        1  ...  20.0     53.33    Apartamento\n",
              "3      Apartamento          Higienópolis        1  ...   0.0     16.67    Apartamento\n",
              "4      Apartamento              Cachambi        2  ...  17.0     26.00    Apartamento\n",
              "...            ...                   ...      ...  ...   ...       ...            ...\n",
              "21821  Apartamento                 Méier        2  ...  48.0     12.86    Apartamento\n",
              "21822    Quitinete                Centro        0  ...  25.0     29.63    Apartamento\n",
              "21823  Apartamento           Jacarepaguá        3  ...  40.0     23.08    Apartamento\n",
              "21824  Apartamento  São Francisco Xavier        2  ...  37.0     29.17    Apartamento\n",
              "21825  Apartamento                Leblon        2  ...   0.0     42.86    Apartamento\n",
              "\n",
              "[21826 rows x 11 columns]"
            ]
          },
          "metadata": {
            "tags": []
          },
          "execution_count": 76
        }
      ]
    },
    {
      "cell_type": "code",
      "metadata": {
        "colab": {
          "base_uri": "https://localhost:8080/"
        },
        "id": "iO81i7CG5HXD",
        "outputId": "4145e9b5-129a-4a87-8f73-aadc6d4c9a90"
      },
      "source": [
        "dados_4['Valor'].mean()"
      ],
      "execution_count": 77,
      "outputs": [
        {
          "output_type": "execute_result",
          "data": {
            "text/plain": [
              "5046.172821405663"
            ]
          },
          "metadata": {
            "tags": []
          },
          "execution_count": 77
        }
      ]
    },
    {
      "cell_type": "code",
      "metadata": {
        "colab": {
          "base_uri": "https://localhost:8080/"
        },
        "id": "6T3ptglU6ZYx",
        "outputId": "02dfbf85-72f4-41ad-c153-d5dbe6a4892f"
      },
      "source": [
        "dados_4.Bairro.value_counts()"
      ],
      "execution_count": 78,
      "outputs": [
        {
          "output_type": "execute_result",
          "data": {
            "text/plain": [
              "Barra da Tijuca             3863\n",
              "Copacabana                  2644\n",
              "Ipanema                     1764\n",
              "Recreio dos Bandeirantes    1649\n",
              "Leblon                      1258\n",
              "                            ... \n",
              "Rio da Prata                   1\n",
              "Senador Camará                 1\n",
              "Caju                           1\n",
              "Cachamorra                     1\n",
              "Cidade Jardim                  1\n",
              "Name: Bairro, Length: 152, dtype: int64"
            ]
          },
          "metadata": {
            "tags": []
          },
          "execution_count": 78
        }
      ]
    },
    {
      "cell_type": "code",
      "metadata": {
        "id": "7HJgoaaI5kCw"
      },
      "source": [
        "bairro = dados_4['Bairro'].unique()[:6].tolist()"
      ],
      "execution_count": 79,
      "outputs": []
    },
    {
      "cell_type": "code",
      "metadata": {
        "colab": {
          "base_uri": "https://localhost:8080/",
          "height": 453
        },
        "id": "egXd_s8T5s4j",
        "outputId": "1e4fd748-35d0-4419-e25b-523e2dcfc3f2"
      },
      "source": [
        "selecao = dados_4['Bairro'].isin(bairro)\n",
        "dados_4 = dados_4[selecao]\n",
        "dados_4"
      ],
      "execution_count": 80,
      "outputs": [
        {
          "output_type": "execute_result",
          "data": {
            "text/html": [
              "<div>\n",
              "<style scoped>\n",
              "    .dataframe tbody tr th:only-of-type {\n",
              "        vertical-align: middle;\n",
              "    }\n",
              "\n",
              "    .dataframe tbody tr th {\n",
              "        vertical-align: top;\n",
              "    }\n",
              "\n",
              "    .dataframe thead th {\n",
              "        text-align: right;\n",
              "    }\n",
              "</style>\n",
              "<table border=\"1\" class=\"dataframe\">\n",
              "  <thead>\n",
              "    <tr style=\"text-align: right;\">\n",
              "      <th></th>\n",
              "      <th>Tipo</th>\n",
              "      <th>Bairro</th>\n",
              "      <th>Quartos</th>\n",
              "      <th>Vagas</th>\n",
              "      <th>Suites</th>\n",
              "      <th>Area</th>\n",
              "      <th>Valor</th>\n",
              "      <th>Condominio</th>\n",
              "      <th>IPTU</th>\n",
              "      <th>Valor m2</th>\n",
              "      <th>Tipo Agregado</th>\n",
              "    </tr>\n",
              "  </thead>\n",
              "  <tbody>\n",
              "    <tr>\n",
              "      <th>0</th>\n",
              "      <td>Quitinete</td>\n",
              "      <td>Copacabana</td>\n",
              "      <td>1</td>\n",
              "      <td>0</td>\n",
              "      <td>0</td>\n",
              "      <td>40</td>\n",
              "      <td>1700.0</td>\n",
              "      <td>500.0</td>\n",
              "      <td>60.0</td>\n",
              "      <td>42.50</td>\n",
              "      <td>Apartamento</td>\n",
              "    </tr>\n",
              "    <tr>\n",
              "      <th>1</th>\n",
              "      <td>Casa</td>\n",
              "      <td>Jardim Botânico</td>\n",
              "      <td>2</td>\n",
              "      <td>0</td>\n",
              "      <td>1</td>\n",
              "      <td>100</td>\n",
              "      <td>7000.0</td>\n",
              "      <td>0.0</td>\n",
              "      <td>0.0</td>\n",
              "      <td>70.00</td>\n",
              "      <td>Casa</td>\n",
              "    </tr>\n",
              "    <tr>\n",
              "      <th>2</th>\n",
              "      <td>Apartamento</td>\n",
              "      <td>Centro</td>\n",
              "      <td>1</td>\n",
              "      <td>0</td>\n",
              "      <td>0</td>\n",
              "      <td>15</td>\n",
              "      <td>800.0</td>\n",
              "      <td>390.0</td>\n",
              "      <td>20.0</td>\n",
              "      <td>53.33</td>\n",
              "      <td>Apartamento</td>\n",
              "    </tr>\n",
              "    <tr>\n",
              "      <th>3</th>\n",
              "      <td>Apartamento</td>\n",
              "      <td>Higienópolis</td>\n",
              "      <td>1</td>\n",
              "      <td>0</td>\n",
              "      <td>0</td>\n",
              "      <td>48</td>\n",
              "      <td>800.0</td>\n",
              "      <td>230.0</td>\n",
              "      <td>0.0</td>\n",
              "      <td>16.67</td>\n",
              "      <td>Apartamento</td>\n",
              "    </tr>\n",
              "    <tr>\n",
              "      <th>4</th>\n",
              "      <td>Apartamento</td>\n",
              "      <td>Cachambi</td>\n",
              "      <td>2</td>\n",
              "      <td>0</td>\n",
              "      <td>0</td>\n",
              "      <td>50</td>\n",
              "      <td>1300.0</td>\n",
              "      <td>301.0</td>\n",
              "      <td>17.0</td>\n",
              "      <td>26.00</td>\n",
              "      <td>Apartamento</td>\n",
              "    </tr>\n",
              "    <tr>\n",
              "      <th>...</th>\n",
              "      <td>...</td>\n",
              "      <td>...</td>\n",
              "      <td>...</td>\n",
              "      <td>...</td>\n",
              "      <td>...</td>\n",
              "      <td>...</td>\n",
              "      <td>...</td>\n",
              "      <td>...</td>\n",
              "      <td>...</td>\n",
              "      <td>...</td>\n",
              "      <td>...</td>\n",
              "    </tr>\n",
              "    <tr>\n",
              "      <th>21812</th>\n",
              "      <td>Apartamento</td>\n",
              "      <td>Barra da Tijuca</td>\n",
              "      <td>3</td>\n",
              "      <td>2</td>\n",
              "      <td>0</td>\n",
              "      <td>98</td>\n",
              "      <td>2300.0</td>\n",
              "      <td>887.0</td>\n",
              "      <td>177.0</td>\n",
              "      <td>23.47</td>\n",
              "      <td>Apartamento</td>\n",
              "    </tr>\n",
              "    <tr>\n",
              "      <th>21813</th>\n",
              "      <td>Apartamento</td>\n",
              "      <td>Barra da Tijuca</td>\n",
              "      <td>3</td>\n",
              "      <td>2</td>\n",
              "      <td>2</td>\n",
              "      <td>140</td>\n",
              "      <td>5500.0</td>\n",
              "      <td>1900.0</td>\n",
              "      <td>700.0</td>\n",
              "      <td>39.29</td>\n",
              "      <td>Apartamento</td>\n",
              "    </tr>\n",
              "    <tr>\n",
              "      <th>21815</th>\n",
              "      <td>Quitinete</td>\n",
              "      <td>Copacabana</td>\n",
              "      <td>1</td>\n",
              "      <td>0</td>\n",
              "      <td>0</td>\n",
              "      <td>22</td>\n",
              "      <td>1500.0</td>\n",
              "      <td>286.0</td>\n",
              "      <td>200.0</td>\n",
              "      <td>68.18</td>\n",
              "      <td>Apartamento</td>\n",
              "    </tr>\n",
              "    <tr>\n",
              "      <th>21820</th>\n",
              "      <td>Casa de Condomínio</td>\n",
              "      <td>Barra da Tijuca</td>\n",
              "      <td>5</td>\n",
              "      <td>3</td>\n",
              "      <td>4</td>\n",
              "      <td>450</td>\n",
              "      <td>15000.0</td>\n",
              "      <td>1711.0</td>\n",
              "      <td>2332.0</td>\n",
              "      <td>33.33</td>\n",
              "      <td>Casa</td>\n",
              "    </tr>\n",
              "    <tr>\n",
              "      <th>21822</th>\n",
              "      <td>Quitinete</td>\n",
              "      <td>Centro</td>\n",
              "      <td>0</td>\n",
              "      <td>0</td>\n",
              "      <td>0</td>\n",
              "      <td>27</td>\n",
              "      <td>800.0</td>\n",
              "      <td>350.0</td>\n",
              "      <td>25.0</td>\n",
              "      <td>29.63</td>\n",
              "      <td>Apartamento</td>\n",
              "    </tr>\n",
              "  </tbody>\n",
              "</table>\n",
              "<p>7261 rows × 11 columns</p>\n",
              "</div>"
            ],
            "text/plain": [
              "                     Tipo           Bairro  ...  Valor m2  Tipo Agregado\n",
              "0               Quitinete       Copacabana  ...     42.50    Apartamento\n",
              "1                    Casa  Jardim Botânico  ...     70.00           Casa\n",
              "2             Apartamento           Centro  ...     53.33    Apartamento\n",
              "3             Apartamento     Higienópolis  ...     16.67    Apartamento\n",
              "4             Apartamento         Cachambi  ...     26.00    Apartamento\n",
              "...                   ...              ...  ...       ...            ...\n",
              "21812         Apartamento  Barra da Tijuca  ...     23.47    Apartamento\n",
              "21813         Apartamento  Barra da Tijuca  ...     39.29    Apartamento\n",
              "21815           Quitinete       Copacabana  ...     68.18    Apartamento\n",
              "21820  Casa de Condomínio  Barra da Tijuca  ...     33.33           Casa\n",
              "21822           Quitinete           Centro  ...     29.63    Apartamento\n",
              "\n",
              "[7261 rows x 11 columns]"
            ]
          },
          "metadata": {
            "tags": []
          },
          "execution_count": 80
        }
      ]
    },
    {
      "cell_type": "code",
      "metadata": {
        "colab": {
          "base_uri": "https://localhost:8080/"
        },
        "id": "yWGqTAku5wpM",
        "outputId": "c60ad19a-c308-447a-c920-770ef6e9af16"
      },
      "source": [
        "grupo_bairro = dados_4.groupby('Bairro')\n",
        "type(grupo_bairro)"
      ],
      "execution_count": 81,
      "outputs": [
        {
          "output_type": "execute_result",
          "data": {
            "text/plain": [
              "pandas.core.groupby.generic.DataFrameGroupBy"
            ]
          },
          "metadata": {
            "tags": []
          },
          "execution_count": 81
        }
      ]
    },
    {
      "cell_type": "code",
      "metadata": {
        "colab": {
          "base_uri": "https://localhost:8080/"
        },
        "id": "9yd-XpAU7wQr",
        "outputId": "7f355e02-d321-4aff-9238-1953d6fd0894"
      },
      "source": [
        "grupo_bairro.groups"
      ],
      "execution_count": 82,
      "outputs": [
        {
          "output_type": "execute_result",
          "data": {
            "text/plain": [
              "{'Barra da Tijuca': [5, 14, 16, 21, 30, 32, 35, 42, 43, 60, 61, 64, 68, 74, 79, 93, 107, 110, 112, 117, 130, 132, 136, 150, 153, 155, 165, 166, 173, 186, 189, 207, 214, 221, 224, 233, 236, 239, 244, 259, 265, 274, 276, 291, 292, 293, 295, 302, 308, 311, 325, 335, 336, 345, 360, 366, 368, 374, 380, 387, 389, 400, 412, 432, 433, 435, 436, 439, 449, 451, 462, 463, 465, 473, 476, 484, 494, 500, 503, 511, 537, 538, 539, 540, 543, 547, 552, 554, 555, 556, 584, 587, 588, 590, 594, 596, 601, 611, 622, 630, ...], 'Cachambi': [4, 56, 247, 252, 525, 629, 1389, 1683, 1862, 1949, 2087, 2178, 2556, 2633, 2889, 3009, 3045, 3080, 3755, 4060, 4161, 4195, 4204, 4398, 4446, 4635, 4638, 5272, 5280, 5292, 5308, 5455, 5523, 5572, 5749, 5862, 5919, 5987, 5996, 6173, 6176, 6239, 6378, 6386, 6485, 6600, 6771, 6832, 6850, 7315, 7423, 7441, 7625, 7737, 7907, 8014, 8046, 8066, 8200, 8217, 8600, 8685, 8896, 8904, 8944, 9119, 9123, 9232, 9476, 9578, 9582, 9682, 9855, 10187, 10194, 10353, 10783, 10813, 11075, 11090, 11356, 11370, 11454, 11479, 11488, 11810, 12030, 12394, 12811, 13091, 13306, 13309, 13344, 13699, 13754, 14197, 14333, 14677, 14744, 14910, ...], 'Centro': [2, 38, 65, 71, 146, 181, 191, 312, 427, 585, 665, 826, 870, 939, 944, 954, 1016, 1111, 1115, 1136, 1321, 1385, 1483, 1496, 1613, 1633, 1691, 1697, 1733, 1737, 1845, 1891, 1901, 2006, 2085, 2098, 2156, 2167, 2191, 2236, 2239, 2258, 2326, 2445, 2466, 2605, 2614, 2971, 3076, 3082, 3090, 3240, 3278, 3329, 3330, 3343, 3481, 3530, 3576, 3690, 3772, 3865, 3909, 3929, 3936, 4025, 4027, 4042, 4177, 4327, 4371, 4445, 4464, 4503, 4719, 4788, 4838, 4859, 4877, 4915, 4933, 4934, 5016, 5031, 5049, 5077, 5102, 5112, 5157, 5161, 5172, 5287, 5313, 5337, 5381, 5448, 5629, 5693, 5728, 5799, ...], 'Copacabana': [0, 9, 10, 11, 24, 25, 28, 31, 86, 91, 104, 109, 125, 129, 140, 142, 143, 151, 162, 174, 184, 192, 194, 206, 223, 249, 263, 275, 278, 281, 289, 290, 301, 307, 319, 327, 329, 348, 359, 365, 371, 372, 388, 396, 404, 425, 426, 437, 458, 460, 485, 486, 487, 497, 530, 532, 534, 557, 564, 573, 574, 583, 606, 610, 612, 615, 633, 650, 659, 666, 667, 678, 687, 689, 694, 701, 713, 730, 736, 739, 772, 808, 824, 836, 872, 881, 894, 898, 907, 912, 917, 919, 921, 922, 929, 952, 963, 964, 980, 989, ...], 'Higienópolis': [3, 755, 962, 2100, 2184, 3348, 4354, 7932, 9040, 11244, 14184, 15165, 16919, 16979, 18466, 19339], 'Jardim Botânico': [1, 55, 310, 323, 351, 445, 446, 492, 495, 571, 643, 675, 806, 937, 982, 1187, 1211, 1374, 1484, 1795, 1884, 2053, 2061, 2102, 2249, 2523, 2526, 2692, 2712, 2731, 2813, 2817, 3214, 3370, 3473, 3486, 3583, 3735, 3764, 3782, 3961, 4059, 4062, 4121, 4237, 4472, 4585, 4702, 4709, 4789, 4866, 4889, 4914, 5024, 5084, 5116, 5168, 5198, 5232, 5262, 5301, 5341, 5382, 5399, 5418, 5598, 5665, 5702, 5809, 5836, 5886, 6276, 6326, 6399, 6484, 6512, 6643, 6736, 6740, 6741, 6745, 6773, 6789, 6813, 6908, 6921, 6971, 7001, 7055, 7113, 7357, 7362, 7469, 7528, 7734, 7878, 7916, 8050, 8171, 8201, ...]}"
            ]
          },
          "metadata": {
            "tags": []
          },
          "execution_count": 82
        }
      ]
    },
    {
      "cell_type": "code",
      "metadata": {
        "colab": {
          "base_uri": "https://localhost:8080/"
        },
        "id": "NvEBZHVq75f4",
        "outputId": "5dcb3671-2204-4eea-aaa2-794b0055febc"
      },
      "source": [
        "for bairro, data in grupo_bairro:\n",
        "    print(f'{bairro} -> R${data.Valor.mean():.2f}.')"
      ],
      "execution_count": 83,
      "outputs": [
        {
          "output_type": "stream",
          "text": [
            "Barra da Tijuca -> R$7069.55.\n",
            "Cachambi -> R$1157.17.\n",
            "Centro -> R$1254.75.\n",
            "Copacabana -> R$4126.68.\n",
            "Higienópolis -> R$1006.25.\n",
            "Jardim Botânico -> R$8722.36.\n"
          ],
          "name": "stdout"
        }
      ]
    },
    {
      "cell_type": "code",
      "metadata": {
        "colab": {
          "base_uri": "https://localhost:8080/",
          "height": 320
        },
        "id": "F6N4AykE8SEm",
        "outputId": "afe669ab-ff5e-49b9-c9ec-07ffb2b2a325"
      },
      "source": [
        "grupo_bairro['Valor', 'Condominio'].mean().round(2)"
      ],
      "execution_count": 84,
      "outputs": [
        {
          "output_type": "stream",
          "text": [
            "/usr/local/lib/python3.7/dist-packages/ipykernel_launcher.py:1: FutureWarning: Indexing with multiple keys (implicitly converted to a tuple of keys) will be deprecated, use a list instead.\n",
            "  \"\"\"Entry point for launching an IPython kernel.\n"
          ],
          "name": "stderr"
        },
        {
          "output_type": "execute_result",
          "data": {
            "text/html": [
              "<div>\n",
              "<style scoped>\n",
              "    .dataframe tbody tr th:only-of-type {\n",
              "        vertical-align: middle;\n",
              "    }\n",
              "\n",
              "    .dataframe tbody tr th {\n",
              "        vertical-align: top;\n",
              "    }\n",
              "\n",
              "    .dataframe thead th {\n",
              "        text-align: right;\n",
              "    }\n",
              "</style>\n",
              "<table border=\"1\" class=\"dataframe\">\n",
              "  <thead>\n",
              "    <tr style=\"text-align: right;\">\n",
              "      <th></th>\n",
              "      <th>Valor</th>\n",
              "      <th>Condominio</th>\n",
              "    </tr>\n",
              "    <tr>\n",
              "      <th>Bairro</th>\n",
              "      <th></th>\n",
              "      <th></th>\n",
              "    </tr>\n",
              "  </thead>\n",
              "  <tbody>\n",
              "    <tr>\n",
              "      <th>Barra da Tijuca</th>\n",
              "      <td>7069.55</td>\n",
              "      <td>3591.01</td>\n",
              "    </tr>\n",
              "    <tr>\n",
              "      <th>Cachambi</th>\n",
              "      <td>1157.17</td>\n",
              "      <td>452.77</td>\n",
              "    </tr>\n",
              "    <tr>\n",
              "      <th>Centro</th>\n",
              "      <td>1254.75</td>\n",
              "      <td>422.57</td>\n",
              "    </tr>\n",
              "    <tr>\n",
              "      <th>Copacabana</th>\n",
              "      <td>4126.68</td>\n",
              "      <td>1148.68</td>\n",
              "    </tr>\n",
              "    <tr>\n",
              "      <th>Higienópolis</th>\n",
              "      <td>1006.25</td>\n",
              "      <td>185.50</td>\n",
              "    </tr>\n",
              "    <tr>\n",
              "      <th>Jardim Botânico</th>\n",
              "      <td>8722.36</td>\n",
              "      <td>1059.24</td>\n",
              "    </tr>\n",
              "  </tbody>\n",
              "</table>\n",
              "</div>"
            ],
            "text/plain": [
              "                   Valor  Condominio\n",
              "Bairro                              \n",
              "Barra da Tijuca  7069.55     3591.01\n",
              "Cachambi         1157.17      452.77\n",
              "Centro           1254.75      422.57\n",
              "Copacabana       4126.68     1148.68\n",
              "Higienópolis     1006.25      185.50\n",
              "Jardim Botânico  8722.36     1059.24"
            ]
          },
          "metadata": {
            "tags": []
          },
          "execution_count": 84
        }
      ]
    },
    {
      "cell_type": "markdown",
      "metadata": {
        "id": "A11Z8xpO-E2O"
      },
      "source": [
        "#Estatística descritiva"
      ]
    },
    {
      "cell_type": "code",
      "metadata": {
        "colab": {
          "base_uri": "https://localhost:8080/",
          "height": 266
        },
        "id": "TZbOgVX-95MP",
        "outputId": "5548d7f3-7599-408e-b022-8e4c7c1eafc4"
      },
      "source": [
        "grupo_bairro['Valor'].describe().round(2)"
      ],
      "execution_count": 85,
      "outputs": [
        {
          "output_type": "execute_result",
          "data": {
            "text/html": [
              "<div>\n",
              "<style scoped>\n",
              "    .dataframe tbody tr th:only-of-type {\n",
              "        vertical-align: middle;\n",
              "    }\n",
              "\n",
              "    .dataframe tbody tr th {\n",
              "        vertical-align: top;\n",
              "    }\n",
              "\n",
              "    .dataframe thead th {\n",
              "        text-align: right;\n",
              "    }\n",
              "</style>\n",
              "<table border=\"1\" class=\"dataframe\">\n",
              "  <thead>\n",
              "    <tr style=\"text-align: right;\">\n",
              "      <th></th>\n",
              "      <th>count</th>\n",
              "      <th>mean</th>\n",
              "      <th>std</th>\n",
              "      <th>min</th>\n",
              "      <th>25%</th>\n",
              "      <th>50%</th>\n",
              "      <th>75%</th>\n",
              "      <th>max</th>\n",
              "    </tr>\n",
              "    <tr>\n",
              "      <th>Bairro</th>\n",
              "      <th></th>\n",
              "      <th></th>\n",
              "      <th></th>\n",
              "      <th></th>\n",
              "      <th></th>\n",
              "      <th></th>\n",
              "      <th></th>\n",
              "      <th></th>\n",
              "    </tr>\n",
              "  </thead>\n",
              "  <tbody>\n",
              "    <tr>\n",
              "      <th>Barra da Tijuca</th>\n",
              "      <td>3863.0</td>\n",
              "      <td>7069.55</td>\n",
              "      <td>11874.15</td>\n",
              "      <td>800.0</td>\n",
              "      <td>2500.0</td>\n",
              "      <td>4500.0</td>\n",
              "      <td>8500.0</td>\n",
              "      <td>600000.0</td>\n",
              "    </tr>\n",
              "    <tr>\n",
              "      <th>Cachambi</th>\n",
              "      <td>132.0</td>\n",
              "      <td>1157.17</td>\n",
              "      <td>351.49</td>\n",
              "      <td>600.0</td>\n",
              "      <td>900.0</td>\n",
              "      <td>1100.0</td>\n",
              "      <td>1300.0</td>\n",
              "      <td>2800.0</td>\n",
              "    </tr>\n",
              "    <tr>\n",
              "      <th>Centro</th>\n",
              "      <td>343.0</td>\n",
              "      <td>1254.75</td>\n",
              "      <td>884.67</td>\n",
              "      <td>400.0</td>\n",
              "      <td>800.0</td>\n",
              "      <td>1000.0</td>\n",
              "      <td>1400.0</td>\n",
              "      <td>12000.0</td>\n",
              "    </tr>\n",
              "    <tr>\n",
              "      <th>Copacabana</th>\n",
              "      <td>2644.0</td>\n",
              "      <td>4126.68</td>\n",
              "      <td>3611.41</td>\n",
              "      <td>100.0</td>\n",
              "      <td>2000.0</td>\n",
              "      <td>3000.0</td>\n",
              "      <td>4800.0</td>\n",
              "      <td>35000.0</td>\n",
              "    </tr>\n",
              "    <tr>\n",
              "      <th>Higienópolis</th>\n",
              "      <td>16.0</td>\n",
              "      <td>1006.25</td>\n",
              "      <td>409.42</td>\n",
              "      <td>700.0</td>\n",
              "      <td>800.0</td>\n",
              "      <td>875.0</td>\n",
              "      <td>1100.0</td>\n",
              "      <td>2400.0</td>\n",
              "    </tr>\n",
              "    <tr>\n",
              "      <th>Jardim Botânico</th>\n",
              "      <td>263.0</td>\n",
              "      <td>8722.36</td>\n",
              "      <td>9332.73</td>\n",
              "      <td>1550.0</td>\n",
              "      <td>3150.0</td>\n",
              "      <td>4000.0</td>\n",
              "      <td>10000.0</td>\n",
              "      <td>50000.0</td>\n",
              "    </tr>\n",
              "  </tbody>\n",
              "</table>\n",
              "</div>"
            ],
            "text/plain": [
              "                  count     mean       std  ...     50%      75%       max\n",
              "Bairro                                      ...                           \n",
              "Barra da Tijuca  3863.0  7069.55  11874.15  ...  4500.0   8500.0  600000.0\n",
              "Cachambi          132.0  1157.17    351.49  ...  1100.0   1300.0    2800.0\n",
              "Centro            343.0  1254.75    884.67  ...  1000.0   1400.0   12000.0\n",
              "Copacabana       2644.0  4126.68   3611.41  ...  3000.0   4800.0   35000.0\n",
              "Higienópolis       16.0  1006.25    409.42  ...   875.0   1100.0    2400.0\n",
              "Jardim Botânico   263.0  8722.36   9332.73  ...  4000.0  10000.0   50000.0\n",
              "\n",
              "[6 rows x 8 columns]"
            ]
          },
          "metadata": {
            "tags": []
          },
          "execution_count": 85
        }
      ]
    },
    {
      "cell_type": "code",
      "metadata": {
        "colab": {
          "base_uri": "https://localhost:8080/",
          "height": 266
        },
        "id": "gfkNz-5eACuC",
        "outputId": "77b05c0a-8587-4e4e-ca52-990fe74fbda8"
      },
      "source": [
        "grupo_bairro['Valor'].aggregate(['min', 'max']).rename(columns = {'min': 'Mínimo', 'max': 'Máximo'})"
      ],
      "execution_count": 86,
      "outputs": [
        {
          "output_type": "execute_result",
          "data": {
            "text/html": [
              "<div>\n",
              "<style scoped>\n",
              "    .dataframe tbody tr th:only-of-type {\n",
              "        vertical-align: middle;\n",
              "    }\n",
              "\n",
              "    .dataframe tbody tr th {\n",
              "        vertical-align: top;\n",
              "    }\n",
              "\n",
              "    .dataframe thead th {\n",
              "        text-align: right;\n",
              "    }\n",
              "</style>\n",
              "<table border=\"1\" class=\"dataframe\">\n",
              "  <thead>\n",
              "    <tr style=\"text-align: right;\">\n",
              "      <th></th>\n",
              "      <th>Mínimo</th>\n",
              "      <th>Máximo</th>\n",
              "    </tr>\n",
              "    <tr>\n",
              "      <th>Bairro</th>\n",
              "      <th></th>\n",
              "      <th></th>\n",
              "    </tr>\n",
              "  </thead>\n",
              "  <tbody>\n",
              "    <tr>\n",
              "      <th>Barra da Tijuca</th>\n",
              "      <td>800.0</td>\n",
              "      <td>600000.0</td>\n",
              "    </tr>\n",
              "    <tr>\n",
              "      <th>Cachambi</th>\n",
              "      <td>600.0</td>\n",
              "      <td>2800.0</td>\n",
              "    </tr>\n",
              "    <tr>\n",
              "      <th>Centro</th>\n",
              "      <td>400.0</td>\n",
              "      <td>12000.0</td>\n",
              "    </tr>\n",
              "    <tr>\n",
              "      <th>Copacabana</th>\n",
              "      <td>100.0</td>\n",
              "      <td>35000.0</td>\n",
              "    </tr>\n",
              "    <tr>\n",
              "      <th>Higienópolis</th>\n",
              "      <td>700.0</td>\n",
              "      <td>2400.0</td>\n",
              "    </tr>\n",
              "    <tr>\n",
              "      <th>Jardim Botânico</th>\n",
              "      <td>1550.0</td>\n",
              "      <td>50000.0</td>\n",
              "    </tr>\n",
              "  </tbody>\n",
              "</table>\n",
              "</div>"
            ],
            "text/plain": [
              "                 Mínimo    Máximo\n",
              "Bairro                           \n",
              "Barra da Tijuca   800.0  600000.0\n",
              "Cachambi          600.0    2800.0\n",
              "Centro            400.0   12000.0\n",
              "Copacabana        100.0   35000.0\n",
              "Higienópolis      700.0    2400.0\n",
              "Jardim Botânico  1550.0   50000.0"
            ]
          },
          "metadata": {
            "tags": []
          },
          "execution_count": 86
        }
      ]
    },
    {
      "cell_type": "code",
      "metadata": {
        "id": "Twxe8eQlAlKp"
      },
      "source": [
        "import matplotlib.pyplot as plt \n",
        "plt.rc('figure', figsize = (20,10))"
      ],
      "execution_count": 87,
      "outputs": []
    },
    {
      "cell_type": "code",
      "metadata": {
        "colab": {
          "base_uri": "https://localhost:8080/",
          "height": 580
        },
        "id": "fTwyMS51BmmV",
        "outputId": "b80ce4be-d75b-41e5-d2d6-9c8aaa7d0d40"
      },
      "source": [
        "fig = grupo_bairro['Valor'].mean().plot.bar(color='blue')\n",
        "fig.set_ylabel('Valor do Aluguel')\n",
        "fig.set_xlabel('Bairro')\n",
        "fig.set_title('Valor médio aluguel por bairro', {'fontsize':22})"
      ],
      "execution_count": 88,
      "outputs": [
        {
          "output_type": "execute_result",
          "data": {
            "text/plain": [
              "Text(0.5, 1.0, 'Valor médio aluguel por bairro')"
            ]
          },
          "metadata": {
            "tags": []
          },
          "execution_count": 88
        },
        {
          "output_type": "display_data",
          "data": {
            "image/png": "[encoded data removed]",
            "text/plain": [
              "<Figure size 1440x720 with 1 Axes>"
            ]
          },
          "metadata": {
            "tags": [],
            "needs_background": "light"
          }
        }
      ]
    },
    {
      "cell_type": "markdown",
      "metadata": {
        "id": "EssRzTEWRKHb"
      },
      "source": [
        "##Criando faixa de valor"
      ]
    },
    {
      "cell_type": "code",
      "metadata": {
        "id": "8nuB2GFGCHgp"
      },
      "source": [
        " #1 e 2 quartos\n",
        " #3 e 4 quartos\n",
        " #5 e 6 quartos\n",
        " # 7 ou mais"
      ],
      "execution_count": 89,
      "outputs": []
    },
    {
      "cell_type": "code",
      "metadata": {
        "id": "3l21av4PRfNu"
      },
      "source": [
        "classes = [0, 2, 4, 6 , 100]"
      ],
      "execution_count": 90,
      "outputs": []
    },
    {
      "cell_type": "code",
      "metadata": {
        "id": "aXUBX3mmRoC6"
      },
      "source": [
        "quartos = pd.cut(dados_4.Quartos, classes)"
      ],
      "execution_count": 91,
      "outputs": []
    },
    {
      "cell_type": "code",
      "metadata": {
        "colab": {
          "base_uri": "https://localhost:8080/"
        },
        "id": "uZSLaPx0R0-t",
        "outputId": "cffd2716-3f68-4153-c7f0-c77000d6915d"
      },
      "source": [
        "quartos"
      ],
      "execution_count": 92,
      "outputs": [
        {
          "output_type": "execute_result",
          "data": {
            "text/plain": [
              "0        (0.0, 2.0]\n",
              "1        (0.0, 2.0]\n",
              "2        (0.0, 2.0]\n",
              "3        (0.0, 2.0]\n",
              "4        (0.0, 2.0]\n",
              "            ...    \n",
              "21812    (2.0, 4.0]\n",
              "21813    (2.0, 4.0]\n",
              "21815    (0.0, 2.0]\n",
              "21820    (4.0, 6.0]\n",
              "21822           NaN\n",
              "Name: Quartos, Length: 7261, dtype: category\n",
              "Categories (4, interval[int64]): [(0, 2] < (2, 4] < (4, 6] < (6, 100]]"
            ]
          },
          "metadata": {
            "tags": []
          },
          "execution_count": 92
        }
      ]
    },
    {
      "cell_type": "code",
      "metadata": {
        "colab": {
          "base_uri": "https://localhost:8080/"
        },
        "id": "4WbRcvP4R2DZ",
        "outputId": "5a28c843-3ec7-4bff-cd21-8a5bfae8408e"
      },
      "source": [
        "pd.value_counts(quartos)"
      ],
      "execution_count": 93,
      "outputs": [
        {
          "output_type": "execute_result",
          "data": {
            "text/plain": [
              "(2, 4]      3464\n",
              "(0, 2]      3300\n",
              "(4, 6]       399\n",
              "(6, 100]      18\n",
              "Name: Quartos, dtype: int64"
            ]
          },
          "metadata": {
            "tags": []
          },
          "execution_count": 93
        }
      ]
    },
    {
      "cell_type": "code",
      "metadata": {
        "id": "zvWpaJdwToFt"
      },
      "source": [
        "labels = ['0 e 2 quartos', '3 e 4 quartos', '5 e 6 quartos', '7 ou mais']"
      ],
      "execution_count": 94,
      "outputs": []
    },
    {
      "cell_type": "code",
      "metadata": {
        "id": "M5lbWFUXU3zB"
      },
      "source": [
        "quartos = pd.cut(dados_4['Quartos'], classes, labels=labels)"
      ],
      "execution_count": 95,
      "outputs": []
    },
    {
      "cell_type": "code",
      "metadata": {
        "colab": {
          "base_uri": "https://localhost:8080/"
        },
        "id": "q45dIqkEVGVf",
        "outputId": "3884be4d-d5ed-47d3-f4f2-0e80f089b7c6"
      },
      "source": [
        "quartos.value_counts()"
      ],
      "execution_count": 96,
      "outputs": [
        {
          "output_type": "execute_result",
          "data": {
            "text/plain": [
              "3 e 4 quartos    3464\n",
              "0 e 2 quartos    3300\n",
              "5 e 6 quartos     399\n",
              "7 ou mais          18\n",
              "Name: Quartos, dtype: int64"
            ]
          },
          "metadata": {
            "tags": []
          },
          "execution_count": 96
        }
      ]
    },
    {
      "cell_type": "code",
      "metadata": {
        "colab": {
          "base_uri": "https://localhost:8080/"
        },
        "id": "H7iBuBljVLby",
        "outputId": "7fd1c160-dd47-4371-ecac-80fa0c777e6f"
      },
      "source": [
        "quartos = pd.cut(dados_4['Quartos'], classes, labels=labels, include_lowest=True)\n",
        "quartos.value_counts()"
      ],
      "execution_count": 97,
      "outputs": [
        {
          "output_type": "execute_result",
          "data": {
            "text/plain": [
              "3 e 4 quartos    3464\n",
              "0 e 2 quartos    3380\n",
              "5 e 6 quartos     399\n",
              "7 ou mais          18\n",
              "Name: Quartos, dtype: int64"
            ]
          },
          "metadata": {
            "tags": []
          },
          "execution_count": 97
        }
      ]
    },
    {
      "cell_type": "markdown",
      "metadata": {
        "id": "MGckts3uWrvB"
      },
      "source": [
        "##Removendo outliers"
      ]
    },
    {
      "cell_type": "code",
      "metadata": {
        "colab": {
          "base_uri": "https://localhost:8080/",
          "height": 453
        },
        "id": "uy0PYNa4Vg2A",
        "outputId": "285988b5-aaef-48ad-91a8-f9e07bbab484"
      },
      "source": [
        "dados_4 "
      ],
      "execution_count": 98,
      "outputs": [
        {
          "output_type": "execute_result",
          "data": {
            "text/html": [
              "<div>\n",
              "<style scoped>\n",
              "    .dataframe tbody tr th:only-of-type {\n",
              "        vertical-align: middle;\n",
              "    }\n",
              "\n",
              "    .dataframe tbody tr th {\n",
              "        vertical-align: top;\n",
              "    }\n",
              "\n",
              "    .dataframe thead th {\n",
              "        text-align: right;\n",
              "    }\n",
              "</style>\n",
              "<table border=\"1\" class=\"dataframe\">\n",
              "  <thead>\n",
              "    <tr style=\"text-align: right;\">\n",
              "      <th></th>\n",
              "      <th>Tipo</th>\n",
              "      <th>Bairro</th>\n",
              "      <th>Quartos</th>\n",
              "      <th>Vagas</th>\n",
              "      <th>Suites</th>\n",
              "      <th>Area</th>\n",
              "      <th>Valor</th>\n",
              "      <th>Condominio</th>\n",
              "      <th>IPTU</th>\n",
              "      <th>Valor m2</th>\n",
              "      <th>Tipo Agregado</th>\n",
              "    </tr>\n",
              "  </thead>\n",
              "  <tbody>\n",
              "    <tr>\n",
              "      <th>0</th>\n",
              "      <td>Quitinete</td>\n",
              "      <td>Copacabana</td>\n",
              "      <td>1</td>\n",
              "      <td>0</td>\n",
              "      <td>0</td>\n",
              "      <td>40</td>\n",
              "      <td>1700.0</td>\n",
              "      <td>500.0</td>\n",
              "      <td>60.0</td>\n",
              "      <td>42.50</td>\n",
              "      <td>Apartamento</td>\n",
              "    </tr>\n",
              "    <tr>\n",
              "      <th>1</th>\n",
              "      <td>Casa</td>\n",
              "      <td>Jardim Botânico</td>\n",
              "      <td>2</td>\n",
              "      <td>0</td>\n",
              "      <td>1</td>\n",
              "      <td>100</td>\n",
              "      <td>7000.0</td>\n",
              "      <td>0.0</td>\n",
              "      <td>0.0</td>\n",
              "      <td>70.00</td>\n",
              "      <td>Casa</td>\n",
              "    </tr>\n",
              "    <tr>\n",
              "      <th>2</th>\n",
              "      <td>Apartamento</td>\n",
              "      <td>Centro</td>\n",
              "      <td>1</td>\n",
              "      <td>0</td>\n",
              "      <td>0</td>\n",
              "      <td>15</td>\n",
              "      <td>800.0</td>\n",
              "      <td>390.0</td>\n",
              "      <td>20.0</td>\n",
              "      <td>53.33</td>\n",
              "      <td>Apartamento</td>\n",
              "    </tr>\n",
              "    <tr>\n",
              "      <th>3</th>\n",
              "      <td>Apartamento</td>\n",
              "      <td>Higienópolis</td>\n",
              "      <td>1</td>\n",
              "      <td>0</td>\n",
              "      <td>0</td>\n",
              "      <td>48</td>\n",
              "      <td>800.0</td>\n",
              "      <td>230.0</td>\n",
              "      <td>0.0</td>\n",
              "      <td>16.67</td>\n",
              "      <td>Apartamento</td>\n",
              "    </tr>\n",
              "    <tr>\n",
              "      <th>4</th>\n",
              "      <td>Apartamento</td>\n",
              "      <td>Cachambi</td>\n",
              "      <td>2</td>\n",
              "      <td>0</td>\n",
              "      <td>0</td>\n",
              "      <td>50</td>\n",
              "      <td>1300.0</td>\n",
              "      <td>301.0</td>\n",
              "      <td>17.0</td>\n",
              "      <td>26.00</td>\n",
              "      <td>Apartamento</td>\n",
              "    </tr>\n",
              "    <tr>\n",
              "      <th>...</th>\n",
              "      <td>...</td>\n",
              "      <td>...</td>\n",
              "      <td>...</td>\n",
              "      <td>...</td>\n",
              "      <td>...</td>\n",
              "      <td>...</td>\n",
              "      <td>...</td>\n",
              "      <td>...</td>\n",
              "      <td>...</td>\n",
              "      <td>...</td>\n",
              "      <td>...</td>\n",
              "    </tr>\n",
              "    <tr>\n",
              "      <th>21812</th>\n",
              "      <td>Apartamento</td>\n",
              "      <td>Barra da Tijuca</td>\n",
              "      <td>3</td>\n",
              "      <td>2</td>\n",
              "      <td>0</td>\n",
              "      <td>98</td>\n",
              "      <td>2300.0</td>\n",
              "      <td>887.0</td>\n",
              "      <td>177.0</td>\n",
              "      <td>23.47</td>\n",
              "      <td>Apartamento</td>\n",
              "    </tr>\n",
              "    <tr>\n",
              "      <th>21813</th>\n",
              "      <td>Apartamento</td>\n",
              "      <td>Barra da Tijuca</td>\n",
              "      <td>3</td>\n",
              "      <td>2</td>\n",
              "      <td>2</td>\n",
              "      <td>140</td>\n",
              "      <td>5500.0</td>\n",
              "      <td>1900.0</td>\n",
              "      <td>700.0</td>\n",
              "      <td>39.29</td>\n",
              "      <td>Apartamento</td>\n",
              "    </tr>\n",
              "    <tr>\n",
              "      <th>21815</th>\n",
              "      <td>Quitinete</td>\n",
              "      <td>Copacabana</td>\n",
              "      <td>1</td>\n",
              "      <td>0</td>\n",
              "      <td>0</td>\n",
              "      <td>22</td>\n",
              "      <td>1500.0</td>\n",
              "      <td>286.0</td>\n",
              "      <td>200.0</td>\n",
              "      <td>68.18</td>\n",
              "      <td>Apartamento</td>\n",
              "    </tr>\n",
              "    <tr>\n",
              "      <th>21820</th>\n",
              "      <td>Casa de Condomínio</td>\n",
              "      <td>Barra da Tijuca</td>\n",
              "      <td>5</td>\n",
              "      <td>3</td>\n",
              "      <td>4</td>\n",
              "      <td>450</td>\n",
              "      <td>15000.0</td>\n",
              "      <td>1711.0</td>\n",
              "      <td>2332.0</td>\n",
              "      <td>33.33</td>\n",
              "      <td>Casa</td>\n",
              "    </tr>\n",
              "    <tr>\n",
              "      <th>21822</th>\n",
              "      <td>Quitinete</td>\n",
              "      <td>Centro</td>\n",
              "      <td>0</td>\n",
              "      <td>0</td>\n",
              "      <td>0</td>\n",
              "      <td>27</td>\n",
              "      <td>800.0</td>\n",
              "      <td>350.0</td>\n",
              "      <td>25.0</td>\n",
              "      <td>29.63</td>\n",
              "      <td>Apartamento</td>\n",
              "    </tr>\n",
              "  </tbody>\n",
              "</table>\n",
              "<p>7261 rows × 11 columns</p>\n",
              "</div>"
            ],
            "text/plain": [
              "                     Tipo           Bairro  ...  Valor m2  Tipo Agregado\n",
              "0               Quitinete       Copacabana  ...     42.50    Apartamento\n",
              "1                    Casa  Jardim Botânico  ...     70.00           Casa\n",
              "2             Apartamento           Centro  ...     53.33    Apartamento\n",
              "3             Apartamento     Higienópolis  ...     16.67    Apartamento\n",
              "4             Apartamento         Cachambi  ...     26.00    Apartamento\n",
              "...                   ...              ...  ...       ...            ...\n",
              "21812         Apartamento  Barra da Tijuca  ...     23.47    Apartamento\n",
              "21813         Apartamento  Barra da Tijuca  ...     39.29    Apartamento\n",
              "21815           Quitinete       Copacabana  ...     68.18    Apartamento\n",
              "21820  Casa de Condomínio  Barra da Tijuca  ...     33.33           Casa\n",
              "21822           Quitinete           Centro  ...     29.63    Apartamento\n",
              "\n",
              "[7261 rows x 11 columns]"
            ]
          },
          "metadata": {
            "tags": []
          },
          "execution_count": 98
        }
      ]
    },
    {
      "cell_type": "code",
      "metadata": {
        "colab": {
          "base_uri": "https://localhost:8080/",
          "height": 495
        },
        "id": "DROg_uj8Wz9O",
        "outputId": "37677fd2-fa14-4a85-dd70-55048852c55f"
      },
      "source": [
        "dados_4.boxplot(['Valor'])"
      ],
      "execution_count": 99,
      "outputs": [
        {
          "output_type": "execute_result",
          "data": {
            "text/plain": [
              "<matplotlib.axes._subplots.AxesSubplot at 0x7f7a666a99d0>"
            ]
          },
          "metadata": {
            "tags": []
          },
          "execution_count": 99
        },
        {
          "output_type": "display_data",
          "data": {
            "image/png": "[encoded data removed]",
            "text/plain": [
              "<Figure size 1440x720 with 1 Axes>"
            ]
          },
          "metadata": {
            "tags": [],
            "needs_background": "light"
          }
        }
      ]
    },
    {
      "cell_type": "code",
      "metadata": {
        "colab": {
          "base_uri": "https://localhost:8080/",
          "height": 111
        },
        "id": "jYrbCr7lXJT5",
        "outputId": "700d3bf0-2c30-42be-f5cc-bee669eabd9e"
      },
      "source": [
        "dados_4[dados_4['Valor'] > 100000]"
      ],
      "execution_count": 100,
      "outputs": [
        {
          "output_type": "execute_result",
          "data": {
            "text/html": [
              "<div>\n",
              "<style scoped>\n",
              "    .dataframe tbody tr th:only-of-type {\n",
              "        vertical-align: middle;\n",
              "    }\n",
              "\n",
              "    .dataframe tbody tr th {\n",
              "        vertical-align: top;\n",
              "    }\n",
              "\n",
              "    .dataframe thead th {\n",
              "        text-align: right;\n",
              "    }\n",
              "</style>\n",
              "<table border=\"1\" class=\"dataframe\">\n",
              "  <thead>\n",
              "    <tr style=\"text-align: right;\">\n",
              "      <th></th>\n",
              "      <th>Tipo</th>\n",
              "      <th>Bairro</th>\n",
              "      <th>Quartos</th>\n",
              "      <th>Vagas</th>\n",
              "      <th>Suites</th>\n",
              "      <th>Area</th>\n",
              "      <th>Valor</th>\n",
              "      <th>Condominio</th>\n",
              "      <th>IPTU</th>\n",
              "      <th>Valor m2</th>\n",
              "      <th>Tipo Agregado</th>\n",
              "    </tr>\n",
              "  </thead>\n",
              "  <tbody>\n",
              "    <tr>\n",
              "      <th>7629</th>\n",
              "      <td>Apartamento</td>\n",
              "      <td>Barra da Tijuca</td>\n",
              "      <td>1</td>\n",
              "      <td>1</td>\n",
              "      <td>0</td>\n",
              "      <td>65</td>\n",
              "      <td>600000.0</td>\n",
              "      <td>980.0</td>\n",
              "      <td>120.0</td>\n",
              "      <td>9230.77</td>\n",
              "      <td>Apartamento</td>\n",
              "    </tr>\n",
              "    <tr>\n",
              "      <th>21408</th>\n",
              "      <td>Apartamento</td>\n",
              "      <td>Barra da Tijuca</td>\n",
              "      <td>4</td>\n",
              "      <td>3</td>\n",
              "      <td>4</td>\n",
              "      <td>403</td>\n",
              "      <td>160000.0</td>\n",
              "      <td>3714.0</td>\n",
              "      <td>2000.0</td>\n",
              "      <td>397.02</td>\n",
              "      <td>Apartamento</td>\n",
              "    </tr>\n",
              "  </tbody>\n",
              "</table>\n",
              "</div>"
            ],
            "text/plain": [
              "              Tipo           Bairro  Quartos  ...    IPTU  Valor m2  Tipo Agregado\n",
              "7629   Apartamento  Barra da Tijuca        1  ...   120.0   9230.77    Apartamento\n",
              "21408  Apartamento  Barra da Tijuca        4  ...  2000.0    397.02    Apartamento\n",
              "\n",
              "[2 rows x 11 columns]"
            ]
          },
          "metadata": {
            "tags": []
          },
          "execution_count": 100
        }
      ]
    },
    {
      "cell_type": "code",
      "metadata": {
        "id": "NID472NJXecS"
      },
      "source": [
        "valor = dados_4['Valor']"
      ],
      "execution_count": 101,
      "outputs": []
    },
    {
      "cell_type": "code",
      "metadata": {
        "id": "M_fjOoSRX9lR"
      },
      "source": [
        "Q1 = valor.quantile(.25)\n",
        "Q3 = valor.quantile(.75)\n",
        "IIQ = Q3-Q1\n",
        "lin_inf = Q1-1.5*IIQ\n",
        "lin_sup = Q3+1.5*IIQ"
      ],
      "execution_count": 102,
      "outputs": []
    },
    {
      "cell_type": "code",
      "metadata": {
        "colab": {
          "base_uri": "https://localhost:8080/",
          "height": 419
        },
        "id": "fueYkJQjYPqa",
        "outputId": "b321f67f-bb4e-4dab-dddb-bba313d9ed8e"
      },
      "source": [
        "selecao = (valor >= lin_inf) & (valor <= lin_sup)\n",
        "dados_new = dados_4[selecao]\n",
        "dados_new"
      ],
      "execution_count": 103,
      "outputs": [
        {
          "output_type": "execute_result",
          "data": {
            "text/html": [
              "<div>\n",
              "<style scoped>\n",
              "    .dataframe tbody tr th:only-of-type {\n",
              "        vertical-align: middle;\n",
              "    }\n",
              "\n",
              "    .dataframe tbody tr th {\n",
              "        vertical-align: top;\n",
              "    }\n",
              "\n",
              "    .dataframe thead th {\n",
              "        text-align: right;\n",
              "    }\n",
              "</style>\n",
              "<table border=\"1\" class=\"dataframe\">\n",
              "  <thead>\n",
              "    <tr style=\"text-align: right;\">\n",
              "      <th></th>\n",
              "      <th>Tipo</th>\n",
              "      <th>Bairro</th>\n",
              "      <th>Quartos</th>\n",
              "      <th>Vagas</th>\n",
              "      <th>Suites</th>\n",
              "      <th>Area</th>\n",
              "      <th>Valor</th>\n",
              "      <th>Condominio</th>\n",
              "      <th>IPTU</th>\n",
              "      <th>Valor m2</th>\n",
              "      <th>Tipo Agregado</th>\n",
              "    </tr>\n",
              "  </thead>\n",
              "  <tbody>\n",
              "    <tr>\n",
              "      <th>0</th>\n",
              "      <td>Quitinete</td>\n",
              "      <td>Copacabana</td>\n",
              "      <td>1</td>\n",
              "      <td>0</td>\n",
              "      <td>0</td>\n",
              "      <td>40</td>\n",
              "      <td>1700.0</td>\n",
              "      <td>500.0</td>\n",
              "      <td>60.0</td>\n",
              "      <td>42.50</td>\n",
              "      <td>Apartamento</td>\n",
              "    </tr>\n",
              "    <tr>\n",
              "      <th>1</th>\n",
              "      <td>Casa</td>\n",
              "      <td>Jardim Botânico</td>\n",
              "      <td>2</td>\n",
              "      <td>0</td>\n",
              "      <td>1</td>\n",
              "      <td>100</td>\n",
              "      <td>7000.0</td>\n",
              "      <td>0.0</td>\n",
              "      <td>0.0</td>\n",
              "      <td>70.00</td>\n",
              "      <td>Casa</td>\n",
              "    </tr>\n",
              "    <tr>\n",
              "      <th>2</th>\n",
              "      <td>Apartamento</td>\n",
              "      <td>Centro</td>\n",
              "      <td>1</td>\n",
              "      <td>0</td>\n",
              "      <td>0</td>\n",
              "      <td>15</td>\n",
              "      <td>800.0</td>\n",
              "      <td>390.0</td>\n",
              "      <td>20.0</td>\n",
              "      <td>53.33</td>\n",
              "      <td>Apartamento</td>\n",
              "    </tr>\n",
              "    <tr>\n",
              "      <th>3</th>\n",
              "      <td>Apartamento</td>\n",
              "      <td>Higienópolis</td>\n",
              "      <td>1</td>\n",
              "      <td>0</td>\n",
              "      <td>0</td>\n",
              "      <td>48</td>\n",
              "      <td>800.0</td>\n",
              "      <td>230.0</td>\n",
              "      <td>0.0</td>\n",
              "      <td>16.67</td>\n",
              "      <td>Apartamento</td>\n",
              "    </tr>\n",
              "    <tr>\n",
              "      <th>4</th>\n",
              "      <td>Apartamento</td>\n",
              "      <td>Cachambi</td>\n",
              "      <td>2</td>\n",
              "      <td>0</td>\n",
              "      <td>0</td>\n",
              "      <td>50</td>\n",
              "      <td>1300.0</td>\n",
              "      <td>301.0</td>\n",
              "      <td>17.0</td>\n",
              "      <td>26.00</td>\n",
              "      <td>Apartamento</td>\n",
              "    </tr>\n",
              "    <tr>\n",
              "      <th>...</th>\n",
              "      <td>...</td>\n",
              "      <td>...</td>\n",
              "      <td>...</td>\n",
              "      <td>...</td>\n",
              "      <td>...</td>\n",
              "      <td>...</td>\n",
              "      <td>...</td>\n",
              "      <td>...</td>\n",
              "      <td>...</td>\n",
              "      <td>...</td>\n",
              "      <td>...</td>\n",
              "    </tr>\n",
              "    <tr>\n",
              "      <th>21811</th>\n",
              "      <td>Apartamento</td>\n",
              "      <td>Barra da Tijuca</td>\n",
              "      <td>2</td>\n",
              "      <td>1</td>\n",
              "      <td>1</td>\n",
              "      <td>85</td>\n",
              "      <td>2250.0</td>\n",
              "      <td>1561.0</td>\n",
              "      <td>197.0</td>\n",
              "      <td>26.47</td>\n",
              "      <td>Apartamento</td>\n",
              "    </tr>\n",
              "    <tr>\n",
              "      <th>21812</th>\n",
              "      <td>Apartamento</td>\n",
              "      <td>Barra da Tijuca</td>\n",
              "      <td>3</td>\n",
              "      <td>2</td>\n",
              "      <td>0</td>\n",
              "      <td>98</td>\n",
              "      <td>2300.0</td>\n",
              "      <td>887.0</td>\n",
              "      <td>177.0</td>\n",
              "      <td>23.47</td>\n",
              "      <td>Apartamento</td>\n",
              "    </tr>\n",
              "    <tr>\n",
              "      <th>21813</th>\n",
              "      <td>Apartamento</td>\n",
              "      <td>Barra da Tijuca</td>\n",
              "      <td>3</td>\n",
              "      <td>2</td>\n",
              "      <td>2</td>\n",
              "      <td>140</td>\n",
              "      <td>5500.0</td>\n",
              "      <td>1900.0</td>\n",
              "      <td>700.0</td>\n",
              "      <td>39.29</td>\n",
              "      <td>Apartamento</td>\n",
              "    </tr>\n",
              "    <tr>\n",
              "      <th>21815</th>\n",
              "      <td>Quitinete</td>\n",
              "      <td>Copacabana</td>\n",
              "      <td>1</td>\n",
              "      <td>0</td>\n",
              "      <td>0</td>\n",
              "      <td>22</td>\n",
              "      <td>1500.0</td>\n",
              "      <td>286.0</td>\n",
              "      <td>200.0</td>\n",
              "      <td>68.18</td>\n",
              "      <td>Apartamento</td>\n",
              "    </tr>\n",
              "    <tr>\n",
              "      <th>21822</th>\n",
              "      <td>Quitinete</td>\n",
              "      <td>Centro</td>\n",
              "      <td>0</td>\n",
              "      <td>0</td>\n",
              "      <td>0</td>\n",
              "      <td>27</td>\n",
              "      <td>800.0</td>\n",
              "      <td>350.0</td>\n",
              "      <td>25.0</td>\n",
              "      <td>29.63</td>\n",
              "      <td>Apartamento</td>\n",
              "    </tr>\n",
              "  </tbody>\n",
              "</table>\n",
              "<p>6613 rows × 11 columns</p>\n",
              "</div>"
            ],
            "text/plain": [
              "              Tipo           Bairro  Quartos  ...   IPTU  Valor m2  Tipo Agregado\n",
              "0        Quitinete       Copacabana        1  ...   60.0     42.50    Apartamento\n",
              "1             Casa  Jardim Botânico        2  ...    0.0     70.00           Casa\n",
              "2      Apartamento           Centro        1  ...   20.0     53.33    Apartamento\n",
              "3      Apartamento     Higienópolis        1  ...    0.0     16.67    Apartamento\n",
              "4      Apartamento         Cachambi        2  ...   17.0     26.00    Apartamento\n",
              "...            ...              ...      ...  ...    ...       ...            ...\n",
              "21811  Apartamento  Barra da Tijuca        2  ...  197.0     26.47    Apartamento\n",
              "21812  Apartamento  Barra da Tijuca        3  ...  177.0     23.47    Apartamento\n",
              "21813  Apartamento  Barra da Tijuca        3  ...  700.0     39.29    Apartamento\n",
              "21815    Quitinete       Copacabana        1  ...  200.0     68.18    Apartamento\n",
              "21822    Quitinete           Centro        0  ...   25.0     29.63    Apartamento\n",
              "\n",
              "[6613 rows x 11 columns]"
            ]
          },
          "metadata": {
            "tags": []
          },
          "execution_count": 103
        }
      ]
    },
    {
      "cell_type": "code",
      "metadata": {
        "colab": {
          "base_uri": "https://localhost:8080/",
          "height": 498
        },
        "id": "MYlLNf4UY_GA",
        "outputId": "28e2a95e-a180-4c1b-86c3-1e47fb40a9ba"
      },
      "source": [
        "dados_new.boxplot(['Valor'])"
      ],
      "execution_count": 104,
      "outputs": [
        {
          "output_type": "execute_result",
          "data": {
            "text/plain": [
              "<matplotlib.axes._subplots.AxesSubplot at 0x7f7a666a7f10>"
            ]
          },
          "metadata": {
            "tags": []
          },
          "execution_count": 104
        },
        {
          "output_type": "display_data",
          "data": {
            "image/png": "[encoded data removed]",
            "text/plain": [
              "<Figure size 1440x720 with 1 Axes>"
            ]
          },
          "metadata": {
            "tags": [],
            "needs_background": "light"
          }
        }
      ]
    },
    {
      "cell_type": "code",
      "metadata": {
        "colab": {
          "base_uri": "https://localhost:8080/",
          "height": 991
        },
        "id": "WZFkQ7m1ZEIu",
        "outputId": "63929a62-6cb5-4ee5-82d6-a388b9a565e6"
      },
      "source": [
        "dados_4.hist(['Valor'])\n",
        "dados_new.hist(['Valor'])"
      ],
      "execution_count": 105,
      "outputs": [
        {
          "output_type": "execute_result",
          "data": {
            "text/plain": [
              "array([[<matplotlib.axes._subplots.AxesSubplot object at 0x7f7a66569ad0>]],\n",
              "      dtype=object)"
            ]
          },
          "metadata": {
            "tags": []
          },
          "execution_count": 105
        },
        {
          "output_type": "display_data",
          "data": {
            "image/png": "[encoded data removed]",
            "text/plain": [
              "<Figure size 1440x720 with 1 Axes>"
            ]
          },
          "metadata": {
            "tags": [],
            "needs_background": "light"
          }
        },
        {
          "output_type": "display_data",
          "data": {
            "image/png": "[encoded data removed]",
            "text/plain": [
              "<Figure size 1440x720 with 1 Axes>"
            ]
          },
          "metadata": {
            "tags": [],
            "needs_background": "light"
          }
        }
      ]
    },
    {
      "cell_type": "markdown",
      "metadata": {
        "id": "TpxIi86Xbj8C"
      },
      "source": [
        "##Exercício m2"
      ]
    },
    {
      "cell_type": "code",
      "metadata": {
        "id": "CgcaDvlIZ9qM"
      },
      "source": [
        "dados_m2 = pd.read_csv('aluguel_amostra.csv', sep=';')"
      ],
      "execution_count": 106,
      "outputs": []
    },
    {
      "cell_type": "code",
      "metadata": {
        "colab": {
          "base_uri": "https://localhost:8080/",
          "height": 470
        },
        "id": "yp__20zYbrSe",
        "outputId": "ba44703f-6eaf-4e96-dfc9-91824cd64392"
      },
      "source": [
        "dados_m2"
      ],
      "execution_count": 107,
      "outputs": [
        {
          "output_type": "execute_result",
          "data": {
            "text/html": [
              "<div>\n",
              "<style scoped>\n",
              "    .dataframe tbody tr th:only-of-type {\n",
              "        vertical-align: middle;\n",
              "    }\n",
              "\n",
              "    .dataframe tbody tr th {\n",
              "        vertical-align: top;\n",
              "    }\n",
              "\n",
              "    .dataframe thead th {\n",
              "        text-align: right;\n",
              "    }\n",
              "</style>\n",
              "<table border=\"1\" class=\"dataframe\">\n",
              "  <thead>\n",
              "    <tr style=\"text-align: right;\">\n",
              "      <th></th>\n",
              "      <th>Tipo</th>\n",
              "      <th>Bairro</th>\n",
              "      <th>Quartos</th>\n",
              "      <th>Vagas</th>\n",
              "      <th>Suites</th>\n",
              "      <th>Area</th>\n",
              "      <th>Valor</th>\n",
              "      <th>Condominio</th>\n",
              "      <th>IPTU</th>\n",
              "      <th>Valor m2</th>\n",
              "      <th>Tipo Agregado</th>\n",
              "    </tr>\n",
              "  </thead>\n",
              "  <tbody>\n",
              "    <tr>\n",
              "      <th>0</th>\n",
              "      <td>Apartamento</td>\n",
              "      <td>Recreio dos Bandeirantes</td>\n",
              "      <td>3</td>\n",
              "      <td>2</td>\n",
              "      <td>1</td>\n",
              "      <td>320</td>\n",
              "      <td>3200.0</td>\n",
              "      <td>1319.0</td>\n",
              "      <td>0.0</td>\n",
              "      <td>10.00</td>\n",
              "      <td>Apartamento</td>\n",
              "    </tr>\n",
              "    <tr>\n",
              "      <th>1</th>\n",
              "      <td>Apartamento</td>\n",
              "      <td>Maracanã</td>\n",
              "      <td>2</td>\n",
              "      <td>0</td>\n",
              "      <td>0</td>\n",
              "      <td>59</td>\n",
              "      <td>800.0</td>\n",
              "      <td>725.0</td>\n",
              "      <td>47.0</td>\n",
              "      <td>13.56</td>\n",
              "      <td>Apartamento</td>\n",
              "    </tr>\n",
              "    <tr>\n",
              "      <th>2</th>\n",
              "      <td>Apartamento</td>\n",
              "      <td>Leblon</td>\n",
              "      <td>3</td>\n",
              "      <td>2</td>\n",
              "      <td>1</td>\n",
              "      <td>147</td>\n",
              "      <td>7500.0</td>\n",
              "      <td>1000.0</td>\n",
              "      <td>381.0</td>\n",
              "      <td>51.02</td>\n",
              "      <td>Apartamento</td>\n",
              "    </tr>\n",
              "    <tr>\n",
              "      <th>3</th>\n",
              "      <td>Apartamento</td>\n",
              "      <td>São Conrado</td>\n",
              "      <td>3</td>\n",
              "      <td>3</td>\n",
              "      <td>3</td>\n",
              "      <td>270</td>\n",
              "      <td>14999.0</td>\n",
              "      <td>2800.0</td>\n",
              "      <td>1200.0</td>\n",
              "      <td>55.55</td>\n",
              "      <td>Apartamento</td>\n",
              "    </tr>\n",
              "    <tr>\n",
              "      <th>4</th>\n",
              "      <td>Apartamento</td>\n",
              "      <td>Tijuca</td>\n",
              "      <td>2</td>\n",
              "      <td>1</td>\n",
              "      <td>0</td>\n",
              "      <td>65</td>\n",
              "      <td>1200.0</td>\n",
              "      <td>640.0</td>\n",
              "      <td>97.0</td>\n",
              "      <td>18.46</td>\n",
              "      <td>Apartamento</td>\n",
              "    </tr>\n",
              "    <tr>\n",
              "      <th>...</th>\n",
              "      <td>...</td>\n",
              "      <td>...</td>\n",
              "      <td>...</td>\n",
              "      <td>...</td>\n",
              "      <td>...</td>\n",
              "      <td>...</td>\n",
              "      <td>...</td>\n",
              "      <td>...</td>\n",
              "      <td>...</td>\n",
              "      <td>...</td>\n",
              "      <td>...</td>\n",
              "    </tr>\n",
              "    <tr>\n",
              "      <th>9995</th>\n",
              "      <td>Apartamento</td>\n",
              "      <td>Copacabana</td>\n",
              "      <td>3</td>\n",
              "      <td>1</td>\n",
              "      <td>2</td>\n",
              "      <td>160</td>\n",
              "      <td>15500.0</td>\n",
              "      <td>1600.0</td>\n",
              "      <td>435.0</td>\n",
              "      <td>96.88</td>\n",
              "      <td>Apartamento</td>\n",
              "    </tr>\n",
              "    <tr>\n",
              "      <th>9996</th>\n",
              "      <td>Apartamento</td>\n",
              "      <td>Copacabana</td>\n",
              "      <td>4</td>\n",
              "      <td>0</td>\n",
              "      <td>0</td>\n",
              "      <td>190</td>\n",
              "      <td>6000.0</td>\n",
              "      <td>1000.0</td>\n",
              "      <td>0.0</td>\n",
              "      <td>31.58</td>\n",
              "      <td>Apartamento</td>\n",
              "    </tr>\n",
              "    <tr>\n",
              "      <th>9997</th>\n",
              "      <td>Apartamento</td>\n",
              "      <td>Barra da Tijuca</td>\n",
              "      <td>2</td>\n",
              "      <td>1</td>\n",
              "      <td>1</td>\n",
              "      <td>70</td>\n",
              "      <td>2800.0</td>\n",
              "      <td>750.0</td>\n",
              "      <td>160.0</td>\n",
              "      <td>40.00</td>\n",
              "      <td>Apartamento</td>\n",
              "    </tr>\n",
              "    <tr>\n",
              "      <th>9998</th>\n",
              "      <td>Apartamento</td>\n",
              "      <td>Tijuca</td>\n",
              "      <td>1</td>\n",
              "      <td>0</td>\n",
              "      <td>0</td>\n",
              "      <td>50</td>\n",
              "      <td>1700.0</td>\n",
              "      <td>360.0</td>\n",
              "      <td>20.0</td>\n",
              "      <td>34.00</td>\n",
              "      <td>Apartamento</td>\n",
              "    </tr>\n",
              "    <tr>\n",
              "      <th>9999</th>\n",
              "      <td>Apartamento</td>\n",
              "      <td>Recreio dos Bandeirantes</td>\n",
              "      <td>3</td>\n",
              "      <td>2</td>\n",
              "      <td>1</td>\n",
              "      <td>300</td>\n",
              "      <td>2500.0</td>\n",
              "      <td>1600.0</td>\n",
              "      <td>400.0</td>\n",
              "      <td>8.33</td>\n",
              "      <td>Apartamento</td>\n",
              "    </tr>\n",
              "  </tbody>\n",
              "</table>\n",
              "<p>10000 rows × 11 columns</p>\n",
              "</div>"
            ],
            "text/plain": [
              "             Tipo                    Bairro  ...  Valor m2  Tipo Agregado\n",
              "0     Apartamento  Recreio dos Bandeirantes  ...     10.00    Apartamento\n",
              "1     Apartamento                  Maracanã  ...     13.56    Apartamento\n",
              "2     Apartamento                    Leblon  ...     51.02    Apartamento\n",
              "3     Apartamento               São Conrado  ...     55.55    Apartamento\n",
              "4     Apartamento                    Tijuca  ...     18.46    Apartamento\n",
              "...           ...                       ...  ...       ...            ...\n",
              "9995  Apartamento                Copacabana  ...     96.88    Apartamento\n",
              "9996  Apartamento                Copacabana  ...     31.58    Apartamento\n",
              "9997  Apartamento           Barra da Tijuca  ...     40.00    Apartamento\n",
              "9998  Apartamento                    Tijuca  ...     34.00    Apartamento\n",
              "9999  Apartamento  Recreio dos Bandeirantes  ...      8.33    Apartamento\n",
              "\n",
              "[10000 rows x 11 columns]"
            ]
          },
          "metadata": {
            "tags": []
          },
          "execution_count": 107
        }
      ]
    },
    {
      "cell_type": "code",
      "metadata": {
        "id": "JhW-F1QhbtOE"
      },
      "source": [
        "valor = dados_m2['Valor m2']"
      ],
      "execution_count": 108,
      "outputs": []
    },
    {
      "cell_type": "code",
      "metadata": {
        "colab": {
          "base_uri": "https://localhost:8080/"
        },
        "id": "Ask4GCi-bzJ_",
        "outputId": "72d96028-0510-4f47-fe57-ecbd4acf57ff"
      },
      "source": [
        "Q1 = valor.quantile(.25)\n",
        "Q3 = valor.quantile(.75)\n",
        "IIQ = Q3-Q1\n",
        "lin_inf = Q1-1.5*IIQ\n",
        "lin_sup = Q3+1.5*IIQ\n",
        "print(f'Q1 = {Q1}')\n",
        "print(f'Q3 = {Q3}')\n",
        "print(f'IIQ = {IIQ}')\n",
        "print(f'lin_inf = {lin_inf}')\n",
        "print(f'lin_sup = {lin_sup}')"
      ],
      "execution_count": 109,
      "outputs": [
        {
          "output_type": "stream",
          "text": [
            "Q1 = 21.25\n",
            "Q3 = 42.31\n",
            "IIQ = 21.060000000000002\n",
            "lin_inf = -10.340000000000003\n",
            "lin_sup = 73.9\n"
          ],
          "name": "stdout"
        }
      ]
    },
    {
      "cell_type": "markdown",
      "metadata": {
        "id": "E-8xjCQ5cPWk"
      },
      "source": [
        "##Identificando Outlier continuação"
      ]
    },
    {
      "cell_type": "code",
      "metadata": {
        "colab": {
          "base_uri": "https://localhost:8080/",
          "height": 588
        },
        "id": "UIa8g3v8b5XY",
        "outputId": "31702172-d19e-4935-c70e-5fdeb823b309"
      },
      "source": [
        "dados_4.boxplot(['Valor'], by = ['Tipo'])"
      ],
      "execution_count": 110,
      "outputs": [
        {
          "output_type": "stream",
          "text": [
            "/usr/local/lib/python3.7/dist-packages/numpy/core/_asarray.py:83: VisibleDeprecationWarning: Creating an ndarray from ragged nested sequences (which is a list-or-tuple of lists-or-tuples-or ndarrays with different lengths or shapes) is deprecated. If you meant to do this, you must specify 'dtype=object' when creating the ndarray\n",
            "  return array(a, dtype, copy=False, order=order)\n"
          ],
          "name": "stderr"
        },
        {
          "output_type": "execute_result",
          "data": {
            "text/plain": [
              "<matplotlib.axes._subplots.AxesSubplot at 0x7f7a664d9390>"
            ]
          },
          "metadata": {
            "tags": []
          },
          "execution_count": 110
        },
        {
          "output_type": "display_data",
          "data": {
            "image/png": "[encoded data removed]",
            "text/plain": [
              "<Figure size 1440x720 with 1 Axes>"
            ]
          },
          "metadata": {
            "tags": [],
            "needs_background": "light"
          }
        }
      ]
    },
    {
      "cell_type": "code",
      "metadata": {
        "colab": {
          "base_uri": "https://localhost:8080/"
        },
        "id": "armKRv5Ecg3w",
        "outputId": "8c5583f2-4653-4f00-9a26-f648a8624ef0"
      },
      "source": [
        "grupo_tipo = dados_4.groupby('Tipo')['Valor']\n",
        "type(grupo_tipo)"
      ],
      "execution_count": 111,
      "outputs": [
        {
          "output_type": "execute_result",
          "data": {
            "text/plain": [
              "pandas.core.groupby.generic.SeriesGroupBy"
            ]
          },
          "metadata": {
            "tags": []
          },
          "execution_count": 111
        }
      ]
    },
    {
      "cell_type": "code",
      "metadata": {
        "id": "UEblIF_gdj4a"
      },
      "source": [
        "Q1 = grupo_tipo.quantile(.25)\n",
        "Q3 = grupo_tipo.quantile(.75)\n",
        "IIQ = Q3-Q1\n",
        "lin_inf = Q1-1.5*IIQ\n",
        "lin_sup = Q3+1.5*IIQ"
      ],
      "execution_count": 112,
      "outputs": []
    },
    {
      "cell_type": "code",
      "metadata": {
        "colab": {
          "base_uri": "https://localhost:8080/"
        },
        "id": "3nREwnnQd1H5",
        "outputId": "c4a839c8-bbaa-4fbf-c9d3-a7a121657b93"
      },
      "source": [
        "print(f'Q1 = {Q1}')\n",
        "print(f'Q3 = {Q3}')\n",
        "print(f'IIQ = {IIQ}')\n",
        "print(f'lin_inf = {lin_inf}')\n",
        "print(f'lin_sup = {lin_sup}')"
      ],
      "execution_count": 113,
      "outputs": [
        {
          "output_type": "stream",
          "text": [
            "Q1 = Tipo\n",
            "Apartamento           2200.0\n",
            "Casa                  8000.0\n",
            "Casa de Condomínio    9000.0\n",
            "Casa de Vila          1600.0\n",
            "Quitinete              900.0\n",
            "Name: Valor, dtype: float64\n",
            "Q3 = Tipo\n",
            "Apartamento            5500.0\n",
            "Casa                  22000.0\n",
            "Casa de Condomínio    20000.0\n",
            "Casa de Vila           3000.0\n",
            "Quitinete              1500.0\n",
            "Name: Valor, dtype: float64\n",
            "IIQ = Tipo\n",
            "Apartamento            3300.0\n",
            "Casa                  14000.0\n",
            "Casa de Condomínio    11000.0\n",
            "Casa de Vila           1400.0\n",
            "Quitinete               600.0\n",
            "Name: Valor, dtype: float64\n",
            "lin_inf = Tipo\n",
            "Apartamento           -2750.0\n",
            "Casa                 -13000.0\n",
            "Casa de Condomínio    -7500.0\n",
            "Casa de Vila           -500.0\n",
            "Quitinete                 0.0\n",
            "Name: Valor, dtype: float64\n",
            "lin_sup = Tipo\n",
            "Apartamento           10450.0\n",
            "Casa                  43000.0\n",
            "Casa de Condomínio    36500.0\n",
            "Casa de Vila           5100.0\n",
            "Quitinete              2400.0\n",
            "Name: Valor, dtype: float64\n"
          ],
          "name": "stdout"
        }
      ]
    },
    {
      "cell_type": "code",
      "metadata": {
        "colab": {
          "base_uri": "https://localhost:8080/"
        },
        "id": "yG3tsI8od-I7",
        "outputId": "851a533b-f53d-4d2b-e3d0-dae99483abbe"
      },
      "source": [
        "lin_sup['Apartamento']"
      ],
      "execution_count": 114,
      "outputs": [
        {
          "output_type": "execute_result",
          "data": {
            "text/plain": [
              "10450.0"
            ]
          },
          "metadata": {
            "tags": []
          },
          "execution_count": 114
        }
      ]
    },
    {
      "cell_type": "code",
      "metadata": {
        "id": "Nz50yKk-eQ5V"
      },
      "source": [
        "dados_new = pd.DataFrame()\n",
        "for tipo in grupo_tipo.groups.keys():\n",
        "    eh_tipo = dados_4['Tipo'] == tipo\n",
        "    eh_lim = (dados_4['Valor'] >= lin_inf[tipo]) & (dados_4['Valor'] <= lin_sup[tipo])\n",
        "    selecao = eh_tipo & eh_lim\n",
        "    dados_selecao = dados_4[selecao]\n",
        "    dados_new = pd.concat([dados_new, dados_selecao])"
      ],
      "execution_count": 115,
      "outputs": []
    },
    {
      "cell_type": "code",
      "metadata": {
        "colab": {
          "base_uri": "https://localhost:8080/",
          "height": 591
        },
        "id": "BptQiCb8eiuX",
        "outputId": "d9f4c28a-eadf-405b-922b-8265ceb5d533"
      },
      "source": [
        "dados_new.boxplot(['Valor'], by = ['Tipo'])"
      ],
      "execution_count": 116,
      "outputs": [
        {
          "output_type": "stream",
          "text": [
            "/usr/local/lib/python3.7/dist-packages/numpy/core/_asarray.py:83: VisibleDeprecationWarning: Creating an ndarray from ragged nested sequences (which is a list-or-tuple of lists-or-tuples-or ndarrays with different lengths or shapes) is deprecated. If you meant to do this, you must specify 'dtype=object' when creating the ndarray\n",
            "  return array(a, dtype, copy=False, order=order)\n"
          ],
          "name": "stderr"
        },
        {
          "output_type": "execute_result",
          "data": {
            "text/plain": [
              "<matplotlib.axes._subplots.AxesSubplot at 0x7f7a663bcbd0>"
            ]
          },
          "metadata": {
            "tags": []
          },
          "execution_count": 116
        },
        {
          "output_type": "display_data",
          "data": {
            "image/png": "[encoded data removed]",
            "text/plain": [
              "<Figure size 1440x720 with 1 Axes>"
            ]
          },
          "metadata": {
            "tags": [],
            "needs_background": "light"
          }
        }
      ]
    },
    {
      "cell_type": "code",
      "metadata": {
        "id": "JLTOkz3hgqJm"
      },
      "source": [
        "dados_new.to_csv('aluguel_residencial_tratado_semoutlier.cvs', sep=';', index=False)"
      ],
      "execution_count": 117,
      "outputs": []
    },
    {
      "cell_type": "code",
      "metadata": {
        "colab": {
          "base_uri": "https://localhost:8080/",
          "height": 34
        },
        "id": "J-c2v6bvhDKr",
        "outputId": "0f205630-bc0c-4a8e-859a-728a05b892be"
      },
      "source": [
        "area = plt.figure()"
      ],
      "execution_count": 118,
      "outputs": [
        {
          "output_type": "display_data",
          "data": {
            "text/plain": [
              "<Figure size 1440x720 with 0 Axes>"
            ]
          },
          "metadata": {
            "tags": []
          }
        }
      ]
    },
    {
      "cell_type": "code",
      "metadata": {
        "id": "VBxGxq2-hrSE"
      },
      "source": [
        "g1 = area.add_subplot(2, 2, 1)\n",
        "g2 = area.add_subplot(2, 2, 2)\n",
        "g3 = area.add_subplot(2, 2, 3)\n",
        "g4 = area.add_subplot(2, 2, 4)"
      ],
      "execution_count": 119,
      "outputs": []
    },
    {
      "cell_type": "code",
      "metadata": {
        "colab": {
          "base_uri": "https://localhost:8080/",
          "height": 491
        },
        "id": "iSxxkZAWh2Qt",
        "outputId": "0bbd20ea-b56d-4cd9-9f24-2765a1d09d89"
      },
      "source": [
        "g1.scatter(dados_new.Valor, dados_new.Area)\n",
        "g1.set_title('Valor x Area')\n",
        "\n",
        "g2.hist(dados_new.Valor)\n",
        "g2.set_title('Histograma')\n",
        "\n",
        "dados_g3 = dados.Valor.sample(100)\n",
        "dados_g3.index = range(dados_g3.shape[0])\n",
        "g3.plot(dados_g3)\n",
        "g3.set_title('Amostra de valor')\n",
        "\n",
        "grupo = dados_new.groupby('Tipo')['Valor']\n",
        "label = grupo.mean().index\n",
        "val = grupo.mean().values\n",
        "g4.bar(label, val)\n",
        "g4.set_title('Valor médio por tipo')\n",
        "\n",
        "area"
      ],
      "execution_count": 120,
      "outputs": [
        {
          "output_type": "execute_result",
          "data": {
            "image/png": "[encoded data removed]",
            "text/plain": [
              "<Figure size 1440x720 with 4 Axes>"
            ]
          },
          "metadata": {
            "tags": []
          },
          "execution_count": 120
        }
      ]
    },
    {
      "cell_type": "code",
      "metadata": {
        "id": "oliZvYyZiKMx"
      },
      "source": [
        "area.savefig('grafico.png', dpi=300, bbox_index = 'tight')"
      ],
      "execution_count": 121,
      "outputs": []
    },
    {
      "cell_type": "code",
      "metadata": {
        "id": "lz8m_jxdj2OE"
      },
      "source": [
        ""
      ],
      "execution_count": 121,
      "outputs": []
    }
  ]
}